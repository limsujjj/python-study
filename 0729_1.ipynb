{
 "cells": [
  {
   "cell_type": "markdown",
   "id": "b5437441",
   "metadata": {},
   "source": [
    "### 정수(int) cached internal"
   ]
  },
  {
   "cell_type": "code",
   "execution_count": 1,
   "id": "9496d4eb",
   "metadata": {},
   "outputs": [
    {
     "data": {
      "text/plain": [
       "100"
      ]
     },
     "execution_count": 1,
     "metadata": {},
     "output_type": "execute_result"
    }
   ],
   "source": [
    "100"
   ]
  },
  {
   "cell_type": "markdown",
   "id": "c83344ff",
   "metadata": {},
   "source": [
    "[-5, 256] 범위의 정수는 인스턴스를 재생성하지 않는다."
   ]
  },
  {
   "cell_type": "code",
   "execution_count": 2,
   "id": "a606195e",
   "metadata": {},
   "outputs": [],
   "source": [
    "a = 256; b = 256; c = 256"
   ]
  },
  {
   "cell_type": "code",
   "execution_count": 3,
   "id": "c532e2a5",
   "metadata": {},
   "outputs": [
    {
     "data": {
      "text/plain": [
       "True"
      ]
     },
     "execution_count": 3,
     "metadata": {},
     "output_type": "execute_result"
    }
   ],
   "source": [
    "a is b is c"
   ]
  },
  {
   "cell_type": "code",
   "execution_count": 4,
   "id": "228fed40",
   "metadata": {},
   "outputs": [
    {
     "data": {
      "text/plain": [
       "(140709619844880, 140709619844880, 140709619844880)"
      ]
     },
     "execution_count": 4,
     "metadata": {},
     "output_type": "execute_result"
    }
   ],
   "source": [
    "id(a), id(b), id(c)"
   ]
  },
  {
   "cell_type": "code",
   "execution_count": 5,
   "id": "8d952fec",
   "metadata": {},
   "outputs": [],
   "source": [
    "d = 257; e = 257; f = 257"
   ]
  },
  {
   "cell_type": "code",
   "execution_count": 6,
   "id": "78eb94fe",
   "metadata": {},
   "outputs": [
    {
     "data": {
      "text/plain": [
       "False"
      ]
     },
     "execution_count": 6,
     "metadata": {},
     "output_type": "execute_result"
    }
   ],
   "source": [
    "d is e is f"
   ]
  },
  {
   "cell_type": "code",
   "execution_count": 7,
   "id": "d113c114",
   "metadata": {},
   "outputs": [
    {
     "data": {
      "text/plain": [
       "(1553330480880, 1553330480912, 1553330480816)"
      ]
     },
     "execution_count": 7,
     "metadata": {},
     "output_type": "execute_result"
    }
   ],
   "source": [
    "id(d), id(e), id(f)"
   ]
  },
  {
   "cell_type": "markdown",
   "id": "62209279",
   "metadata": {},
   "source": [
    "### str 객체의 cached internal"
   ]
  },
  {
   "cell_type": "code",
   "execution_count": 8,
   "id": "c03cbdbb",
   "metadata": {},
   "outputs": [],
   "source": [
    "a = \"ab\"; b = \"ab\"; c = \"ab\""
   ]
  },
  {
   "cell_type": "code",
   "execution_count": 9,
   "id": "bcbee4f5",
   "metadata": {},
   "outputs": [
    {
     "data": {
      "text/plain": [
       "True"
      ]
     },
     "execution_count": 9,
     "metadata": {},
     "output_type": "execute_result"
    }
   ],
   "source": [
    "a is b is c"
   ]
  },
  {
   "cell_type": "code",
   "execution_count": 10,
   "id": "1fcd74fc",
   "metadata": {},
   "outputs": [],
   "source": [
    "d = \"!!\"; e = \"!!\"; f = \"!!\""
   ]
  },
  {
   "cell_type": "code",
   "execution_count": 11,
   "id": "bb5392c1",
   "metadata": {},
   "outputs": [
    {
     "data": {
      "text/plain": [
       "False"
      ]
     },
     "execution_count": 11,
     "metadata": {},
     "output_type": "execute_result"
    }
   ],
   "source": [
    "d is e is f"
   ]
  },
  {
   "cell_type": "markdown",
   "id": "93b34a22",
   "metadata": {},
   "source": [
    "## 함수"
   ]
  },
  {
   "cell_type": "markdown",
   "id": "345129d7",
   "metadata": {},
   "source": [
    "반복되는 코드의 중복을 방지하기 위한 하나의 코드 블록을 이야기한다.  \n",
    "정의를 먼저 진행하고, 이 함수의 이름을 호출해서 사용한다. ( () )  \n",
    "순수함수, 비순수함수\n",
    "순수함수 : 입력을 받아서 출력을 처리해서 전달해주는 함수 (ex : f(x)=y )  \n",
    "비순수함수 : 함수 내의 기능의 외부의 변수나 객체를 호출한 다음 상태를 바꿔주는 함수 ( ex: f(x) )  void?는 return이 없다  \n",
    "객체 공부할때 자바가 좋음 파이썬은 축약되어있다."
   ]
  },
  {
   "cell_type": "code",
   "execution_count": 12,
   "id": "8c853264",
   "metadata": {},
   "outputs": [],
   "source": [
    "def soonsu(a, b):\n",
    "    return a+b"
   ]
  },
  {
   "cell_type": "code",
   "execution_count": 18,
   "id": "626181b2",
   "metadata": {},
   "outputs": [],
   "source": [
    "c = 0\n",
    "def bisoonsu(a, b):\n",
    "    c = a+b\n",
    "    print(c)"
   ]
  },
  {
   "cell_type": "code",
   "execution_count": 19,
   "id": "76ebdb5a",
   "metadata": {},
   "outputs": [],
   "source": [
    "d = soonsu(10,10)"
   ]
  },
  {
   "cell_type": "code",
   "execution_count": 15,
   "id": "c79e8718",
   "metadata": {},
   "outputs": [
    {
     "data": {
      "text/plain": [
       "20"
      ]
     },
     "execution_count": 15,
     "metadata": {},
     "output_type": "execute_result"
    }
   ],
   "source": [
    "d"
   ]
  },
  {
   "cell_type": "code",
   "execution_count": 16,
   "id": "07570e05",
   "metadata": {},
   "outputs": [
    {
     "data": {
      "text/plain": [
       "int"
      ]
     },
     "execution_count": 16,
     "metadata": {},
     "output_type": "execute_result"
    }
   ],
   "source": [
    "type(d)"
   ]
  },
  {
   "cell_type": "code",
   "execution_count": 20,
   "id": "d3d3d965",
   "metadata": {},
   "outputs": [
    {
     "name": "stdout",
     "output_type": "stream",
     "text": [
      "30\n"
     ]
    }
   ],
   "source": [
    "e = bisoonsu(10,20)"
   ]
  },
  {
   "cell_type": "code",
   "execution_count": 21,
   "id": "19b304ab",
   "metadata": {},
   "outputs": [
    {
     "data": {
      "text/plain": [
       "NoneType"
      ]
     },
     "execution_count": 21,
     "metadata": {},
     "output_type": "execute_result"
    }
   ],
   "source": [
    "type(e)"
   ]
  },
  {
   "cell_type": "markdown",
   "id": "15908c1f",
   "metadata": {},
   "source": [
    "## 1. 함수 정의\n",
    "### 함수 정의문\n",
    "- 함수는 콜론(:)을 기준으로 좌측에는 헤더부(Header)이고, 우측이나 아래는 몸체부(Body).  \n",
    "- 헤더부 : 함수명과 매개변수(parameter)  \n",
    "- 몸체부 : 로직과 return처리\n",
    "\n",
    ">def 키워드+함수명(매개변수):  \n",
    "   로직  \n",
    "   return\n",
    "   \n",
    "    def=define\n",
    "    파이썬에선 들여쓰기 네 칸이 기준"
   ]
  },
  {
   "cell_type": "code",
   "execution_count": 22,
   "id": "cb551e6e",
   "metadata": {},
   "outputs": [],
   "source": [
    "def add(x, y):\n",
    "    return x+y"
   ]
  },
  {
   "cell_type": "markdown",
   "id": "cc198b3e",
   "metadata": {},
   "source": [
    "### 함수 호출을 위해 호출 연산자 사용\n",
    "- 함수 이름 다음에 괄호 즉 함수호출연산자를 사용한다.  \n",
    "- 함수에 매개변수가 있으면, 해당하는 값인 인자를 전달해야 한다."
   ]
  },
  {
   "cell_type": "code",
   "execution_count": 23,
   "id": "1aa04a40",
   "metadata": {},
   "outputs": [
    {
     "data": {
      "text/plain": [
       "5"
      ]
     },
     "execution_count": 23,
     "metadata": {},
     "output_type": "execute_result"
    }
   ],
   "source": [
    "add(2,3)"
   ]
  },
  {
   "cell_type": "code",
   "execution_count": 24,
   "id": "e250e690",
   "metadata": {},
   "outputs": [
    {
     "data": {
      "text/plain": [
       "True"
      ]
     },
     "execution_count": 24,
     "metadata": {},
     "output_type": "execute_result"
    }
   ],
   "source": [
    "callable(add)"
   ]
  },
  {
   "cell_type": "code",
   "execution_count": 25,
   "id": "5aebc634",
   "metadata": {},
   "outputs": [],
   "source": [
    "a = 100"
   ]
  },
  {
   "cell_type": "code",
   "execution_count": 26,
   "id": "3f8e9fbb",
   "metadata": {},
   "outputs": [
    {
     "data": {
      "text/plain": [
       "False"
      ]
     },
     "execution_count": 26,
     "metadata": {},
     "output_type": "execute_result"
    }
   ],
   "source": [
    "callable(a)"
   ]
  },
  {
   "cell_type": "markdown",
   "id": "021b8429",
   "metadata": {},
   "source": [
    "단지 호출만"
   ]
  },
  {
   "cell_type": "markdown",
   "id": "07fd6aa5",
   "metadata": {},
   "source": [
    "객체를 생성해서 쓰면 메소드. 함수는 수학..\n",
    "객체를 할당해서 쓰면 메소드"
   ]
  },
  {
   "cell_type": "markdown",
   "id": "c08e5137",
   "metadata": {},
   "source": [
    "### 일반 로직과 함수 처리 비교\n",
    "일반로직 : 한번을 처리할 때 일반적인 로직으로 처리  \n",
    "동일한 로직을 여러 번 사용할 대는 함수로 정의해서 사용 가능"
   ]
  },
  {
   "cell_type": "code",
   "execution_count": 27,
   "id": "1168ede4",
   "metadata": {},
   "outputs": [
    {
     "name": "stdout",
     "output_type": "stream",
     "text": [
      "0\n",
      "1\n",
      "2\n",
      "3\n",
      "4\n",
      "5\n",
      "6\n",
      "7\n",
      "8\n",
      "9\n"
     ]
    }
   ],
   "source": [
    "for data in range(0,10):\n",
    "    print(data)"
   ]
  },
  {
   "cell_type": "code",
   "execution_count": 29,
   "id": "53c61524",
   "metadata": {},
   "outputs": [
    {
     "name": "stdout",
     "output_type": "stream",
     "text": [
      "45\n"
     ]
    }
   ],
   "source": [
    "a = 0\n",
    "for data in range(0,10):\n",
    "    a += data\n",
    "    \n",
    "print(a)"
   ]
  },
  {
   "cell_type": "code",
   "execution_count": 32,
   "id": "683558e4",
   "metadata": {},
   "outputs": [],
   "source": [
    "def add_function(a):\n",
    "    for data in range(0, 10):\n",
    "        a += data\n",
    "        \n",
    "    return a"
   ]
  },
  {
   "cell_type": "code",
   "execution_count": 33,
   "id": "9faba332",
   "metadata": {},
   "outputs": [
    {
     "data": {
      "text/plain": [
       "90"
      ]
     },
     "execution_count": 33,
     "metadata": {},
     "output_type": "execute_result"
    }
   ],
   "source": [
    "add_function(a)"
   ]
  },
  {
   "cell_type": "code",
   "execution_count": 34,
   "id": "c9058445",
   "metadata": {},
   "outputs": [
    {
     "data": {
      "text/plain": [
       "<function __main__.add_function(a)>"
      ]
     },
     "execution_count": 34,
     "metadata": {},
     "output_type": "execute_result"
    }
   ],
   "source": [
    "add_function"
   ]
  },
  {
   "cell_type": "code",
   "execution_count": 35,
   "id": "e4f29775",
   "metadata": {},
   "outputs": [
    {
     "data": {
      "text/plain": [
       "<function __main__.add_function(a)>"
      ]
     },
     "execution_count": 35,
     "metadata": {},
     "output_type": "execute_result"
    }
   ],
   "source": [
    "globals()['add_function']"
   ]
  },
  {
   "cell_type": "code",
   "execution_count": 36,
   "id": "48b48097",
   "metadata": {},
   "outputs": [
    {
     "data": {
      "text/plain": [
       "45"
      ]
     },
     "execution_count": 36,
     "metadata": {},
     "output_type": "execute_result"
    }
   ],
   "source": [
    "a"
   ]
  },
  {
   "cell_type": "code",
   "execution_count": 37,
   "id": "3a51df6f",
   "metadata": {},
   "outputs": [
    {
     "data": {
      "text/plain": [
       "45"
      ]
     },
     "execution_count": 37,
     "metadata": {},
     "output_type": "execute_result"
    }
   ],
   "source": [
    "globals()['a']"
   ]
  },
  {
   "cell_type": "code",
   "execution_count": 38,
   "id": "63fbb5d7",
   "metadata": {},
   "outputs": [],
   "source": [
    "add_function_=add_function"
   ]
  },
  {
   "cell_type": "code",
   "execution_count": 39,
   "id": "e90889a2",
   "metadata": {},
   "outputs": [
    {
     "data": {
      "text/plain": [
       "90"
      ]
     },
     "execution_count": 39,
     "metadata": {},
     "output_type": "execute_result"
    }
   ],
   "source": [
    "add_function_(a)"
   ]
  },
  {
   "cell_type": "code",
   "execution_count": 40,
   "id": "7bb61928",
   "metadata": {},
   "outputs": [
    {
     "data": {
      "text/plain": [
       "'add_function'"
      ]
     },
     "execution_count": 40,
     "metadata": {},
     "output_type": "execute_result"
    }
   ],
   "source": [
    "add_function.__name__"
   ]
  },
  {
   "cell_type": "markdown",
   "id": "3141fe9c",
   "metadata": {},
   "source": [
    "### 매개변수\n",
    "- 컴퓨터 프로그래밍에서 매개변수(parameter)란 변수의 특별한 한 종류로서, 함수 등과 같은 서브루틴의 인풋으로"
   ]
  },
  {
   "cell_type": "code",
   "execution_count": 41,
   "id": "d7f3a4d4",
   "metadata": {},
   "outputs": [],
   "source": [
    "def add(a,b):\n",
    "    return a+b"
   ]
  },
  {
   "cell_type": "code",
   "execution_count": 42,
   "id": "29a0b438",
   "metadata": {},
   "outputs": [
    {
     "data": {
      "text/plain": [
       "{}"
      ]
     },
     "execution_count": 42,
     "metadata": {},
     "output_type": "execute_result"
    }
   ],
   "source": [
    "add.__annotations__"
   ]
  },
  {
   "cell_type": "code",
   "execution_count": 46,
   "id": "8fbb5ec4",
   "metadata": {},
   "outputs": [],
   "source": [
    "def add(a:int,b:int):\n",
    "    if type(a) == str:\n",
    "        print(\"a의 값은 문자열이 될 수 없\")\n",
    "        return None\n",
    "    return a+b"
   ]
  },
  {
   "cell_type": "markdown",
   "id": "d7f5ca59",
   "metadata": {},
   "source": [
    "return none 안 해줘도 된다"
   ]
  },
  {
   "cell_type": "code",
   "execution_count": 51,
   "id": "a139a525",
   "metadata": {},
   "outputs": [],
   "source": [
    "def add(a, b):\n",
    "    return a+b\n",
    "\n",
    "def subtract(a,b):\n",
    "    return a-b\n",
    "\n",
    "def multiplied_by(a,b):\n",
    "    return a*b\n",
    "\n",
    "def divided_by(a,b):\n",
    "    return a/b"
   ]
  },
  {
   "cell_type": "code",
   "execution_count": 52,
   "id": "3520b6f4",
   "metadata": {},
   "outputs": [
    {
     "name": "stdout",
     "output_type": "stream",
     "text": [
      "13\n"
     ]
    }
   ],
   "source": [
    "a = add(10,3)\n",
    "print(a)"
   ]
  },
  {
   "cell_type": "code",
   "execution_count": 56,
   "id": "63dba5bc",
   "metadata": {},
   "outputs": [],
   "source": [
    "a = subtract(a,3)"
   ]
  },
  {
   "cell_type": "code",
   "execution_count": 57,
   "id": "211778e1",
   "metadata": {},
   "outputs": [
    {
     "name": "stdout",
     "output_type": "stream",
     "text": [
      "10\n"
     ]
    }
   ],
   "source": [
    "print(a)"
   ]
  },
  {
   "cell_type": "code",
   "execution_count": 58,
   "id": "c7fc1f0e",
   "metadata": {},
   "outputs": [
    {
     "ename": "IndentationError",
     "evalue": "expected an indented block (<ipython-input-58-4960ba5e278b>, line 3)",
     "output_type": "error",
     "traceback": [
      "\u001b[1;36m  File \u001b[1;32m\"<ipython-input-58-4960ba5e278b>\"\u001b[1;36m, line \u001b[1;32m3\u001b[0m\n\u001b[1;33m    return a+b\u001b[0m\n\u001b[1;37m    ^\u001b[0m\n\u001b[1;31mIndentationError\u001b[0m\u001b[1;31m:\u001b[0m expected an indented block\n"
     ]
    }
   ],
   "source": [
    "class Calculator:\n",
    "    def add(self,a,b):\n",
    "    return a+b\n",
    "\n",
    "    def subtract(self,a,b):\n",
    "    return a-b\n",
    "\n",
    "    def multiplied_by(self,a,b):\n",
    "    return a*b\n",
    "\n",
    "    def divided_by(self,a,b):\n",
    "    return a/b"
   ]
  },
  {
   "cell_type": "code",
   "execution_count": 59,
   "id": "69731b17",
   "metadata": {},
   "outputs": [],
   "source": [
    "def add(x, y):\n",
    "    \"\"\"\n",
    "    add함수\n",
    "    - 정수 혹은 숫자 자료형 x,y의 더한 결과값을 리턴합니다.\n",
    "    \"\"\"\n",
    "    return x+y"
   ]
  },
  {
   "cell_type": "code",
   "execution_count": 60,
   "id": "a53458f0",
   "metadata": {},
   "outputs": [
    {
     "name": "stdout",
     "output_type": "stream",
     "text": [
      "Help on function add in module __main__:\n",
      "\n",
      "add(x, y)\n",
      "    add함수\n",
      "    - 정수 혹은 숫자 자료형 x,y의 더한 결과값을 리턴합니다.\n",
      "\n"
     ]
    }
   ],
   "source": [
    "help(add)"
   ]
  },
  {
   "cell_type": "code",
   "execution_count": 61,
   "id": "b3f7f10a",
   "metadata": {},
   "outputs": [
    {
     "data": {
      "text/plain": [
       "'\\n    add함수\\n    - 정수 혹은 숫자 자료형 x,y의 더한 결과값을 리턴합니다.\\n    '"
      ]
     },
     "execution_count": 61,
     "metadata": {},
     "output_type": "execute_result"
    }
   ],
   "source": [
    "add.__doc__"
   ]
  },
  {
   "cell_type": "code",
   "execution_count": 62,
   "id": "a3a362c7",
   "metadata": {},
   "outputs": [],
   "source": [
    "def add(x:int, y:int) -> int:\n",
    "    return x + y"
   ]
  },
  {
   "cell_type": "code",
   "execution_count": 63,
   "id": "4ff1f762",
   "metadata": {},
   "outputs": [
    {
     "data": {
      "text/plain": [
       "{'x': int, 'y': int, 'return': int}"
      ]
     },
     "execution_count": 63,
     "metadata": {},
     "output_type": "execute_result"
    }
   ],
   "source": [
    "add.__annotations__"
   ]
  },
  {
   "cell_type": "code",
   "execution_count": 64,
   "id": "a3fe0e5b",
   "metadata": {},
   "outputs": [
    {
     "data": {
      "text/plain": [
       "'12'"
      ]
     },
     "execution_count": 64,
     "metadata": {},
     "output_type": "execute_result"
    }
   ],
   "source": [
    "add(\"1\",\"2\")"
   ]
  },
  {
   "cell_type": "markdown",
   "id": "3f1e69fe",
   "metadata": {},
   "source": [
    "## 여러 parameter가 필요한 경우"
   ]
  },
  {
   "cell_type": "markdown",
   "id": "bf43e09e",
   "metadata": {},
   "source": [
    "### 가변인자처리\n",
    "- 여러개의 인자를 하나로 묶어서 처리  \n",
    "- 함수를 정의할 때 가변인자가 들어가는 매개변수를 args라는 이름으로 지정하고 그 앞에 별을 붙여서 사용한다."
   ]
  },
  {
   "cell_type": "code",
   "execution_count": 69,
   "id": "e1b436ec",
   "metadata": {},
   "outputs": [],
   "source": [
    "def sum_all(*args):\n",
    "    print(args)\n",
    "    return sum(args)"
   ]
  },
  {
   "cell_type": "code",
   "execution_count": 70,
   "id": "f0ce823f",
   "metadata": {},
   "outputs": [
    {
     "name": "stdout",
     "output_type": "stream",
     "text": [
      "(1, 2, 3, 4, 5, 6, 7, 8)\n"
     ]
    },
    {
     "data": {
      "text/plain": [
       "36"
      ]
     },
     "execution_count": 70,
     "metadata": {},
     "output_type": "execute_result"
    }
   ],
   "source": [
    "sum_all(1,2,3,4,5,6,7,8)"
   ]
  },
  {
   "cell_type": "markdown",
   "id": "efc50ad4",
   "metadata": {},
   "source": [
    "### 리스트\n",
    "리스트 [] 원소\n",
    "파이썬이 아닌 곳에선 List<타임> 이렇게 씀\n",
    "List<object>\n",
    "    \n",
    "### 튜플"
   ]
  },
  {
   "cell_type": "code",
   "execution_count": 71,
   "id": "20e7d66b",
   "metadata": {},
   "outputs": [],
   "source": [
    "l = [1,2,3,4]\n",
    "t = (1,2,3,4)"
   ]
  },
  {
   "cell_type": "code",
   "execution_count": 72,
   "id": "32b33b84",
   "metadata": {},
   "outputs": [
    {
     "data": {
      "text/plain": [
       "(list, tuple)"
      ]
     },
     "execution_count": 72,
     "metadata": {},
     "output_type": "execute_result"
    }
   ],
   "source": [
    "type(l), type(t)"
   ]
  },
  {
   "cell_type": "markdown",
   "id": "47e89a8b",
   "metadata": {},
   "source": [
    "### 가변키워드인자\n",
    "- 이름과 값을 나열해서 지정할 수 있다.  \n",
    "- 가변인자 다음에 가변키워드인자를 넣어서 사용해야 함."
   ]
  },
  {
   "cell_type": "code",
   "execution_count": 76,
   "id": "9a8fe9ef",
   "metadata": {},
   "outputs": [],
   "source": [
    "def kwargs_function(**kwargs):\n",
    "    print(kwargs)\n",
    "    print(type(kwargs))"
   ]
  },
  {
   "cell_type": "code",
   "execution_count": 77,
   "id": "5d69aeb6",
   "metadata": {},
   "outputs": [
    {
     "name": "stdout",
     "output_type": "stream",
     "text": [
      "{'a': 1, 'b': '2', 'c': None}\n",
      "<class 'dict'>\n"
     ]
    }
   ],
   "source": [
    "kwargs_function(a=1, b='2', c=None)"
   ]
  },
  {
   "cell_type": "code",
   "execution_count": 79,
   "id": "3f08e631",
   "metadata": {},
   "outputs": [],
   "source": [
    "def args_kwargs_function(*args, **kwargs):\n",
    "    print(args)\n",
    "    print(type(args))\n",
    "    \n",
    "    print(kwargs)\n",
    "    print(type(kwargs))"
   ]
  },
  {
   "cell_type": "code",
   "execution_count": 80,
   "id": "e3d45aee",
   "metadata": {},
   "outputs": [
    {
     "ename": "SyntaxError",
     "evalue": "positional argument follows keyword argument (<ipython-input-80-5eee9d368a2c>, line 1)",
     "output_type": "error",
     "traceback": [
      "\u001b[1;36m  File \u001b[1;32m\"<ipython-input-80-5eee9d368a2c>\"\u001b[1;36m, line \u001b[1;32m1\u001b[0m\n\u001b[1;33m    args_kwargs_function(1,2,3,a='1', b='2', c=3, d=None, 4, 5)\u001b[0m\n\u001b[1;37m                                                          ^\u001b[0m\n\u001b[1;31mSyntaxError\u001b[0m\u001b[1;31m:\u001b[0m positional argument follows keyword argument\n"
     ]
    }
   ],
   "source": [
    "args_kwargs_function(1,2,3,a='1', b='2', c=3, d=None, 4, 5)"
   ]
  },
  {
   "cell_type": "markdown",
   "id": "818c3609",
   "metadata": {},
   "source": [
    "### *args 내가 원하는 구구단 단수만 입력 받아서 출력하는 함수 제작 gugudan2,5,7"
   ]
  },
  {
   "cell_type": "code",
   "execution_count": 85,
   "id": "6e19bfa5",
   "metadata": {},
   "outputs": [],
   "source": [
    "def gugudan(*args):\n",
    "    for arg in args:\n",
    "        print(f'{arg}단')\n",
    "        for multiple in range(1,10):\n",
    "            print(f'{arg} X {multiple} = {arg*multiple}')"
   ]
  },
  {
   "cell_type": "code",
   "execution_count": 86,
   "id": "96dedaef",
   "metadata": {},
   "outputs": [
    {
     "name": "stdout",
     "output_type": "stream",
     "text": [
      "2단\n",
      "2 X 1 = 2\n",
      "2 X 2 = 4\n",
      "2 X 3 = 6\n",
      "2 X 4 = 8\n",
      "2 X 5 = 10\n",
      "2 X 6 = 12\n",
      "2 X 7 = 14\n",
      "2 X 8 = 16\n",
      "2 X 9 = 18\n",
      "5단\n",
      "5 X 1 = 5\n",
      "5 X 2 = 10\n",
      "5 X 3 = 15\n",
      "5 X 4 = 20\n",
      "5 X 5 = 25\n",
      "5 X 6 = 30\n",
      "5 X 7 = 35\n",
      "5 X 8 = 40\n",
      "5 X 9 = 45\n",
      "7단\n",
      "7 X 1 = 7\n",
      "7 X 2 = 14\n",
      "7 X 3 = 21\n",
      "7 X 4 = 28\n",
      "7 X 5 = 35\n",
      "7 X 6 = 42\n",
      "7 X 7 = 49\n",
      "7 X 8 = 56\n",
      "7 X 9 = 63\n"
     ]
    }
   ],
   "source": [
    "gugudan(2,5,7)"
   ]
  },
  {
   "cell_type": "code",
   "execution_count": null,
   "id": "670c304e",
   "metadata": {},
   "outputs": [],
   "source": [
    "def gugudan(*args, **kwargs):\n",
    "    for arg in args:\n",
    "        print(f'{arg}단')\n",
    "        for multiple in range(1,10):\n",
    "            print(f'{arg} X {multiple} = {arg*multiple}')\n",
    "            \n",
    "    for kwarg in kwargs:\n",
    "        print(f' {kwargs[kwarg]})"
   ]
  }
 ],
 "metadata": {
  "kernelspec": {
   "display_name": "Python 3",
   "language": "python",
   "name": "python3"
  },
  "language_info": {
   "codemirror_mode": {
    "name": "ipython",
    "version": 3
   },
   "file_extension": ".py",
   "mimetype": "text/x-python",
   "name": "python",
   "nbconvert_exporter": "python",
   "pygments_lexer": "ipython3",
   "version": "3.8.8"
  }
 },
 "nbformat": 4,
 "nbformat_minor": 5
}
