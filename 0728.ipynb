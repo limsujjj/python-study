{
 "cells": [
  {
   "cell_type": "markdown",
   "id": "08611c45",
   "metadata": {},
   "source": [
    "### 파이썬 버전 확인하기\n",
    "명령어 콘솔 이용(!)"
   ]
  },
  {
   "cell_type": "code",
   "execution_count": 1,
   "id": "cb4c4bf8",
   "metadata": {},
   "outputs": [
    {
     "name": "stdout",
     "output_type": "stream",
     "text": [
      "Python 3.8.8\n"
     ]
    }
   ],
   "source": [
    "!python --version"
   ]
  },
  {
   "cell_type": "code",
   "execution_count": 2,
   "id": "2feb422e",
   "metadata": {},
   "outputs": [],
   "source": [
    "import sys"
   ]
  },
  {
   "cell_type": "code",
   "execution_count": 3,
   "id": "c3d5d423",
   "metadata": {},
   "outputs": [
    {
     "name": "stdout",
     "output_type": "stream",
     "text": [
      "3.8.8 (default, Apr 13 2021, 15:08:03) [MSC v.1916 64 bit (AMD64)]\n"
     ]
    }
   ],
   "source": [
    "print(sys.version)"
   ]
  },
  {
   "cell_type": "markdown",
   "id": "1d6831dc",
   "metadata": {},
   "source": [
    "# 오\n",
    "## 마크다운\n",
    "### #개수에 따라 크기가 달라짐\n",
    "#### 네개\n",
    "##### 다섯개는 기울임꼴?\n",
    "###### 여섯개도? 똑같은듯 정리할때 유용"
   ]
  },
  {
   "cell_type": "code",
   "execution_count": 4,
   "id": "33225c7b",
   "metadata": {},
   "outputs": [
    {
     "name": "stdout",
     "output_type": "stream",
     "text": [
      "Requirement already satisfied: requests in c:\\users\\susu\\anaconda3\\lib\\site-packages (2.25.1)\n",
      "Requirement already satisfied: urllib3<1.27,>=1.21.1 in c:\\users\\susu\\anaconda3\\lib\\site-packages (from requests) (1.26.4)\n",
      "Requirement already satisfied: certifi>=2017.4.17 in c:\\users\\susu\\anaconda3\\lib\\site-packages (from requests) (2020.12.5)\n",
      "Requirement already satisfied: chardet<5,>=3.0.2 in c:\\users\\susu\\anaconda3\\lib\\site-packages (from requests) (4.0.0)\n",
      "Requirement already satisfied: idna<3,>=2.5 in c:\\users\\susu\\anaconda3\\lib\\site-packages (from requests) (2.10)\n"
     ]
    }
   ],
   "source": [
    "!pip install requests"
   ]
  },
  {
   "cell_type": "code",
   "execution_count": 5,
   "id": "8cb406c0",
   "metadata": {},
   "outputs": [
    {
     "name": "stdout",
     "output_type": "stream",
     "text": [
      "Collecting bs4\n",
      "  Downloading bs4-0.0.1.tar.gz (1.1 kB)\n",
      "Requirement already satisfied: beautifulsoup4 in c:\\users\\susu\\anaconda3\\lib\\site-packages (from bs4) (4.9.3)\n",
      "Requirement already satisfied: soupsieve>1.2 in c:\\users\\susu\\anaconda3\\lib\\site-packages (from beautifulsoup4->bs4) (2.2.1)\n",
      "Building wheels for collected packages: bs4\n",
      "  Building wheel for bs4 (setup.py): started\n",
      "  Building wheel for bs4 (setup.py): finished with status 'done'\n",
      "  Created wheel for bs4: filename=bs4-0.0.1-py3-none-any.whl size=1273 sha256=0d741d40a6c99c17c6d186fdda3443bdb84896e0cb8d52dd00f4a292befe94ee\n",
      "  Stored in directory: c:\\users\\susu\\appdata\\local\\pip\\cache\\wheels\\75\\78\\21\\68b124549c9bdc94f822c02fb9aa3578a669843f9767776bca\n",
      "Successfully built bs4\n",
      "Installing collected packages: bs4\n",
      "Successfully installed bs4-0.0.1\n"
     ]
    }
   ],
   "source": [
    "!pip install bs4"
   ]
  },
  {
   "cell_type": "code",
   "execution_count": 6,
   "id": "bcd432f5",
   "metadata": {},
   "outputs": [],
   "source": [
    "import requests\n",
    "naver = requests.get('https://naver.com')"
   ]
  },
  {
   "cell_type": "code",
   "execution_count": 7,
   "id": "5571313f",
   "metadata": {},
   "outputs": [
    {
     "data": {
      "text/plain": [
       "'\\n<!doctype html>                          <html lang=\"ko\" data-dark=\"false\"> <head> <meta charset=\"utf-8\"> <title>NAVER</title> <meta http-equiv=\"X-UA-Compatible\" content=\"IE=edge\"> <meta name=\"viewport\" content=\"width=1190\"> <meta name=\"apple-mobile-web-app-title\" content=\"NAVER\"/> <meta name=\"robots\" content=\"index,nofollow\"/> <meta name=\"description\" content=\"네이버 메인에서 다양한 정보와 유용한 컨텐츠를 만나 보세요\"/> <meta property=\"og:title\" content=\"네이버\"> <meta property=\"og:url\" content=\"https://www.naver.com/\"> <meta property=\"og:image\" content=\"https://s.pstatic.net/static/www/mobile/edit/2016/0705/mobile_212852414260.png\"> <meta property=\"og:description\" content=\"네이버 메인에서 다양한 정보와 유용한 컨텐츠를 만나 보세요\"/> <meta name=\"twitter:card\" content=\"summary\"> <meta name=\"twitter:title\" content=\"\"> <meta name=\"twitter:url\" content=\"https://www.naver.com/\"> <meta name=\"twitter:image\" content=\"https://s.pstatic.net/static/www/mobile/edit/2016/0705/mobile_212852414260.png\"> <meta name=\"twitter:description\" content=\"네이버 메인에서 다양한 정보와 유용한 컨텐츠를 만나 보세요\"/>  <link rel=\"stylesheet\" href=\"https://pm.pstatic.net/dist/css/nmain.20210715.css\"> <link rel=\"stylesheet\" href=\"https://ssl.pstatic.net/sstatic/search/pc/css/sp_autocomplete_210318.css\"> <link rel=\"shortcut icon\" type=\"image/x-icon\" href=\"/favicon.ico?1\"/>  <link rel=\"apple-touch-icon\" sizes=\"114x114\" href=\"https://s.pstatic.net/static/www/u/2014/0328/mma_204243574.png\"/> <link rel=\"apple-touch-icon\" href=\"https://s.pstatic.net/static/www/u/2014/0328/mma_20432863.png\"/> <script>document.domain=\"naver.com\",window.nmain=window.nmain||{},window.nmain.supportFlicking=!1;var nsc=\"navertop.v4\",ua=navigator.userAgent;window.nmain.isIE=navigator.appName&&navigator.appName.indexOf(\"Explorer\")>0&&ua.toLocaleLowerCase().indexOf(\"msie 10.0\")<0,document.getElementsByTagName(\"html\")[0].setAttribute(\"data-useragent\",ua),window.nmain.isIE&&(Object.create=function(n){function a(){}return a.prototype=n,new a})</script> <script>var darkmode= false;window.naver_corp_da=window.naver_corp_da||{main:{}},window.naver_corp_da.main=window.naver_corp_da.main||{},window.naver_corp_da.main.darkmode=darkmode,window.gladsdk=window.gladsdk||{cmd:[]},window.gladsdk.cmd.push((function(){window.gladsdk.setHostMeta(\"theme\",darkmode?\"dark\":\"light\")}))</script> <script> window.nmain.gv = {  isLogin: false,\\nuseId: null,   daInfo: {\"ANIMAL\":{\"menu\":\"ANIMAL\",\"childMenu\":\"\",\"adType\":\"singleDom\",\"multiDomAdUrl\":\"\",\"multiDomUnit\":\"\",\"infoList\":[{\"adposId\":\"1000161\",\"singleDomAdUrl\":\"https://siape.veta.naver.com/fxshow\",\"param\":{\"da_dom_id\":\"p_main_animal_1\",\"tb\":\"ANIMAL_1\",\"unit\":\"SU10567\",\"calp\":\"-\"},\"type\":{\"position\":\"abs\",\"positionIndex\":4,\"subject\":\"contents\"},\"dom\":null},{\"adposId\":\"1000162\",\"singleDomAdUrl\":\"https://siape.veta.naver.com/fxshow\",\"param\":{\"da_dom_id\":\"p_main_animal_2\",\"tb\":\"ANIMAL_1\",\"unit\":\"SU10568\",\"calp\":\"-\"},\"type\":{\"position\":\"abs\",\"positionIndex\":8,\"subject\":\"contents\"},\"dom\":null}]},\"BEAUTY\":{\"menu\":\"BEAUTY\",\"childMenu\":\"\",\"adType\":\"singleDom\",\"multiDomAdUrl\":\"\",\"multiDomUnit\":\"\",\"infoList\":[{\"adposId\":\"1000163\",\"singleDomAdUrl\":\"https://siape.veta.naver.com/fxshow\",\"param\":{\"da_dom_id\":\"p_main_beauty_1\",\"tb\":\"BEAUTY_1\",\"unit\":\"SU10595\",\"calp\":\"-\"},\"type\":{\"position\":\"abs\",\"positionIndex\":4,\"subject\":\"contents\"},\"dom\":null},{\"adposId\":\"1000164\",\"singleDomAdUrl\":\"https://siape.veta.naver.com/fxshow\",\"param\":{\"da_dom_id\":\"p_main_beauty_2\",\"tb\":\"BEAUTY_1\",\"unit\":\"SU10596\",\"calp\":\"-\"},\"type\":{\"position\":\"abs\",\"positionIndex\":8,\"subject\":\"contents\"},\"dom\":null}]},\"BUSINESS\":{\"menu\":\"BUSINESS\",\"childMenu\":\"\",\"adType\":\"singleDom\",\"multiDomAdUrl\":\"\",\"multiDomUnit\":\"\",\"infoList\":[{\"adposId\":\"1000165\",\"singleDomAdUrl\":\"https://siape.veta.naver.com/fxshow\",\"param\":{\"da_dom_id\":\"p_main_business_1\",\"tb\":\"BUSINESS_1\",\"unit\":\"SU10577\",\"calp\":\"-\"},\"type\":{\"position\":\"abs\",\"positionIndex\":4,\"subject\":\"contents\"},\"dom\":null},{\"adposId\":\"1000166\",\"singleDomAdUrl\":\"https://siape.veta.naver.com/fxshow\",\"param\":{\"da_dom_id\":\"p_main_business_2\",\"tb\":\"BUSINESS_1\",\"unit\":\"SU10578\",\"calp\":\"-\"},\"type\":{\"position\":\"abs\",\"positionIndex\":8,\"subject\":\"contents\"},\"dom\":null}]},\"CARGAME\":{\"menu\":\"CARGAME\",\"childMenu\":\"\",\"adType\":\"singleDom\",\"multiDomAdUrl\":\"\",\"multiDomUnit\":\"\",\"infoList\":[{\"adposId\":\"1000167\",\"singleDomAdUrl\":\"https://siape.veta.naver.com/fxshow\",\"param\":{\"da_dom_id\":\"p_main_cargame_1\",\"tb\":\"CARGAME_1\",\"unit\":\"SU10587\",\"calp\":\"-\"},\"type\":{\"position\":\"abs\",\"positionIndex\":4,\"subject\":\"contents\"},\"dom\":null},{\"adposId\":\"1000168\",\"singleDomAdUrl\":\"https://siape.veta.naver.com/fxshow\",\"param\":{\"da_dom_id\":\"p_main_cargame_2\",\"tb\":\"CARGAME_1\",\"unit\":\"SU10588\",\"calp\":\"-\"},\"type\":{\"position\":\"abs\",\"positionIndex\":8,\"subject\":\"contents\"},\"dom\":null}]},\"CHINA\":{\"menu\":\"CHINA\",\"childMenu\":\"\",\"adType\":\"singleDom\",\"multiDomAdUrl\":\"\",\"multiDomUnit\":\"\",\"infoList\":[{\"adposId\":\"1000169\",\"singleDomAdUrl\":\"https://siape.veta.naver.com/fxshow\",\"param\":{\"da_dom_id\":\"p_main_china_1\",\"tb\":\"CHINA_1\",\"unit\":\"SU10591\",\"calp\":\"-\"},\"type\":{\"position\":\"abs\",\"positionIndex\":4,\"subject\":\"contents\"},\"dom\":null},{\"adposId\":\"1000170\",\"singleDomAdUrl\":\"https://siape.veta.naver.com/fxshow\",\"param\":{\"da_dom_id\":\"p_main_china_2\",\"tb\":\"CHINA_1\",\"unit\":\"SU10592\",\"calp\":\"-\"},\"type\":{\"position\":\"abs\",\"positionIndex\":8,\"subject\":\"contents\"},\"dom\":null}]},\"DESIGN\":{\"menu\":\"DESIGN\",\"childMenu\":\"\",\"adType\":\"singleDom\",\"multiDomAdUrl\":\"\",\"multiDomUnit\":\"\",\"infoList\":[{\"adposId\":\"1000171\",\"singleDomAdUrl\":\"https://siape.veta.naver.com/fxshow\",\"param\":{\"da_dom_id\":\"p_main_design_1\",\"tb\":\"DESIGN_1\",\"unit\":\"SU10569\",\"calp\":\"-\"},\"type\":{\"position\":\"abs\",\"positionIndex\":4,\"subject\":\"contents\"},\"dom\":null},{\"adposId\":\"1000172\",\"singleDomAdUrl\":\"https://siape.veta.naver.com/fxshow\",\"param\":{\"da_dom_id\":\"p_main_design_2\",\"tb\":\"DESIGN_1\",\"unit\":\"SU10570\",\"calp\":\"-\"},\"type\":{\"position\":\"abs\",\"positionIndex\":8,\"subject\":\"contents\"},\"dom\":null}]},\"FARM\":{\"menu\":\"FARM\",\"childMenu\":\"\",\"adType\":\"singleDom\",\"multiDomAdUrl\":\"\",\"multiDomUnit\":\"\",\"infoList\":[{\"adposId\":\"1000173\",\"singleDomAdUrl\":\"https://siape.veta.naver.com/fxshow\",\"param\":{\"da_dom_id\":\"p_main_farm_1\",\"tb\":\"FARM_1\",\"unit\":\"SU10561\",\"calp\":\"-\"},\"type\":{\"position\":\"abs\",\"positionIndex\":4,\"subject\":\"contents\"},\"dom\":null},{\"adposId\":\"1000174\",\"singleDomAdUrl\":\"https://siape.veta.naver.com/fxshow\",\"param\":{\"da_dom_id\":\"p_main_farm_2\",\"tb\":\"FARM_1\",\"unit\":\"SU10562\",\"calp\":\"-\"},\"type\":{\"position\":\"abs\",\"positionIndex\":8,\"subject\":\"contents\"},\"dom\":null}]},\"FINANCE\":{\"menu\":\"FINANCE\",\"childMenu\":\"\",\"adType\":\"singleDom\",\"multiDomAdUrl\":\"\",\"multiDomUnit\":\"\",\"infoList\":[{\"adposId\":\"1000175\",\"singleDomAdUrl\":\"https://siape.veta.naver.com/fxshow\",\"param\":{\"da_dom_id\":\"p_main_finance_1\",\"tb\":\"FINANCE_1\",\"unit\":\"SU10563\",\"calp\":\"-\"},\"type\":{\"position\":\"abs\",\"positionIndex\":4,\"subject\":\"contents\"},\"dom\":null},{\"adposId\":\"1000176\",\"singleDomAdUrl\":\"https://siape.veta.naver.com/fxshow\",\"param\":{\"da_dom_id\":\"p_main_finance_2\",\"tb\":\"FINANCE_1\",\"unit\":\"SU10564\",\"calp\":\"-\"},\"type\":{\"position\":\"abs\",\"positionIndex\":8,\"subject\":\"contents\"},\"dom\":null}]},\"ITTECH\":{\"menu\":\"ITTECH\",\"childMenu\":\"\",\"adType\":\"singleDom\",\"multiDomAdUrl\":\"\",\"multiDomUnit\":\"\",\"infoList\":[{\"adposId\":\"1000177\",\"singleDomAdUrl\":\"https://siape.veta.naver.com/fxshow\",\"param\":{\"da_dom_id\":\"p_main_ittech_1\",\"tb\":\"ITTECH_1\",\"unit\":\"SU10593\",\"calp\":\"-\"},\"type\":{\"position\":\"abs\",\"positionIndex\":4,\"subject\":\"contents\"},\"dom\":null},{\"adposId\":\"1000178\",\"singleDomAdUrl\":\"https://siape.veta.naver.com/fxshow\",\"param\":{\"da_dom_id\":\"p_main_ittech_2\",\"tb\":\"ITTECH_1\",\"unit\":\"SU10594\",\"calp\":\"-\"},\"type\":{\"position\":\"abs\",\"positionIndex\":8,\"subject\":\"contents\"},\"dom\":null}]},\"JOB\":{\"menu\":\"JOB\",\"childMenu\":\"\",\"adType\":\"singleDom\",\"multiDomAdUrl\":\"\",\"multiDomUnit\":\"\",\"infoList\":[{\"adposId\":\"1000179\",\"singleDomAdUrl\":\"https://siape.veta.naver.com/fxshow\",\"param\":{\"da_dom_id\":\"p_main_job_1\",\"tb\":\"JOB_1\",\"unit\":\"SU10589\",\"calp\":\"-\"},\"type\":{\"position\":\"abs\",\"positionIndex\":4,\"subject\":\"contents\"},\"dom\":null},{\"adposId\":\"1000180\",\"singleDomAdUrl\":\"https://siape.veta.naver.com/fxshow\",\"param\":{\"da_dom_id\":\"p_main_job_2\",\"tb\":\"JOB_1\",\"unit\":\"SU10590\",\"calp\":\"-\"},\"type\":{\"position\":\"abs\",\"positionIndex\":8,\"subject\":\"contents\"},\"dom\":null}]},\"LAW\":{\"menu\":\"LAW\",\"childMenu\":\"\",\"adType\":\"singleDom\",\"multiDomAdUrl\":\"\",\"multiDomUnit\":\"\",\"infoList\":[{\"adposId\":\"1000181\",\"singleDomAdUrl\":\"https://siape.veta.naver.com/fxshow\",\"param\":{\"da_dom_id\":\"p_main_law_1\",\"tb\":\"LAW_1\",\"unit\":\"SU10573\",\"calp\":\"-\"},\"type\":{\"position\":\"abs\",\"positionIndex\":4,\"subject\":\"contents\"},\"dom\":null},{\"adposId\":\"1000182\",\"singleDomAdUrl\":\"https://siape.veta.naver.com/fxshow\",\"param\":{\"da_dom_id\":\"p_main_law_2\",\"tb\":\"LAW_1\",\"unit\":\"SU10574\",\"calp\":\"-\"},\"type\":{\"position\":\"abs\",\"positionIndex\":8,\"subject\":\"contents\"},\"dom\":null}]},\"LIVING\":{\"menu\":\"LIVING\",\"childMenu\":\"\",\"adType\":\"singleDom\",\"multiDomAdUrl\":\"\",\"multiDomUnit\":\"\",\"infoList\":[{\"adposId\":\"1000183\",\"singleDomAdUrl\":\"https://siape.veta.naver.com/fxshow\",\"param\":{\"da_dom_id\":\"p_main_living_1\",\"tb\":\"LIVING_1\",\"unit\":\"SU10597\",\"calp\":\"-\"},\"type\":{\"position\":\"abs\",\"positionIndex\":4,\"subject\":\"contents\"},\"dom\":null},{\"adposId\":\"1000184\",\"singleDomAdUrl\":\"https://siape.veta.naver.com/fxshow\",\"param\":{\"da_dom_id\":\"p_main_living_2\",\"tb\":\"LIVING_1\",\"unit\":\"SU10606\",\"calp\":\"-\"},\"type\":{\"position\":\"abs\",\"positionIndex\":8,\"subject\":\"contents\"},\"dom\":null}]},\"LIVINGHOME\":{\"menu\":\"LIVINGHOME\",\"childMenu\":\"\",\"adType\":\"singleDom\",\"multiDomAdUrl\":\"\",\"multiDomUnit\":\"\",\"infoList\":[{\"adposId\":\"1000185\",\"singleDomAdUrl\":\"https://siape.veta.naver.com/fxshow\",\"param\":{\"da_dom_id\":\"p_main_livinghome_1\",\"tb\":\"LIVINGHOME_1\",\"unit\":\"SU10571\",\"calp\":\"-\"},\"type\":{\"position\":\"abs\",\"positionIndex\":4,\"subject\":\"contents\"},\"dom\":null},{\"adposId\":\"1000186\",\"singleDomAdUrl\":\"https://siape.veta.naver.com/fxshow\",\"param\":{\"da_dom_id\":\"p_main_livinghome_2\",\"tb\":\"LIVINGHOME_1\",\"unit\":\"SU10572\",\"calp\":\"-\"},\"type\":{\"position\":\"abs\",\"positionIndex\":8,\"subject\":\"contents\"},\"dom\":null}]},\"MOMKIDS\":{\"menu\":\"MOMKIDS\",\"childMenu\":\"\",\"adType\":\"singleDom\",\"multiDomAdUrl\":\"\",\"multiDomUnit\":\"\",\"infoList\":[{\"adposId\":\"1000187\",\"singleDomAdUrl\":\"https://siape.veta.naver.com/fxshow\",\"param\":{\"da_dom_id\":\"p_main_momkids_1\",\"tb\":\"MOMKIDS_1\",\"unit\":\"SU10575\",\"calp\":\"-\"},\"type\":{\"position\":\"abs\",\"positionIndex\":4,\"subject\":\"contents\"},\"dom\":null},{\"adposId\":\"1000188\",\"singleDomAdUrl\":\"https://siape.veta.naver.com/fxshow\",\"param\":{\"da_dom_id\":\"p_main_momkids_2\",\"tb\":\"MOMKIDS_1\",\"unit\":\"SU10576\",\"calp\":\"-\"},\"type\":{\"position\":\"abs\",\"positionIndex\":8,\"subject\":\"contents\"},\"dom\":null}]},\"MOVIE\":{\"menu\":\"MOVIE\",\"childMenu\":\"\",\"adType\":\"singleDom\",\"multiDomAdUrl\":\"\",\"multiDomUnit\":\"\",\"infoList\":[{\"adposId\":\"1000189\",\"singleDomAdUrl\":\"https://siape.veta.naver.com/fxshow\",\"param\":{\"da_dom_id\":\"p_main_movie_1\",\"tb\":\"MOVIE_1\",\"unit\":\"SU10585\",\"calp\":\"-\"},\"type\":{\"position\":\"abs\",\"positionIndex\":4,\"subject\":\"contents\"},\"dom\":null},{\"adposId\":\"1000190\",\"singleDomAdUrl\":\"https://siape.veta.naver.com/fxshow\",\"param\":{\"da_dom_id\":\"p_main_movie_2\",\"tb\":\"MOVIE_1\",\"unit\":\"SU10586\",\"calp\":\"-\"},\"type\":{\"position\":\"abs\",\"positionIndex\":8,\"subject\":\"contents\"},\"dom\":null}]},\"SCHOOL\":{\"menu\":\"SCHOOL\",\"childMenu\":\"\",\"adType\":\"singleDom\",\"multiDomAdUrl\":\"\",\"multiDomUnit\":\"\",\"infoList\":[{\"adposId\":\"1000191\",\"singleDomAdUrl\":\"https://siape.veta.naver.com/fxshow\",\"param\":{\"da_dom_id\":\"p_main_school_1\",\"tb\":\"SCHOOL_1\",\"unit\":\"SU10579\",\"calp\":\"-\"},\"type\":{\"position\":\"abs\",\"positionIndex\":4,\"subject\":\"contents\"},\"dom\":null},{\"adposId\":\"1000192\",\"singleDomAdUrl\":\"https://siape.veta.naver.com/fxshow\",\"param\":{\"da_dom_id\":\"p_main_school_2\",\"tb\":\"SCHOOL_1\",\"unit\":\"SU10580\",\"calp\":\"-\"},\"type\":{\"position\":\"abs\",\"positionIndex\":8,\"subject\":\"contents\"},\"dom\":null}]},\"SHOW\":{\"menu\":\"SHOW\",\"childMenu\":\"\",\"adType\":\"singleDom\",\"multiDomAdUrl\":\"\",\"multiDomUnit\":\"\",\"infoList\":[{\"adposId\":\"1000193\",\"singleDomAdUrl\":\"https://siape.veta.naver.com/fxshow\",\"param\":{\"da_dom_id\":\"p_main_show_1\",\"tb\":\"SHOW_1\",\"unit\":\"SU10565\",\"calp\":\"-\"},\"type\":{\"position\":\"abs\",\"positionIndex\":4,\"subject\":\"contents\"},\"dom\":null},{\"adposId\":\"1000194\",\"singleDomAdUrl\":\"https://siape.veta.naver.com/fxshow\",\"param\":{\"da_dom_id\":\"p_main_show_2\",\"tb\":\"SHOW_1\",\"unit\":\"SU10566\",\"calp\":\"-\"},\"type\":{\"position\":\"abs\",\"positionIndex\":8,\"subject\":\"contents\"},\"dom\":null}]},\"TRAVEL\":{\"menu\":\"TRAVEL\",\"childMenu\":\"\",\"adType\":\"singleDom\",\"multiDomAdUrl\":\"\",\"multiDomUnit\":\"\",\"infoList\":[{\"adposId\":\"1000195\",\"singleDomAdUrl\":\"https://siape.veta.naver.com/fxshow\",\"param\":{\"da_dom_id\":\"p_main_travel_1\",\"tb\":\"TRAVEL_1\",\"unit\":\"SU10581\",\"calp\":\"-\"},\"type\":{\"position\":\"abs\",\"positionIndex\":4,\"subject\":\"contents\"},\"dom\":null},{\"adposId\":\"1000196\",\"singleDomAdUrl\":\"https://siape.veta.naver.com/fxshow\",\"param\":{\"da_dom_id\":\"p_main_travel_2\",\"tb\":\"TRAVEL_1\",\"unit\":\"SU10582\",\"calp\":\"-\"},\"type\":{\"position\":\"abs\",\"positionIndex\":8,\"subject\":\"contents\"},\"dom\":null}]},\"WEDDING\":{\"menu\":\"WEDDING\",\"childMenu\":\"\",\"adType\":\"singleDom\",\"multiDomAdUrl\":\"\",\"multiDomUnit\":\"\",\"infoList\":[{\"adposId\":\"1000197\",\"singleDomAdUrl\":\"https://siape.veta.naver.com/fxshow\",\"param\":{\"da_dom_id\":\"p_main_wedding_1\",\"tb\":\"WEDDING_1\",\"unit\":\"SU10583\",\"calp\":\"-\"},\"type\":{\"position\":\"abs\",\"positionIndex\":4,\"subject\":\"contents\"},\"dom\":null},{\"adposId\":\"1000198\",\"singleDomAdUrl\":\"https://siape.veta.naver.com/fxshow\",\"param\":{\"da_dom_id\":\"p_main_wedding_2\",\"tb\":\"WEDDING_1\",\"unit\":\"SU10584\",\"calp\":\"-\"},\"type\":{\"position\":\"abs\",\"positionIndex\":8,\"subject\":\"contents\"},\"dom\":null}]}},\\nsvt: 20210728092829,\\n}; </script> <script> window.nmain.newsstand = {\\nrcode: \\'06230110\\',\\nnewsCastSubsInfo: \\'\\',\\nnewsStandSubsInfo: \\'\\'\\n};\\nwindow.etc = {  };\\nwindow.svr = \"<!--aweb105-->\"; </script> <script src=\"https://ssl.pstatic.net/tveta/libs/assets/js/pc/main/min/pc.veta.core.min.js\" defer=\"defer\"></script>  <script async src=\"https://ssl.pstatic.net/tveta/libs/glad/prod/gfp-core.js\"></script>    <script src=\"https://pm.pstatic.net/dist/js/external.1b08ce51.js?o=www\" type=\"text/javascript\" crossorigin=\"anonymous\" defer=\"defer\"></script> <script src=\"https://pm.pstatic.net/dist/js/preload.59a14d58.js?o=www\" type=\"text/javascript\" crossorigin=\"anonymous\" defer=\"defer\"></script> <script src=\"https://pm.pstatic.net/dist/js/polyfill_async.942eb7d6.js?o=www\" type=\"text/javascript\" crossorigin=\"anonymous\" async></script>  <script src=\"https://pm.pstatic.net/dist/js/vendors~search.30b5d61b.js?o=www\" type=\"text/javascript\" crossorigin=\"anonymous\" defer=\"defer\"></script>   <script src=\"https://pm.pstatic.net/dist/js/search.6d032745.js?o=www\" type=\"text/javascript\" crossorigin=\"anonymous\" defer=\"defer\"></script>  <script src=\"https://pm.pstatic.net/dist/js/vendors~more~nmain~sidebar_notice.031bbbfd.js?o=www\" type=\"text/javascript\" crossorigin=\"anonymous\" defer=\"defer\"></script> <script src=\"https://pm.pstatic.net/dist/js/more~nmain~sidebar_notice.3987c2c7.js?o=www\" type=\"text/javascript\" crossorigin=\"anonymous\" defer=\"defer\"></script> <script src=\"https://pm.pstatic.net/dist/js/nmain.3358478e.js?o=www\" type=\"text/javascript\" crossorigin=\"anonymous\" defer=\"defer\"></script> <style>:root{color-scheme:light}#_nx_kbd .setkorhelp a{display:none}</style> </head> <body> <div id=\"u_skip\"> <a href=\"#newsstand\"><span>뉴스스탠드 바로가기</span></a> <a href=\"#themecast\"><span>주제별캐스트 바로가기</span></a> <a href=\"#timesquare\"><span>타임스퀘어 바로가기</span></a> <a href=\"#shopcast\"><span>쇼핑캐스트 바로가기</span></a> <a href=\"#account\"><span>로그인 바로가기</span></a> </div> <div id=\"wrap\"> <style type=\"text/css\">._1syGnXOL{padding-right:18px;font-size:14px;line-height:0;letter-spacing:-.25px;color:#000}._1syGnXOL span,._1syGnXOL strong{line-height:49px}._1syGnXOL:before{display:inline-block;content:\"\";vertical-align:top;background-image:url(https://static-whale.pstatic.net/main/sprite-20210713@2x.png);background-repeat:no-repeat;background-size:116px 112px;width:18px;height:18px;margin:16px 8px 0 0;background-position:-98px 0}[data-useragent*=\"MSIE 8\"] ._1syGnXOL:before{background-image:url(https://static-whale.pstatic.net/main/sprite-20210713.png)}._1syGnXOL._3dsvmZg2:before{background-position:-47px -85px}._1syGnXOL._1NBFx1WK:before{width:20px;height:20px;margin:15px 8px 0 0;background-position:-21px -89px}._1syGnXOL._2mcQEKCd:before{width:22px;height:22px;margin:14px 7px 0 0;background-position:-47px -63px}._1syGnXOL._36slsKuJ:before{width:21px;height:49px;margin:0 14px 0 0;background-position:0 -63px}._1syGnXOL._18YOHi7v{color:#fff}._1syGnXOL._1FSPZiH6{color:#333}._1syGnXOL._3di88A4c{padding-right:12px;font-size:17px}._1syGnXOL._3di88A4c:before{content:none}._1syGnXOL ._19K4X1CD{text-decoration:underline}._2aeXMlrb{display:inline-block;position:relative;font-size:12px;height:49px;width:78px;text-decoration:none;color:#fff;font-weight:700;letter-spacing:-.5px;vertical-align:top}._2aeXMlrb span{text-align:center;margin:9px 0;height:31px;display:block;line-height:31px;border-radius:15px}._2aeXMlrb span:before{display:inline-block;content:\"\";vertical-align:top;background-image:url(https://static-whale.pstatic.net/main/sprite-20210713@2x.png);background-repeat:no-repeat;background-size:116px 112px}[data-useragent*=\"MSIE 8\"] ._2aeXMlrb span:before{background-image:url(https://static-whale.pstatic.net/main/sprite-20210713.png)}._2aeXMlrb.BMgpjddw{font-size:11px;width:94px}._2aeXMlrb.BMgpjddw span:before{margin:9px 3px 0 0;width:17px;height:13px;background-position:-89px -63px}._3h-N8T9V{position:absolute;top:0;left:0;right:0;bottom:0;background:rgba(0,0,0,0)}._1KncATpM{display:inline-block;content:\"\";vertical-align:top;background-image:url(https://static-whale.pstatic.net/main/sprite-20210713@2x.png);background-repeat:no-repeat;background-size:116px 112px;margin-top:14px;float:left;width:98px;height:21px;background-position:0 -21px}[data-useragent*=\"MSIE 8\"] ._1KncATpM{background-image:url(https://static-whale.pstatic.net/main/sprite-20210713.png)}._1KncATpM._2v3uxv2x{background-position:0 0}._1KncATpM._1yl_Ow6o{background-position:0 -42px}._20PYt6lT{font-size:11px;height:49px;cursor:pointer;position:absolute;top:0;right:0;color:#666;opacity:.7}._20PYt6lT:after{width:15px;height:15px;margin-left:4px;background-position:-98px -33px;display:inline-block;content:\"\";vertical-align:top;background-image:url(https://static-whale.pstatic.net/main/sprite-20210713@2x.png);background-repeat:no-repeat;background-size:116px 112px}[data-useragent*=\"MSIE 8\"] ._20PYt6lT:after{background-image:url(https://static-whale.pstatic.net/main/sprite-20210713.png)}._20PYt6lT._39oMCV2N:after{background-position:-98px -18px}._20PYt6lT._3wm5EzmJ{color:#fff}._20PYt6lT._3wm5EzmJ:after{background-position:-65px -85px}._1hiMWemA{height:49px}._1hiMWemA .tY_u8r23{position:relative;width:1130px;margin:0 auto}._1hiMWemA .tY_u8r23 a{text-decoration:none}._1hiMWemA._23U_6TM_{position:relative}._1hiMWemA._23U_6TM_:after{position:absolute;z-index:1;content:\"\";display:block;width:100%;height:1px;bottom:0;background-color:rgba(0,0,0,.050980392156862744)}</style>         \\n<div id=\"NM_TOP_BANNER\" data-clk-prefix=\"top\" class=\"_1hiMWemA\"\\nstyle=\"background-color: #6f5de5\">\\n<div class=\"tY_u8r23\">\\n<a class=\"_3h-N8T9V\" href=\\'https://whale.naver.com/banner/details/darkmode?=main&wpid=RydDy7\\'\\ndata-clk=\"dropbanner1b\"></a>\\n<i class=\"_1KncATpM _1yl_Ow6o\"><span class=\"blind\">NAVER whale</span></i>\\n<img src=\"https://static-whale.pstatic.net/main/img_darkmode_v3@2x.png\" width=\"215.5\" height=\"49\" alt=\"\"\\nstyle=\"padding-left: 92px\"/>\\n<span class=\"_1syGnXOL _18YOHi7v _3di88A4c\" data-clk=\"dropbanner1b\" style=\"padding-right: 20px; font-size: 18px; padding-left: 78px\">\\n<span>이제 </span><strong>다크 모드로 눈 건강은 ON! 피로는 OFF!</strong></span>\\n<a href=\\'https://installer-whale.pstatic.net/downloads/banner/RydDy7/WhaleSetup.exe\\' class=\"_2aeXMlrb BMgpjddw\" id=\"NM_whale_download_btn\"\\ndata-clk=\"dropdownload1b\"><span style=\"background-color: #44388e\">다운로드</span></a>\\n<button type=\"button\" data-ui-cookie-exp-days=\"3\" data-ui-cookie-key=\"NM_TOP_PROMOTION\" data-ui-cookie-value=\"1\"\\ndata-ui-hide-target=\"#NM_TOP_BANNER\" data-clk=\"dropclose1b\" class=\"_20PYt6lT _3wm5EzmJ\"\\nstyle=\"display: none\">3일 동안 보지 않기\\n</button>\\n</div>\\n</div>  <div id=\"header\" role=\"banner\">\\n\\n\\n\\n\\n\\n\\n\\n\\n<div class=\"special_bg\">\\n<div class=\"group_flex\">\\n<div class=\"logo_area\">\\n<h1 class=\"logo_default\">\\n<a href=\"/\" class=\"logo_naver\" data-clk=\"top.logo\"\\n><span class=\"blind\">네이버</span></a\\n>\\n</h1>\\n</div>\\n<div class=\"service_area\">\\n<a id=\"NM_set_home_btn\" href=\"https://help.naver.com/support/welcomePage/guide.help\" class=\"link_set\" data-clk=\"top.mkhome\">네이버를 시작페이지로</a>\\n<i class=\"sa_bar\"></i>\\n<a href=\"https://jr.naver.com\" class=\"link_jrnaver\" data-clk=\"top.jrnaver\"><i class=\"ico_jrnaver\"></i><span class=\"blind\">쥬니어네이버</span></a>\\n<a href=\"https://happybean.naver.com\" class=\"link_happybin\" data-clk=\"top.happybean\"><i class=\"ico_happybin\"></i><span class=\"blind\">해피빈</span></a>\\n</div>\\n\\n<div id=\"search\" class=\"search_area\" data-clk-prefix=\"sch\">\\n<form id=\"sform\" name=\"sform\" action=\"https://search.naver.com/search.naver\" method=\"get\" role=\"search\">\\n<fieldset>\\n<legend class=\"blind\">검색</legend>\\n<select id=\"where\" name=\"where\" title=\"검색 범위 선택\" class=\"blind\">\\n<option value=\"nexearch\" selected=\"selected\">통합검색</option><option value=\"post\">블로그</option><option value=\"cafeblog\">카페</option><option value=\"cafe\">- 카페명</option><option value=\"article\">- 카페글</option><option value=\"kin\">지식iN</option><option value=\"news\">뉴스</option><option value=\"web\">사이트</option><option value=\"category\">- 카테고리</option><option value=\"site\">- 사이트</option><option value=\"movie\">영화</option><option value=\"webkr\">웹문서</option><option value=\"dic\">사전</option><option value=\"100\">- 백과사전</option><option value=\"endic\">- 영어사전</option><option value=\"eedic\">- 영영사전</option><option value=\"krdic\">- 국어사전</option><option value=\"jpdic\">- 일본어사전</option><option value=\"hanja\">- 한자사전</option><option value=\"terms\">- 용어사전</option><option value=\"book\">책</option><option value=\"music\">음악</option><option value=\"doc\">전문자료</option><option value=\"shop\">쇼핑</option><option value=\"local\">지역</option><option value=\"video\">동영상</option><option value=\"image\">이미지</option><option value=\"mypc\">내PC</option><optgroup label=\"스마트 파인더\"><option value=\"movie\">영화</option><option value=\"auto\">자동차</option><option value=\"game\">게임</option><option value=\"health\">건강</option><option value=\"people\">인물</option></optgroup><optgroup label=\"네이버 랩\"><option>긍정부정검색</option></optgroup>\\n</select>\\n<input type=\"hidden\" id=\"sm\" name=\"sm\" value=\"top_hty\" />\\n<input type=\"hidden\" id=\"fbm\" name=\"fbm\" value=\"0\" />\\n<input type=\"hidden\" id=\"acr\" name=\"acr\" value=\"\" disabled=\"disabled\" />\\n<input type=\"hidden\" id=\"acq\" name=\"acq\" value=\"\" disabled=\"disabled\" />\\n<input type=\"hidden\" id=\"qdt\" name=\"qdt\" value=\"\" disabled=\"disabled\" />\\n<input type=\"hidden\" id=\"ie\" name=\"ie\" value=\"utf8\" />\\n<input type=\"hidden\" id=\"acir\" name=\"acir\" value=\"\" disabled=\"disabled\" />\\n<input type=\"hidden\" id=\"os\" name=\"os\" value=\"\" disabled=\"disabled\" />\\n<input type=\"hidden\" id=\"bid\" name=\"bid\" value=\"\" disabled=\"disabled\" />\\n<input type=\"hidden\" id=\"pkid\" name=\"pkid\" value=\"\" disabled=\"disabled\" />\\n<input type=\"hidden\" id=\"eid\" name=\"eid\" value=\"\" disabled=\"disabled\" />\\n<input type=\"hidden\" id=\"mra\" name=\"mra\" value=\"\" disabled=\"disabled\" />\\n\\n\\n\\n<div class=\"green_window\" style=\\'\\'>\\n<!-- [AU] data-atcmp-element 에 해당하는 attribute를 추가해주세요. -->\\n<input id=\"query\" name=\"query\" type=\"text\" title=\"검색어 입력\" maxlength=\"255\" class=\"input_text\" tabindex=\"1\" accesskey=\"s\" style=\"ime-mode:active;\" autocomplete=\"off\"  placeholder=\"검색어를 입력해 주세요.\" onclick=\"document.getElementById(\\'fbm\\').value=1;\" value=\"\" data-atcmp-element>\\n</div>\\n<button id=\"search_btn\" type=\"submit\" title=\"검색\" tabindex=\"3\" class=\"btn_submit\" onclick=\"window.nclick(this,\\'sch.action\\',\\'\\',\\'\\',event);\" style=\\'\\'>\\n<span class=\"blind\">검색</span>\\n<span class=\"ico_search_submit\"></span>\\n</button>\\n</fieldset>\\n</form>\\n<!-- 한글입력기 -->\\n<a href=\"#\" id=\"ke_kbd_btn\" role=\"button\" class=\"btn_keyboard\" onclick=\"return false;\"><span class=\"blind\">한글 입력기</span><span class=\"ico_keyboard\"></span></a>\\n<div id=\"_nx_kbd\" style=\"display:none;\"></div>\\n<div class=\"autocomplete\">\\n<!-- 자동완성 열린 경우 fold 클래스 추가, 딤드인 경우 dim 추가 -->\\n<a href=\"#\" role=\"button\" id=\"nautocomplete\" tabindex=\"2\" class=\"btn_arw _btn_arw fold\" aria-pressed=\"false\" data-atcmp-element><span class=\"blind\">자동완성 레이어</span><span class=\"ico_arr\"></span></a>\\n</div>\\n<!-- 자동완성레이어 -->\\n<div id=\"autoFrame\" class=\"reatcmp\" style=\"display: none;\">\\n<!-- [AU] data-atcmp-element attribute를 추가해주세요. -->\\n<div class=\"ly_atcmp\" data-atcmp-element>\\n<div class=\"api_atcmp_wrap\">\\n<!-- 최근검색어 -->\\n<!-- [AU] _recent_layer 클래스를 추가해주세요. -->\\n<div class=\"atcmp_fixer _recent_layer\" style=\"display:none;\">\\n<!-- [AU] _recent_header 클래스를 추가해주세요. -->\\n<div class=\"atcmp_header _recent_header\">\\n<strong class=\"tit\">최근검색어</strong>\\n<div class=\"option\">\\n<!-- [AU] _delAll 클래스를 추가해주세요. -->\\n<a role=\"button\" href=\"#\" class=\"item _delAll\" aria-pressed=\"false\">전체삭제</a>\\n</div>\\n</div>\\n<div class=\"atcmp_container\">\\n<!-- [AU] _recent 클래스를 추가해주세요. -->\\n<ul class=\"kwd_lst _recent\">\\n<!-- 최근검색어 템플릿 -->\\n<!-- [AU] _item 클래스를 추가해주세요. -->\\n<!-- [AU] data-template-type=\"history\" data-keyword=\"@in_txt@\" attribute를 추가해주세요. -->\\n<li class=\"item _item\" data-rank=\"@rank@\" data-template-type=\"history\" data-keyword=\"@in_txt@\">\\n<a href=\"#\" class=\"kwd\">\\n<span class=\"fix\"><span class=\"common_ico_kwd\"><i class=\"imsc ico_search\"></i></span><span>@txt@</span></span>\\n</a>\\n<span class=\"etc\">\\n<em class=\"date\">@date@.</em>\\n<!-- [AU] _del 클래스를 추가해주세요. -->\\n<a href=\"#\" role=\"button\" class=\"bt_item _del\" aria-pressed=\"false\"><i class=\"imsc ico_del\">삭제</i></a>\\n</span>\\n</li>\\n</ul>\\n<!-- [D] 검색어 저장 꺼진 경우 atcmp_fixer에 type_off 추가 -->\\n<!-- [AU] _offMsg 클래스를 추가해주세요. -->\\n<div class=\"kwd_info kwd_off _offMsg\" style=\"display: none;\">검색어 저장 기능이 꺼져 있습니다.<br><span class=\"kwd_dsc\">설정이 초기화 된다면 <a href=\"https://help.naver.com/support/alias/search/word/word_29.naver\" class=\"kwd_help\" data-clk=\"sly.help\" target=\"_blank\">도움말</a>을 확인해주세요.</span></div>\\n<!-- [D] 검색어 내역 없는 경우 atcmp_fixer에 type_off 추가 -->\\n<!-- [AU] _recentNone 클래스를 추가해주세요. -->\\n<div class=\"kwd_info kwd_none _recentNone\" style=\"display: none;\">최근 검색어 내역이 없습니다.<br><span class=\"kwd_dsc\">설정이 초기화 된다면 <a href=\"https://help.naver.com/support/alias/search/word/word_29.naver\" class=\"kwd_help\" data-clk=\"sly.help\" target=\"_blank\">도움말</a>을 확인해주세요.</span></div>\\n</div>\\n<div class=\"atcmp_footer\">\\n<span class=\"side_opt_area\">\\n<span class=\"opt_item\"><a href=\"https://help.naver.com/support/service/main.help?serviceNo=605&amp;categoryNo=1991\" data-clk=\"sly.help\" target=\"_blank\">도움말</a></span>\\n</span>\\n<span class=\"rside_opt_area\">\\n<span class=\"opt_item\">\\n<!-- [AU] _keywordOnOff 클래스를 추가해주세요. -->\\n<a href=\"#\" class=\"close _keywordOnOff\">자동저장 끄기</a>\\n</span>\\n</span>\\n</div>\\n</div>\\n<!-- 자동완성 -->\\n<!-- [AU] _atcmp_layer 클래스를 추가해주세요. -->\\n<div class=\"atcmp_fixer _atcmp_layer\" style=\"display:none;\">\\n<!-- [AU] _words 클래스를 추가해주세요. -->\\n<div class=\"atcmp_container _words\">\\n<!-- 정답형 템플릿 : 로또당첨번호 -->\\n<!-- [AU] _answer 클래스를 추가해주세요. -->\\n<!-- [AU] data-template-type=\"answer_3\" data-code=\"@code@\" data-keyword=\"@1@\" attribute를 추가해주세요. -->\\n<div class=\"atcmp_correct type_lotto _answer\" data-template-type=\"answer_3\" data-code=\"@code@\" data-keyword=\"@1@\">\\n<a href=\"#\" class=\"link_item\">\\n<span class=\"common_ico_kwd\"><i class=\"imsc ico_search\"></i></span>\\n<div class=\"dsc_area\">\\n<span class=\"tit\">@5@회차 당첨번호</span>\\n<span class=\"dsc\">\\n<span class=\"item\">추첨 @13@.</span><span class=\"item\">지급기한 1년</span>\\n</span>\\n</div>\\n<span class=\"etc_area\">\\n<span class=\"etc lotto\">\\n<em class=\"n@6@\">@6@</em><em class=\"n@7@\">@7@</em><em class=\"n@8@\">@8@</em><em class=\"n@9@\">@9@</em><em class=\"n@10@\">@10@</em><em class=\"n@11@\">@11@</em><em class=\"imsc_bf bonus n@12@\">@12@</em>\\n</span>\\n</span>\\n</a>\\n</div>\\n<!-- 정답형 템플릿 : 환율 -->\\n<!-- [AU] _answer 클래스를 추가해주세요. -->\\n<!-- [AU] data-template-type=\"answer_9\" data-code=\"@code@\" data-keyword=\"@1@\" attribute를 추가해주세요. -->\\n<div class=\"atcmp_correct type_exchange _answer\" data-template-type=\"answer_9\" data-code=\"@code@\" data-keyword=\"@1@\">\\n<!-- [D] 상승 up, 하락 down 추가 -->\\n<a href=\"#\" class=\"link_item @11@\">\\n<!-- [D] 국가별 class 가나다순\\nZAR 남아프리카 공화국\\nNPR 네팔\\nNOK 노르웨이\\nNZD 뉴질랜드\\nTWD 대만\\nDKK 덴마크\\nRUB 러시아\\nMOP 마카오\\nMYR 말레이시아\\nMXN 멕시코\\nMNT 몽골\\nUSD 미국\\nBHD 바레인\\nBDT 방글라데시\\nVND 베트남\\nBRL 브라질\\nSAR 사우디아라비아\\nSEK 스웨덴\\nCHF 스위스\\nSGD 싱가포르\\nAED 아랍에미리트\\nGBP 영국\\nEUR 유럽연합\\nILS 이스라엘\\nEGP 이집트\\nINR 인도\\nIDR 인도네시아\\nJPY 일본\\nCNY 중국\\nCZK 체코\\nCLP 칠레\\nKZT 카자흐스탄\\nQAR 카타르\\nCAD 캐나다\\nKWD 쿠웨이트\\nTHB 태국\\nTRY 터키\\nPKR 파키스탄\\nPLN 폴란드\\nPHP 필리핀\\nHUF 헝가리\\nAUD 호주\\nHKD 홍콩\\n-->\\n<span class=\"common_ico_kwd\"><i class=\"imsc ico @12@\">@14@</i></span>\\n<div class=\"dsc_area\">\\n<span class=\"tit\">@txt@<span class=\"sub\">@currency@</span></span>\\n<span class=\"dsc\">\\n<span class=\"item\"><i class=\"imsc ico_arr\"></i>@8@(@9@%)</span>\\n</span>\\n</div>\\n<span class=\"etc_area\">\\n<span class=\"etc\"><em class=\"num\">@6@</em>원</span>\\n</span>\\n</a>\\n</div>\\n<!-- 정답형 템플릿 : 날씨(국내11, 해외12) -->\\n<!-- [AU] _answer 클래스를 추가해주세요. -->\\n<!-- [AU] data-template-type=\"answer_11\" data-code=\"@code@\" data-keyword=\"@1@\" attribute를 추가해주세요. -->\\n<div class=\"atcmp_correct type_weather _answer\" data-template-type=\"answer_11\" data-code=\"@code@\" data-keyword=\"@1@\">\\n<!-- [D] 상승 up, 하락 down 추가 -->\\n<a href=\"#\" class=\"link_item @12@\">\\n<span class=\"common_ico_kwd\"><i class=\"imsc ico_search\"></i></span>\\n<div class=\"dsc_area\">\\n<span class=\"tit\">@txt@</span>\\n<span class=\"dsc\">\\n<span class=\"item\">@7@, @message@</span>\\n</span>\\n</div>\\n<span class=\"etc_area\">\\n<span class=\"etc\">\\n<!-- [D] 날씨별 class\\nico1 맑음(낮)\\nico2 맑음(밤)\\nico3 구름조금(낮)\\nico4 구름조금(밤)\\nico5 구름많음(낮)\\nico6 구름많음(밤)\\nico7 흐림\\nico8 약한비\\nico9 비\\nico10 강한비\\nico11 약한눈\\nico12 눈\\nico13 강한눈\\nico14 진눈깨비\\nico15 소나기\\nico16 안개\\nico17 소낙눈\\nico18 번개뇌우\\nico19 우박\\nico20 황사\\nico21 비또는눈\\nico22 가끔비\\nico23 가끔눈\\nico24 가끔비또는눈\\nico25 흐린후갬\\nico26 뇌우후갬\\nico27 비후갬\\nico28 눈후갬\\nico29 흐려져비\\nico30 흐려져눈\\n-->\\n<span class=\"ico_weather\"><i class=\"imsc ico ico@iconNo@\">@7@</i></span>\\n<em class=\"degree\">@8@<sup class=\"celsius\">°</sup></em>\\n</span>\\n</span>\\n</a>\\n</div>\\n<!-- 정답형 템플릿 : 사이트 바로가기 -->\\n<!-- [AU] _answer 클래스를 추가해주세요. -->\\n<!-- [AU] data-template-type=\"answer_17\" data-code=\"@code@\" data-keyword=\"@1@\" attribute를 추가해주세요. -->\\n<div class=\"atcmp_correct type_site _answer\" data-template-type=\"answer_17\" data-code=\"@code@\" data-keyword=\"@1@\">\\n<a href=\"@5@\" class=\"link_item\" target=\"_blank\">\\n<span class=\"common_ico_kwd\"><i class=\"imsc ico_url\"></i></span>\\n<div class=\"dsc_area\">\\n<span class=\"tit\">@txt@</span>\\n<span class=\"dsc\">\\n<span class=\"item\">@5@</span>\\n</span>\\n</div>\\n<span class=\"etc_area\">\\n<span class=\"etc\">바로가기</span>\\n</span>\\n</a>\\n</div>\\n<!-- [AU] _kwd_list 클래스를 추가해주세요. -->\\n<ul class=\"kwd_lst _kwd_list\">\\n<!-- [AU] 자동완성 검색어 템플릿 -->\\n<!-- [AU] _item 클래스를 추가해주세요. -->\\n<!-- [AU] data-rank=\"@rank@\" data-template-type=\"suggestion\" data-keyword=\"@in_txt@\" attribute를 추가해주세요. -->\\n<li class=\"item _item\" data-rank=\"@rank@\" data-template-type=\"suggestion\" data-keyword=\"@in_txt@\">\\n<a href=\"#\" class=\"kwd\">\\n<span class=\"fix\"><span class=\"common_ico_kwd\"><i class=\"imsc ico_search\"></i></span>@txt@</span>\\n</a>\\n<span class=\"etc\">\\n<a href=\"#\" role=\"button\" class=\"bt_item _add\" aria-pressed=\"false\"><i class=\"imsc ico_insert\">추가</i></a>\\n</span>\\n</li>\\n<!-- [AU] 최근검색어 템플릿 -->\\n<!-- [AU] _item 클래스를 추가해주세요. -->\\n<!-- [AU] data-rank=\"@rank@\" data-template-type=\"history\" data-keyword=\"@in_txt@\" attribute를 추가해주세요. -->\\n<li class=\"item has_correct _item\" data-rank=\"@rank@\" data-template-type=\"history\" data-keyword=\"@in_txt@\">\\n<a href=\"#\" class=\"kwd\">\\n<span class=\"fix\"><span class=\"common_ico_kwd\"><i class=\"imsc ico_search\"></i></span>@txt@</span>\\n</a>\\n<span class=\"etc\">\\n<!-- 최근검색어 있으면 날짜 표시 -->\\n<em class=\"date\">@date@.</em>\\n<a href=\"#\" role=\"button\" class=\"bt_item _add\" aria-pressed=\"false\"><i class=\"imsc ico_insert\">추가</i></a>\\n</span>\\n</li>\\n</ul>\\n<!-- [AU] 문맥검색 템플릿 -->\\n<!-- [AU] _item 클래스를 추가해주세요. -->\\n<!-- [AU] data-rank=\"@rank@\" data-template-type=\"intend\" data-keyword=\"@transQuery@\" attribute를 추가해주세요. -->\\n<li class=\"item has_correct _item\" data-rank=\"@rank@\" data-intend-rank=\"@intendRank@\" data-template-type=\"intend\" data-keyword=\"@transQuery@\">\\n<a href=\"#\" class=\"kwd\">\\n<span class=\"fix\"><span class=\"common_ico_kwd\"><i class=\"imsc ico_search\"></i></span>@query@ <span class=\"context\">@intend@</span></span>\\n</a>\\n<span class=\"etc\">\\n<a href=\"#\" role=\"button\" class=\"bt_item _add\" aria-pressed=\"false\"><i class=\"imsc ico_insert\">추가</i></a>\\n</span>\\n</li>\\n<!-- [D] 선거안내문구 -->\\n<!-- [AU] _alert 클래스를 추가해주세요. -->\\n<div class=\"atcmp_alert _alert\">\\n<div class=\"dsc_election\">\\n<p class=\"dsc\">\\n<i class=\"imsc ico_election\"></i><span class=\"_alert_passage\"></span>\\n</p>\\n<span class=\"dsc_inner\">\\n<!-- [AU] _alert_passage2 클래스를 추가해주세요. -->\\n<span class=\"_alert_passage2\"></span>\\n<!-- [AU] _alert_link 클래스를 추가해주세요. -->\\n<a href=\"#\" class=\"link _alert_link\" target=\"_blank\">자세히보기</a>\\n</span>\\n</div>\\n</div>\\n<!-- [AU] _plus 클래스를 추가해주세요. -->\\n<div class=\"atcmp_plus _plus\">\\n<div class=\"dsc_plus\">\\n<a href=\"https://help.naver.com/support/contents/contents.nhn?serviceNo=606&categoryNo=16658\" class=\"link_dsc\" data-clk=\"sug.cxhelp\" target=\"_blank\">관심사를 반영한 컨텍스트 자동완성<i class=\"imsc ico_help\">도움말</i></a>\\n</div>\\n<div class=\"switch\">\\n<!-- [D] 선택시 aria-pressed=\"ture/false\" -->\\n<!-- [AU] _plus_btn 클래스를 추가해주세요. -->\\n<a role=\"button\" href=\"#\" class=\"bt_switch active _plus_btn\" aria-pressed=\"false\"><i class=\"imsc ico_option\">컨텍스트 자동완성</i></a>\\n</div>\\n<!-- [AU] _plus_layer 클래스를 추가해주세요. -->\\n<div class=\"layer_plus _plus_layer\">\\n<strong class=\"tit\">컨텍스트 자동완성</strong>\\n<!-- [AU] _plus_layer_isloggedin 클래스를 추가해주세요. -->\\n<!-- [AU] style=\"display:none\" 추가해주세요. -->\\n<div class=\"_plus_layer_isloggedin\" style=\"display:none\">\\n<p class=\"dsc\">ON/OFF 설정은<br>해당기기(브라우저)에 저장됩니다.</p>\\n<div class=\"btn_area\">\\n<a href=\"https://help.naver.com/support/contents/contents.help?serviceNo=606&categoryNo=16659\" class=\"btn btn_view\" data-clk=\"sug.cxlink\" target=\"_blank\">자세히</a>\\n</div>\\n</div>\\n<!-- [AU] _plus_layer_isnotloggedin 클래스를 추가해주세요. -->\\n<!-- [AU] style=\"display:none\" 추가해주세요. -->\\n<div class=\"_plus_layer_isnotloggedin\" style=\"display:none\">\\n<p class=\"dsc\"><em class=\"txt\">동일한 시간대/연령/남녀별</em> 사용자 그룹의<br>관심사에 맞춰 자동완성을 제공합니다.</p>\\n<div class=\"btn_area\">\\n<a href=\"https://nid.naver.com/nidlogin.login\" class=\"btn btn_login\" data-clk=\"sug.cxlogin\">로그인</a>\\n<a href=\"https://help.naver.com/support/alias/search/word/word_16.naver\" class=\"btn btn_view\" data-clk=\"sug.cxlink\" target=\"_blank\">자세히</a>\\n</div>\\n</div>\\n<!-- [AU] _plus_layer_close 클래스를 추가해주세요. -->\\n<a href=\"#\" role=\"button\" class=\"btn_close _plus_layer_close\"><i class=\"imsc ico_close\">컨텍스트 자동완성 레이어 닫기</i></a>\\n</div>\\n</div>\\n</div>\\n<div class=\"atcmp_footer\">\\n<span class=\"side_opt_area\">\\n<span class=\"opt_item\"><a href=\"https://help.naver.com/support/service/main.help?serviceNo=605&categoryNo=1987\" data-clk=\"sug.help\" target=\"_blank\">도움말</a></span>\\n<span class=\"opt_item\"><a href=\"https://help.naver.com/support/contents/contents.help?serviceNo=605&categoryNo=18215\" class=\"report\" data-clk=\"sug.report\" target=\"_blank\">신고</a></span>\\n</span>\\n<span class=\"rside_opt_area\">\\n<span class=\"opt_item\">\\n<!-- [AU] _suggestOnOff 클래스를 추가해주세요. -->\\n<a href=\"#\" class=\"close _suggestOnOff\">자동완성 끄기</a>\\n</span>\\n</span>\\n</div>\\n</div>\\n</div>\\n</div>\\n</div>\\n</div>\\n\\n</div>\\n</div>\\n\\n<!--EMPTY-->\\n<div id=\"gnb\">\\n<div id=\"NM_FAVORITE\" class=\"gnb_inner\">\\n<div class=\"group_nav\">\\n<ul class=\"list_nav type_fix\">\\n<li class=\"nav_item\">\\n<a href=\"https://mail.naver.com/\" class=\"nav\" data-clk=\"svc.mail\"><i class=\"ico_mail\"></i>메일</a>\\n</li>\\n<li class=\"nav_item\"><a href=\"https://section.cafe.naver.com/\" class=\"nav\" data-clk=\"svc.cafe\">카페</a></li>\\n<li class=\"nav_item\"><a href=\"https://section.blog.naver.com/\" class=\"nav\" data-clk=\"svc.blog\">블로그</a></li>\\n<li class=\"nav_item\"><a href=\"https://kin.naver.com/\" class=\"nav\" data-clk=\"svc.kin\">지식iN</a></li>\\n<li class=\"nav_item\"><a href=\"https://shopping.naver.com/\" class=\"nav shop\" data-clk=\"svc.shopping\"><span class=\"blind\">쇼핑</span></a></li>\\n<li class=\"nav_item\"><a href=\"https://shoppinglive.naver.com/home\" class=\"nav shoplive\"\\ndata-clk=\"svc.shoppinglive\"><span class=\"blind\">쇼핑LIVE</span></a></li>\\n<li class=\"nav_item\"><a href=\"https://order.pay.naver.com/home\" class=\"nav\" data-clk=\"svc.pay\">Pay</a></li>\\n<li class=\"nav_item\">\\n<a href=\"https://tv.naver.com/\" class=\"nav\" data-clk=\"svc.tvcast\"><i class=\"ico_tv\"></i>TV</a>\\n</li>\\n</ul>\\n<ul\\nclass=\"list_nav NM_FAVORITE_LIST\"\\n>\\n<li class=\"nav_item\"><a href=\"https://dict.naver.com/\" class=\"nav\" data-clk=\"svc.dic\">사전</a></li>\\n<li class=\"nav_item\"><a href=\"https://news.naver.com/\" class=\"nav\" data-clk=\"svc.news\">뉴스</a></li>\\n<li class=\"nav_item\"><a href=\"https://finance.naver.com/\" class=\"nav\" data-clk=\"svc.stock\">증권</a></li>\\n<li class=\"nav_item\"><a href=\"https://land.naver.com/\" class=\"nav\" data-clk=\"svc.land\">부동산</a></li>\\n<li class=\"nav_item\"><a href=\"https://map.naver.com/\" class=\"nav\" data-clk=\"svc.map\">지도</a></li>\\n<li class=\"nav_item\"><a href=\"https://vibe.naver.com/\" class=\"nav\" data-clk=\"svc.vibe\">VIBE</a></li>\\n<li class=\"nav_item\"><a href=\"https://book.naver.com/\" class=\"nav\" data-clk=\"svc.book\">책</a></li>\\n<li class=\"nav_item\"><a href=\"https://comic.naver.com/\" class=\"nav\" data-clk=\"svc.webtoon\">웹툰</a></li>\\n\\n</ul>\\n<ul class=\"list_nav type_empty\" style=\"display: none;\"></ul>\\n<a href=\"#\" role=\"button\" class=\"btn_more\" data-clk=\"svc.more\">더보기</a>\\n<div class=\"ly_btn_area\">\\n<a href=\"more.html\" class=\"btn NM_FAVORITE_ALL\" data-clk=\"map.svcmore\">서비스 전체보기</a>\\n<a href=\"#\" role=\"button\" class=\"btn btn_set\" data-clk=\"map.edit\">메뉴설정</a>\\n<a href=\"#\" role=\"button\" class=\"btn btn_reset\" data-clk=\"edt.reset\">초기화</a>\\n<a href=\"#\" role=\"button\" class=\"btn btn_save\" data-clk=\"edt.save\">저장</a>\\n</div>\\n</div>\\n<div id=\"NM_WEATHER\" class=\"group_weather\">\\n<div>\\n<a data-clk=\"squ.weat\" href=\"https://weather.naver.com/today/06230110\" class=\"weather_area ico_w01\">\\n<div class=\"current_box\">\\n<strong class=\"current\" aria-label=\"현재기온\">28.0°</strong><strong class=\"state\">맑음</strong>\\n</div>\\n<div class=\"degree_box\">\\n<span class=\"min\" aria-label=\"최저기온\">23.0°</span><span class=\"max\" aria-label=\"최고기온\">33.0°</span>\\n</div>\\n<span class=\"location\">대현동</span>\\n</a>\\n</div>\\n<div>\\n<a data-clk=\"squ.dust\" href=\"https://weather.naver.com/today/06230110\" class=\"air_area\">\\n<ul class=\"list_air\">\\n<li class=\"air_item\">미세<strong class=\"state state_good\">좋음</strong></li>\\n<li class=\"air_item\">초미세<strong class=\"state state_good\">좋음</strong></li>\\n</ul>\\n<span class=\"location\">대현동</span>\\n</a>\\n</div>\\n\\n</div>\\n</div>\\n<div class=\"ly_service\">\\n<div class=\"group_service NM_FAVORITE_ALL_LY\"></div>\\n<div class=\"group_service NM_FAVORITE_EDIT_LY\" style=\"display: none;\"></div>\\n</div>\\n</div>\\n</div>\\n <div id=\"container\" role=\"main\"> <div style=\"position:relative;width:1130px;margin:0 auto;z-index:11\"> <div id=\"da_top\"></div> <div id=\"da_expwide\"></div> </div> <div id=\"NM_INT_LEFT\" class=\"column_left\">  <div id=\"veta_top\"> <iframe id=\"da_iframe_time\" name=\"da_iframe_time\" data-iframe-src=\"https://siape.veta.naver.com/fxshow?su=SU10599&amp;nrefreshx=0\" data-veta-preview=\"main_time\" title=\"광고\" width=\"750\" height=\"135\" marginheight=\"0\" marginwidth=\"0\" scrolling=\"no\" frameborder=\"0\"> </iframe> <span class=\"veta_bd_t\"></span> <span class=\"veta_bd_b\"></span> <span class=\"veta_bd_l\"></span> <span class=\"veta_bd_r\"></span> </div> <div id=\"newsstand\" class=\"sc_newscast\"> <h2 class=\"blind\">뉴스스탠드</h2> <div id=\"NM_NEWSSTAND_HEADER\" class=\"group_issue\" data-clk-prefix=\"ncy\"> <div class=\"issue_area\"> <a href=\"http://news.naver.com/main/list.nhn?mode=LPOD&mid=sec&sid1=001&sid2=140&oid=001&isYeonhapFlash=Y\" class=\"link_media\" data-clk=\"newsflash\">연합뉴스</a> <div id=\"yna_rolling\" class=\"list_issue\"> <div><a href=\"http://news.naver.com/main/list.nhn?mode=LPOD&mid=sec&sid1=001&sid2=140&oid=001&isYeonhapFlash=Y&aid=0012557711\" class=\"issue\" data-clk=\"quickarticle\">모더나 백신, 다음주 공급 재개</a></div>\\n<div><a href=\"http://news.naver.com/main/list.nhn?mode=LPOD&mid=sec&sid1=001&sid2=140&oid=001&isYeonhapFlash=Y&aid=0012557754\" class=\"issue\" data-clk=\"quickarticle\">김총리, 현대차 임단협 타결에 \"갈등보다 상생 택해줘 감사\"</a></div>\\n<div><a href=\"http://news.naver.com/main/list.nhn?mode=LPOD&mid=sec&sid1=001&sid2=140&oid=001&isYeonhapFlash=Y&aid=0012557509\" class=\"issue\" data-clk=\"quickarticle\">[올림픽] 탁구 \\'희망\\' 정영식·전지희, 세계 1-2위 벽 넘을까</a></div>\\n<div><a href=\"http://news.naver.com/main/list.nhn?mode=LPOD&mid=sec&sid1=001&sid2=140&oid=001&isYeonhapFlash=Y&aid=0012557621\" class=\"issue\" data-clk=\"quickarticle\">남북대화 신호탄 \\'통신선 복원\\'…북미 비핵화 대화로 이어질까</a></div>\\n<div><a href=\"http://news.naver.com/main/list.nhn?mode=LPOD&mid=sec&sid1=001&sid2=140&oid=001&isYeonhapFlash=Y&aid=0012557661\" class=\"issue\" data-clk=\"quickarticle\">김정은, 노병대회 연설…작년과 달리 \\'핵억제력\\' 언급 없어</a></div>\\n<div><a href=\"http://news.naver.com/main/list.nhn?mode=LPOD&mid=sec&sid1=001&sid2=140&oid=001&isYeonhapFlash=Y&aid=0012557605\" class=\"issue\" data-clk=\"quickarticle\">댕댕이·길냥이 띄우는 대권주자들…1천500만 \\'펫심\\' 쟁탈전</a></div>\\n<div><a href=\"http://news.naver.com/main/list.nhn?mode=LPOD&mid=sec&sid1=001&sid2=140&oid=001&isYeonhapFlash=Y&aid=0012557505\" class=\"issue\" data-clk=\"quickarticle\">원희룡 \"첫 내집마련은 반값에…\\'국가찬스\\' 제공해야\"</a></div>\\n<div><a href=\"http://news.naver.com/main/list.nhn?mode=LPOD&mid=sec&sid1=001&sid2=140&oid=001&isYeonhapFlash=Y&aid=0012557510\" class=\"issue\" data-clk=\"quickarticle\">행복하고 우아한 노년?...죽는 날까지 개미처럼 일해야</a></div>\\n<div><a href=\"http://news.naver.com/main/list.nhn?mode=LPOD&mid=sec&sid1=001&sid2=140&oid=001&isYeonhapFlash=Y&aid=0012557759\" class=\"issue\" data-clk=\"quickarticle\">\\'빨대로 소변 먹이고 촬영\\'…8살 딸 학대·살해 엄마 항소</a></div>\\n<div><a href=\"http://news.naver.com/main/list.nhn?mode=LPOD&mid=sec&sid1=001&sid2=140&oid=001&isYeonhapFlash=Y&aid=0012557607\" class=\"issue\" data-clk=\"quickarticle\">[팩트체크] \\'진술 번복\\' 조민 동창, 위증죄 처벌될까</a></div> </div> </div> <div class=\"direct_area\"> <a href=\"http://m.sports.naver.com/tokyo2020/index\" class=\"link_olympic\" data-clk=\"tokyo\"><span class=\"blind\">TOKYO 2020</span></a>\\n<a href=\"http://news.naver.com/\" class=\"link_news\" data-clk=\"newshome\">네이버뉴스</a>\\n<a href=\"http://entertain.naver.com/home\" class=\"link_direct\" data-clk=\"entertainment\">연예</a>\\n<a href=\"http://sports.news.naver.com/\" class=\"link_direct\" data-clk=\"sports\">스포츠</a> </div> </div>        <div id=\"NM_NEWSSTAND_TITLE\" class=\"group_title\" data-clk-prefix=\"nsd\"> <a href=\"http://newsstand.naver.com/\" class=\"link_newsstand\" data-clk=\"title\" target=\"_blank\">뉴스스탠드</a> <div id=\"NM_NEWSSTAND_data_buttons\" class=\"sort_area\">  <a href=\"#\" role=\"button\" data-type=\"my\" data-clk=\"my\" class=\"btn_sort\">구독한 언론사</a> <a href=\"#\" role=\"button\" data-type=\"all\" data-clk=\"all\" class=\"btn_sort sort_on\">전체언론사</a>  </div> <div id=\"NM_NEWSSTAND_view_buttons\" class=\"set_area\">  <a href=\"#\" role=\"button\" data-type=\"list\" data-clk=\"articleview\" class=\"btn_set\"> <i class=\"ico_list\"><span class=\"blind\">리스트형</span></i></a> <a href=\"#\" role=\"button\" data-type=\"thumb\" data-clk=\"pressview\" class=\"btn_set set_on\"> <i class=\"ico_tile\"><span class=\"blind\">썸네일형</span></i></a>  <a href=\"http://newsstand.naver.com/config.html\" class=\"btn_set\" data-clk=\"set\" target=\"_blank\"> <i class=\"ico_set\"><span class=\"blind\">설정</span></i></a> </div> </div> <div id=\"NM_NEWSSTAND_VIEW_CONTAINER\" style=\"position:relative\"> <div id=\"NM_NEWSSTAND_DEFAULT_LIST\" class=\"group_news\" style=\"display:none\" data-clk-prefix=\"nsd_all\"> <a href=\"#\" role=\"button\" class=\"pm_btn_prev_l _NM_NEWSSTAND_LIST_prev_btn\" data-clk-custom=\"prev\"><i class=\"ico_btn\"><span class=\"blind\">이전</span></i></a> <a href=\"#\" role=\"button\" class=\"pm_btn_next_l _NM_NEWSSTAND_LIST_next_btn\" data-clk-custom=\"next\"><i class=\"ico_btn\"><span class=\"blind\">다음</span></i></a> <div class=\"list_view\"> <div class=\"option_area\"> <div class=\"list_option_wrap\"> <ul class=\"list_option\"> <li class=\"option_item\" data-cateid=\"ct2\"><a href=\"#\" class=\"option\" data-clk=\"daei\">종합/경제</a></li> <li class=\"option_item\" data-cateid=\"ct3\"><a href=\"#\" class=\"option\" data-clk=\"dtvcom\">방송/통신</a></li> <li class=\"option_item\" data-cateid=\"ct4\"><a href=\"#\" class=\"option\" data-clk=\"dit\">IT</a></li> <li class=\"option_item\" data-cateid=\"ct5\"><a href=\"#\" class=\"option\" data-clk=\"deng\">영자지</a></li> <li class=\"option_item\" data-cateid=\"ct6\"><a href=\"#\" class=\"option\" data-clk=\"dsporent\">스포츠/연예</a></li> <li class=\"option_item\" data-cateid=\"ct7\"><a href=\"#\" class=\"option\" data-clk=\"dmagtec\">매거진/전문지</a></li> <li class=\"option_item\" data-cateid=\"ct8\"><a href=\"#\" class=\"option\" data-clk=\"dloc\">지역</a></li> </ul> </div> </div> <div class=\"_NM_NEWSSTAND_ARTICLE_CONTAINER\" data-clk-sub=\"*a\"></div> </div> <div class=\"ly_popup NM_NEWSSTAND_POPUP NM_NEWSSTAND_invalid\" style=\"display:none\" data-clk-sub=\"*a\"> <a href=\"#\" role=\"button\" class=\"btn_close NM_NEWSSTAND_POPUP_CLOSE\"><i class=\"ico_close\"></i><span class=\"blind\">닫기</span></a> <p class=\"popup_msg\">해당 언론사 사정으로 접근이 일시 제한됩니다.</p> <div class=\"popup_btn\"> <a href=\"#\" role=\"button\" class=\"btn_confirm NM_NEWSSTAND_POPUP_CLOSE\">확인</a> </div> </div> <div class=\"ly_popup NM_NEWSSTAND_POPUP NM_NEWSSTAND_undescribe_confirm\" style=\"display:none\" data-clk-sub=\"*a\"> <a href=\"#\" role=\"button\" class=\"btn_close NM_NEWSSTAND_POPUP_CLOSE\" data-clk=\"usclose\"><i class=\"ico_close\"></i><span class=\"blind\">닫기</span></a> <p class=\"popup_msg\"><strong class=\"NM_NEWSSTAND_POPUP_PNAME\"></strong>을(를)<br>구독해지 하시겠습니까?</p> <div class=\"popup_btn\"> <a href=\"#\" role=\"button\" class=\"btn_confirm NM_NEWSSTAND_POPUP_CONFIRM\" data-clk=\"usdone\">확인</a> <a href=\"#\" role=\"button\" class=\"btn_confirm NM_NEWSSTAND_POPUP_CLOSE\" data-clk=\"uscancel\">취소</a> </div> </div> <div class=\"ly_toast NM_NEWSSTAND_TOAST\" style=\"display:none\"> <p class=\"toast_msg\">구독한 언론사에 추가되었습니다.</p> </div> </div>   <div id=\"NM_NEWSSTAND_DEFAULT_THUMB\" class=\"group_news\" style=\"display:block\" data-clk-prefix=\"nsd_all\"> <a href=\"#\" role=\"button\" class=\"pm_btn_prev_l _NM_UI_PAGE_PREV\" data-clk-custom=\"prev\"><i class=\"ico_btn\"><span class=\"blind\">이전</span></i></a> <a href=\"#\" role=\"button\" class=\"pm_btn_next_l _NM_UI_PAGE_NEXT\" data-clk-custom=\"next\"><i class=\"ico_btn\"><span class=\"blind\">다음</span></i></a> <div class=\"_NM_UI_PAGE_CONTAINER\" style=\"height:100%;overflow:hidden\" data-clk-sub=\"*p\">   <div style=\"width: 750px; float: left;\">\\n<div class=\"tile_view\">\\n<div class=\"frame_area\">\\n<i class=\"line to_right1\"></i>\\n<i class=\"line to_right2\"></i>\\n<i class=\"line to_right3\"></i>\\n<i class=\"line to_bottom1\"></i>\\n<i class=\"line to_bottom2\"></i>\\n<i class=\"line to_bottom3\"></i>\\n<i class=\"line to_bottom4\"></i>\\n<i class=\"line to_bottom5\"></i>\\n</div>\\n<div class=\"thumb_area\">\\n<div\\nclass=\"thumb_box _NM_NEWSSTAND_THUMB _NM_NEWSSTAND_THUMB_press_valid\"\\ndata-pid=\"327\"\\n>\\n<a href=\"#\" class=\"thumb\">\\n<img\\nsrc=\"https://s.pstatic.net/static/newsstand/2020/logo/light/0604/327.png\"\\nheight=\"20\"\\nalt=\"뉴데일리\"\\nclass=\"news_logo\"\\n/>\\n<span class=\"thumb_dim\"></span\\n></a>\\n<div class=\"popup_wrap\">\\n<a\\nhref=\"#\"\\nrole=\"button\"\\nclass=\"btn_popup _NM_NEWSSTAND_THUMB_subscribe_press\"\\ndata-pid=\"327\"\\ndata-clk=\"sub\"\\n>구독</a\\n>\\n<a\\nhref=\"#\"\\nrole=\"button\"\\nclass=\"btn_popup _NM_NEWSSTAND_THUMB_unsubscribe_press\"\\ndata-pid=\"327\"\\ndata-clk=\"unsub\"\\n>해지</a\\n>\\n<a\\nhref=\"http://newsstand.naver.com/?list=&pcode=327\"\\ntarget=\"_blank\"\\nclass=\"btn_popup\"\\ndata-clk=\"logo\"\\ndata-pid=\"327\"\\n>기사보기</a\\n>\\n</div>\\n</div>\\n<div\\nclass=\"thumb_box _NM_NEWSSTAND_THUMB _NM_NEWSSTAND_THUMB_press_valid\"\\ndata-pid=\"038\"\\n>\\n<a href=\"#\" class=\"thumb\">\\n<img\\nsrc=\"https://s.pstatic.net/static/newsstand/2020/logo/light/0604/038.png\"\\nheight=\"20\"\\nalt=\"한국일보\"\\nclass=\"news_logo\"\\n/>\\n<span class=\"thumb_dim\"></span\\n></a>\\n<div class=\"popup_wrap\">\\n<a\\nhref=\"#\"\\nrole=\"button\"\\nclass=\"btn_popup _NM_NEWSSTAND_THUMB_subscribe_press\"\\ndata-pid=\"038\"\\ndata-clk=\"sub\"\\n>구독</a\\n>\\n<a\\nhref=\"#\"\\nrole=\"button\"\\nclass=\"btn_popup _NM_NEWSSTAND_THUMB_unsubscribe_press\"\\ndata-pid=\"038\"\\ndata-clk=\"unsub\"\\n>해지</a\\n>\\n<a\\nhref=\"http://newsstand.naver.com/?list=&pcode=038\"\\ntarget=\"_blank\"\\nclass=\"btn_popup\"\\ndata-clk=\"logo\"\\ndata-pid=\"038\"\\n>기사보기</a\\n>\\n</div>\\n</div>\\n<div\\nclass=\"thumb_box _NM_NEWSSTAND_THUMB _NM_NEWSSTAND_THUMB_press_valid\"\\ndata-pid=\"241\"\\n>\\n<a href=\"#\" class=\"thumb\">\\n<img\\nsrc=\"https://s.pstatic.net/static/newsstand/2020/logo/light/0604/241.png\"\\nheight=\"20\"\\nalt=\"일간스포츠\"\\nclass=\"news_logo\"\\n/>\\n<span class=\"thumb_dim\"></span\\n></a>\\n<div class=\"popup_wrap\">\\n<a\\nhref=\"#\"\\nrole=\"button\"\\nclass=\"btn_popup _NM_NEWSSTAND_THUMB_subscribe_press\"\\ndata-pid=\"241\"\\ndata-clk=\"sub\"\\n>구독</a\\n>\\n<a\\nhref=\"#\"\\nrole=\"button\"\\nclass=\"btn_popup _NM_NEWSSTAND_THUMB_unsubscribe_press\"\\ndata-pid=\"241\"\\ndata-clk=\"unsub\"\\n>해지</a\\n>\\n<a\\nhref=\"http://newsstand.naver.com/?list=&pcode=241\"\\ntarget=\"_blank\"\\nclass=\"btn_popup\"\\ndata-clk=\"logo\"\\ndata-pid=\"241\"\\n>기사보기</a\\n>\\n</div>\\n</div>\\n<div\\nclass=\"thumb_box _NM_NEWSSTAND_THUMB _NM_NEWSSTAND_THUMB_press_valid\"\\ndata-pid=\"047\"\\n>\\n<a href=\"#\" class=\"thumb\">\\n<img\\nsrc=\"https://s.pstatic.net/static/newsstand/2020/logo/light/0604/047.png\"\\nheight=\"20\"\\nalt=\"오마이뉴스\"\\nclass=\"news_logo\"\\n/>\\n<span class=\"thumb_dim\"></span\\n></a>\\n<div class=\"popup_wrap\">\\n<a\\nhref=\"#\"\\nrole=\"button\"\\nclass=\"btn_popup _NM_NEWSSTAND_THUMB_subscribe_press\"\\ndata-pid=\"047\"\\ndata-clk=\"sub\"\\n>구독</a\\n>\\n<a\\nhref=\"#\"\\nrole=\"button\"\\nclass=\"btn_popup _NM_NEWSSTAND_THUMB_unsubscribe_press\"\\ndata-pid=\"047\"\\ndata-clk=\"unsub\"\\n>해지</a\\n>\\n<a\\nhref=\"http://newsstand.naver.com/?list=&pcode=047\"\\ntarget=\"_blank\"\\nclass=\"btn_popup\"\\ndata-clk=\"logo\"\\ndata-pid=\"047\"\\n>기사보기</a\\n>\\n</div>\\n</div>\\n<div\\nclass=\"thumb_box _NM_NEWSSTAND_THUMB _NM_NEWSSTAND_THUMB_press_valid\"\\ndata-pid=\"904\"\\n>\\n<a href=\"#\" class=\"thumb\">\\n<img\\nsrc=\"https://s.pstatic.net/static/newsstand/2020/logo/light/0604/904.png\"\\nheight=\"20\"\\nalt=\"JTBC\"\\nclass=\"news_logo\"\\n/>\\n<span class=\"thumb_dim\"></span\\n></a>\\n<div class=\"popup_wrap\">\\n<a\\nhref=\"#\"\\nrole=\"button\"\\nclass=\"btn_popup _NM_NEWSSTAND_THUMB_subscribe_press\"\\ndata-pid=\"904\"\\ndata-clk=\"sub\"\\n>구독</a\\n>\\n<a\\nhref=\"#\"\\nrole=\"button\"\\nclass=\"btn_popup _NM_NEWSSTAND_THUMB_unsubscribe_press\"\\ndata-pid=\"904\"\\ndata-clk=\"unsub\"\\n>해지</a\\n>\\n<a\\nhref=\"http://newsstand.naver.com/?list=&pcode=904\"\\ntarget=\"_blank\"\\nclass=\"btn_popup\"\\ndata-clk=\"logo\"\\ndata-pid=\"904\"\\n>기사보기</a\\n>\\n</div>\\n</div>\\n<div\\nclass=\"thumb_box _NM_NEWSSTAND_THUMB _NM_NEWSSTAND_THUMB_press_valid\"\\ndata-pid=\"021\"\\n>\\n<a href=\"#\" class=\"thumb\">\\n<img\\nsrc=\"https://s.pstatic.net/static/newsstand/2020/logo/light/0604/021.png\"\\nheight=\"20\"\\nalt=\"문화일보\"\\nclass=\"news_logo\"\\n/>\\n<span class=\"thumb_dim\"></span\\n></a>\\n<div class=\"popup_wrap\">\\n<a\\nhref=\"#\"\\nrole=\"button\"\\nclass=\"btn_popup _NM_NEWSSTAND_THUMB_subscribe_press\"\\ndata-pid=\"021\"\\ndata-clk=\"sub\"\\n>구독</a\\n>\\n<a\\nhref=\"#\"\\nrole=\"button\"\\nclass=\"btn_popup _NM_NEWSSTAND_THUMB_unsubscribe_press\"\\ndata-pid=\"021\"\\ndata-clk=\"unsub\"\\n>해지</a\\n>\\n<a\\nhref=\"http://newsstand.naver.com/?list=&pcode=021\"\\ntarget=\"_blank\"\\nclass=\"btn_popup\"\\ndata-clk=\"logo\"\\ndata-pid=\"021\"\\n>기사보기</a\\n>\\n</div>\\n</div>\\n<div\\nclass=\"thumb_box _NM_NEWSSTAND_THUMB _NM_NEWSSTAND_THUMB_press_valid\"\\ndata-pid=\"011\"\\n>\\n<a href=\"#\" class=\"thumb\">\\n<img\\nsrc=\"https://s.pstatic.net/static/newsstand/2020/logo/light/0604/011.png\"\\nheight=\"20\"\\nalt=\"서울경제\"\\nclass=\"news_logo\"\\n/>\\n<span class=\"thumb_dim\"></span\\n></a>\\n<div class=\"popup_wrap\">\\n<a\\nhref=\"#\"\\nrole=\"button\"\\nclass=\"btn_popup _NM_NEWSSTAND_THUMB_subscribe_press\"\\ndata-pid=\"011\"\\ndata-clk=\"sub\"\\n>구독</a\\n>\\n<a\\nhref=\"#\"\\nrole=\"button\"\\nclass=\"btn_popup _NM_NEWSSTAND_THUMB_unsubscribe_press\"\\ndata-pid=\"011\"\\ndata-clk=\"unsub\"\\n>해지</a\\n>\\n<a\\nhref=\"http://newsstand.naver.com/?list=&pcode=011\"\\ntarget=\"_blank\"\\nclass=\"btn_popup\"\\ndata-clk=\"logo\"\\ndata-pid=\"011\"\\n>기사보기</a\\n>\\n</div>\\n</div>\\n<div\\nclass=\"thumb_box _NM_NEWSSTAND_THUMB _NM_NEWSSTAND_THUMB_press_valid\"\\ndata-pid=\"022\"\\n>\\n<a href=\"#\" class=\"thumb\">\\n<img\\nsrc=\"https://s.pstatic.net/static/newsstand/2020/logo/light/0604/022.png\"\\nheight=\"20\"\\nalt=\"세계일보\"\\nclass=\"news_logo\"\\n/>\\n<span class=\"thumb_dim\"></span\\n></a>\\n<div class=\"popup_wrap\">\\n<a\\nhref=\"#\"\\nrole=\"button\"\\nclass=\"btn_popup _NM_NEWSSTAND_THUMB_subscribe_press\"\\ndata-pid=\"022\"\\ndata-clk=\"sub\"\\n>구독</a\\n>\\n<a\\nhref=\"#\"\\nrole=\"button\"\\nclass=\"btn_popup _NM_NEWSSTAND_THUMB_unsubscribe_press\"\\ndata-pid=\"022\"\\ndata-clk=\"unsub\"\\n>해지</a\\n>\\n<a\\nhref=\"http://newsstand.naver.com/?list=&pcode=022\"\\ntarget=\"_blank\"\\nclass=\"btn_popup\"\\ndata-clk=\"logo\"\\ndata-pid=\"022\"\\n>기사보기</a\\n>\\n</div>\\n</div>\\n<div\\nclass=\"thumb_box _NM_NEWSSTAND_THUMB _NM_NEWSSTAND_THUMB_press_valid\"\\ndata-pid=\"044\"\\n>\\n<a href=\"#\" class=\"thumb\">\\n<img\\nsrc=\"https://s.pstatic.net/static/newsstand/2020/logo/light/0604/044.png\"\\nheight=\"20\"\\nalt=\"코리아헤럴드\"\\nclass=\"news_logo\"\\n/>\\n<span class=\"thumb_dim\"></span\\n></a>\\n<div class=\"popup_wrap\">\\n<a\\nhref=\"#\"\\nrole=\"button\"\\nclass=\"btn_popup _NM_NEWSSTAND_THUMB_subscribe_press\"\\ndata-pid=\"044\"\\ndata-clk=\"sub\"\\n>구독</a\\n>\\n<a\\nhref=\"#\"\\nrole=\"button\"\\nclass=\"btn_popup _NM_NEWSSTAND_THUMB_unsubscribe_press\"\\ndata-pid=\"044\"\\ndata-clk=\"unsub\"\\n>해지</a\\n>\\n<a\\nhref=\"http://newsstand.naver.com/?list=&pcode=044\"\\ntarget=\"_blank\"\\nclass=\"btn_popup\"\\ndata-clk=\"logo\"\\ndata-pid=\"044\"\\n>기사보기</a\\n>\\n</div>\\n</div>\\n<div\\nclass=\"thumb_box _NM_NEWSSTAND_THUMB _NM_NEWSSTAND_THUMB_press_valid\"\\ndata-pid=\"005\"\\n>\\n<a href=\"#\" class=\"thumb\">\\n<img\\nsrc=\"https://s.pstatic.net/static/newsstand/2020/logo/light/0604/005.png\"\\nheight=\"20\"\\nalt=\"국민일보\"\\nclass=\"news_logo\"\\n/>\\n<span class=\"thumb_dim\"></span\\n></a>\\n<div class=\"popup_wrap\">\\n<a\\nhref=\"#\"\\nrole=\"button\"\\nclass=\"btn_popup _NM_NEWSSTAND_THUMB_subscribe_press\"\\ndata-pid=\"005\"\\ndata-clk=\"sub\"\\n>구독</a\\n>\\n<a\\nhref=\"#\"\\nrole=\"button\"\\nclass=\"btn_popup _NM_NEWSSTAND_THUMB_unsubscribe_press\"\\ndata-pid=\"005\"\\ndata-clk=\"unsub\"\\n>해지</a\\n>\\n<a\\nhref=\"http://newsstand.naver.com/?list=&pcode=005\"\\ntarget=\"_blank\"\\nclass=\"btn_popup\"\\ndata-clk=\"logo\"\\ndata-pid=\"005\"\\n>기사보기</a\\n>\\n</div>\\n</div>\\n<div\\nclass=\"thumb_box _NM_NEWSSTAND_THUMB _NM_NEWSSTAND_THUMB_press_valid\"\\ndata-pid=\"092\"\\n>\\n<a href=\"#\" class=\"thumb\">\\n<img\\nsrc=\"https://s.pstatic.net/static/newsstand/2020/logo/light/0604/092.png\"\\nheight=\"20\"\\nalt=\"지디넷코리아\"\\nclass=\"news_logo\"\\n/>\\n<span class=\"thumb_dim\"></span\\n></a>\\n<div class=\"popup_wrap\">\\n<a\\nhref=\"#\"\\nrole=\"button\"\\nclass=\"btn_popup _NM_NEWSSTAND_THUMB_subscribe_press\"\\ndata-pid=\"092\"\\ndata-clk=\"sub\"\\n>구독</a\\n>\\n<a\\nhref=\"#\"\\nrole=\"button\"\\nclass=\"btn_popup _NM_NEWSSTAND_THUMB_unsubscribe_press\"\\ndata-pid=\"092\"\\ndata-clk=\"unsub\"\\n>해지</a\\n>\\n<a\\nhref=\"http://newsstand.naver.com/?list=&pcode=092\"\\ntarget=\"_blank\"\\nclass=\"btn_popup\"\\ndata-clk=\"logo\"\\ndata-pid=\"092\"\\n>기사보기</a\\n>\\n</div>\\n</div>\\n<div\\nclass=\"thumb_box _NM_NEWSSTAND_THUMB _NM_NEWSSTAND_THUMB_press_valid\"\\ndata-pid=\"139\"\\n>\\n<a href=\"#\" class=\"thumb\">\\n<img\\nsrc=\"https://s.pstatic.net/static/newsstand/2020/logo/light/0604/139.png\"\\nheight=\"20\"\\nalt=\"스포탈코리아\"\\nclass=\"news_logo\"\\n/>\\n<span class=\"thumb_dim\"></span\\n></a>\\n<div class=\"popup_wrap\">\\n<a\\nhref=\"#\"\\nrole=\"button\"\\nclass=\"btn_popup _NM_NEWSSTAND_THUMB_subscribe_press\"\\ndata-pid=\"139\"\\ndata-clk=\"sub\"\\n>구독</a\\n>\\n<a\\nhref=\"#\"\\nrole=\"button\"\\nclass=\"btn_popup _NM_NEWSSTAND_THUMB_unsubscribe_press\"\\ndata-pid=\"139\"\\ndata-clk=\"unsub\"\\n>해지</a\\n>\\n<a\\nhref=\"http://newsstand.naver.com/?list=&pcode=139\"\\ntarget=\"_blank\"\\nclass=\"btn_popup\"\\ndata-clk=\"logo\"\\ndata-pid=\"139\"\\n>기사보기</a\\n>\\n</div>\\n</div>\\n<div\\nclass=\"thumb_box _NM_NEWSSTAND_THUMB _NM_NEWSSTAND_THUMB_press_valid\"\\ndata-pid=\"014\"\\n>\\n<a href=\"#\" class=\"thumb\">\\n<img\\nsrc=\"https://s.pstatic.net/static/newsstand/2020/logo/light/0604/014.png\"\\nheight=\"20\"\\nalt=\"파이낸셜뉴스\"\\nclass=\"news_logo\"\\n/>\\n<span class=\"thumb_dim\"></span\\n></a>\\n<div class=\"popup_wrap\">\\n<a\\nhref=\"#\"\\nrole=\"button\"\\nclass=\"btn_popup _NM_NEWSSTAND_THUMB_subscribe_press\"\\ndata-pid=\"014\"\\ndata-clk=\"sub\"\\n>구독</a\\n>\\n<a\\nhref=\"#\"\\nrole=\"button\"\\nclass=\"btn_popup _NM_NEWSSTAND_THUMB_unsubscribe_press\"\\ndata-pid=\"014\"\\ndata-clk=\"unsub\"\\n>해지</a\\n>\\n<a\\nhref=\"http://newsstand.naver.com/?list=&pcode=014\"\\ntarget=\"_blank\"\\nclass=\"btn_popup\"\\ndata-clk=\"logo\"\\ndata-pid=\"014\"\\n>기사보기</a\\n>\\n</div>\\n</div>\\n<div\\nclass=\"thumb_box _NM_NEWSSTAND_THUMB _NM_NEWSSTAND_THUMB_press_valid\"\\ndata-pid=\"368\"\\n>\\n<a href=\"#\" class=\"thumb\">\\n<img\\nsrc=\"https://s.pstatic.net/static/newsstand/2020/logo/light/0604/368.png\"\\nheight=\"20\"\\nalt=\"데일리안\"\\nclass=\"news_logo\"\\n/>\\n<span class=\"thumb_dim\"></span\\n></a>\\n<div class=\"popup_wrap\">\\n<a\\nhref=\"#\"\\nrole=\"button\"\\nclass=\"btn_popup _NM_NEWSSTAND_THUMB_subscribe_press\"\\ndata-pid=\"368\"\\ndata-clk=\"sub\"\\n>구독</a\\n>\\n<a\\nhref=\"#\"\\nrole=\"button\"\\nclass=\"btn_popup _NM_NEWSSTAND_THUMB_unsubscribe_press\"\\ndata-pid=\"368\"\\ndata-clk=\"unsub\"\\n>해지</a\\n>\\n<a\\nhref=\"http://newsstand.naver.com/?list=&pcode=368\"\\ntarget=\"_blank\"\\nclass=\"btn_popup\"\\ndata-clk=\"logo\"\\ndata-pid=\"368\"\\n>기사보기</a\\n>\\n</div>\\n</div>\\n<div\\nclass=\"thumb_box _NM_NEWSSTAND_THUMB _NM_NEWSSTAND_THUMB_press_valid\"\\ndata-pid=\"326\"\\n>\\n<a href=\"#\" class=\"thumb\">\\n<img\\nsrc=\"https://s.pstatic.net/static/newsstand/2020/logo/light/0604/326.png\"\\nheight=\"20\"\\nalt=\"KBS World\"\\nclass=\"news_logo\"\\n/>\\n<span class=\"thumb_dim\"></span\\n></a>\\n<div class=\"popup_wrap\">\\n<a\\nhref=\"#\"\\nrole=\"button\"\\nclass=\"btn_popup _NM_NEWSSTAND_THUMB_subscribe_press\"\\ndata-pid=\"326\"\\ndata-clk=\"sub\"\\n>구독</a\\n>\\n<a\\nhref=\"#\"\\nrole=\"button\"\\nclass=\"btn_popup _NM_NEWSSTAND_THUMB_unsubscribe_press\"\\ndata-pid=\"326\"\\ndata-clk=\"unsub\"\\n>해지</a\\n>\\n<a\\nhref=\"http://newsstand.naver.com/?list=&pcode=326\"\\ntarget=\"_blank\"\\nclass=\"btn_popup\"\\ndata-clk=\"logo\"\\ndata-pid=\"326\"\\n>기사보기</a\\n>\\n</div>\\n</div>\\n<div\\nclass=\"thumb_box _NM_NEWSSTAND_THUMB _NM_NEWSSTAND_THUMB_press_valid\"\\ndata-pid=\"337\"\\n>\\n<a href=\"#\" class=\"thumb\">\\n<img\\nsrc=\"https://s.pstatic.net/static/newsstand/2020/logo/light/0604/337.png\"\\nheight=\"20\"\\nalt=\"경북일보\"\\nclass=\"news_logo\"\\n/>\\n<span class=\"thumb_dim\"></span\\n></a>\\n<div class=\"popup_wrap\">\\n<a\\nhref=\"#\"\\nrole=\"button\"\\nclass=\"btn_popup _NM_NEWSSTAND_THUMB_subscribe_press\"\\ndata-pid=\"337\"\\ndata-clk=\"sub\"\\n>구독</a\\n>\\n<a\\nhref=\"#\"\\nrole=\"button\"\\nclass=\"btn_popup _NM_NEWSSTAND_THUMB_unsubscribe_press\"\\ndata-pid=\"337\"\\ndata-clk=\"unsub\"\\n>해지</a\\n>\\n<a\\nhref=\"http://newsstand.naver.com/?list=&pcode=337\"\\ntarget=\"_blank\"\\nclass=\"btn_popup\"\\ndata-clk=\"logo\"\\ndata-pid=\"337\"\\n>기사보기</a\\n>\\n</div>\\n</div>\\n<div\\nclass=\"thumb_box _NM_NEWSSTAND_THUMB _NM_NEWSSTAND_THUMB_press_valid\"\\ndata-pid=\"978\"\\n>\\n<a href=\"#\" class=\"thumb\">\\n<img\\nsrc=\"https://s.pstatic.net/static/newsstand/2020/logo/light/0604/978.png\"\\nheight=\"20\"\\nalt=\"경북도민일보\"\\nclass=\"news_logo\"\\n/>\\n<span class=\"thumb_dim\"></span\\n></a>\\n<div class=\"popup_wrap\">\\n<a\\nhref=\"#\"\\nrole=\"button\"\\nclass=\"btn_popup _NM_NEWSSTAND_THUMB_subscribe_press\"\\ndata-pid=\"978\"\\ndata-clk=\"sub\"\\n>구독</a\\n>\\n<a\\nhref=\"#\"\\nrole=\"button\"\\nclass=\"btn_popup _NM_NEWSSTAND_THUMB_unsubscribe_press\"\\ndata-pid=\"978\"\\ndata-clk=\"unsub\"\\n>해지</a\\n>\\n<a\\nhref=\"http://newsstand.naver.com/?list=&pcode=978\"\\ntarget=\"_blank\"\\nclass=\"btn_popup\"\\ndata-clk=\"logo\"\\ndata-pid=\"978\"\\n>기사보기</a\\n>\\n</div>\\n</div>\\n<div\\nclass=\"thumb_box _NM_NEWSSTAND_THUMB _NM_NEWSSTAND_THUMB_press_valid\"\\ndata-pid=\"936\"\\n>\\n<a href=\"#\" class=\"thumb\">\\n<img\\nsrc=\"https://s.pstatic.net/static/newsstand/2020/logo/light/0604/936.png\"\\nheight=\"20\"\\nalt=\"대구일보\"\\nclass=\"news_logo\"\\n/>\\n<span class=\"thumb_dim\"></span\\n></a>\\n<div class=\"popup_wrap\">\\n<a\\nhref=\"#\"\\nrole=\"button\"\\nclass=\"btn_popup _NM_NEWSSTAND_THUMB_subscribe_press\"\\ndata-pid=\"936\"\\ndata-clk=\"sub\"\\n>구독</a\\n>\\n<a\\nhref=\"#\"\\nrole=\"button\"\\nclass=\"btn_popup _NM_NEWSSTAND_THUMB_unsubscribe_press\"\\ndata-pid=\"936\"\\ndata-clk=\"unsub\"\\n>해지</a\\n>\\n<a\\nhref=\"http://newsstand.naver.com/?list=&pcode=936\"\\ntarget=\"_blank\"\\nclass=\"btn_popup\"\\ndata-clk=\"logo\"\\ndata-pid=\"936\"\\n>기사보기</a\\n>\\n</div>\\n</div>\\n<div\\nclass=\"thumb_box _NM_NEWSSTAND_THUMB _NM_NEWSSTAND_THUMB_press_valid\"\\ndata-pid=\"969\"\\n>\\n<a href=\"#\" class=\"thumb\">\\n<img\\nsrc=\"https://s.pstatic.net/static/newsstand/2020/logo/light/0604/969.png\"\\nheight=\"20\"\\nalt=\"매일노동뉴스\"\\nclass=\"news_logo\"\\n/>\\n<span class=\"thumb_dim\"></span\\n></a>\\n<div class=\"popup_wrap\">\\n<a\\nhref=\"#\"\\nrole=\"button\"\\nclass=\"btn_popup _NM_NEWSSTAND_THUMB_subscribe_press\"\\ndata-pid=\"969\"\\ndata-clk=\"sub\"\\n>구독</a\\n>\\n<a\\nhref=\"#\"\\nrole=\"button\"\\nclass=\"btn_popup _NM_NEWSSTAND_THUMB_unsubscribe_press\"\\ndata-pid=\"969\"\\ndata-clk=\"unsub\"\\n>해지</a\\n>\\n<a\\nhref=\"http://newsstand.naver.com/?list=&pcode=969\"\\ntarget=\"_blank\"\\nclass=\"btn_popup\"\\ndata-clk=\"logo\"\\ndata-pid=\"969\"\\n>기사보기</a\\n>\\n</div>\\n</div>\\n<div\\nclass=\"thumb_box _NM_NEWSSTAND_THUMB _NM_NEWSSTAND_THUMB_press_valid\"\\ndata-pid=\"967\"\\n>\\n<a href=\"#\" class=\"thumb\">\\n<img\\nsrc=\"https://s.pstatic.net/static/newsstand/2020/logo/light/0604/967.png\"\\nheight=\"20\"\\nalt=\"코리아쉬핑가제트\"\\nclass=\"news_logo\"\\n/>\\n<span class=\"thumb_dim\"></span\\n></a>\\n<div class=\"popup_wrap\">\\n<a\\nhref=\"#\"\\nrole=\"button\"\\nclass=\"btn_popup _NM_NEWSSTAND_THUMB_subscribe_press\"\\ndata-pid=\"967\"\\ndata-clk=\"sub\"\\n>구독</a\\n>\\n<a\\nhref=\"#\"\\nrole=\"button\"\\nclass=\"btn_popup _NM_NEWSSTAND_THUMB_unsubscribe_press\"\\ndata-pid=\"967\"\\ndata-clk=\"unsub\"\\n>해지</a\\n>\\n<a\\nhref=\"http://newsstand.naver.com/?list=&pcode=967\"\\ntarget=\"_blank\"\\nclass=\"btn_popup\"\\ndata-clk=\"logo\"\\ndata-pid=\"967\"\\n>기사보기</a\\n>\\n</div>\\n</div>\\n<div\\nclass=\"thumb_box _NM_NEWSSTAND_THUMB _NM_NEWSSTAND_THUMB_press_valid\"\\ndata-pid=\"811\"\\n>\\n<a href=\"#\" class=\"thumb\">\\n<img\\nsrc=\"https://s.pstatic.net/static/newsstand/2020/logo/light/0604/811.png\"\\nheight=\"20\"\\nalt=\"한국농어촌방송\"\\nclass=\"news_logo\"\\n/>\\n<span class=\"thumb_dim\"></span\\n></a>\\n<div class=\"popup_wrap\">\\n<a\\nhref=\"#\"\\nrole=\"button\"\\nclass=\"btn_popup _NM_NEWSSTAND_THUMB_subscribe_press\"\\ndata-pid=\"811\"\\ndata-clk=\"sub\"\\n>구독</a\\n>\\n<a\\nhref=\"#\"\\nrole=\"button\"\\nclass=\"btn_popup _NM_NEWSSTAND_THUMB_unsubscribe_press\"\\ndata-pid=\"811\"\\ndata-clk=\"unsub\"\\n>해지</a\\n>\\n<a\\nhref=\"http://newsstand.naver.com/?list=&pcode=811\"\\ntarget=\"_blank\"\\nclass=\"btn_popup\"\\ndata-clk=\"logo\"\\ndata-pid=\"811\"\\n>기사보기</a\\n>\\n</div>\\n</div>\\n<div\\nclass=\"thumb_box _NM_NEWSSTAND_THUMB _NM_NEWSSTAND_THUMB_press_valid\"\\ndata-pid=\"820\"\\n>\\n<a href=\"#\" class=\"thumb\">\\n<img\\nsrc=\"https://s.pstatic.net/static/newsstand/2020/logo/light/0604/820.png\"\\nheight=\"20\"\\nalt=\"월간노동법률\"\\nclass=\"news_logo\"\\n/>\\n<span class=\"thumb_dim\"></span\\n></a>\\n<div class=\"popup_wrap\">\\n<a\\nhref=\"#\"\\nrole=\"button\"\\nclass=\"btn_popup _NM_NEWSSTAND_THUMB_subscribe_press\"\\ndata-pid=\"820\"\\ndata-clk=\"sub\"\\n>구독</a\\n>\\n<a\\nhref=\"#\"\\nrole=\"button\"\\nclass=\"btn_popup _NM_NEWSSTAND_THUMB_unsubscribe_press\"\\ndata-pid=\"820\"\\ndata-clk=\"unsub\"\\n>해지</a\\n>\\n<a\\nhref=\"http://newsstand.naver.com/?list=&pcode=820\"\\ntarget=\"_blank\"\\nclass=\"btn_popup\"\\ndata-clk=\"logo\"\\ndata-pid=\"820\"\\n>기사보기</a\\n>\\n</div>\\n</div>\\n<div\\nclass=\"thumb_box _NM_NEWSSTAND_THUMB _NM_NEWSSTAND_THUMB_press_valid\"\\ndata-pid=\"340\"\\n>\\n<a href=\"#\" class=\"thumb\">\\n<img\\nsrc=\"https://s.pstatic.net/static/newsstand/2020/logo/light/0604/340.png\"\\nheight=\"20\"\\nalt=\"OBS\"\\nclass=\"news_logo\"\\n/>\\n<span class=\"thumb_dim\"></span\\n></a>\\n<div class=\"popup_wrap\">\\n<a\\nhref=\"#\"\\nrole=\"button\"\\nclass=\"btn_popup _NM_NEWSSTAND_THUMB_subscribe_press\"\\ndata-pid=\"340\"\\ndata-clk=\"sub\"\\n>구독</a\\n>\\n<a\\nhref=\"#\"\\nrole=\"button\"\\nclass=\"btn_popup _NM_NEWSSTAND_THUMB_unsubscribe_press\"\\ndata-pid=\"340\"\\ndata-clk=\"unsub\"\\n>해지</a\\n>\\n<a\\nhref=\"http://newsstand.naver.com/?list=&pcode=340\"\\ntarget=\"_blank\"\\nclass=\"btn_popup\"\\ndata-clk=\"logo\"\\ndata-pid=\"340\"\\n>기사보기</a\\n>\\n</div>\\n</div>\\n<div\\nclass=\"thumb_box _NM_NEWSSTAND_THUMB _NM_NEWSSTAND_THUMB_press_valid\"\\ndata-pid=\"819\"\\n>\\n<a href=\"#\" class=\"thumb\">\\n<img\\nsrc=\"https://s.pstatic.net/static/newsstand/2020/logo/light/0604/819.png\"\\nheight=\"20\"\\nalt=\"바이라인네트워크\"\\nclass=\"news_logo\"\\n/>\\n<span class=\"thumb_dim\"></span\\n></a>\\n<div class=\"popup_wrap\">\\n<a\\nhref=\"#\"\\nrole=\"button\"\\nclass=\"btn_popup _NM_NEWSSTAND_THUMB_subscribe_press\"\\ndata-pid=\"819\"\\ndata-clk=\"sub\"\\n>구독</a\\n>\\n<a\\nhref=\"#\"\\nrole=\"button\"\\nclass=\"btn_popup _NM_NEWSSTAND_THUMB_unsubscribe_press\"\\ndata-pid=\"819\"\\ndata-clk=\"unsub\"\\n>해지</a\\n>\\n<a\\nhref=\"http://newsstand.naver.com/?list=&pcode=819\"\\ntarget=\"_blank\"\\nclass=\"btn_popup\"\\ndata-clk=\"logo\"\\ndata-pid=\"819\"\\n>기사보기</a\\n>\\n</div>\\n</div>\\n</div>\\n</div>\\n</div>  </div> <div class=\"ly_popup NM_NEWSSTAND_POPUP NM_NEWSSTAND_invalid\" style=\"display:none\"> <a href=\"#\" role=\"button\" class=\"btn_close NM_NEWSSTAND_POPUP_CLOSE\"><i class=\"ico_close\"></i><span class=\"blind\">닫기</span></a> <p class=\"popup_msg\">해당 언론사 사정으로 접근이 일시 제한됩니다.</p> <div class=\"popup_btn\"> <a href=\"#\" role=\"button\" class=\"btn_confirm NM_NEWSSTAND_POPUP_CLOSE\">확인</a> </div> </div> <div class=\"ly_popup NM_NEWSSTAND_POPUP NM_NEWSSTAND_undescribe_confirm\" style=\"display:none\" data-clk-sub=\"*a\"> <a href=\"#\" role=\"button\" class=\"btn_close NM_NEWSSTAND_POPUP_CLOSE\" data-clk=\"usclose\"><i class=\"ico_close\"></i><span class=\"blind\">닫기</span></a> <p class=\"popup_msg\"><strong class=\"NM_NEWSSTAND_POPUP_PNAME\"></strong>을(를)<br/>구독해지 하시겠습니까?</p> <div class=\"popup_btn\"> <a href=\"#\" role=\"button\" class=\"btn_confirm NM_NEWSSTAND_POPUP_CONFIRM\" data-clk=\"usdone\">확인</a> <a href=\"#\" role=\"button\" class=\"btn_confirm NM_NEWSSTAND_POPUP_CLOSE\" data-clk=\"uscancel\">취소</a> </div> </div> <div class=\"ly_toast NM_NEWSSTAND_TOAST\" style=\"display:none\"> <p class=\"toast_msg\">구독한 언론사에 추가되었습니다.</p> </div> </div> <div id=\"NM_NEWSSTAND_MY_LIST\" class=\"group_news\" style=\"display:none\" data-clk-prefix=\"nsd_myn\"> <a href=\"#\" role=\"button\" class=\"pm_btn_prev_l _NM_NEWSSTAND_LIST_prev_btn\" data-clk-custom=\"prev\"><i class=\"ico_btn\"></i><span class=\"blind\">이전</span></a> <a href=\"#\" role=\"button\" class=\"pm_btn_next_l _NM_NEWSSTAND_LIST_next_btn\" data-clk-custom=\"next\"><i class=\"ico_btn\"></i><span class=\"blind\">다음</span><span class=\"blind\">다음</span></a> <div class=\"list_view\"> <div class=\"option_area\"> <div class=\"list_option_wrap\"> <ul class=\"list_option _NM_NEWSSTAND_MY_presslist\"> <!-- nvpaperlist:empty --> </ul> </div> </div> <div class=\"_NM_NEWSSTAND_ARTICLE_CONTAINER\" data-clk-sub=\"*a\">  </div> </div> <div class=\"ly_popup NM_NEWSSTAND_POPUP NM_NEWSSTAND_invalid\" style=\"display:none\"> <a href=\"#\" role=\"button\" class=\"btn_close NM_NEWSSTAND_POPUP_CLOSE\"><i class=\"ico_close\"></i><span class=\"blind\">닫기</span></a> <p class=\"popup_msg\">해당 언론사 사정으로 접근이 일시 제한됩니다.</p> <div class=\"popup_btn\"> <a href=\"#\" role=\"button\" class=\"btn_confirm NM_NEWSSTAND_POPUP_CLOSE\">확인</a> </div> </div> <div class=\"ly_popup NM_NEWSSTAND_POPUP NM_NEWSSTAND_undescribe_confirm\" style=\"display:none\" data-clk-sub=\"*a\"> <a href=\"#\" role=\"button\" class=\"btn_close NM_NEWSSTAND_POPUP_CLOSE\" data-clk=\"usclose\"><i class=\"ico_close\"></i><span class=\"blind\">닫기</span></a> <p class=\"popup_msg\"><strong class=\"NM_NEWSSTAND_POPUP_PNAME\"></strong>을(를)<br>구독해지 하시겠습니까?</p> <div class=\"popup_btn\"> <a href=\"#\" role=\"button\" class=\"btn_confirm NM_NEWSSTAND_POPUP_CONFIRM\" data-clk=\"usdone\">확인</a> <a href=\"#\" role=\"button\" class=\"btn_confirm NM_NEWSSTAND_POPUP_CLOSE\" data-clk=\"uscancel\">취소</a> </div> </div> </div> <div id=\"NM_NEWSSTAND_MY_THUMB\" class=\"group_news\" style=\"display:none\" data-clk-prefix=\"nsd_myn\"> <a href=\"#\" role=\"button\" class=\"pm_btn_prev_l _NM_UI_PAGE_PREV\" data-clk-custom=\"prev\"><i class=\"ico_btn\"><span class=\"blind\">이전</span></i></a> <a href=\"#\" role=\"button\" class=\"pm_btn_next_l _NM_UI_PAGE_NEXT\" data-clk-custom=\"next\"><i class=\"ico_btn\"><span class=\"blind\">다음</span></i></a> <div class=\"_NM_UI_PAGE_CONTAINER\" data-clk-sub=\"*p\"></div> <div class=\"ly_popup NM_NEWSSTAND_POPUP NM_NEWSSTAND_invalid\" style=\"display:none\"> <a href=\"#\" role=\"button\" class=\"btn_close NM_NEWSSTAND_POPUP_CLOSE\"><i class=\"ico_close\"></i><span class=\"blind\">닫기</span></a> <p class=\"popup_msg\">해당 언론사 사정으로 접근이 일시 제한됩니다.</p> <div class=\"popup_btn\"> <a href=\"#\" role=\"button\" class=\"btn_confirm NM_NEWSSTAND_POPUP_CLOSE\">확인</a> </div> </div> <div class=\"ly_popup NM_NEWSSTAND_POPUP NM_NEWSSTAND_undescribe_confirm\" style=\"display:none\" data-clk-sub=\"*a\"> <a href=\"#\" role=\"button\" class=\"btn_close NM_NEWSSTAND_POPUP_CLOSE\" data-clk=\"usclose\"><i class=\"ico_close\"></i><span class=\"blind\">닫기</span></a> <p class=\"popup_msg\"><strong class=\"NM_NEWSSTAND_POPUP_PNAME\"></strong>을(를)<br>구독해지 하시겠습니까?</p> <div class=\"popup_btn\"> <a href=\"#\" role=\"button\" class=\"btn_confirm NM_NEWSSTAND_POPUP_CONFIRM\" data-clk=\"usdone\">확인</a> <a href=\"#\" role=\"button\" class=\"btn_confirm NM_NEWSSTAND_POPUP_CLOSE\" data-clk=\"uscancel\">취소</a> </div> </div> </div> <div id=\"NM_NEWSSTAND_MY_EMPTY\" class=\"group_news\" style=\"display:none\"> <div class=\"error_view\"> <div class=\"error_area\"> <strong class=\"error_msg\">구독한 언론사가 없습니다.</strong> <p class=\"dsc_msg\">언론사 구독 설정에서 관심있는 언론사를 구독하시면<br>언론사가 직접 편집한 뉴스들을 네이버 홈에서 바로 보실 수 있습니다.</p> <a href=\"http://newsstand.naver.com/config.html\" class=\"link_redirect\" target=\"_blank\">언론사 구독 설정하기</a> </div> </div> </div> </div> </div> <!-- EMPTY --> <div id=\"NM_THEMECAST_CONTENTS_CONTAINER\"> <div id=\"themecast\" class=\"sc_themecast id_sports\" data-fixed=\"SPORTS\">\\n\\t<h2 class=\"blind\">주제별 캐스트</h2>\\n\\t<div class=\"theme_head\">\\n\\t\\t<div class=\"group_title\">\\n\\t<div class=\"title_area\">\\n\\t\\t<strong class=\"title\">오늘 읽을만한 글</strong><span class=\"dsc\">주제별로 분류된 다양한 글 모음</span>\\n\\t</div>\\n\\t<div class=\"info_area\">\\n\\t\\t\\n\\t\\t\\t<span class=\"info\"><strong class=\"new\">1,822</strong> 개의 글</span>\\n\\t\\t\\n\\t\\t<a id=\"NM_THEME_EDIT_SET\" href=\"#\" role=\"button\" class=\"btn_set\" data-clk=\"tca.like\">관심주제 설정</a>\\n\\t</div>\\n</div>\\n<div class=\"theme_fix_wrap\">\\n\\t<div id=\"NM_THEME_CATE_GROUPS\" class=\"group_category\" data-demo-key=\"default\">\\n\\t\\t<div class=\"main_category\">\\n\\t\\t\\t<a href=\"#\" role=\"button\" class=\"pm_btn_prev NM_THEME_PREV\" data-clk=\"tct.prev\" style=\"display: none;\">\\n\\t\\t\\t\\t<i class=\"ico_btn\"><span class=\"blind\">이전</span></i>\\n\\t\\t\\t</a>\\n\\t\\t\\t<a href=\"#\" role=\"button\" class=\"pm_btn_next NM_THEME_NEXT\" data-clk=\"tct.next\" style=\"display: none;\">\\n\\t\\t\\t\\t<i class=\"ico_btn\"><span class=\"blind\">다음</span></i>\\n\\t\\t\\t</a>\\n\\t\\t\\t<div id=\"NM_THEME_CATE_FLICK\" class=\"_NM_UI_PAGE_CONTAINER\" style=\"height: 49px; overflow: hidden;\">\\n\\t\\t\\t\\t\\n\\t\\t\\t\\t\\t<div style=\"width: 750px;\">\\n\\t\\t\\t\\t\\t\\t<ul class=\"list_category\" role=\"tablist\">\\n\\t\\t\\t\\t\\t\\t\\t\\n\\t\\t\\t\\t\\t\\t\\t\\t<li class=\"category_item\" role=\"presentation\">\\n\\t\\t\\t\\t\\t\\t\\t\\t\\t\\n\\t\\t\\t\\t\\t\\t\\t\\t\\t\\n\\t\\t\\t\\t\\t\\t\\t\\t\\t<a href=\"#\" role=\"tab\" class=\"_NM_THEME_CATE tab id_enter\"\\n\\t\\t\\t\\t\\t\\t\\t\\t\\t   aria-selected=\"false\"\\n\\t\\t\\t\\t\\t\\t\\t\\t\\t   data-clk=\"tct.tvc\" data-panel-code=\"ENTER\">엔터</a>\\n\\t\\t\\t\\t\\t\\t\\t\\t</li>\\n\\t\\t\\t\\t\\t\\t\\t\\n\\t\\t\\t\\t\\t\\t\\t\\t<li class=\"category_item\" role=\"presentation\">\\n\\t\\t\\t\\t\\t\\t\\t\\t\\t\\n\\t\\t\\t\\t\\t\\t\\t\\t\\t\\n\\t\\t\\t\\t\\t\\t\\t\\t\\t<a href=\"#\" role=\"tab\" class=\"_NM_THEME_CATE tab id_sports\"\\n\\t\\t\\t\\t\\t\\t\\t\\t\\t   aria-selected=\"true\"\\n\\t\\t\\t\\t\\t\\t\\t\\t\\t   data-clk=\"tct.spo\" data-panel-code=\"SPORTS\">스포츠</a>\\n\\t\\t\\t\\t\\t\\t\\t\\t</li>\\n\\t\\t\\t\\t\\t\\t\\t\\n\\t\\t\\t\\t\\t\\t\\t\\t<li class=\"category_item\" role=\"presentation\">\\n\\t\\t\\t\\t\\t\\t\\t\\t\\t\\n\\t\\t\\t\\t\\t\\t\\t\\t\\t\\n\\t\\t\\t\\t\\t\\t\\t\\t\\t<a href=\"#\" role=\"tab\" class=\"_NM_THEME_CATE tab id_cargame\"\\n\\t\\t\\t\\t\\t\\t\\t\\t\\t   aria-selected=\"false\"\\n\\t\\t\\t\\t\\t\\t\\t\\t\\t   data-clk=\"tct.aut\" data-panel-code=\"CARGAME\">자동차</a>\\n\\t\\t\\t\\t\\t\\t\\t\\t</li>\\n\\t\\t\\t\\t\\t\\t\\t\\n\\t\\t\\t\\t\\t\\t\\t\\t<li class=\"category_item\" role=\"presentation\">\\n\\t\\t\\t\\t\\t\\t\\t\\t\\t\\n\\t\\t\\t\\t\\t\\t\\t\\t\\t\\n\\t\\t\\t\\t\\t\\t\\t\\t\\t<a href=\"#\" role=\"tab\" class=\"_NM_THEME_CATE tab id_bboom\"\\n\\t\\t\\t\\t\\t\\t\\t\\t\\t   aria-selected=\"false\"\\n\\t\\t\\t\\t\\t\\t\\t\\t\\t   data-clk=\"tct.web\" data-panel-code=\"BBOOM\">웹툰</a>\\n\\t\\t\\t\\t\\t\\t\\t\\t</li>\\n\\t\\t\\t\\t\\t\\t\\t\\n\\t\\t\\t\\t\\t\\t\\t\\t<li class=\"category_item\" role=\"presentation\">\\n\\t\\t\\t\\t\\t\\t\\t\\t\\t\\n\\t\\t\\t\\t\\t\\t\\t\\t\\t\\n\\t\\t\\t\\t\\t\\t\\t\\t\\t<a href=\"#\" role=\"tab\" class=\"_NM_THEME_CATE tab id_finance\"\\n\\t\\t\\t\\t\\t\\t\\t\\t\\t   aria-selected=\"false\"\\n\\t\\t\\t\\t\\t\\t\\t\\t\\t   data-clk=\"tct.fin\" data-panel-code=\"FINANCE\">경제M</a>\\n\\t\\t\\t\\t\\t\\t\\t\\t</li>\\n\\t\\t\\t\\t\\t\\t\\t\\n\\t\\t\\t\\t\\t\\t\\t\\t<li class=\"category_item\" role=\"presentation\">\\n\\t\\t\\t\\t\\t\\t\\t\\t\\t\\n\\t\\t\\t\\t\\t\\t\\t\\t\\t\\n\\t\\t\\t\\t\\t\\t\\t\\t\\t<a href=\"#\" role=\"tab\" class=\"_NM_THEME_CATE tab id_living\"\\n\\t\\t\\t\\t\\t\\t\\t\\t\\t   aria-selected=\"false\"\\n\\t\\t\\t\\t\\t\\t\\t\\t\\t   data-clk=\"tct.fod\" data-panel-code=\"LIVING\">레시피</a>\\n\\t\\t\\t\\t\\t\\t\\t\\t</li>\\n\\t\\t\\t\\t\\t\\t\\t\\n\\t\\t\\t\\t\\t\\t\\t\\t<li class=\"category_item\" role=\"presentation\">\\n\\t\\t\\t\\t\\t\\t\\t\\t\\t\\n\\t\\t\\t\\t\\t\\t\\t\\t\\t\\n\\t\\t\\t\\t\\t\\t\\t\\t\\t<a href=\"#\" role=\"tab\" class=\"_NM_THEME_CATE tab id_gameapp\"\\n\\t\\t\\t\\t\\t\\t\\t\\t\\t   aria-selected=\"false\"\\n\\t\\t\\t\\t\\t\\t\\t\\t\\t   data-clk=\"tct.gam\" data-panel-code=\"GAMEAPP\">게임</a>\\n\\t\\t\\t\\t\\t\\t\\t\\t</li>\\n\\t\\t\\t\\t\\t\\t\\t\\n\\t\\t\\t\\t\\t\\t\\t\\t<li class=\"category_item\" role=\"presentation\">\\n\\t\\t\\t\\t\\t\\t\\t\\t\\t\\n\\t\\t\\t\\t\\t\\t\\t\\t\\t\\n\\t\\t\\t\\t\\t\\t\\t\\t\\t<a href=\"#\" role=\"tab\" class=\"_NM_THEME_CATE tab id_movie\"\\n\\t\\t\\t\\t\\t\\t\\t\\t\\t   aria-selected=\"false\"\\n\\t\\t\\t\\t\\t\\t\\t\\t\\t   data-clk=\"tct.mov\" data-panel-code=\"MOVIE\">영화</a>\\n\\t\\t\\t\\t\\t\\t\\t\\t</li>\\n\\t\\t\\t\\t\\t\\t\\t\\n\\t\\t\\t\\t\\t\\t</ul>\\n\\t\\t\\t\\t\\t</div>\\n\\t\\t\\t\\t\\n\\t\\t\\t\\t\\t<div style=\"width: 750px;\">\\n\\t\\t\\t\\t\\t\\t<ul class=\"list_category\" role=\"tablist\">\\n\\t\\t\\t\\t\\t\\t\\t\\n\\t\\t\\t\\t\\t\\t\\t\\t<li class=\"category_item\" role=\"presentation\">\\n\\t\\t\\t\\t\\t\\t\\t\\t\\t\\n\\t\\t\\t\\t\\t\\t\\t\\t\\t\\n\\t\\t\\t\\t\\t\\t\\t\\t\\t<a href=\"#\" role=\"tab\" class=\"_NM_THEME_CATE tab id_job\"\\n\\t\\t\\t\\t\\t\\t\\t\\t\\t   aria-selected=\"false\"\\n\\t\\t\\t\\t\\t\\t\\t\\t\\t   data-clk=\"tct.job\" data-panel-code=\"JOB\">JOB&amp;</a>\\n\\t\\t\\t\\t\\t\\t\\t\\t</li>\\n\\t\\t\\t\\t\\t\\t\\t\\n\\t\\t\\t\\t\\t\\t\\t\\t<li class=\"category_item\" role=\"presentation\">\\n\\t\\t\\t\\t\\t\\t\\t\\t\\t\\n\\t\\t\\t\\t\\t\\t\\t\\t\\t\\n\\t\\t\\t\\t\\t\\t\\t\\t\\t<a href=\"#\" role=\"tab\" class=\"_NM_THEME_CATE tab id_ittech\"\\n\\t\\t\\t\\t\\t\\t\\t\\t\\t   aria-selected=\"false\"\\n\\t\\t\\t\\t\\t\\t\\t\\t\\t   data-clk=\"tct.tec\" data-panel-code=\"ITTECH\">테크</a>\\n\\t\\t\\t\\t\\t\\t\\t\\t</li>\\n\\t\\t\\t\\t\\t\\t\\t\\n\\t\\t\\t\\t\\t\\t\\t\\t<li class=\"category_item\" role=\"presentation\">\\n\\t\\t\\t\\t\\t\\t\\t\\t\\t\\n\\t\\t\\t\\t\\t\\t\\t\\t\\t\\n\\t\\t\\t\\t\\t\\t\\t\\t\\t<a href=\"#\" role=\"tab\" class=\"_NM_THEME_CATE tab id_travel\"\\n\\t\\t\\t\\t\\t\\t\\t\\t\\t   aria-selected=\"false\"\\n\\t\\t\\t\\t\\t\\t\\t\\t\\t   data-clk=\"tct.tra\" data-panel-code=\"TRAVEL\">여행+</a>\\n\\t\\t\\t\\t\\t\\t\\t\\t</li>\\n\\t\\t\\t\\t\\t\\t\\t\\n\\t\\t\\t\\t\\t\\t\\t\\t<li class=\"category_item\" role=\"presentation\">\\n\\t\\t\\t\\t\\t\\t\\t\\t\\t\\n\\t\\t\\t\\t\\t\\t\\t\\t\\t\\n\\t\\t\\t\\t\\t\\t\\t\\t\\t<a href=\"#\" role=\"tab\" class=\"_NM_THEME_CATE tab id_science\"\\n\\t\\t\\t\\t\\t\\t\\t\\t\\t   aria-selected=\"false\"\\n\\t\\t\\t\\t\\t\\t\\t\\t\\t   data-clk=\"tct.sci\" data-panel-code=\"SCIENCE\">과학</a>\\n\\t\\t\\t\\t\\t\\t\\t\\t</li>\\n\\t\\t\\t\\t\\t\\t\\t\\n\\t\\t\\t\\t\\t\\t\\t\\t<li class=\"category_item\" role=\"presentation\">\\n\\t\\t\\t\\t\\t\\t\\t\\t\\t\\n\\t\\t\\t\\t\\t\\t\\t\\t\\t\\n\\t\\t\\t\\t\\t\\t\\t\\t\\t<a href=\"#\" role=\"tab\" class=\"_NM_THEME_CATE tab id_livinghome\"\\n\\t\\t\\t\\t\\t\\t\\t\\t\\t   aria-selected=\"false\"\\n\\t\\t\\t\\t\\t\\t\\t\\t\\t   data-clk=\"tct.lif\" data-panel-code=\"LIVINGHOME\">리빙</a>\\n\\t\\t\\t\\t\\t\\t\\t\\t</li>\\n\\t\\t\\t\\t\\t\\t\\t\\n\\t\\t\\t\\t\\t\\t\\t\\t<li class=\"category_item\" role=\"presentation\">\\n\\t\\t\\t\\t\\t\\t\\t\\t\\t\\n\\t\\t\\t\\t\\t\\t\\t\\t\\t\\n\\t\\t\\t\\t\\t\\t\\t\\t\\t<a href=\"#\" role=\"tab\" class=\"_NM_THEME_CATE tab id_health\"\\n\\t\\t\\t\\t\\t\\t\\t\\t\\t   aria-selected=\"false\"\\n\\t\\t\\t\\t\\t\\t\\t\\t\\t   data-clk=\"tct.hea\" data-panel-code=\"HEALTH\">건강</a>\\n\\t\\t\\t\\t\\t\\t\\t\\t</li>\\n\\t\\t\\t\\t\\t\\t\\t\\n\\t\\t\\t\\t\\t\\t\\t\\t<li class=\"category_item\" role=\"presentation\">\\n\\t\\t\\t\\t\\t\\t\\t\\t\\t\\n\\t\\t\\t\\t\\t\\t\\t\\t\\t\\n\\t\\t\\t\\t\\t\\t\\t\\t\\t<a href=\"#\" role=\"tab\" class=\"_NM_THEME_CATE tab id_business\"\\n\\t\\t\\t\\t\\t\\t\\t\\t\\t   aria-selected=\"false\"\\n\\t\\t\\t\\t\\t\\t\\t\\t\\t   data-clk=\"tct.bsn\" data-panel-code=\"BUSINESS\">비즈니스</a>\\n\\t\\t\\t\\t\\t\\t\\t\\t</li>\\n\\t\\t\\t\\t\\t\\t\\t\\n\\t\\t\\t\\t\\t\\t\\t\\t<li class=\"category_item\" role=\"presentation\">\\n\\t\\t\\t\\t\\t\\t\\t\\t\\t\\n\\t\\t\\t\\t\\t\\t\\t\\t\\t\\n\\t\\t\\t\\t\\t\\t\\t\\t\\t<a href=\"#\" role=\"tab\" class=\"_NM_THEME_CATE tab id_wedding\"\\n\\t\\t\\t\\t\\t\\t\\t\\t\\t   aria-selected=\"false\"\\n\\t\\t\\t\\t\\t\\t\\t\\t\\t   data-clk=\"tct.wed\" data-panel-code=\"WEDDING\">연애·결혼</a>\\n\\t\\t\\t\\t\\t\\t\\t\\t</li>\\n\\t\\t\\t\\t\\t\\t\\t\\n\\t\\t\\t\\t\\t\\t</ul>\\n\\t\\t\\t\\t\\t</div>\\n\\t\\t\\t\\t\\n\\t\\t\\t\\t\\t<div style=\"width: 750px;\">\\n\\t\\t\\t\\t\\t\\t<ul class=\"list_category\" role=\"tablist\">\\n\\t\\t\\t\\t\\t\\t\\t\\n\\t\\t\\t\\t\\t\\t\\t\\t<li class=\"category_item\" role=\"presentation\">\\n\\t\\t\\t\\t\\t\\t\\t\\t\\t\\n\\t\\t\\t\\t\\t\\t\\t\\t\\t\\n\\t\\t\\t\\t\\t\\t\\t\\t\\t<a href=\"#\" role=\"tab\" class=\"_NM_THEME_CATE tab id_culture\"\\n\\t\\t\\t\\t\\t\\t\\t\\t\\t   aria-selected=\"false\"\\n\\t\\t\\t\\t\\t\\t\\t\\t\\t   data-clk=\"tct.bok\" data-panel-code=\"CULTURE\">책방</a>\\n\\t\\t\\t\\t\\t\\t\\t\\t</li>\\n\\t\\t\\t\\t\\t\\t\\t\\n\\t\\t\\t\\t\\t\\t\\t\\t<li class=\"category_item\" role=\"presentation\">\\n\\t\\t\\t\\t\\t\\t\\t\\t\\t\\n\\t\\t\\t\\t\\t\\t\\t\\t\\t\\n\\t\\t\\t\\t\\t\\t\\t\\t\\t<a href=\"#\" role=\"tab\" class=\"_NM_THEME_CATE tab id_momkids\"\\n\\t\\t\\t\\t\\t\\t\\t\\t\\t   aria-selected=\"false\"\\n\\t\\t\\t\\t\\t\\t\\t\\t\\t   data-clk=\"tct.mom\" data-panel-code=\"MOMKIDS\">부모i</a>\\n\\t\\t\\t\\t\\t\\t\\t\\t</li>\\n\\t\\t\\t\\t\\t\\t\\t\\n\\t\\t\\t\\t\\t\\t\\t\\t<li class=\"category_item\" role=\"presentation\">\\n\\t\\t\\t\\t\\t\\t\\t\\t\\t\\n\\t\\t\\t\\t\\t\\t\\t\\t\\t\\n\\t\\t\\t\\t\\t\\t\\t\\t\\t<a href=\"#\" role=\"tab\" class=\"_NM_THEME_CATE tab id_law\"\\n\\t\\t\\t\\t\\t\\t\\t\\t\\t   aria-selected=\"false\"\\n\\t\\t\\t\\t\\t\\t\\t\\t\\t   data-clk=\"tct.law\" data-panel-code=\"LAW\">법률</a>\\n\\t\\t\\t\\t\\t\\t\\t\\t</li>\\n\\t\\t\\t\\t\\t\\t\\t\\n\\t\\t\\t\\t\\t\\t\\t\\t<li class=\"category_item\" role=\"presentation\">\\n\\t\\t\\t\\t\\t\\t\\t\\t\\t\\n\\t\\t\\t\\t\\t\\t\\t\\t\\t\\n\\t\\t\\t\\t\\t\\t\\t\\t\\t<a href=\"#\" role=\"tab\" class=\"_NM_THEME_CATE tab id_beauty\"\\n\\t\\t\\t\\t\\t\\t\\t\\t\\t   aria-selected=\"false\"\\n\\t\\t\\t\\t\\t\\t\\t\\t\\t   data-clk=\"tct.bty\" data-panel-code=\"BEAUTY\">패션뷰티</a>\\n\\t\\t\\t\\t\\t\\t\\t\\t</li>\\n\\t\\t\\t\\t\\t\\t\\t\\n\\t\\t\\t\\t\\t\\t\\t\\t<li class=\"category_item\" role=\"presentation\">\\n\\t\\t\\t\\t\\t\\t\\t\\t\\t\\n\\t\\t\\t\\t\\t\\t\\t\\t\\t\\n\\t\\t\\t\\t\\t\\t\\t\\t\\t<a href=\"#\" role=\"tab\" class=\"_NM_THEME_CATE tab id_animal\"\\n\\t\\t\\t\\t\\t\\t\\t\\t\\t   aria-selected=\"false\"\\n\\t\\t\\t\\t\\t\\t\\t\\t\\t   data-clk=\"tct.ani\" data-panel-code=\"ANIMAL\">동물공감</a>\\n\\t\\t\\t\\t\\t\\t\\t\\t</li>\\n\\t\\t\\t\\t\\t\\t\\t\\n\\t\\t\\t\\t\\t\\t\\t\\t<li class=\"category_item\" role=\"presentation\">\\n\\t\\t\\t\\t\\t\\t\\t\\t\\t\\n\\t\\t\\t\\t\\t\\t\\t\\t\\t\\n\\t\\t\\t\\t\\t\\t\\t\\t\\t<a href=\"#\" role=\"tab\" class=\"_NM_THEME_CATE tab id_design\"\\n\\t\\t\\t\\t\\t\\t\\t\\t\\t   aria-selected=\"false\"\\n\\t\\t\\t\\t\\t\\t\\t\\t\\t   data-clk=\"tct.des\" data-panel-code=\"DESIGN\">디자인</a>\\n\\t\\t\\t\\t\\t\\t\\t\\t</li>\\n\\t\\t\\t\\t\\t\\t\\t\\n\\t\\t\\t\\t\\t\\t\\t\\t<li class=\"category_item\" role=\"presentation\">\\n\\t\\t\\t\\t\\t\\t\\t\\t\\t\\n\\t\\t\\t\\t\\t\\t\\t\\t\\t\\n\\t\\t\\t\\t\\t\\t\\t\\t\\t<a href=\"#\" role=\"tab\" class=\"_NM_THEME_CATE tab id_china\"\\n\\t\\t\\t\\t\\t\\t\\t\\t\\t   aria-selected=\"false\"\\n\\t\\t\\t\\t\\t\\t\\t\\t\\t   data-clk=\"tct.chn\" data-panel-code=\"CHINA\">중국</a>\\n\\t\\t\\t\\t\\t\\t\\t\\t</li>\\n\\t\\t\\t\\t\\t\\t\\t\\n\\t\\t\\t\\t\\t\\t\\t\\t<li class=\"category_item\" role=\"presentation\">\\n\\t\\t\\t\\t\\t\\t\\t\\t\\t\\n\\t\\t\\t\\t\\t\\t\\t\\t\\t\\n\\t\\t\\t\\t\\t\\t\\t\\t\\t<a href=\"#\" role=\"tab\" class=\"_NM_THEME_CATE tab id_farm\"\\n\\t\\t\\t\\t\\t\\t\\t\\t\\t   aria-selected=\"false\"\\n\\t\\t\\t\\t\\t\\t\\t\\t\\t   data-clk=\"tct.far\" data-panel-code=\"FARM\">FARM</a>\\n\\t\\t\\t\\t\\t\\t\\t\\t</li>\\n\\t\\t\\t\\t\\t\\t\\t\\n\\t\\t\\t\\t\\t\\t</ul>\\n\\t\\t\\t\\t\\t</div>\\n\\t\\t\\t\\t\\n\\t\\t\\t\\t\\t<div style=\"width: 750px;\">\\n\\t\\t\\t\\t\\t\\t<ul class=\"list_category\" role=\"tablist\">\\n\\t\\t\\t\\t\\t\\t\\t\\n\\t\\t\\t\\t\\t\\t\\t\\t<li class=\"category_item\" role=\"presentation\">\\n\\t\\t\\t\\t\\t\\t\\t\\t\\t\\n\\t\\t\\t\\t\\t\\t\\t\\t\\t\\n\\t\\t\\t\\t\\t\\t\\t\\t\\t<a href=\"#\" role=\"tab\" class=\"_NM_THEME_CATE tab id_show\"\\n\\t\\t\\t\\t\\t\\t\\t\\t\\t   aria-selected=\"false\"\\n\\t\\t\\t\\t\\t\\t\\t\\t\\t   data-clk=\"tct.sow\" data-panel-code=\"SHOW\">공연전시</a>\\n\\t\\t\\t\\t\\t\\t\\t\\t</li>\\n\\t\\t\\t\\t\\t\\t\\t\\n\\t\\t\\t\\t\\t\\t\\t\\t<li class=\"category_item\" role=\"presentation\">\\n\\t\\t\\t\\t\\t\\t\\t\\t\\t\\n\\t\\t\\t\\t\\t\\t\\t\\t\\t\\n\\t\\t\\t\\t\\t\\t\\t\\t\\t<a href=\"#\" role=\"tab\" class=\"_NM_THEME_CATE tab id_with\"\\n\\t\\t\\t\\t\\t\\t\\t\\t\\t   aria-selected=\"false\"\\n\\t\\t\\t\\t\\t\\t\\t\\t\\t   data-clk=\"tct.pub\" data-panel-code=\"WITH\">함께N</a>\\n\\t\\t\\t\\t\\t\\t\\t\\t</li>\\n\\t\\t\\t\\t\\t\\t\\t\\n\\t\\t\\t\\t\\t\\t\\t\\t<li class=\"category_item\" role=\"presentation\">\\n\\t\\t\\t\\t\\t\\t\\t\\t\\t\\n\\t\\t\\t\\t\\t\\t\\t\\t\\t\\n\\t\\t\\t\\t\\t\\t\\t\\t\\t<a href=\"#\" role=\"tab\" class=\"_NM_THEME_CATE tab id_school\"\\n\\t\\t\\t\\t\\t\\t\\t\\t\\t   aria-selected=\"false\"\\n\\t\\t\\t\\t\\t\\t\\t\\t\\t   data-clk=\"tct.scl\" data-panel-code=\"SCHOOL\">스쿨잼</a>\\n\\t\\t\\t\\t\\t\\t\\t\\t</li>\\n\\t\\t\\t\\t\\t\\t\\t\\n\\t\\t\\t\\t\\t\\t</ul>\\n\\t\\t\\t\\t\\t</div>\\n\\t\\t\\t\\t\\n\\t\\t\\t</div>\\n\\t\\t</div>\\n\\t</div>\\n</div>\\n\\n\\t</div>\\n\\t<div class=\"theme_cont\" data-panel-code=\"SPORTS\">\\n\\t\\t\\n<div class=\"banner_olympic_wrap\" data-block-id=\"60e6cd01a10d3006857f90b7\" data-block-code=\"PC-SPORTS-OLYMPIC-TITLE\" data-block-type=\"PC-SPORTS-OLYMPIC-TITLE-BLOCK\" data-template-code=\"PC-SPORTS-OLYMPIC-TITLE\"\\n>\\n    <a href=\"https://m.sports.naver.com/tokyo2020/index\" class=\"banner_olympic\">\\n        \\n            <div class=\"title_area\">\\n                <h2 class=\"title\"><span class=\"blind\">TOKYO 2020</span></h2>\\n                \\n                    <div class=\"info_box\">\\n                        <span class=\"info\"><i class=\"ico_game\"><span class=\"blind\">대회</span></i><span class=\"date\">6</span><i class=\"ico_date_text\"><span class=\"blind\">일차</span></i></span>\\n                        <span class=\"info\"><i class=\"ico_current\"><span class=\"blind\">현재</span></i><span class=\"rank\">6</span><i class=\"ico_rank_text\"><span class=\"blind\">위</span></i></span>\\n                    </div>\\n                \\n            </div>\\n            \\n                <div class=\"medal_area\">\\n                    <span class=\"medal type_gold\"><span class=\"blind\">금메달</span><span class=\"medal_count\">3</span></span>\\n                    <span class=\"medal type_silver\"><span class=\"blind\">은메달</span><span class=\"medal_count\">2</span></span>\\n                    <span class=\"medal type_bronze\"><span class=\"blind\">동메달</span><span class=\"medal_count\">5</span></span>\\n                </div>\\n            \\n        \\n    </a>\\n</div>\\n<div class=\"group_topstory\" data-block-id=\"60f53681a10d300685c6f54d\" data-block-code=\"PC-SPORTS-IMAGE3-TEXT4\" data-block-type=\"PC-SPORTS-IMAGE3-TEXT4\" data-template-code=\"PC-SPORTS-IMAGE3-TEXT4\"\\n>\\n    \\n        \\n            <div class=\"topstory_inner\">\\n                <div class=\"topstory_view\">\\n                    <a href=\"https://m.sports.naver.com/video.nhn?id&#x3D;828882\" class=\"topstory_thumb\" target=\"_blank\"><img src=\"https://s.pstatic.net/dthumb.phinf/?src&#x3D;%22https%3A%2F%2Fsports-phinf.pstatic.net%2F%2F20210728_143%2F1627404696637cayv5_JPEG%2FQft1627403210179-1280-0.jpg%22&amp;type&#x3D;nf728_360&amp;service&#x3D;navermain\" alt=\"&#x27;이제 몸 풀렸다&#x27; 여자배구, 케냐 꺾고 첫 승 달성!\" width=\"364\" height=\"180\"><span class=\"thumb_dim\"></span><span class=\"thumb_bd\"></span>\\n                    \\n                        <i class=\"pm_ico_play\"><span class=\"blind\">재생</span></i>\\n                        <span class=\"theme_runtime\"><span class=\"runtime_bg\">재생시간</span><em class=\"time\">08:36</em></span>\\n                    \\n                    </a>\\n                    <a href=\"https://m.sports.naver.com/video.nhn?id&#x3D;828882\" class=\"topstory_info\" target=\"_blank\">\\n                        <strong class=\"title\">&#x27;이제 몸 풀렸다&#x27; 여자배구, 케냐 꺾고 첫 승 달성!</strong>\\n                        <p class=\"desc\"></p>\\n                        <div class=\"source_area\">\\n                            <span class=\"source\"><span class=\"source_inner\">2020도쿄올림픽</span></span>\\n                        </div>\\n                    </a>\\n                </div>\\n            </div>\\n        \\n        \\n            <div class=\"topstory_inner\">\\n                <div class=\"list_theme_wrap type_topstory\">\\n                    <ul class=\"list_theme\">\\n                        \\n                            <li class=\"theme_item\">\\n                                <a href=\"https://m.sports.naver.com/news.nhn?oid&#x3D;079&amp;aid&#x3D;0003534281\" class=\"theme_thumb\" target=\"_blank\"><img src=\"https://s.pstatic.net/dthumb.phinf/?src&#x3D;%22https%3A%2F%2Fimgnews.pstatic.net%2Fimage%2F079%2F2021%2F07%2F28%2F0003534281_001_20210728060214650.jpg%22&amp;type&#x3D;nf196_196&amp;service&#x3D;navermain\" alt=\"[축구] 김학범호, 온두라스와 3차전…5년 전 패배 설욕한다\" width=\"98\" height=\"98\"><span class=\"thumb_bd\"></span>\\n                                    \\n                                </a>\\n                                <a href=\"https://m.sports.naver.com/news.nhn?oid&#x3D;079&amp;aid&#x3D;0003534281\" class=\"theme_info\" target=\"_blank\">\\n                                    <strong class=\"title\">[축구] 김학범호, 온두라스와 3차전…5년 전 패배 설욕한다</strong>\\n                                    <div class=\"source_box\">\\n                                        <span class=\"source\"><span class=\"source_inner\">2020도쿄올림픽</span></span>\\n                                    </div>\\n                                </a>\\n                            </li>\\n                        \\n                            <li class=\"theme_item\">\\n                                <a href=\"https://m.sports.naver.com/news.nhn?oid&#x3D;477&amp;aid&#x3D;0000311482\" class=\"theme_thumb\" target=\"_blank\"><img src=\"https://s.pstatic.net/dthumb.phinf/?src&#x3D;%22https%3A%2F%2Fimgnews.pstatic.net%2Fimage%2F477%2F2021%2F07%2F28%2F0000311482_001_20210728060020765.jpg%22&amp;type&#x3D;nf196_196&amp;service&#x3D;navermain\" alt=\"[펜싱] &#x27;男 펜싱&#x27; 어벤져스 뜬다…사브르 단체전, 오늘 金 찌른다\" width=\"98\" height=\"98\"><span class=\"thumb_bd\"></span>\\n                                    \\n                                </a>\\n                                <a href=\"https://m.sports.naver.com/news.nhn?oid&#x3D;477&amp;aid&#x3D;0000311482\" class=\"theme_info\" target=\"_blank\">\\n                                    <strong class=\"title\">[펜싱] &#x27;男 펜싱&#x27; 어벤져스 뜬다…사브르 단체전, 오늘 金 찌른다</strong>\\n                                    <div class=\"source_box\">\\n                                        <span class=\"source\"><span class=\"source_inner\">2020도쿄올림픽</span></span>\\n                                    </div>\\n                                </a>\\n                            </li>\\n                        \\n                            <li class=\"theme_item\">\\n                                <a href=\"https://m.sports.naver.com/news.nhn?oid&#x3D;076&amp;aid&#x3D;0003759676\" class=\"theme_thumb\" target=\"_blank\"><img src=\"https://s.pstatic.net/dthumb.phinf/?src&#x3D;%22https%3A%2F%2Fimgnews.pstatic.net%2Fimage%2F076%2F2021%2F07%2F28%2F2021072801002159900138291_20210728053708581.jpg%22&amp;type&#x3D;nf196_196&amp;service&#x3D;navermain\" alt=\"[수영] 또 성장한 &#x27;수영괴물&#x27; 황선우, 자유형 100m에서 첫 金 정조준\" width=\"98\" height=\"98\"><span class=\"thumb_bd\"></span>\\n                                    \\n                                </a>\\n                                <a href=\"https://m.sports.naver.com/news.nhn?oid&#x3D;076&amp;aid&#x3D;0003759676\" class=\"theme_info\" target=\"_blank\">\\n                                    <strong class=\"title\">[수영] 또 성장한 &#x27;수영괴물&#x27; 황선우, 자유형 100m에서 첫 金 정조준</strong>\\n                                    <div class=\"source_box\">\\n                                        <span class=\"source\"><span class=\"source_inner\">2020도쿄올림픽</span></span>\\n                                    </div>\\n                                </a>\\n                            </li>\\n                        \\n                    </ul>\\n                </div>\\n            </div>\\n        \\n    \\n</div>\\n<div class=\"theme_link\" data-block-id=\"5d9a0792d296603fab1e97e9\" data-block-code=\"PC-THEME-SPORTS-SHORTCUT\" data-block-type=\"MATERIALS\" data-template-code=\"THEME-SHORTCUT\"\\n\\n\\t >\\n\\n\\t\\n\\t\\t<a href=\"https://sports.news.naver.com/index.nhn\" class=\"link_sports\" data-clk=\"tcc_spo.short1\" target=\"_blank\">스포츠 홈</a>\\n\\t\\n\\t<ul class=\"list_service\">\\n\\t\\t\\n\\t\\t\\t\\n\\t\\t\\n\\t\\t\\t\\n\\t\\t\\t\\t<li class=\"service_item\" data-gdid=\"PC-THEME-SPORTS-SHORTCUT[materials][1]\">\\n\\t\\t\\t\\t\\t<a href=\"https://sports.news.naver.com/kbaseball/index.nhn\" class=\"service\" data-clk=\"tcc_spo.short3\" target=\"_blank\">야구</a>\\n\\t\\t\\t\\t</li>\\n\\t\\t\\t\\n\\t\\t\\n\\t\\t\\t\\n\\t\\t\\t\\t<li class=\"service_item\" data-gdid=\"PC-THEME-SPORTS-SHORTCUT[materials][2]\">\\n\\t\\t\\t\\t\\t<a href=\"https://sports.news.naver.com/wbaseball/index.nhn\" class=\"service\" data-clk=\"tcc_spo.short4\" target=\"_blank\">해외야구</a>\\n\\t\\t\\t\\t</li>\\n\\t\\t\\t\\n\\t\\t\\n\\t\\t\\t\\n\\t\\t\\t\\t<li class=\"service_item\" data-gdid=\"PC-THEME-SPORTS-SHORTCUT[materials][3]\">\\n\\t\\t\\t\\t\\t<a href=\"https://sports.news.naver.com/kfootball/index.nhn\" class=\"service\" data-clk=\"tcc_spo.short5\" target=\"_blank\">축구</a>\\n\\t\\t\\t\\t</li>\\n\\t\\t\\t\\n\\t\\t\\n\\t\\t\\t\\n\\t\\t\\t\\t<li class=\"service_item\" data-gdid=\"PC-THEME-SPORTS-SHORTCUT[materials][4]\">\\n\\t\\t\\t\\t\\t<a href=\"https://sports.news.naver.com/wfootball/index.nhn\" class=\"service\" data-clk=\"tcc_spo.short6\" target=\"_blank\">해외축구</a>\\n\\t\\t\\t\\t</li>\\n\\t\\t\\t\\n\\t\\t\\n\\t\\t\\t\\n\\t\\t\\t\\t<li class=\"service_item\" data-gdid=\"PC-THEME-SPORTS-SHORTCUT[materials][5]\">\\n\\t\\t\\t\\t\\t<a href=\"https://sports.news.naver.com/basketball/index.nhn\" class=\"service\" data-clk=\"tcc_spo.short7\" target=\"_blank\">농구</a>\\n\\t\\t\\t\\t</li>\\n\\t\\t\\t\\n\\t\\t\\n\\t\\t\\t\\n\\t\\t\\t\\t<li class=\"service_item\" data-gdid=\"PC-THEME-SPORTS-SHORTCUT[materials][6]\">\\n\\t\\t\\t\\t\\t<a href=\"https://sports.news.naver.com/volleyball/index.nhn\" class=\"service\" data-clk=\"tcc_spo.short8\" target=\"_blank\">배구</a>\\n\\t\\t\\t\\t</li>\\n\\t\\t\\t\\n\\t\\t\\n\\t\\t\\t\\n\\t\\t\\t\\t<li class=\"service_item\" data-gdid=\"PC-THEME-SPORTS-SHORTCUT[materials][7]\">\\n\\t\\t\\t\\t\\t<a href=\"https://sports.news.naver.com/golf/index.nhn\" class=\"service\" data-clk=\"tcc_spo.short9\" target=\"_blank\">골프</a>\\n\\t\\t\\t\\t</li>\\n\\t\\t\\t\\n\\t\\t\\n\\t\\t\\t\\n\\t\\t\\t\\t<li class=\"service_item\" data-gdid=\"PC-THEME-SPORTS-SHORTCUT[materials][8]\">\\n\\t\\t\\t\\t\\t<a href=\"https://sports.news.naver.com/general/index.nhn\" class=\"service\" data-clk=\"tcc_spo.short10\" target=\"_blank\">일반</a>\\n\\t\\t\\t\\t</li>\\n\\t\\t\\t\\n\\t\\t\\n\\t\\t\\t\\n\\t\\t\\t\\t<li class=\"service_item\" data-gdid=\"PC-THEME-SPORTS-SHORTCUT[materials][9]\">\\n\\t\\t\\t\\t\\t<a href=\"https://game.naver.com/esports\" class=\"service\" data-clk=\"tcc_spo.short11\" target=\"_blank\">e스포츠</a>\\n\\t\\t\\t\\t</li>\\n\\t\\t\\t\\n\\t\\t\\n\\t</ul>\\n</div>\\n<div class=\"group_theme\" data-block-id=\"5da680b2d296603fab539f0d\" data-block-code=\"PC-THEME-SPORTS-NEWS9-0\" data-block-type=\"MATERIALS\" data-template-code=\"3X3\"\\n\\n\\t data-page=\"1\"\\n\\t >\\n\\n\\t<div class=\"media_view_wrap type_column\">\\n\\t\\t<div class=\"media_view\">\\n\\t\\t\\t\\n\\t\\t\\t\\t<a href=\"https://sports.news.naver.com/video.nhn?id&#x3D;828890\" class=\"media_area\" data-da-position=\"true\" data-gdid=\"PC-THEME-SPORTS-NEWS9-0[materials][0]\" data-clk=\"tcc_spo.list1cont1\" target=\"_blank\">\\n\\t\\t\\t\\t\\t<div class=\"media_thumb\">\\n\\t\\t\\t\\t\\t\\t<img src=\"https://s.pstatic.net/dthumb.phinf/?src&#x3D;%22https%3A%2F%2Fsports-phinf.pstatic.net%2Fadmin%2Fcrop%2F1627426696581.png%22&amp;type&#x3D;nf464_260\" data-src=\"https://s.pstatic.net/dthumb.phinf/?src&#x3D;%22https%3A%2F%2Fsports-phinf.pstatic.net%2Fadmin%2Fcrop%2F1627426696581.png%22&amp;type&#x3D;nf464_260\" alt=\"프로 스포츠 구단이 팬들을 화나게하면 벌어지는 일\" width=\"232\" height=\"130\">\\n\\n\\t\\t\\t\\t\\t\\t\\n\\t\\t\\t\\t\\t\\t\\t<span class=\"thumb_dim\"></span>\\n\\t\\t\\t\\t\\t\\t\\t<span class=\"thumb_bd\"></span>\\n\\t\\t\\t\\t\\t\\t\\t<i class=\"pm_ico_play\"><span class=\"blind\">재생</span></i>\\n\\t\\t\\t\\t\\t\\t\\t<span class=\"theme_runtime\"><span class=\"runtime_bg\">재생시간</span><em class=\"time\">03:11</em></span>\\n\\t\\t\\t\\t\\t\\t\\n\\t\\t\\t\\t\\t</div>\\n\\t\\t\\t\\t\\t<div class=\"media_info\">\\n\\t\\t\\t\\t\\t\\t<div class=\"info_box\">\\n\\t\\t\\t\\t\\t\\t\\t\\n\\t\\t\\t\\t\\t\\t\\t\\t<em class=\"theme_category\">핫클립</em>\\n\\t\\t\\t\\t\\t\\t\\t\\n\\t\\t\\t\\t\\t\\t\\t<strong class=\"title \">프로 스포츠 구단이 팬들을 화나게하면 벌어지는 일</strong>\\n\\t\\t\\t\\t\\t\\t\\t<div class=\"source_wrap\">\\n\\t\\t\\t\\t\\t\\t\\t\\t<span class=\"date\">2시간 전</span>\\n\\t\\t\\t\\t\\t\\t\\t\\t<span class=\"source\"><span class=\"source_inner\">GOAL TV</span></span>\\n\\t\\t\\t\\t\\t\\t\\t</div>\\n\\t\\t\\t\\t\\t\\t</div>\\n\\t\\t\\t\\t\\t</div>\\n\\t\\t\\t\\t</a>\\n\\t\\t\\t\\n\\t\\t\\t\\t<a href=\"https://sports.news.naver.com/video.nhn?id&#x3D;828889\" class=\"media_area\" data-da-position=\"true\" data-gdid=\"PC-THEME-SPORTS-NEWS9-0[materials][1]\" data-clk=\"tcc_spo.list1cont2\" target=\"_blank\">\\n\\t\\t\\t\\t\\t<div class=\"media_thumb\">\\n\\t\\t\\t\\t\\t\\t<img src=\"https://s.pstatic.net/dthumb.phinf/?src&#x3D;%22https%3A%2F%2Fsports-phinf.pstatic.net%2Fadmin%2Fcrop%2F1627424789089.png%22&amp;type&#x3D;nf464_260\" data-src=\"https://s.pstatic.net/dthumb.phinf/?src&#x3D;%22https%3A%2F%2Fsports-phinf.pstatic.net%2Fadmin%2Fcrop%2F1627424789089.png%22&amp;type&#x3D;nf464_260\" alt=\"선발승+결승타 또 만화야구…&#x27;100마일 강속구&#x27; 오타니 시즌 5승 달성 [스포츠타임]\" width=\"232\" height=\"130\">\\n\\n\\t\\t\\t\\t\\t\\t\\n\\t\\t\\t\\t\\t\\t\\t<span class=\"thumb_dim\"></span>\\n\\t\\t\\t\\t\\t\\t\\t<span class=\"thumb_bd\"></span>\\n\\t\\t\\t\\t\\t\\t\\t<i class=\"pm_ico_play\"><span class=\"blind\">재생</span></i>\\n\\t\\t\\t\\t\\t\\t\\t<span class=\"theme_runtime\"><span class=\"runtime_bg\">재생시간</span><em class=\"time\">01:47</em></span>\\n\\t\\t\\t\\t\\t\\t\\n\\t\\t\\t\\t\\t</div>\\n\\t\\t\\t\\t\\t<div class=\"media_info\">\\n\\t\\t\\t\\t\\t\\t<div class=\"info_box\">\\n\\t\\t\\t\\t\\t\\t\\t\\n\\t\\t\\t\\t\\t\\t\\t\\t<em class=\"theme_category\">리뷰</em>\\n\\t\\t\\t\\t\\t\\t\\t\\n\\t\\t\\t\\t\\t\\t\\t<strong class=\"title \">선발승+결승타 또 만화야구…\\'100마일 강속구\\' 오타니 시즌 5승 달성 [스포츠타임]</strong>\\n\\t\\t\\t\\t\\t\\t\\t<div class=\"source_wrap\">\\n\\t\\t\\t\\t\\t\\t\\t\\t<span class=\"date\">2시간 전</span>\\n\\t\\t\\t\\t\\t\\t\\t\\t<span class=\"source\"><span class=\"source_inner\">SPORTSTIME (스포츠타임)</span></span>\\n\\t\\t\\t\\t\\t\\t\\t</div>\\n\\t\\t\\t\\t\\t\\t</div>\\n\\t\\t\\t\\t\\t</div>\\n\\t\\t\\t\\t</a>\\n\\t\\t\\t\\n\\t\\t\\t\\t<a href=\"https://sports.news.naver.com/video.nhn?id&#x3D;828687\" class=\"media_area\" data-da-position=\"true\" data-gdid=\"PC-THEME-SPORTS-NEWS9-0[materials][2]\" data-clk=\"tcc_spo.list1cont3\" target=\"_blank\">\\n\\t\\t\\t\\t\\t<div class=\"media_thumb\">\\n\\t\\t\\t\\t\\t\\t<img src=\"https://s.pstatic.net/dthumb.phinf/?src&#x3D;%22https%3A%2F%2Fphinf.pstatic.net%2Ftvcast%2F20210727_289%2FjJfbX_1627378334924VU0bB_PNG%2F1627378300454.png%22&amp;type&#x3D;nf464_260\" data-src=\"https://s.pstatic.net/dthumb.phinf/?src&#x3D;%22https%3A%2F%2Fphinf.pstatic.net%2Ftvcast%2F20210727_289%2FjJfbX_1627378334924VU0bB_PNG%2F1627378300454.png%22&amp;type&#x3D;nf464_260\" alt=\"LG세이커스 VS 한양대 연습경기 스케치\" width=\"232\" height=\"130\">\\n\\n\\t\\t\\t\\t\\t\\t\\n\\t\\t\\t\\t\\t\\t\\t<span class=\"thumb_dim\"></span>\\n\\t\\t\\t\\t\\t\\t\\t<span class=\"thumb_bd\"></span>\\n\\t\\t\\t\\t\\t\\t\\t<i class=\"pm_ico_play\"><span class=\"blind\">재생</span></i>\\n\\t\\t\\t\\t\\t\\t\\t<span class=\"theme_runtime\"><span class=\"runtime_bg\">재생시간</span><em class=\"time\">03:30</em></span>\\n\\t\\t\\t\\t\\t\\t\\n\\t\\t\\t\\t\\t</div>\\n\\t\\t\\t\\t\\t<div class=\"media_info\">\\n\\t\\t\\t\\t\\t\\t<div class=\"info_box\">\\n\\t\\t\\t\\t\\t\\t\\t\\n\\t\\t\\t\\t\\t\\t\\t\\t<em class=\"theme_category\">구단특집</em>\\n\\t\\t\\t\\t\\t\\t\\t\\n\\t\\t\\t\\t\\t\\t\\t<strong class=\"title \">LG세이커스 VS 한양대 연습경기 스케치</strong>\\n\\t\\t\\t\\t\\t\\t\\t<div class=\"source_wrap\">\\n\\t\\t\\t\\t\\t\\t\\t\\t<span class=\"date\">14시간 전</span>\\n\\t\\t\\t\\t\\t\\t\\t\\t<span class=\"source\"><span class=\"source_inner\">LG세이커스_TV</span></span>\\n\\t\\t\\t\\t\\t\\t\\t</div>\\n\\t\\t\\t\\t\\t\\t</div>\\n\\t\\t\\t\\t\\t</div>\\n\\t\\t\\t\\t</a>\\n\\t\\t\\t\\n\\t\\t\\t\\t<a href=\"https://sports.news.naver.com/video.nhn?id&#x3D;828782\" class=\"media_area\" data-da-position=\"true\" data-gdid=\"PC-THEME-SPORTS-NEWS9-0[materials][3]\" data-clk=\"tcc_spo.list1cont4\" target=\"_blank\">\\n\\t\\t\\t\\t\\t<div class=\"media_thumb\">\\n\\t\\t\\t\\t\\t\\t<img src=\"https://s.pstatic.net/dthumb.phinf/?src&#x3D;%22https%3A%2F%2Fphinf.pstatic.net%2Ftvcast%2F20210727_159%2F4MQM8_16273852809742XwmK_JPEG%2F1627385221803.jpg%22&amp;type&#x3D;nf464_260\" data-src=\"https://s.pstatic.net/dthumb.phinf/?src&#x3D;%22https%3A%2F%2Fphinf.pstatic.net%2Ftvcast%2F20210727_159%2F4MQM8_16273852809742XwmK_JPEG%2F1627385221803.jpg%22&amp;type&#x3D;nf464_260\" alt=\"(대한민국vs온두라스 프리뷰) 반전 필요한 선수들 [달수네라이브]\" width=\"232\" height=\"130\">\\n\\n\\t\\t\\t\\t\\t\\t\\n\\t\\t\\t\\t\\t\\t\\t<span class=\"thumb_dim\"></span>\\n\\t\\t\\t\\t\\t\\t\\t<span class=\"thumb_bd\"></span>\\n\\t\\t\\t\\t\\t\\t\\t<i class=\"pm_ico_play\"><span class=\"blind\">재생</span></i>\\n\\t\\t\\t\\t\\t\\t\\t<span class=\"theme_runtime\"><span class=\"runtime_bg\">재생시간</span><em class=\"time\">11:35</em></span>\\n\\t\\t\\t\\t\\t\\t\\n\\t\\t\\t\\t\\t</div>\\n\\t\\t\\t\\t\\t<div class=\"media_info\">\\n\\t\\t\\t\\t\\t\\t<div class=\"info_box\">\\n\\t\\t\\t\\t\\t\\t\\t\\n\\t\\t\\t\\t\\t\\t\\t\\t<em class=\"theme_category\">핫클립</em>\\n\\t\\t\\t\\t\\t\\t\\t\\n\\t\\t\\t\\t\\t\\t\\t<strong class=\"title \">(대한민국vs온두라스 프리뷰) 반전 필요한 선수들 [달수네라이브]</strong>\\n\\t\\t\\t\\t\\t\\t\\t<div class=\"source_wrap\">\\n\\t\\t\\t\\t\\t\\t\\t\\t<span class=\"date\">12시간 전</span>\\n\\t\\t\\t\\t\\t\\t\\t\\t<span class=\"source\"><span class=\"source_inner\">달수네라이브</span></span>\\n\\t\\t\\t\\t\\t\\t\\t</div>\\n\\t\\t\\t\\t\\t\\t</div>\\n\\t\\t\\t\\t\\t</div>\\n\\t\\t\\t\\t</a>\\n\\t\\t\\t\\n\\t\\t\\t\\t<a href=\"https://sports.news.naver.com/video.nhn?id&#x3D;828784\" class=\"media_area\" data-da-position=\"true\" data-gdid=\"PC-THEME-SPORTS-NEWS9-0[materials][4]\" data-clk=\"tcc_spo.list1cont5\" target=\"_blank\">\\n\\t\\t\\t\\t\\t<div class=\"media_thumb\">\\n\\t\\t\\t\\t\\t\\t<img src=\"https://s.pstatic.net/dthumb.phinf/?src&#x3D;%22https%3A%2F%2Fphinf.pstatic.net%2Ftvcast%2F20210727_7%2F2R33R_1627386855055eYRzN_JPEG%2F1627386825772.jpg%22&amp;type&#x3D;nf464_260\" data-src=\"https://s.pstatic.net/dthumb.phinf/?src&#x3D;%22https%3A%2F%2Fphinf.pstatic.net%2Ftvcast%2F20210727_7%2F2R33R_1627386855055eYRzN_JPEG%2F1627386825772.jpg%22&amp;type&#x3D;nf464_260\" alt=\"서건창 선수가 팬 여러분들께 보내는 마지막 메시지\" width=\"232\" height=\"130\">\\n\\n\\t\\t\\t\\t\\t\\t\\n\\t\\t\\t\\t\\t\\t\\t<span class=\"thumb_dim\"></span>\\n\\t\\t\\t\\t\\t\\t\\t<span class=\"thumb_bd\"></span>\\n\\t\\t\\t\\t\\t\\t\\t<i class=\"pm_ico_play\"><span class=\"blind\">재생</span></i>\\n\\t\\t\\t\\t\\t\\t\\t<span class=\"theme_runtime\"><span class=\"runtime_bg\">재생시간</span><em class=\"time\">03:28</em></span>\\n\\t\\t\\t\\t\\t\\t\\n\\t\\t\\t\\t\\t</div>\\n\\t\\t\\t\\t\\t<div class=\"media_info\">\\n\\t\\t\\t\\t\\t\\t<div class=\"info_box\">\\n\\t\\t\\t\\t\\t\\t\\t\\n\\t\\t\\t\\t\\t\\t\\t\\t<em class=\"theme_category\">구단특집</em>\\n\\t\\t\\t\\t\\t\\t\\t\\n\\t\\t\\t\\t\\t\\t\\t<strong class=\"title \">서건창 선수가 팬 여러분들께 보내는 마지막 메시지</strong>\\n\\t\\t\\t\\t\\t\\t\\t<div class=\"source_wrap\">\\n\\t\\t\\t\\t\\t\\t\\t\\t<span class=\"date\">12시간 전</span>\\n\\t\\t\\t\\t\\t\\t\\t\\t<span class=\"source\"><span class=\"source_inner\">키움히어로즈</span></span>\\n\\t\\t\\t\\t\\t\\t\\t</div>\\n\\t\\t\\t\\t\\t\\t</div>\\n\\t\\t\\t\\t\\t</div>\\n\\t\\t\\t\\t</a>\\n\\t\\t\\t\\n\\t\\t\\t\\t<a href=\"https://sports.news.naver.com/video.nhn?id&#x3D;828781\" class=\"media_area\" data-da-position=\"true\" data-gdid=\"PC-THEME-SPORTS-NEWS9-0[materials][5]\" data-clk=\"tcc_spo.list1cont6\" target=\"_blank\">\\n\\t\\t\\t\\t\\t<div class=\"media_thumb\">\\n\\t\\t\\t\\t\\t\\t<img src=\"https://s.pstatic.net/dthumb.phinf/?src&#x3D;%22https%3A%2F%2Fphinf.pstatic.net%2Ftvcast%2F20210727_164%2F6VMgi_1627388374684vF7Ki_JPEG%2F700a4223-eed4-11eb-b07b-a0369ff94ec8_09.jpg%22&amp;type&#x3D;nf464_260\" data-src=\"https://s.pstatic.net/dthumb.phinf/?src&#x3D;%22https%3A%2F%2Fphinf.pstatic.net%2Ftvcast%2F20210727_164%2F6VMgi_1627388374684vF7Ki_JPEG%2F700a4223-eed4-11eb-b07b-a0369ff94ec8_09.jpg%22&amp;type&#x3D;nf464_260\" alt=\"토비가 토트넘 팬에게 남긴 마지막 메시지!\" width=\"232\" height=\"130\">\\n\\n\\t\\t\\t\\t\\t\\t\\n\\t\\t\\t\\t\\t\\t\\t<span class=\"thumb_dim\"></span>\\n\\t\\t\\t\\t\\t\\t\\t<span class=\"thumb_bd\"></span>\\n\\t\\t\\t\\t\\t\\t\\t<i class=\"pm_ico_play\"><span class=\"blind\">재생</span></i>\\n\\t\\t\\t\\t\\t\\t\\t<span class=\"theme_runtime\"><span class=\"runtime_bg\">재생시간</span><em class=\"time\">00:31</em></span>\\n\\t\\t\\t\\t\\t\\t\\n\\t\\t\\t\\t\\t</div>\\n\\t\\t\\t\\t\\t<div class=\"media_info\">\\n\\t\\t\\t\\t\\t\\t<div class=\"info_box\">\\n\\t\\t\\t\\t\\t\\t\\t\\n\\t\\t\\t\\t\\t\\t\\t\\t<em class=\"theme_category\">구단특집</em>\\n\\t\\t\\t\\t\\t\\t\\t\\n\\t\\t\\t\\t\\t\\t\\t<strong class=\"title \">토비가 토트넘 팬에게 남긴 마지막 메시지!</strong>\\n\\t\\t\\t\\t\\t\\t\\t<div class=\"source_wrap\">\\n\\t\\t\\t\\t\\t\\t\\t\\t<span class=\"date\">12시간 전</span>\\n\\t\\t\\t\\t\\t\\t\\t\\t<span class=\"source\"><span class=\"source_inner\">SPURS TV</span></span>\\n\\t\\t\\t\\t\\t\\t\\t</div>\\n\\t\\t\\t\\t\\t\\t</div>\\n\\t\\t\\t\\t\\t</div>\\n\\t\\t\\t\\t</a>\\n\\t\\t\\t\\n\\t\\t\\t\\t<a href=\"https://sports.news.naver.com/video.nhn?id&#x3D;828883\" class=\"media_area\" data-da-position=\"true\" data-gdid=\"PC-THEME-SPORTS-NEWS9-0[materials][6]\" data-clk=\"tcc_spo.list1cont7\" target=\"_blank\">\\n\\t\\t\\t\\t\\t<div class=\"media_thumb\">\\n\\t\\t\\t\\t\\t\\t<img src=\"https://s.pstatic.net/dthumb.phinf/?src&#x3D;%22https%3A%2F%2Fphinf.pstatic.net%2Ftvcast%2F20210728_246%2FHb1uw_1627406435032GRqJH_JPEG%2F1627406291470.jpg%22&amp;type&#x3D;nf464_260\" data-src=\"https://s.pstatic.net/dthumb.phinf/?src&#x3D;%22https%3A%2F%2Fphinf.pstatic.net%2Ftvcast%2F20210728_246%2FHb1uw_1627406435032GRqJH_JPEG%2F1627406291470.jpg%22&amp;type&#x3D;nf464_260\" alt=\"저스틴 로즈, 거리 감각 높이는 시계추 이론\" width=\"232\" height=\"130\">\\n\\n\\t\\t\\t\\t\\t\\t\\n\\t\\t\\t\\t\\t\\t\\t<span class=\"thumb_dim\"></span>\\n\\t\\t\\t\\t\\t\\t\\t<span class=\"thumb_bd\"></span>\\n\\t\\t\\t\\t\\t\\t\\t<i class=\"pm_ico_play\"><span class=\"blind\">재생</span></i>\\n\\t\\t\\t\\t\\t\\t\\t<span class=\"theme_runtime\"><span class=\"runtime_bg\">재생시간</span><em class=\"time\">05:27</em></span>\\n\\t\\t\\t\\t\\t\\t\\n\\t\\t\\t\\t\\t</div>\\n\\t\\t\\t\\t\\t<div class=\"media_info\">\\n\\t\\t\\t\\t\\t\\t<div class=\"info_box\">\\n\\t\\t\\t\\t\\t\\t\\t\\n\\t\\t\\t\\t\\t\\t\\t\\t<em class=\"theme_category\">특집영상</em>\\n\\t\\t\\t\\t\\t\\t\\t\\n\\t\\t\\t\\t\\t\\t\\t<strong class=\"title \">저스틴 로즈, 거리 감각 높이는 시계추 이론</strong>\\n\\t\\t\\t\\t\\t\\t\\t<div class=\"source_wrap\">\\n\\t\\t\\t\\t\\t\\t\\t\\t<span class=\"date\">7시간 전</span>\\n\\t\\t\\t\\t\\t\\t\\t\\t<span class=\"source\"><span class=\"source_inner\">GOLFTV X PGA TOUR</span></span>\\n\\t\\t\\t\\t\\t\\t\\t</div>\\n\\t\\t\\t\\t\\t\\t</div>\\n\\t\\t\\t\\t\\t</div>\\n\\t\\t\\t\\t</a>\\n\\t\\t\\t\\n\\t\\t\\t\\t<a href=\"https://sports.news.naver.com/video.nhn?id&#x3D;828551\" class=\"media_area\" data-da-position=\"true\" data-gdid=\"PC-THEME-SPORTS-NEWS9-0[materials][7]\" data-clk=\"tcc_spo.list1cont8\" target=\"_blank\">\\n\\t\\t\\t\\t\\t<div class=\"media_thumb\">\\n\\t\\t\\t\\t\\t\\t<img src=\"https://s.pstatic.net/dthumb.phinf/?src&#x3D;%22https%3A%2F%2Fsports-phinf.pstatic.net%2Fadmin%2Fcrop%2F1627372317527.png%22&amp;type&#x3D;nf464_260\" data-src=\"https://s.pstatic.net/dthumb.phinf/?src&#x3D;%22https%3A%2F%2Fsports-phinf.pstatic.net%2Fadmin%2Fcrop%2F1627372317527.png%22&amp;type&#x3D;nf464_260\" alt=\"박효준 전격 트레이드 피츠버그행! 더 가까워진 메이저리그 [스포츠타임]\" width=\"232\" height=\"130\">\\n\\n\\t\\t\\t\\t\\t\\t\\n\\t\\t\\t\\t\\t\\t\\t<span class=\"thumb_dim\"></span>\\n\\t\\t\\t\\t\\t\\t\\t<span class=\"thumb_bd\"></span>\\n\\t\\t\\t\\t\\t\\t\\t<i class=\"pm_ico_play\"><span class=\"blind\">재생</span></i>\\n\\t\\t\\t\\t\\t\\t\\t<span class=\"theme_runtime\"><span class=\"runtime_bg\">재생시간</span><em class=\"time\">02:11</em></span>\\n\\t\\t\\t\\t\\t\\t\\n\\t\\t\\t\\t\\t</div>\\n\\t\\t\\t\\t\\t<div class=\"media_info\">\\n\\t\\t\\t\\t\\t\\t<div class=\"info_box\">\\n\\t\\t\\t\\t\\t\\t\\t\\n\\t\\t\\t\\t\\t\\t\\t\\t<em class=\"theme_category\">핫클립</em>\\n\\t\\t\\t\\t\\t\\t\\t\\n\\t\\t\\t\\t\\t\\t\\t<strong class=\"title \">박효준 전격 트레이드 피츠버그행! 더 가까워진 메이저리그 [스포츠타임]</strong>\\n\\t\\t\\t\\t\\t\\t\\t<div class=\"source_wrap\">\\n\\t\\t\\t\\t\\t\\t\\t\\t<span class=\"date\">16시간 전</span>\\n\\t\\t\\t\\t\\t\\t\\t\\t<span class=\"source\"><span class=\"source_inner\">SPORTSTIME (스포츠타임)</span></span>\\n\\t\\t\\t\\t\\t\\t\\t</div>\\n\\t\\t\\t\\t\\t\\t</div>\\n\\t\\t\\t\\t\\t</div>\\n\\t\\t\\t\\t</a>\\n\\t\\t\\t\\n\\t\\t\\t\\t<a href=\"https://sports.news.naver.com/video.nhn?id&#x3D;828390\" class=\"media_area\" data-da-position=\"true\" data-gdid=\"PC-THEME-SPORTS-NEWS9-0[materials][8]\" data-clk=\"tcc_spo.list1cont9\" target=\"_blank\">\\n\\t\\t\\t\\t\\t<div class=\"media_thumb\">\\n\\t\\t\\t\\t\\t\\t<img src=\"https://s.pstatic.net/dthumb.phinf/?src&#x3D;%22https%3A%2F%2Fsports-phinf.pstatic.net%2Fadmin%2Fcrop%2F1627363409811.jpg%22&amp;type&#x3D;nf464_260\" data-src=\"https://s.pstatic.net/dthumb.phinf/?src&#x3D;%22https%3A%2F%2Fsports-phinf.pstatic.net%2Fadmin%2Fcrop%2F1627363409811.jpg%22&amp;type&#x3D;nf464_260\" alt=\"[김다나 레슨] 드라이버샷 중심축을 유지하며 백스윙하기\" width=\"232\" height=\"130\">\\n\\n\\t\\t\\t\\t\\t\\t\\n\\t\\t\\t\\t\\t\\t\\t<span class=\"thumb_dim\"></span>\\n\\t\\t\\t\\t\\t\\t\\t<span class=\"thumb_bd\"></span>\\n\\t\\t\\t\\t\\t\\t\\t<i class=\"pm_ico_play\"><span class=\"blind\">재생</span></i>\\n\\t\\t\\t\\t\\t\\t\\t<span class=\"theme_runtime\"><span class=\"runtime_bg\">재생시간</span><em class=\"time\">10:25</em></span>\\n\\t\\t\\t\\t\\t\\t\\n\\t\\t\\t\\t\\t</div>\\n\\t\\t\\t\\t\\t<div class=\"media_info\">\\n\\t\\t\\t\\t\\t\\t<div class=\"info_box\">\\n\\t\\t\\t\\t\\t\\t\\t\\n\\t\\t\\t\\t\\t\\t\\t\\t<em class=\"theme_category\">레슨</em>\\n\\t\\t\\t\\t\\t\\t\\t\\n\\t\\t\\t\\t\\t\\t\\t<strong class=\"title \">[김다나 레슨] 드라이버샷 중심축을 유지하며 백스윙하기</strong>\\n\\t\\t\\t\\t\\t\\t\\t<div class=\"source_wrap\">\\n\\t\\t\\t\\t\\t\\t\\t\\t<span class=\"date\">21시간 전</span>\\n\\t\\t\\t\\t\\t\\t\\t\\t<span class=\"source\"><span class=\"source_inner\">골프레슨 with SBS골프</span></span>\\n\\t\\t\\t\\t\\t\\t\\t</div>\\n\\t\\t\\t\\t\\t\\t</div>\\n\\t\\t\\t\\t\\t</div>\\n\\t\\t\\t\\t</a>\\n\\t\\t\\t\\n\\t\\t</div>\\n\\t</div>\\n</div>\\n<div class=\"group_theme\" data-block-id=\"5da680b2d296603fab539ee0\" data-block-code=\"PC-THEME-SPORTS-NEWS9-1\" data-block-type=\"MATERIALS\" data-template-code=\"3X3\"\\n\\n\\t data-page=\"1\"\\n\\t >\\n\\n\\t<div class=\"media_view_wrap type_column\">\\n\\t\\t<div class=\"media_view\">\\n\\t\\t\\t\\n\\t\\t\\t\\t<a href=\"https://m.shopping.naver.com/plan/details/515044\" class=\"media_area\" data-da-position=\"true\" data-gdid=\"PC-THEME-SPORTS-NEWS9-1[materials][0]\" data-clk=\"tcc_spo.list2cont1\" target=\"_blank\">\\n\\t\\t\\t\\t\\t<div class=\"media_thumb\">\\n\\t\\t\\t\\t\\t\\t<img src=\"https://s.pstatic.net/dthumb.phinf/?src&#x3D;%22https%3A%2F%2Fsports-phinf.pstatic.net%2F20210726_270%2F1627234651273QkeLS_JPEG%2F%25BD%25BA%25C5%25B8%25BF%25F6%25C1%25EE.jpg%22&amp;type&#x3D;nf464_260\" data-src=\"https://s.pstatic.net/dthumb.phinf/?src&#x3D;%22https%3A%2F%2Fsports-phinf.pstatic.net%2F20210726_270%2F1627234651273QkeLS_JPEG%2F%25BD%25BA%25C5%25B8%25BF%25F6%25C1%25EE.jpg%22&amp;type&#x3D;nf464_260\" alt=\"[기획전] 보이스캐디 X 스타워즈 콜라보 단독 혜택!\" width=\"232\" height=\"130\">\\n\\n\\t\\t\\t\\t\\t\\t\\n\\t\\t\\t\\t\\t\\t\\t<span class=\"thumb_bd\"></span>\\n\\t\\t\\t\\t\\t\\t\\n\\t\\t\\t\\t\\t</div>\\n\\t\\t\\t\\t\\t<div class=\"media_info\">\\n\\t\\t\\t\\t\\t\\t<div class=\"info_box\">\\n\\t\\t\\t\\t\\t\\t\\t\\n\\t\\t\\t\\t\\t\\t\\t\\t<em class=\"theme_category\">네이버스포츠</em>\\n\\t\\t\\t\\t\\t\\t\\t\\n\\t\\t\\t\\t\\t\\t\\t<strong class=\"title \">[기획전] 보이스캐디 X 스타워즈 콜라보 단독 혜택!</strong>\\n\\t\\t\\t\\t\\t\\t\\t<div class=\"source_wrap\">\\n\\t\\t\\t\\t\\t\\t\\t\\t<span class=\"date\">6일 전</span>\\n\\t\\t\\t\\t\\t\\t\\t\\t<span class=\"source\"><span class=\"source_inner\">네이버스포츠</span></span>\\n\\t\\t\\t\\t\\t\\t\\t</div>\\n\\t\\t\\t\\t\\t\\t</div>\\n\\t\\t\\t\\t\\t</div>\\n\\t\\t\\t\\t</a>\\n\\t\\t\\t\\n\\t\\t\\t\\t<a href=\"https://sports.news.naver.com/video.nhn?id&#x3D;828817\" class=\"media_area\" data-da-position=\"true\" data-gdid=\"PC-THEME-SPORTS-NEWS9-1[materials][1]\" data-clk=\"tcc_spo.list2cont2\" target=\"_blank\">\\n\\t\\t\\t\\t\\t<div class=\"media_thumb\">\\n\\t\\t\\t\\t\\t\\t<img src=\"https://s.pstatic.net/dthumb.phinf/?src&#x3D;%22https%3A%2F%2Fphinf.pstatic.net%2Ftvcast%2F20210727_96%2FtApCp_1627391810292w9eqg_JPEG%2F1627391765577.jpg%22&amp;type&#x3D;nf464_260\" data-src=\"https://s.pstatic.net/dthumb.phinf/?src&#x3D;%22https%3A%2F%2Fphinf.pstatic.net%2Ftvcast%2F20210727_96%2FtApCp_1627391810292w9eqg_JPEG%2F1627391765577.jpg%22&amp;type&#x3D;nf464_260\" alt=\"토트넘 떠나는 라멜라에게 영상편지(엽기적인 그녀 ver.)\" width=\"232\" height=\"130\">\\n\\n\\t\\t\\t\\t\\t\\t\\n\\t\\t\\t\\t\\t\\t\\t<span class=\"thumb_dim\"></span>\\n\\t\\t\\t\\t\\t\\t\\t<span class=\"thumb_bd\"></span>\\n\\t\\t\\t\\t\\t\\t\\t<i class=\"pm_ico_play\"><span class=\"blind\">재생</span></i>\\n\\t\\t\\t\\t\\t\\t\\t<span class=\"theme_runtime\"><span class=\"runtime_bg\">재생시간</span><em class=\"time\">03:26</em></span>\\n\\t\\t\\t\\t\\t\\t\\n\\t\\t\\t\\t\\t</div>\\n\\t\\t\\t\\t\\t<div class=\"media_info\">\\n\\t\\t\\t\\t\\t\\t<div class=\"info_box\">\\n\\t\\t\\t\\t\\t\\t\\t\\n\\t\\t\\t\\t\\t\\t\\t\\t<em class=\"theme_category\">핫클립</em>\\n\\t\\t\\t\\t\\t\\t\\t\\n\\t\\t\\t\\t\\t\\t\\t<strong class=\"title \">토트넘 떠나는 라멜라에게 영상편지(엽기적인 그녀 ver.)</strong>\\n\\t\\t\\t\\t\\t\\t\\t<div class=\"source_wrap\">\\n\\t\\t\\t\\t\\t\\t\\t\\t<span class=\"date\">11시간 전</span>\\n\\t\\t\\t\\t\\t\\t\\t\\t<span class=\"source\"><span class=\"source_inner\">김진짜 Real KIM</span></span>\\n\\t\\t\\t\\t\\t\\t\\t</div>\\n\\t\\t\\t\\t\\t\\t</div>\\n\\t\\t\\t\\t\\t</div>\\n\\t\\t\\t\\t</a>\\n\\t\\t\\t\\n\\t\\t\\t\\t<a href=\"https://sports.news.naver.com/video.nhn?id&#x3D;828826\" class=\"media_area\" data-da-position=\"true\" data-gdid=\"PC-THEME-SPORTS-NEWS9-1[materials][2]\" data-clk=\"tcc_spo.list2cont3\" target=\"_blank\">\\n\\t\\t\\t\\t\\t<div class=\"media_thumb\">\\n\\t\\t\\t\\t\\t\\t<img src=\"https://s.pstatic.net/dthumb.phinf/?src&#x3D;%22https%3A%2F%2Fsports-phinf.pstatic.net%2F%2F20210727_4%2F1627394265873p8Q9A_JPEG%2F610009e42f29ea6d6ba6b889_edit_1_1627392674012.jpg%22&amp;type&#x3D;nf464_260\" data-src=\"https://s.pstatic.net/dthumb.phinf/?src&#x3D;%22https%3A%2F%2Fsports-phinf.pstatic.net%2F%2F20210727_4%2F1627394265873p8Q9A_JPEG%2F610009e42f29ea6d6ba6b889_edit_1_1627392674012.jpg%22&amp;type&#x3D;nf464_260\" alt=\"이다빈의 첫 올림픽 메달! 여자 +67kg급 은메달 시상식 [KBS] [시상식]\" width=\"232\" height=\"130\">\\n\\n\\t\\t\\t\\t\\t\\t\\n\\t\\t\\t\\t\\t\\t\\t<span class=\"thumb_dim\"></span>\\n\\t\\t\\t\\t\\t\\t\\t<span class=\"thumb_bd\"></span>\\n\\t\\t\\t\\t\\t\\t\\t<i class=\"pm_ico_play\"><span class=\"blind\">재생</span></i>\\n\\t\\t\\t\\t\\t\\t\\t<span class=\"theme_runtime\"><span class=\"runtime_bg\">재생시간</span><em class=\"time\">02:55</em></span>\\n\\t\\t\\t\\t\\t\\t\\n\\t\\t\\t\\t\\t</div>\\n\\t\\t\\t\\t\\t<div class=\"media_info\">\\n\\t\\t\\t\\t\\t\\t<div class=\"info_box\">\\n\\t\\t\\t\\t\\t\\t\\t\\n\\t\\t\\t\\t\\t\\t\\t\\t<em class=\"theme_category\">시상식</em>\\n\\t\\t\\t\\t\\t\\t\\t\\n\\t\\t\\t\\t\\t\\t\\t<strong class=\"title \">이다빈의 첫 올림픽 메달! 여자 +67kg급 은메달 시상식 [KBS] [시상식]</strong>\\n\\t\\t\\t\\t\\t\\t\\t<div class=\"source_wrap\">\\n\\t\\t\\t\\t\\t\\t\\t\\t<span class=\"date\">10시간 전</span>\\n\\t\\t\\t\\t\\t\\t\\t\\t<span class=\"source\"><span class=\"source_inner\">태권도(도쿄올림픽)</span></span>\\n\\t\\t\\t\\t\\t\\t\\t</div>\\n\\t\\t\\t\\t\\t\\t</div>\\n\\t\\t\\t\\t\\t</div>\\n\\t\\t\\t\\t</a>\\n\\t\\t\\t\\n\\t\\t\\t\\t<a href=\"https://sports.news.naver.com/video.nhn?id&#x3D;828887\" class=\"media_area\" data-da-position=\"true\" data-gdid=\"PC-THEME-SPORTS-NEWS9-1[materials][3]\" data-clk=\"tcc_spo.list2cont4\" target=\"_blank\">\\n\\t\\t\\t\\t\\t<div class=\"media_thumb\">\\n\\t\\t\\t\\t\\t\\t<img src=\"https://s.pstatic.net/dthumb.phinf/?src&#x3D;%22https%3A%2F%2Fsports-phinf.pstatic.net%2F%2F20210728_296%2F1627409200778zlsYq_JPEG%2FicB1rNC3h2fw.jpg%22&amp;type&#x3D;nf464_260\" data-src=\"https://s.pstatic.net/dthumb.phinf/?src&#x3D;%22https%3A%2F%2Fsports-phinf.pstatic.net%2F%2F20210728_296%2F1627409200778zlsYq_JPEG%2FicB1rNC3h2fw.jpg%22&amp;type&#x3D;nf464_260\" alt=\"이 언니들 진짜 겁나 멋있음. 그래 이게 팀이지!! | 2020 도쿄올림픽 [KBS]\" width=\"232\" height=\"130\">\\n\\n\\t\\t\\t\\t\\t\\t\\n\\t\\t\\t\\t\\t\\t\\t<span class=\"thumb_dim\"></span>\\n\\t\\t\\t\\t\\t\\t\\t<span class=\"thumb_bd\"></span>\\n\\t\\t\\t\\t\\t\\t\\t<i class=\"pm_ico_play\"><span class=\"blind\">재생</span></i>\\n\\t\\t\\t\\t\\t\\t\\t<span class=\"theme_runtime\"><span class=\"runtime_bg\">재생시간</span><em class=\"time\">03:37</em></span>\\n\\t\\t\\t\\t\\t\\t\\n\\t\\t\\t\\t\\t</div>\\n\\t\\t\\t\\t\\t<div class=\"media_info\">\\n\\t\\t\\t\\t\\t\\t<div class=\"info_box\">\\n\\t\\t\\t\\t\\t\\t\\t\\n\\t\\t\\t\\t\\t\\t\\t\\t<em class=\"theme_category\">핫클립</em>\\n\\t\\t\\t\\t\\t\\t\\t\\n\\t\\t\\t\\t\\t\\t\\t<strong class=\"title \">이 언니들 진짜 겁나 멋있음. 그래 이게 팀이지!! | 2020 도쿄올림픽 [KBS]</strong>\\n\\t\\t\\t\\t\\t\\t\\t<div class=\"source_wrap\">\\n\\t\\t\\t\\t\\t\\t\\t\\t<span class=\"date\">6시간 전</span>\\n\\t\\t\\t\\t\\t\\t\\t\\t<span class=\"source\"><span class=\"source_inner\">펜싱(도쿄올림픽)</span></span>\\n\\t\\t\\t\\t\\t\\t\\t</div>\\n\\t\\t\\t\\t\\t\\t</div>\\n\\t\\t\\t\\t\\t</div>\\n\\t\\t\\t\\t</a>\\n\\t\\t\\t\\n\\t\\t\\t\\t<a href=\"https://sports.news.naver.com/video.nhn?id&#x3D;828876\" class=\"media_area\" data-da-position=\"true\" data-gdid=\"PC-THEME-SPORTS-NEWS9-1[materials][4]\" data-clk=\"tcc_spo.list2cont5\" target=\"_blank\">\\n\\t\\t\\t\\t\\t<div class=\"media_thumb\">\\n\\t\\t\\t\\t\\t\\t<img src=\"https://s.pstatic.net/dthumb.phinf/?src&#x3D;%22https%3A%2F%2Fphinf.pstatic.net%2Ftvcast%2F20210728_171%2FKdbUB_1627399826382KJFMS_PNG%2F1627399813035.png%22&amp;type&#x3D;nf464_260\" data-src=\"https://s.pstatic.net/dthumb.phinf/?src&#x3D;%22https%3A%2F%2Fphinf.pstatic.net%2Ftvcast%2F20210728_171%2FKdbUB_1627399826382KJFMS_PNG%2F1627399813035.png%22&amp;type&#x3D;nf464_260\" alt=\"②그립 어떻게 하는지 확실히 알려드립니다[골프과외-1인칭 시점 골프레슨]\" width=\"232\" height=\"130\">\\n\\n\\t\\t\\t\\t\\t\\t\\n\\t\\t\\t\\t\\t\\t\\t<span class=\"thumb_dim\"></span>\\n\\t\\t\\t\\t\\t\\t\\t<span class=\"thumb_bd\"></span>\\n\\t\\t\\t\\t\\t\\t\\t<i class=\"pm_ico_play\"><span class=\"blind\">재생</span></i>\\n\\t\\t\\t\\t\\t\\t\\t<span class=\"theme_runtime\"><span class=\"runtime_bg\">재생시간</span><em class=\"time\">03:22</em></span>\\n\\t\\t\\t\\t\\t\\t\\n\\t\\t\\t\\t\\t</div>\\n\\t\\t\\t\\t\\t<div class=\"media_info\">\\n\\t\\t\\t\\t\\t\\t<div class=\"info_box\">\\n\\t\\t\\t\\t\\t\\t\\t\\n\\t\\t\\t\\t\\t\\t\\t\\t<em class=\"theme_category\">레슨</em>\\n\\t\\t\\t\\t\\t\\t\\t\\n\\t\\t\\t\\t\\t\\t\\t<strong class=\"title \">②그립 어떻게 하는지 확실히 알려드립니다[골프과외-1인칭 시점 골프레슨]</strong>\\n\\t\\t\\t\\t\\t\\t\\t<div class=\"source_wrap\">\\n\\t\\t\\t\\t\\t\\t\\t\\t<span class=\"date\">8시간 전</span>\\n\\t\\t\\t\\t\\t\\t\\t\\t<span class=\"source\"><span class=\"source_inner\">ETgolf</span></span>\\n\\t\\t\\t\\t\\t\\t\\t</div>\\n\\t\\t\\t\\t\\t\\t</div>\\n\\t\\t\\t\\t\\t</div>\\n\\t\\t\\t\\t</a>\\n\\t\\t\\t\\n\\t\\t\\t\\t<a href=\"https://sports.news.naver.com/video.nhn?id&#x3D;828825\" class=\"media_area\" data-da-position=\"true\" data-gdid=\"PC-THEME-SPORTS-NEWS9-1[materials][5]\" data-clk=\"tcc_spo.list2cont6\" target=\"_blank\">\\n\\t\\t\\t\\t\\t<div class=\"media_thumb\">\\n\\t\\t\\t\\t\\t\\t<img src=\"https://s.pstatic.net/dthumb.phinf/?src&#x3D;%22https%3A%2F%2Fsports-phinf.pstatic.net%2F%2F20210727_180%2F16273939572438SLbC_JPEG%2F6lU1627392895228-1280-0.jpg%22&amp;type&#x3D;nf464_260\" data-src=\"https://s.pstatic.net/dthumb.phinf/?src&#x3D;%22https%3A%2F%2Fsports-phinf.pstatic.net%2F%2F20210727_180%2F16273939572438SLbC_JPEG%2F6lU1627392895228-1280-0.jpg%22&amp;type&#x3D;nf464_260\" alt=\"‘값진 은메달’ 이다빈 은메달 시상식 [＋67kg 결승] [SBS]\" width=\"232\" height=\"130\">\\n\\n\\t\\t\\t\\t\\t\\t\\n\\t\\t\\t\\t\\t\\t\\t<span class=\"thumb_dim\"></span>\\n\\t\\t\\t\\t\\t\\t\\t<span class=\"thumb_bd\"></span>\\n\\t\\t\\t\\t\\t\\t\\t<i class=\"pm_ico_play\"><span class=\"blind\">재생</span></i>\\n\\t\\t\\t\\t\\t\\t\\t<span class=\"theme_runtime\"><span class=\"runtime_bg\">재생시간</span><em class=\"time\">04:51</em></span>\\n\\t\\t\\t\\t\\t\\t\\n\\t\\t\\t\\t\\t</div>\\n\\t\\t\\t\\t\\t<div class=\"media_info\">\\n\\t\\t\\t\\t\\t\\t<div class=\"info_box\">\\n\\t\\t\\t\\t\\t\\t\\t\\n\\t\\t\\t\\t\\t\\t\\t\\t<em class=\"theme_category\">시상식</em>\\n\\t\\t\\t\\t\\t\\t\\t\\n\\t\\t\\t\\t\\t\\t\\t<strong class=\"title \">‘값진 은메달’ 이다빈 은메달 시상식 [＋67kg 결승] [SBS]</strong>\\n\\t\\t\\t\\t\\t\\t\\t<div class=\"source_wrap\">\\n\\t\\t\\t\\t\\t\\t\\t\\t<span class=\"date\">10시간 전</span>\\n\\t\\t\\t\\t\\t\\t\\t\\t<span class=\"source\"><span class=\"source_inner\">태권도 (도쿄올림픽)</span></span>\\n\\t\\t\\t\\t\\t\\t\\t</div>\\n\\t\\t\\t\\t\\t\\t</div>\\n\\t\\t\\t\\t\\t</div>\\n\\t\\t\\t\\t</a>\\n\\t\\t\\t\\n\\t\\t\\t\\t<a href=\"https://sports.news.naver.com/video.nhn?id&#x3D;828884\" class=\"media_area\" data-da-position=\"true\" data-gdid=\"PC-THEME-SPORTS-NEWS9-1[materials][6]\" data-clk=\"tcc_spo.list2cont7\" target=\"_blank\">\\n\\t\\t\\t\\t\\t<div class=\"media_thumb\">\\n\\t\\t\\t\\t\\t\\t<img src=\"https://s.pstatic.net/dthumb.phinf/?src&#x3D;%22https%3A%2F%2Fphinf.pstatic.net%2Ftvcast%2F20210728_256%2FJOVJI_1627407339527lkOnb_JPEG%2F1627407192000.jpg%22&amp;type&#x3D;nf464_260\" data-src=\"https://s.pstatic.net/dthumb.phinf/?src&#x3D;%22https%3A%2F%2Fphinf.pstatic.net%2Ftvcast%2F20210728_256%2FJOVJI_1627407339527lkOnb_JPEG%2F1627407192000.jpg%22&amp;type&#x3D;nf464_260\" alt=\"&#x27;메이저 사냥꾼&#x27; 브룩스 켑카 드라이버샷\" width=\"232\" height=\"130\">\\n\\n\\t\\t\\t\\t\\t\\t\\n\\t\\t\\t\\t\\t\\t\\t<span class=\"thumb_dim\"></span>\\n\\t\\t\\t\\t\\t\\t\\t<span class=\"thumb_bd\"></span>\\n\\t\\t\\t\\t\\t\\t\\t<i class=\"pm_ico_play\"><span class=\"blind\">재생</span></i>\\n\\t\\t\\t\\t\\t\\t\\t<span class=\"theme_runtime\"><span class=\"runtime_bg\">재생시간</span><em class=\"time\">01:08</em></span>\\n\\t\\t\\t\\t\\t\\t\\n\\t\\t\\t\\t\\t</div>\\n\\t\\t\\t\\t\\t<div class=\"media_info\">\\n\\t\\t\\t\\t\\t\\t<div class=\"info_box\">\\n\\t\\t\\t\\t\\t\\t\\t\\n\\t\\t\\t\\t\\t\\t\\t\\t<em class=\"theme_category\">특집영상</em>\\n\\t\\t\\t\\t\\t\\t\\t\\n\\t\\t\\t\\t\\t\\t\\t<strong class=\"title \">\\'메이저 사냥꾼\\' 브룩스 켑카 드라이버샷</strong>\\n\\t\\t\\t\\t\\t\\t\\t<div class=\"source_wrap\">\\n\\t\\t\\t\\t\\t\\t\\t\\t<span class=\"date\">6시간 전</span>\\n\\t\\t\\t\\t\\t\\t\\t\\t<span class=\"source\"><span class=\"source_inner\">GOLFTV X PGA TOUR</span></span>\\n\\t\\t\\t\\t\\t\\t\\t</div>\\n\\t\\t\\t\\t\\t\\t</div>\\n\\t\\t\\t\\t\\t</div>\\n\\t\\t\\t\\t</a>\\n\\t\\t\\t\\n\\t\\t\\t\\t<a href=\"https://sports.news.naver.com/video.nhn?id&#x3D;828888\" class=\"media_area\" data-da-position=\"true\" data-gdid=\"PC-THEME-SPORTS-NEWS9-1[materials][7]\" data-clk=\"tcc_spo.list2cont8\" target=\"_blank\">\\n\\t\\t\\t\\t\\t<div class=\"media_thumb\">\\n\\t\\t\\t\\t\\t\\t<img src=\"https://s.pstatic.net/dthumb.phinf/?src&#x3D;%22https%3A%2F%2Fsports-phinf.pstatic.net%2F20210728_95%2F1627423384256DprKQ_JPEG%2F%25BF%25C2%25B5%25CE%25B6%25F3%25BD%25BA%25C0%25FC_%25C6%25F7%25C5%25D0_%25BD%25E6%25B3%25D7%25C0%25CF.jpg%22&amp;type&#x3D;nf464_260\" data-src=\"https://s.pstatic.net/dthumb.phinf/?src&#x3D;%22https%3A%2F%2Fsports-phinf.pstatic.net%2F20210728_95%2F1627423384256DprKQ_JPEG%2F%25BF%25C2%25B5%25CE%25B6%25F3%25BD%25BA%25C0%25FC_%25C6%25F7%25C5%25D0_%25BD%25E6%25B3%25D7%25C0%25CF.jpg%22&amp;type&#x3D;nf464_260\" alt=\"손흥민의 눈물은 잊어라… 김학범호, 온두라스전 &#x27;승리-복수&#x27; 다 잡는다! [스포츠타임]\" width=\"232\" height=\"130\">\\n\\n\\t\\t\\t\\t\\t\\t\\n\\t\\t\\t\\t\\t\\t\\t<span class=\"thumb_dim\"></span>\\n\\t\\t\\t\\t\\t\\t\\t<span class=\"thumb_bd\"></span>\\n\\t\\t\\t\\t\\t\\t\\t<i class=\"pm_ico_play\"><span class=\"blind\">재생</span></i>\\n\\t\\t\\t\\t\\t\\t\\t<span class=\"theme_runtime\"><span class=\"runtime_bg\">재생시간</span><em class=\"time\">02:20</em></span>\\n\\t\\t\\t\\t\\t\\t\\n\\t\\t\\t\\t\\t</div>\\n\\t\\t\\t\\t\\t<div class=\"media_info\">\\n\\t\\t\\t\\t\\t\\t<div class=\"info_box\">\\n\\t\\t\\t\\t\\t\\t\\t\\n\\t\\t\\t\\t\\t\\t\\t\\t<em class=\"theme_category\">핫클립</em>\\n\\t\\t\\t\\t\\t\\t\\t\\n\\t\\t\\t\\t\\t\\t\\t<strong class=\"title \">손흥민의 눈물은 잊어라… 김학범호, 온두라스전 \\'승리-복수\\' 다 잡는다! [스포츠타임]</strong>\\n\\t\\t\\t\\t\\t\\t\\t<div class=\"source_wrap\">\\n\\t\\t\\t\\t\\t\\t\\t\\t<span class=\"date\">2시간 전</span>\\n\\t\\t\\t\\t\\t\\t\\t\\t<span class=\"source\"><span class=\"source_inner\">SPORTSTIME (스포츠타임)</span></span>\\n\\t\\t\\t\\t\\t\\t\\t</div>\\n\\t\\t\\t\\t\\t\\t</div>\\n\\t\\t\\t\\t\\t</div>\\n\\t\\t\\t\\t</a>\\n\\t\\t\\t\\n\\t\\t\\t\\t<a href=\"https://sports.news.naver.com/video.nhn?id&#x3D;828828\" class=\"media_area\" data-da-position=\"true\" data-gdid=\"PC-THEME-SPORTS-NEWS9-1[materials][8]\" data-clk=\"tcc_spo.list2cont9\" target=\"_blank\">\\n\\t\\t\\t\\t\\t<div class=\"media_thumb\">\\n\\t\\t\\t\\t\\t\\t<img src=\"https://s.pstatic.net/dthumb.phinf/?src&#x3D;%22https%3A%2F%2Fsports-phinf.pstatic.net%2F%2F20210727_2%2F162739451065072hF4_JPEG%2F61000c7eb284815c38ae6a04_edit_3_1627393364198.jpg%22&amp;type&#x3D;nf464_260\" data-src=\"https://s.pstatic.net/dthumb.phinf/?src&#x3D;%22https%3A%2F%2Fsports-phinf.pstatic.net%2F%2F20210727_2%2F162739451065072hF4_JPEG%2F61000c7eb284815c38ae6a04_edit_3_1627393364198.jpg%22&amp;type&#x3D;nf464_260\" alt=\"인간승리! 인교돈, 남자 +80kg급 동메달 시상식 [KBS] [시상식]\" width=\"232\" height=\"130\">\\n\\n\\t\\t\\t\\t\\t\\t\\n\\t\\t\\t\\t\\t\\t\\t<span class=\"thumb_dim\"></span>\\n\\t\\t\\t\\t\\t\\t\\t<span class=\"thumb_bd\"></span>\\n\\t\\t\\t\\t\\t\\t\\t<i class=\"pm_ico_play\"><span class=\"blind\">재생</span></i>\\n\\t\\t\\t\\t\\t\\t\\t<span class=\"theme_runtime\"><span class=\"runtime_bg\">재생시간</span><em class=\"time\">02:15</em></span>\\n\\t\\t\\t\\t\\t\\t\\n\\t\\t\\t\\t\\t</div>\\n\\t\\t\\t\\t\\t<div class=\"media_info\">\\n\\t\\t\\t\\t\\t\\t<div class=\"info_box\">\\n\\t\\t\\t\\t\\t\\t\\t\\n\\t\\t\\t\\t\\t\\t\\t\\t<em class=\"theme_category\">시상식</em>\\n\\t\\t\\t\\t\\t\\t\\t\\n\\t\\t\\t\\t\\t\\t\\t<strong class=\"title \">인간승리! 인교돈, 남자 +80kg급 동메달 시상식 [KBS] [시상식]</strong>\\n\\t\\t\\t\\t\\t\\t\\t<div class=\"source_wrap\">\\n\\t\\t\\t\\t\\t\\t\\t\\t<span class=\"date\">10시간 전</span>\\n\\t\\t\\t\\t\\t\\t\\t\\t<span class=\"source\"><span class=\"source_inner\">태권도(도쿄올림픽)</span></span>\\n\\t\\t\\t\\t\\t\\t\\t</div>\\n\\t\\t\\t\\t\\t\\t</div>\\n\\t\\t\\t\\t\\t</div>\\n\\t\\t\\t\\t</a>\\n\\t\\t\\t\\n\\t\\t</div>\\n\\t</div>\\n</div>\\n<div class=\"group_theme\" data-block-id=\"5da680b2d296603fab539ee1\" data-block-code=\"PC-THEME-SPORTS-NEWS9-2\" data-block-type=\"MATERIALS\" data-template-code=\"3X3\"\\n\\n\\t data-page=\"2\"\\n\\t style=\"display:none\">\\n\\n\\t<div class=\"media_view_wrap type_column\">\\n\\t\\t<div class=\"media_view\">\\n\\t\\t\\t\\n\\t\\t\\t\\t<a href=\"https://sports.news.naver.com/video.nhn?id&#x3D;828547\" class=\"media_area\" data-da-position=\"true\" data-gdid=\"PC-THEME-SPORTS-NEWS9-2[materials][0]\" data-clk=\"tcc_spo.list3cont1\" target=\"_blank\">\\n\\t\\t\\t\\t\\t<div class=\"media_thumb\">\\n\\t\\t\\t\\t\\t\\t<img  data-src=\"https://s.pstatic.net/dthumb.phinf/?src&#x3D;%22https%3A%2F%2Fsports-phinf.pstatic.net%2F%2F20210727_30%2F1627371698013UfKYP_JPEG%2Fclip_20210727162645_4.jpg%22&amp;type&#x3D;nf464_260\" alt=\"이보다 더 극적일 수 없다! 이다빈 결승 진출! [MBC]\" width=\"232\" height=\"130\">\\n\\n\\t\\t\\t\\t\\t\\t\\n\\t\\t\\t\\t\\t\\t\\t<span class=\"thumb_dim\"></span>\\n\\t\\t\\t\\t\\t\\t\\t<span class=\"thumb_bd\"></span>\\n\\t\\t\\t\\t\\t\\t\\t<i class=\"pm_ico_play\"><span class=\"blind\">재생</span></i>\\n\\t\\t\\t\\t\\t\\t\\t<span class=\"theme_runtime\"><span class=\"runtime_bg\">재생시간</span><em class=\"time\">01:25</em></span>\\n\\t\\t\\t\\t\\t\\t\\n\\t\\t\\t\\t\\t</div>\\n\\t\\t\\t\\t\\t<div class=\"media_info\">\\n\\t\\t\\t\\t\\t\\t<div class=\"info_box\">\\n\\t\\t\\t\\t\\t\\t\\t\\n\\t\\t\\t\\t\\t\\t\\t\\t<em class=\"theme_category\">주요장면</em>\\n\\t\\t\\t\\t\\t\\t\\t\\n\\t\\t\\t\\t\\t\\t\\t<strong class=\"title \">이보다 더 극적일 수 없다! 이다빈 결승 진출! [MBC]</strong>\\n\\t\\t\\t\\t\\t\\t\\t<div class=\"source_wrap\">\\n\\t\\t\\t\\t\\t\\t\\t\\t<span class=\"date\">16시간 전</span>\\n\\t\\t\\t\\t\\t\\t\\t\\t<span class=\"source\"><span class=\"source_inner\">태권도 (도쿄올림픽)</span></span>\\n\\t\\t\\t\\t\\t\\t\\t</div>\\n\\t\\t\\t\\t\\t\\t</div>\\n\\t\\t\\t\\t\\t</div>\\n\\t\\t\\t\\t</a>\\n\\t\\t\\t\\n\\t\\t\\t\\t<a href=\"https://sports.news.naver.com/video.nhn?id&#x3D;828528\" class=\"media_area\" data-da-position=\"true\" data-gdid=\"PC-THEME-SPORTS-NEWS9-2[materials][1]\" data-clk=\"tcc_spo.list3cont2\" target=\"_blank\">\\n\\t\\t\\t\\t\\t<div class=\"media_thumb\">\\n\\t\\t\\t\\t\\t\\t<img  data-src=\"https://s.pstatic.net/dthumb.phinf/?src&#x3D;%22https%3A%2F%2Fsports-phinf.pstatic.net%2F%2F20210727_34%2F1627390302655KmwUo_JPEG%2Fclip_20210727161038_1.jpg%22&amp;type&#x3D;nf464_260\" alt=\"김제덕 아쉬운 개인전 16강 진출 실패 [MBC]\" width=\"232\" height=\"130\">\\n\\n\\t\\t\\t\\t\\t\\t\\n\\t\\t\\t\\t\\t\\t\\t<span class=\"thumb_dim\"></span>\\n\\t\\t\\t\\t\\t\\t\\t<span class=\"thumb_bd\"></span>\\n\\t\\t\\t\\t\\t\\t\\t<i class=\"pm_ico_play\"><span class=\"blind\">재생</span></i>\\n\\t\\t\\t\\t\\t\\t\\t<span class=\"theme_runtime\"><span class=\"runtime_bg\">재생시간</span><em class=\"time\">01:16</em></span>\\n\\t\\t\\t\\t\\t\\t\\n\\t\\t\\t\\t\\t</div>\\n\\t\\t\\t\\t\\t<div class=\"media_info\">\\n\\t\\t\\t\\t\\t\\t<div class=\"info_box\">\\n\\t\\t\\t\\t\\t\\t\\t\\n\\t\\t\\t\\t\\t\\t\\t\\t<em class=\"theme_category\">주요장면</em>\\n\\t\\t\\t\\t\\t\\t\\t\\n\\t\\t\\t\\t\\t\\t\\t<strong class=\"title \">김제덕 아쉬운 개인전 16강 진출 실패 [MBC]</strong>\\n\\t\\t\\t\\t\\t\\t\\t<div class=\"source_wrap\">\\n\\t\\t\\t\\t\\t\\t\\t\\t<span class=\"date\">17시간 전</span>\\n\\t\\t\\t\\t\\t\\t\\t\\t<span class=\"source\"><span class=\"source_inner\">양궁 (도쿄올림픽)</span></span>\\n\\t\\t\\t\\t\\t\\t\\t</div>\\n\\t\\t\\t\\t\\t\\t</div>\\n\\t\\t\\t\\t\\t</div>\\n\\t\\t\\t\\t</a>\\n\\t\\t\\t\\n\\t\\t\\t\\t<a href=\"https://sports.news.naver.com/video.nhn?id&#x3D;828681\" class=\"media_area\" data-da-position=\"true\" data-gdid=\"PC-THEME-SPORTS-NEWS9-2[materials][2]\" data-clk=\"tcc_spo.list3cont3\" target=\"_blank\">\\n\\t\\t\\t\\t\\t<div class=\"media_thumb\">\\n\\t\\t\\t\\t\\t\\t<img  data-src=\"https://s.pstatic.net/dthumb.phinf/?src&#x3D;%22https%3A%2F%2Fsports-phinf.pstatic.net%2F%2F20210727_148%2F1627386702746M5JgR_JPEG%2Fjif1627381343409-1280-0.jpg%22&amp;type&#x3D;nf464_260\" alt=\"‘47.97’ 한국신기록! 역사를 써내려가는 황선우 [100m 자유형 예선] [SBS]\" width=\"232\" height=\"130\">\\n\\n\\t\\t\\t\\t\\t\\t\\n\\t\\t\\t\\t\\t\\t\\t<span class=\"thumb_dim\"></span>\\n\\t\\t\\t\\t\\t\\t\\t<span class=\"thumb_bd\"></span>\\n\\t\\t\\t\\t\\t\\t\\t<i class=\"pm_ico_play\"><span class=\"blind\">재생</span></i>\\n\\t\\t\\t\\t\\t\\t\\t<span class=\"theme_runtime\"><span class=\"runtime_bg\">재생시간</span><em class=\"time\">02:30</em></span>\\n\\t\\t\\t\\t\\t\\t\\n\\t\\t\\t\\t\\t</div>\\n\\t\\t\\t\\t\\t<div class=\"media_info\">\\n\\t\\t\\t\\t\\t\\t<div class=\"info_box\">\\n\\t\\t\\t\\t\\t\\t\\t\\n\\t\\t\\t\\t\\t\\t\\t\\t<em class=\"theme_category\">주요장면</em>\\n\\t\\t\\t\\t\\t\\t\\t\\n\\t\\t\\t\\t\\t\\t\\t<strong class=\"title \">‘47.97’ 한국신기록! 역사를 써내려가는 황선우 [100m 자유형 예선] [SBS]</strong>\\n\\t\\t\\t\\t\\t\\t\\t<div class=\"source_wrap\">\\n\\t\\t\\t\\t\\t\\t\\t\\t<span class=\"date\">13시간 전</span>\\n\\t\\t\\t\\t\\t\\t\\t\\t<span class=\"source\"><span class=\"source_inner\">수영 (도쿄올림픽)</span></span>\\n\\t\\t\\t\\t\\t\\t\\t</div>\\n\\t\\t\\t\\t\\t\\t</div>\\n\\t\\t\\t\\t\\t</div>\\n\\t\\t\\t\\t</a>\\n\\t\\t\\t\\n\\t\\t\\t\\t<a href=\"https://sports.news.naver.com/video.nhn?id&#x3D;828267\" class=\"media_area\" data-da-position=\"true\" data-gdid=\"PC-THEME-SPORTS-NEWS9-2[materials][3]\" data-clk=\"tcc_spo.list3cont4\" target=\"_blank\">\\n\\t\\t\\t\\t\\t<div class=\"media_thumb\">\\n\\t\\t\\t\\t\\t\\t<img  data-src=\"https://s.pstatic.net/dthumb.phinf/?src&#x3D;%22https%3A%2F%2Fsports-phinf.pstatic.net%2F%2F20210727_26%2F1627396896944lkgeB_JPEG%2Fclip_20210727105330_1.jpg%22&amp;type&#x3D;nf464_260\" alt=\"최선을 다한 황선우! 아쉬웠던 마지막 50M [자유형 200M 결승] [MBC]\" width=\"232\" height=\"130\">\\n\\n\\t\\t\\t\\t\\t\\t\\n\\t\\t\\t\\t\\t\\t\\t<span class=\"thumb_dim\"></span>\\n\\t\\t\\t\\t\\t\\t\\t<span class=\"thumb_bd\"></span>\\n\\t\\t\\t\\t\\t\\t\\t<i class=\"pm_ico_play\"><span class=\"blind\">재생</span></i>\\n\\t\\t\\t\\t\\t\\t\\t<span class=\"theme_runtime\"><span class=\"runtime_bg\">재생시간</span><em class=\"time\">02:30</em></span>\\n\\t\\t\\t\\t\\t\\t\\n\\t\\t\\t\\t\\t</div>\\n\\t\\t\\t\\t\\t<div class=\"media_info\">\\n\\t\\t\\t\\t\\t\\t<div class=\"info_box\">\\n\\t\\t\\t\\t\\t\\t\\t\\n\\t\\t\\t\\t\\t\\t\\t\\t<em class=\"theme_category\">주요장면</em>\\n\\t\\t\\t\\t\\t\\t\\t\\n\\t\\t\\t\\t\\t\\t\\t<strong class=\"title \">최선을 다한 황선우! 아쉬웠던 마지막 50M [자유형 200M 결승] [MBC]</strong>\\n\\t\\t\\t\\t\\t\\t\\t<div class=\"source_wrap\">\\n\\t\\t\\t\\t\\t\\t\\t\\t<span class=\"date\">22시간 전</span>\\n\\t\\t\\t\\t\\t\\t\\t\\t<span class=\"source\"><span class=\"source_inner\">수영 (도쿄올림픽)</span></span>\\n\\t\\t\\t\\t\\t\\t\\t</div>\\n\\t\\t\\t\\t\\t\\t</div>\\n\\t\\t\\t\\t\\t</div>\\n\\t\\t\\t\\t</a>\\n\\t\\t\\t\\n\\t\\t\\t\\t<a href=\"https://sports.news.naver.com/video.nhn?id&#x3D;828357\" class=\"media_area\" data-da-position=\"true\" data-gdid=\"PC-THEME-SPORTS-NEWS9-2[materials][4]\" data-clk=\"tcc_spo.list3cont5\" target=\"_blank\">\\n\\t\\t\\t\\t\\t<div class=\"media_thumb\">\\n\\t\\t\\t\\t\\t\\t<img  data-src=\"https://s.pstatic.net/dthumb.phinf/?src&#x3D;%22https%3A%2F%2Fsports-phinf.pstatic.net%2F%2F20210727_107%2F16273966093304Hhto_JPEG%2Fclip_20210727131359_11.jpg%22&amp;type&#x3D;nf464_260\" alt=\"첫 올림픽, 최선을 다한 황선우 경기 후 인터뷰 [자유형 200M 결승] [MBC]\" width=\"232\" height=\"130\">\\n\\n\\t\\t\\t\\t\\t\\t\\n\\t\\t\\t\\t\\t\\t\\t<span class=\"thumb_dim\"></span>\\n\\t\\t\\t\\t\\t\\t\\t<span class=\"thumb_bd\"></span>\\n\\t\\t\\t\\t\\t\\t\\t<i class=\"pm_ico_play\"><span class=\"blind\">재생</span></i>\\n\\t\\t\\t\\t\\t\\t\\t<span class=\"theme_runtime\"><span class=\"runtime_bg\">재생시간</span><em class=\"time\">01:30</em></span>\\n\\t\\t\\t\\t\\t\\t\\n\\t\\t\\t\\t\\t</div>\\n\\t\\t\\t\\t\\t<div class=\"media_info\">\\n\\t\\t\\t\\t\\t\\t<div class=\"info_box\">\\n\\t\\t\\t\\t\\t\\t\\t\\n\\t\\t\\t\\t\\t\\t\\t\\t<em class=\"theme_category\">인터뷰</em>\\n\\t\\t\\t\\t\\t\\t\\t\\n\\t\\t\\t\\t\\t\\t\\t<strong class=\"title \">첫 올림픽, 최선을 다한 황선우 경기 후 인터뷰 [자유형 200M 결승] [MBC]</strong>\\n\\t\\t\\t\\t\\t\\t\\t<div class=\"source_wrap\">\\n\\t\\t\\t\\t\\t\\t\\t\\t<span class=\"date\">20시간 전</span>\\n\\t\\t\\t\\t\\t\\t\\t\\t<span class=\"source\"><span class=\"source_inner\">수영 (도쿄올림픽)</span></span>\\n\\t\\t\\t\\t\\t\\t\\t</div>\\n\\t\\t\\t\\t\\t\\t</div>\\n\\t\\t\\t\\t\\t</div>\\n\\t\\t\\t\\t</a>\\n\\t\\t\\t\\n\\t\\t\\t\\t<a href=\"https://sports.news.naver.com/video.nhn?id&#x3D;828549\" class=\"media_area\" data-da-position=\"true\" data-gdid=\"PC-THEME-SPORTS-NEWS9-2[materials][5]\" data-clk=\"tcc_spo.list3cont6\" target=\"_blank\">\\n\\t\\t\\t\\t\\t<div class=\"media_thumb\">\\n\\t\\t\\t\\t\\t\\t<img  data-src=\"https://s.pstatic.net/dthumb.phinf/?src&#x3D;%22https%3A%2F%2Fsports-phinf.pstatic.net%2F%2F20210727_159%2F1627371704409nWd87_JPEG%2F60ffb382b284815c38ae4b1b_edit_1_1627370707183.jpg%22&amp;type&#x3D;nf464_260\" alt=\"‘이게 바로 탁구입니다’ 4:10에서 12:10을 만들어내는 정영식!! [KBS]\" width=\"232\" height=\"130\">\\n\\n\\t\\t\\t\\t\\t\\t\\n\\t\\t\\t\\t\\t\\t\\t<span class=\"thumb_dim\"></span>\\n\\t\\t\\t\\t\\t\\t\\t<span class=\"thumb_bd\"></span>\\n\\t\\t\\t\\t\\t\\t\\t<i class=\"pm_ico_play\"><span class=\"blind\">재생</span></i>\\n\\t\\t\\t\\t\\t\\t\\t<span class=\"theme_runtime\"><span class=\"runtime_bg\">재생시간</span><em class=\"time\">02:04</em></span>\\n\\t\\t\\t\\t\\t\\t\\n\\t\\t\\t\\t\\t</div>\\n\\t\\t\\t\\t\\t<div class=\"media_info\">\\n\\t\\t\\t\\t\\t\\t<div class=\"info_box\">\\n\\t\\t\\t\\t\\t\\t\\t\\n\\t\\t\\t\\t\\t\\t\\t\\t<em class=\"theme_category\">주요장면</em>\\n\\t\\t\\t\\t\\t\\t\\t\\n\\t\\t\\t\\t\\t\\t\\t<strong class=\"title \">‘이게 바로 탁구입니다’ 4:10에서 12:10을 만들어내는 정영식!! [KBS]</strong>\\n\\t\\t\\t\\t\\t\\t\\t<div class=\"source_wrap\">\\n\\t\\t\\t\\t\\t\\t\\t\\t<span class=\"date\">16시간 전</span>\\n\\t\\t\\t\\t\\t\\t\\t\\t<span class=\"source\"><span class=\"source_inner\">탁구(도쿄올림픽)</span></span>\\n\\t\\t\\t\\t\\t\\t\\t</div>\\n\\t\\t\\t\\t\\t\\t</div>\\n\\t\\t\\t\\t\\t</div>\\n\\t\\t\\t\\t</a>\\n\\t\\t\\t\\n\\t\\t\\t\\t<a href=\"https://sports.news.naver.com/video.nhn?id&#x3D;828506\" class=\"media_area\" data-da-position=\"true\" data-gdid=\"PC-THEME-SPORTS-NEWS9-2[materials][6]\" data-clk=\"tcc_spo.list3cont7\" target=\"_blank\">\\n\\t\\t\\t\\t\\t<div class=\"media_thumb\">\\n\\t\\t\\t\\t\\t\\t<img  data-src=\"https://s.pstatic.net/dthumb.phinf/?src&#x3D;%22https%3A%2F%2Fsports-phinf.pstatic.net%2F%2F20210727_253%2F1627395100827SxSe1_JPEG%2Fclip_20210727154923_0.jpg%22&amp;type&#x3D;nf464_260\" alt=\"&#x27;뜨거운 눈물&#x27; 김서영 경기 후 인터뷰 [개인혼영 200M] [MBC]\" width=\"232\" height=\"130\">\\n\\n\\t\\t\\t\\t\\t\\t\\n\\t\\t\\t\\t\\t\\t\\t<span class=\"thumb_dim\"></span>\\n\\t\\t\\t\\t\\t\\t\\t<span class=\"thumb_bd\"></span>\\n\\t\\t\\t\\t\\t\\t\\t<i class=\"pm_ico_play\"><span class=\"blind\">재생</span></i>\\n\\t\\t\\t\\t\\t\\t\\t<span class=\"theme_runtime\"><span class=\"runtime_bg\">재생시간</span><em class=\"time\">02:05</em></span>\\n\\t\\t\\t\\t\\t\\t\\n\\t\\t\\t\\t\\t</div>\\n\\t\\t\\t\\t\\t<div class=\"media_info\">\\n\\t\\t\\t\\t\\t\\t<div class=\"info_box\">\\n\\t\\t\\t\\t\\t\\t\\t\\n\\t\\t\\t\\t\\t\\t\\t\\t<em class=\"theme_category\">인터뷰</em>\\n\\t\\t\\t\\t\\t\\t\\t\\n\\t\\t\\t\\t\\t\\t\\t<strong class=\"title \">\\'뜨거운 눈물\\' 김서영 경기 후 인터뷰 [개인혼영 200M] [MBC]</strong>\\n\\t\\t\\t\\t\\t\\t\\t<div class=\"source_wrap\">\\n\\t\\t\\t\\t\\t\\t\\t\\t<span class=\"date\">17시간 전</span>\\n\\t\\t\\t\\t\\t\\t\\t\\t<span class=\"source\"><span class=\"source_inner\">수영 (도쿄올림픽)</span></span>\\n\\t\\t\\t\\t\\t\\t\\t</div>\\n\\t\\t\\t\\t\\t\\t</div>\\n\\t\\t\\t\\t\\t</div>\\n\\t\\t\\t\\t</a>\\n\\t\\t\\t\\n\\t\\t\\t\\t<a href=\"https://sports.news.naver.com/video.nhn?id&#x3D;828407\" class=\"media_area\" data-da-position=\"true\" data-gdid=\"PC-THEME-SPORTS-NEWS9-2[materials][7]\" data-clk=\"tcc_spo.list3cont8\" target=\"_blank\">\\n\\t\\t\\t\\t\\t<div class=\"media_thumb\">\\n\\t\\t\\t\\t\\t\\t<img  data-src=\"https://s.pstatic.net/dthumb.phinf/?src&#x3D;%22https%3A%2F%2Fsports-phinf.pstatic.net%2F%2F20210728_139%2F16274008034313PtSv_JPEG%2Fclip_20210727135046_3.jpg%22&amp;type&#x3D;nf464_260\" alt=\"마지막 까지 치열했던 경기, 정영식 16강 진출! [단식 3라운드] [MBC]\" width=\"232\" height=\"130\">\\n\\n\\t\\t\\t\\t\\t\\t\\n\\t\\t\\t\\t\\t\\t\\t<span class=\"thumb_dim\"></span>\\n\\t\\t\\t\\t\\t\\t\\t<span class=\"thumb_bd\"></span>\\n\\t\\t\\t\\t\\t\\t\\t<i class=\"pm_ico_play\"><span class=\"blind\">재생</span></i>\\n\\t\\t\\t\\t\\t\\t\\t<span class=\"theme_runtime\"><span class=\"runtime_bg\">재생시간</span><em class=\"time\">02:33</em></span>\\n\\t\\t\\t\\t\\t\\t\\n\\t\\t\\t\\t\\t</div>\\n\\t\\t\\t\\t\\t<div class=\"media_info\">\\n\\t\\t\\t\\t\\t\\t<div class=\"info_box\">\\n\\t\\t\\t\\t\\t\\t\\t\\n\\t\\t\\t\\t\\t\\t\\t\\t<em class=\"theme_category\">주요장면</em>\\n\\t\\t\\t\\t\\t\\t\\t\\n\\t\\t\\t\\t\\t\\t\\t<strong class=\"title \">마지막 까지 치열했던 경기, 정영식 16강 진출! [단식 3라운드] [MBC]</strong>\\n\\t\\t\\t\\t\\t\\t\\t<div class=\"source_wrap\">\\n\\t\\t\\t\\t\\t\\t\\t\\t<span class=\"date\">19시간 전</span>\\n\\t\\t\\t\\t\\t\\t\\t\\t<span class=\"source\"><span class=\"source_inner\">탁구 (도쿄올림픽)</span></span>\\n\\t\\t\\t\\t\\t\\t\\t</div>\\n\\t\\t\\t\\t\\t\\t</div>\\n\\t\\t\\t\\t\\t</div>\\n\\t\\t\\t\\t</a>\\n\\t\\t\\t\\n\\t\\t\\t\\t<a href=\"https://sports.news.naver.com/video.nhn?id&#x3D;828386\" class=\"media_area\" data-da-position=\"true\" data-gdid=\"PC-THEME-SPORTS-NEWS9-2[materials][8]\" data-clk=\"tcc_spo.list3cont9\" target=\"_blank\">\\n\\t\\t\\t\\t\\t<div class=\"media_thumb\">\\n\\t\\t\\t\\t\\t\\t<img  data-src=\"https://s.pstatic.net/dthumb.phinf/?src&#x3D;%22https%3A%2F%2Fsports-phinf.pstatic.net%2F%2F20210727_243%2F1627396608460tBwqc_JPEG%2Fclip_20210727130756_0.jpg%22&amp;type&#x3D;nf464_260\" alt=\"&#x27;시원한 업어치기&#x27; 이성호 16강 진출 [-81kg 32강] [MBC]\" width=\"232\" height=\"130\">\\n\\n\\t\\t\\t\\t\\t\\t\\n\\t\\t\\t\\t\\t\\t\\t<span class=\"thumb_dim\"></span>\\n\\t\\t\\t\\t\\t\\t\\t<span class=\"thumb_bd\"></span>\\n\\t\\t\\t\\t\\t\\t\\t<i class=\"pm_ico_play\"><span class=\"blind\">재생</span></i>\\n\\t\\t\\t\\t\\t\\t\\t<span class=\"theme_runtime\"><span class=\"runtime_bg\">재생시간</span><em class=\"time\">01:16</em></span>\\n\\t\\t\\t\\t\\t\\t\\n\\t\\t\\t\\t\\t</div>\\n\\t\\t\\t\\t\\t<div class=\"media_info\">\\n\\t\\t\\t\\t\\t\\t<div class=\"info_box\">\\n\\t\\t\\t\\t\\t\\t\\t\\n\\t\\t\\t\\t\\t\\t\\t\\t<em class=\"theme_category\">주요장면</em>\\n\\t\\t\\t\\t\\t\\t\\t\\n\\t\\t\\t\\t\\t\\t\\t<strong class=\"title \">\\'시원한 업어치기\\' 이성호 16강 진출 [-81kg 32강] [MBC]</strong>\\n\\t\\t\\t\\t\\t\\t\\t<div class=\"source_wrap\">\\n\\t\\t\\t\\t\\t\\t\\t\\t<span class=\"date\">20시간 전</span>\\n\\t\\t\\t\\t\\t\\t\\t\\t<span class=\"source\"><span class=\"source_inner\">유도 (도쿄올림픽)</span></span>\\n\\t\\t\\t\\t\\t\\t\\t</div>\\n\\t\\t\\t\\t\\t\\t</div>\\n\\t\\t\\t\\t\\t</div>\\n\\t\\t\\t\\t</a>\\n\\t\\t\\t\\n\\t\\t</div>\\n\\t</div>\\n</div>\\n<div class=\"group_theme\" data-block-id=\"5da680b2d296603fab539efd\" data-block-code=\"PC-THEME-SPORTS-NEWS9-3\" data-block-type=\"MATERIALS\" data-template-code=\"3X3\"\\n\\n\\t data-page=\"2\"\\n\\t style=\"display:none\">\\n\\n\\t<div class=\"media_view_wrap type_column\">\\n\\t\\t<div class=\"media_view\">\\n\\t\\t\\t\\n\\t\\t\\t\\t<a href=\"https://sports.news.naver.com/video.nhn?id&#x3D;828469\" class=\"media_area\" data-da-position=\"true\" data-gdid=\"PC-THEME-SPORTS-NEWS9-3[materials][0]\" data-clk=\"tcc_spo.list4cont1\" target=\"_blank\">\\n\\t\\t\\t\\t\\t<div class=\"media_thumb\">\\n\\t\\t\\t\\t\\t\\t<img  data-src=\"https://s.pstatic.net/dthumb.phinf/?src&#x3D;%22https%3A%2F%2Fsports-phinf.pstatic.net%2F%2F20210727_128%2F1627366369153gSGmD_JPEG%2Fclip_20210727150418_0.jpg%22&amp;type&#x3D;nf464_260\" alt=\"승기를 굳히는 최인정! 여자 에페 단체 은메달 확보! [MBC]\" width=\"232\" height=\"130\">\\n\\n\\t\\t\\t\\t\\t\\t\\n\\t\\t\\t\\t\\t\\t\\t<span class=\"thumb_dim\"></span>\\n\\t\\t\\t\\t\\t\\t\\t<span class=\"thumb_bd\"></span>\\n\\t\\t\\t\\t\\t\\t\\t<i class=\"pm_ico_play\"><span class=\"blind\">재생</span></i>\\n\\t\\t\\t\\t\\t\\t\\t<span class=\"theme_runtime\"><span class=\"runtime_bg\">재생시간</span><em class=\"time\">01:48</em></span>\\n\\t\\t\\t\\t\\t\\t\\n\\t\\t\\t\\t\\t</div>\\n\\t\\t\\t\\t\\t<div class=\"media_info\">\\n\\t\\t\\t\\t\\t\\t<div class=\"info_box\">\\n\\t\\t\\t\\t\\t\\t\\t\\n\\t\\t\\t\\t\\t\\t\\t\\t<em class=\"theme_category\">주요장면</em>\\n\\t\\t\\t\\t\\t\\t\\t\\n\\t\\t\\t\\t\\t\\t\\t<strong class=\"title \">승기를 굳히는 최인정! 여자 에페 단체 은메달 확보! [MBC]</strong>\\n\\t\\t\\t\\t\\t\\t\\t<div class=\"source_wrap\">\\n\\t\\t\\t\\t\\t\\t\\t\\t<span class=\"date\">18시간 전</span>\\n\\t\\t\\t\\t\\t\\t\\t\\t<span class=\"source\"><span class=\"source_inner\">펜싱 (도쿄올림픽)</span></span>\\n\\t\\t\\t\\t\\t\\t\\t</div>\\n\\t\\t\\t\\t\\t\\t</div>\\n\\t\\t\\t\\t\\t</div>\\n\\t\\t\\t\\t</a>\\n\\t\\t\\t\\n\\t\\t\\t\\t<a href=\"https://sports.news.naver.com/video.nhn?id&#x3D;828493\" class=\"media_area\" data-da-position=\"true\" data-gdid=\"PC-THEME-SPORTS-NEWS9-3[materials][1]\" data-clk=\"tcc_spo.list4cont2\" target=\"_blank\">\\n\\t\\t\\t\\t\\t<div class=\"media_thumb\">\\n\\t\\t\\t\\t\\t\\t<img  data-src=\"https://s.pstatic.net/dthumb.phinf/?src&#x3D;%22https%3A%2F%2Fsports-phinf.pstatic.net%2F%2F20210727_279%2F1627387309098xl6XP_JPEG%2Fclip_20210727154029_4.jpg%22&amp;type&#x3D;nf464_260\" alt=\"펜싱 여자 에페 단체 준결승 [송세라 득점모음] [MBC]\" width=\"232\" height=\"130\">\\n\\n\\t\\t\\t\\t\\t\\t\\n\\t\\t\\t\\t\\t\\t\\t<span class=\"thumb_dim\"></span>\\n\\t\\t\\t\\t\\t\\t\\t<span class=\"thumb_bd\"></span>\\n\\t\\t\\t\\t\\t\\t\\t<i class=\"pm_ico_play\"><span class=\"blind\">재생</span></i>\\n\\t\\t\\t\\t\\t\\t\\t<span class=\"theme_runtime\"><span class=\"runtime_bg\">재생시간</span><em class=\"time\">02:11</em></span>\\n\\t\\t\\t\\t\\t\\t\\n\\t\\t\\t\\t\\t</div>\\n\\t\\t\\t\\t\\t<div class=\"media_info\">\\n\\t\\t\\t\\t\\t\\t<div class=\"info_box\">\\n\\t\\t\\t\\t\\t\\t\\t\\n\\t\\t\\t\\t\\t\\t\\t\\t<em class=\"theme_category\">주요장면</em>\\n\\t\\t\\t\\t\\t\\t\\t\\n\\t\\t\\t\\t\\t\\t\\t<strong class=\"title \">펜싱 여자 에페 단체 준결승 [송세라 득점모음] [MBC]</strong>\\n\\t\\t\\t\\t\\t\\t\\t<div class=\"source_wrap\">\\n\\t\\t\\t\\t\\t\\t\\t\\t<span class=\"date\">17시간 전</span>\\n\\t\\t\\t\\t\\t\\t\\t\\t<span class=\"source\"><span class=\"source_inner\">펜싱 (도쿄올림픽)</span></span>\\n\\t\\t\\t\\t\\t\\t\\t</div>\\n\\t\\t\\t\\t\\t\\t</div>\\n\\t\\t\\t\\t\\t</div>\\n\\t\\t\\t\\t</a>\\n\\t\\t\\t\\n\\t\\t\\t\\t<a href=\"https://sports.news.naver.com/video.nhn?id&#x3D;828473\" class=\"media_area\" data-da-position=\"true\" data-gdid=\"PC-THEME-SPORTS-NEWS9-3[materials][2]\" data-clk=\"tcc_spo.list4cont3\" target=\"_blank\">\\n\\t\\t\\t\\t\\t<div class=\"media_thumb\">\\n\\t\\t\\t\\t\\t\\t<img  data-src=\"https://s.pstatic.net/dthumb.phinf/?src&#x3D;%22https%3A%2F%2Fsports-phinf.pstatic.net%2F%2F20210727_51%2F1627367198283iizrl_JPEG%2Fclip_20210727151551_1.jpg%22&amp;type&#x3D;nf464_260\" alt=\"김제덕 6:0 완승! 남자 개인전 32강 진출! [MBC]\" width=\"232\" height=\"130\">\\n\\n\\t\\t\\t\\t\\t\\t\\n\\t\\t\\t\\t\\t\\t\\t<span class=\"thumb_dim\"></span>\\n\\t\\t\\t\\t\\t\\t\\t<span class=\"thumb_bd\"></span>\\n\\t\\t\\t\\t\\t\\t\\t<i class=\"pm_ico_play\"><span class=\"blind\">재생</span></i>\\n\\t\\t\\t\\t\\t\\t\\t<span class=\"theme_runtime\"><span class=\"runtime_bg\">재생시간</span><em class=\"time\">01:11</em></span>\\n\\t\\t\\t\\t\\t\\t\\n\\t\\t\\t\\t\\t</div>\\n\\t\\t\\t\\t\\t<div class=\"media_info\">\\n\\t\\t\\t\\t\\t\\t<div class=\"info_box\">\\n\\t\\t\\t\\t\\t\\t\\t\\n\\t\\t\\t\\t\\t\\t\\t\\t<em class=\"theme_category\">주요장면</em>\\n\\t\\t\\t\\t\\t\\t\\t\\n\\t\\t\\t\\t\\t\\t\\t<strong class=\"title \">김제덕 6:0 완승! 남자 개인전 32강 진출! [MBC]</strong>\\n\\t\\t\\t\\t\\t\\t\\t<div class=\"source_wrap\">\\n\\t\\t\\t\\t\\t\\t\\t\\t<span class=\"date\">18시간 전</span>\\n\\t\\t\\t\\t\\t\\t\\t\\t<span class=\"source\"><span class=\"source_inner\">양궁 (도쿄올림픽)</span></span>\\n\\t\\t\\t\\t\\t\\t\\t</div>\\n\\t\\t\\t\\t\\t\\t</div>\\n\\t\\t\\t\\t\\t</div>\\n\\t\\t\\t\\t</a>\\n\\t\\t\\t\\n\\t\\t\\t\\t<a href=\"https://sports.news.naver.com/video.nhn?id&#x3D;828557\" class=\"media_area\" data-da-position=\"true\" data-gdid=\"PC-THEME-SPORTS-NEWS9-3[materials][3]\" data-clk=\"tcc_spo.list4cont4\" target=\"_blank\">\\n\\t\\t\\t\\t\\t<div class=\"media_thumb\">\\n\\t\\t\\t\\t\\t\\t<img  data-src=\"https://s.pstatic.net/dthumb.phinf/?src&#x3D;%22https%3A%2F%2Fsports-phinf.pstatic.net%2F%2F20210727_43%2F1627390303727YTSWm_JPEG%2Fclip_20210727163537_5.jpg%22&amp;type&#x3D;nf464_260\" alt=\"이다빈 결승 진출! 득점 모음 [MBC]\" width=\"232\" height=\"130\">\\n\\n\\t\\t\\t\\t\\t\\t\\n\\t\\t\\t\\t\\t\\t\\t<span class=\"thumb_dim\"></span>\\n\\t\\t\\t\\t\\t\\t\\t<span class=\"thumb_bd\"></span>\\n\\t\\t\\t\\t\\t\\t\\t<i class=\"pm_ico_play\"><span class=\"blind\">재생</span></i>\\n\\t\\t\\t\\t\\t\\t\\t<span class=\"theme_runtime\"><span class=\"runtime_bg\">재생시간</span><em class=\"time\">01:37</em></span>\\n\\t\\t\\t\\t\\t\\t\\n\\t\\t\\t\\t\\t</div>\\n\\t\\t\\t\\t\\t<div class=\"media_info\">\\n\\t\\t\\t\\t\\t\\t<div class=\"info_box\">\\n\\t\\t\\t\\t\\t\\t\\t\\n\\t\\t\\t\\t\\t\\t\\t\\t<em class=\"theme_category\">주요장면</em>\\n\\t\\t\\t\\t\\t\\t\\t\\n\\t\\t\\t\\t\\t\\t\\t<strong class=\"title \">이다빈 결승 진출! 득점 모음 [MBC]</strong>\\n\\t\\t\\t\\t\\t\\t\\t<div class=\"source_wrap\">\\n\\t\\t\\t\\t\\t\\t\\t\\t<span class=\"date\">16시간 전</span>\\n\\t\\t\\t\\t\\t\\t\\t\\t<span class=\"source\"><span class=\"source_inner\">태권도 (도쿄올림픽)</span></span>\\n\\t\\t\\t\\t\\t\\t\\t</div>\\n\\t\\t\\t\\t\\t\\t</div>\\n\\t\\t\\t\\t\\t</div>\\n\\t\\t\\t\\t</a>\\n\\t\\t\\t\\n\\t\\t\\t\\t<a href=\"https://sports.news.naver.com/video.nhn?id&#x3D;828535\" class=\"media_area\" data-da-position=\"true\" data-gdid=\"PC-THEME-SPORTS-NEWS9-3[materials][4]\" data-clk=\"tcc_spo.list4cont5\" target=\"_blank\">\\n\\t\\t\\t\\t\\t<div class=\"media_thumb\">\\n\\t\\t\\t\\t\\t\\t<img  data-src=\"https://s.pstatic.net/dthumb.phinf/?src&#x3D;%22https%3A%2F%2Fsports-phinf.pstatic.net%2F%2F20210727_276%2F1627370866281YRcBn_JPEG%2Fs4d1627370212153-1280-0.jpg%22&amp;type&#x3D;nf464_260\" alt=\"‘제대로 맞힌 머리’ 적절한 순간에 VAR 인정받는 이다빈 [＋67kg 준결] [SBS]\" width=\"232\" height=\"130\">\\n\\n\\t\\t\\t\\t\\t\\t\\n\\t\\t\\t\\t\\t\\t\\t<span class=\"thumb_dim\"></span>\\n\\t\\t\\t\\t\\t\\t\\t<span class=\"thumb_bd\"></span>\\n\\t\\t\\t\\t\\t\\t\\t<i class=\"pm_ico_play\"><span class=\"blind\">재생</span></i>\\n\\t\\t\\t\\t\\t\\t\\t<span class=\"theme_runtime\"><span class=\"runtime_bg\">재생시간</span><em class=\"time\">01:50</em></span>\\n\\t\\t\\t\\t\\t\\t\\n\\t\\t\\t\\t\\t</div>\\n\\t\\t\\t\\t\\t<div class=\"media_info\">\\n\\t\\t\\t\\t\\t\\t<div class=\"info_box\">\\n\\t\\t\\t\\t\\t\\t\\t\\n\\t\\t\\t\\t\\t\\t\\t\\t<em class=\"theme_category\">주요장면</em>\\n\\t\\t\\t\\t\\t\\t\\t\\n\\t\\t\\t\\t\\t\\t\\t<strong class=\"title \">‘제대로 맞힌 머리’ 적절한 순간에 VAR 인정받는 이다빈 [＋67kg 준결] [SBS]</strong>\\n\\t\\t\\t\\t\\t\\t\\t<div class=\"source_wrap\">\\n\\t\\t\\t\\t\\t\\t\\t\\t<span class=\"date\">17시간 전</span>\\n\\t\\t\\t\\t\\t\\t\\t\\t<span class=\"source\"><span class=\"source_inner\">태권도 (도쿄올림픽)</span></span>\\n\\t\\t\\t\\t\\t\\t\\t</div>\\n\\t\\t\\t\\t\\t\\t</div>\\n\\t\\t\\t\\t\\t</div>\\n\\t\\t\\t\\t</a>\\n\\t\\t\\t\\n\\t\\t\\t\\t<a href=\"https://sports.news.naver.com/video.nhn?id&#x3D;828451\" class=\"media_area\" data-da-position=\"true\" data-gdid=\"PC-THEME-SPORTS-NEWS9-3[materials][5]\" data-clk=\"tcc_spo.list4cont6\" target=\"_blank\">\\n\\t\\t\\t\\t\\t<div class=\"media_thumb\">\\n\\t\\t\\t\\t\\t\\t<img  data-src=\"https://s.pstatic.net/dthumb.phinf/?src&#x3D;%22https%3A%2F%2Fsports-phinf.pstatic.net%2F%2F20210728_92%2F1627400800606foJT2_JPEG%2Fclip_20210727144307_2.jpg%22&amp;type&#x3D;nf464_260\" alt=\"＂ 음~ 집중! ＂ 탁구 신동 신유빈 경기 후 인터뷰 [단식 3라운드] [MBC]\" width=\"232\" height=\"130\">\\n\\n\\t\\t\\t\\t\\t\\t\\n\\t\\t\\t\\t\\t\\t\\t<span class=\"thumb_dim\"></span>\\n\\t\\t\\t\\t\\t\\t\\t<span class=\"thumb_bd\"></span>\\n\\t\\t\\t\\t\\t\\t\\t<i class=\"pm_ico_play\"><span class=\"blind\">재생</span></i>\\n\\t\\t\\t\\t\\t\\t\\t<span class=\"theme_runtime\"><span class=\"runtime_bg\">재생시간</span><em class=\"time\">01:31</em></span>\\n\\t\\t\\t\\t\\t\\t\\n\\t\\t\\t\\t\\t</div>\\n\\t\\t\\t\\t\\t<div class=\"media_info\">\\n\\t\\t\\t\\t\\t\\t<div class=\"info_box\">\\n\\t\\t\\t\\t\\t\\t\\t\\n\\t\\t\\t\\t\\t\\t\\t\\t<em class=\"theme_category\">주요장면</em>\\n\\t\\t\\t\\t\\t\\t\\t\\n\\t\\t\\t\\t\\t\\t\\t<strong class=\"title \">＂ 음~ 집중! ＂ 탁구 신동 신유빈 경기 후 인터뷰 [단식 3라운드] [MBC]</strong>\\n\\t\\t\\t\\t\\t\\t\\t<div class=\"source_wrap\">\\n\\t\\t\\t\\t\\t\\t\\t\\t<span class=\"date\">18시간 전</span>\\n\\t\\t\\t\\t\\t\\t\\t\\t<span class=\"source\"><span class=\"source_inner\">탁구 (도쿄올림픽)</span></span>\\n\\t\\t\\t\\t\\t\\t\\t</div>\\n\\t\\t\\t\\t\\t\\t</div>\\n\\t\\t\\t\\t\\t</div>\\n\\t\\t\\t\\t</a>\\n\\t\\t\\t\\n\\t\\t\\t\\t<a href=\"https://sports.news.naver.com/video.nhn?id&#x3D;828198\" class=\"media_area\" data-da-position=\"true\" data-gdid=\"PC-THEME-SPORTS-NEWS9-3[materials][6]\" data-clk=\"tcc_spo.list4cont7\" target=\"_blank\">\\n\\t\\t\\t\\t\\t<div class=\"media_thumb\">\\n\\t\\t\\t\\t\\t\\t<img  data-src=\"https://s.pstatic.net/dthumb.phinf/?src&#x3D;%22https%3A%2F%2Fsports-phinf.pstatic.net%2F20210726_292%2F1627307973032lXVXi_JPEG%2F4.jpg%22&amp;type&#x3D;nf464_260\" alt=\"&#x27;5년 전의 복수&#x27; 축구 대표팀 온두라스전 프리뷰 [박선영의 8에이트]\" width=\"232\" height=\"130\">\\n\\n\\t\\t\\t\\t\\t\\t\\n\\t\\t\\t\\t\\t\\t\\t<span class=\"thumb_dim\"></span>\\n\\t\\t\\t\\t\\t\\t\\t<span class=\"thumb_bd\"></span>\\n\\t\\t\\t\\t\\t\\t\\t<i class=\"pm_ico_play\"><span class=\"blind\">재생</span></i>\\n\\t\\t\\t\\t\\t\\t\\t<span class=\"theme_runtime\"><span class=\"runtime_bg\">재생시간</span><em class=\"time\">14:33</em></span>\\n\\t\\t\\t\\t\\t\\t\\n\\t\\t\\t\\t\\t</div>\\n\\t\\t\\t\\t\\t<div class=\"media_info\">\\n\\t\\t\\t\\t\\t\\t<div class=\"info_box\">\\n\\t\\t\\t\\t\\t\\t\\t\\n\\t\\t\\t\\t\\t\\t\\t\\t<em class=\"theme_category\">특집영상</em>\\n\\t\\t\\t\\t\\t\\t\\t\\n\\t\\t\\t\\t\\t\\t\\t<strong class=\"title \">\\'5년 전의 복수\\' 축구 대표팀 온두라스전 프리뷰 [박선영의 8에이트]</strong>\\n\\t\\t\\t\\t\\t\\t\\t<div class=\"source_wrap\">\\n\\t\\t\\t\\t\\t\\t\\t\\t<span class=\"date\">어제</span>\\n\\t\\t\\t\\t\\t\\t\\t\\t<span class=\"source\"><span class=\"source_inner\">네이버스포츠</span></span>\\n\\t\\t\\t\\t\\t\\t\\t</div>\\n\\t\\t\\t\\t\\t\\t</div>\\n\\t\\t\\t\\t\\t</div>\\n\\t\\t\\t\\t</a>\\n\\t\\t\\t\\n\\t\\t\\t\\t<a href=\"https://sports.news.naver.com/video.nhn?id&#x3D;828601\" class=\"media_area\" data-da-position=\"true\" data-gdid=\"PC-THEME-SPORTS-NEWS9-3[materials][7]\" data-clk=\"tcc_spo.list4cont8\" target=\"_blank\">\\n\\t\\t\\t\\t\\t<div class=\"media_thumb\">\\n\\t\\t\\t\\t\\t\\t<img  data-src=\"https://s.pstatic.net/dthumb.phinf/?src&#x3D;%22https%3A%2F%2Fsports-phinf.pstatic.net%2F%2F20210727_290%2F1627375303082KfLui_JPEG%2F9dH1627372944611-1280-0.jpg%22&amp;type&#x3D;nf464_260\" alt=\"1초 남기고 역전! 이다빈 준결승 하이라이트 [＋67kg 준결] [SBS]\" width=\"232\" height=\"130\">\\n\\n\\t\\t\\t\\t\\t\\t\\n\\t\\t\\t\\t\\t\\t\\t<span class=\"thumb_dim\"></span>\\n\\t\\t\\t\\t\\t\\t\\t<span class=\"thumb_bd\"></span>\\n\\t\\t\\t\\t\\t\\t\\t<i class=\"pm_ico_play\"><span class=\"blind\">재생</span></i>\\n\\t\\t\\t\\t\\t\\t\\t<span class=\"theme_runtime\"><span class=\"runtime_bg\">재생시간</span><em class=\"time\">09:20</em></span>\\n\\t\\t\\t\\t\\t\\t\\n\\t\\t\\t\\t\\t</div>\\n\\t\\t\\t\\t\\t<div class=\"media_info\">\\n\\t\\t\\t\\t\\t\\t<div class=\"info_box\">\\n\\t\\t\\t\\t\\t\\t\\t\\n\\t\\t\\t\\t\\t\\t\\t\\t<em class=\"theme_category\">하이라이트</em>\\n\\t\\t\\t\\t\\t\\t\\t\\n\\t\\t\\t\\t\\t\\t\\t<strong class=\"title \">1초 남기고 역전! 이다빈 준결승 하이라이트 [＋67kg 준결] [SBS]</strong>\\n\\t\\t\\t\\t\\t\\t\\t<div class=\"source_wrap\">\\n\\t\\t\\t\\t\\t\\t\\t\\t<span class=\"date\">15시간 전</span>\\n\\t\\t\\t\\t\\t\\t\\t\\t<span class=\"source\"><span class=\"source_inner\">태권도 (도쿄올림픽)</span></span>\\n\\t\\t\\t\\t\\t\\t\\t</div>\\n\\t\\t\\t\\t\\t\\t</div>\\n\\t\\t\\t\\t\\t</div>\\n\\t\\t\\t\\t</a>\\n\\t\\t\\t\\n\\t\\t\\t\\t<a href=\"https://sports.news.naver.com/video.nhn?id&#x3D;828392\" class=\"media_area\" data-da-position=\"true\" data-gdid=\"PC-THEME-SPORTS-NEWS9-3[materials][8]\" data-clk=\"tcc_spo.list4cont9\" target=\"_blank\">\\n\\t\\t\\t\\t\\t<div class=\"media_thumb\">\\n\\t\\t\\t\\t\\t\\t<img  data-src=\"https://s.pstatic.net/dthumb.phinf/?src&#x3D;%22https%3A%2F%2Fsports-phinf.pstatic.net%2F%2F20210727_140%2F1627360076727ufujw_JPEG%2F60ff864e2f29ea6d6ba686ca_edit_1_1627359250887.jpg%22&amp;type&#x3D;nf464_260\" alt=\"포기하지 않은 인교돈! 역전으로 *8강 진출 확정* [KBS]\" width=\"232\" height=\"130\">\\n\\n\\t\\t\\t\\t\\t\\t\\n\\t\\t\\t\\t\\t\\t\\t<span class=\"thumb_dim\"></span>\\n\\t\\t\\t\\t\\t\\t\\t<span class=\"thumb_bd\"></span>\\n\\t\\t\\t\\t\\t\\t\\t<i class=\"pm_ico_play\"><span class=\"blind\">재생</span></i>\\n\\t\\t\\t\\t\\t\\t\\t<span class=\"theme_runtime\"><span class=\"runtime_bg\">재생시간</span><em class=\"time\">01:06</em></span>\\n\\t\\t\\t\\t\\t\\t\\n\\t\\t\\t\\t\\t</div>\\n\\t\\t\\t\\t\\t<div class=\"media_info\">\\n\\t\\t\\t\\t\\t\\t<div class=\"info_box\">\\n\\t\\t\\t\\t\\t\\t\\t\\n\\t\\t\\t\\t\\t\\t\\t\\t<em class=\"theme_category\">주요장면</em>\\n\\t\\t\\t\\t\\t\\t\\t\\n\\t\\t\\t\\t\\t\\t\\t<strong class=\"title \">포기하지 않은 인교돈! 역전으로 *8강 진출 확정* [KBS]</strong>\\n\\t\\t\\t\\t\\t\\t\\t<div class=\"source_wrap\">\\n\\t\\t\\t\\t\\t\\t\\t\\t<span class=\"date\">20시간 전</span>\\n\\t\\t\\t\\t\\t\\t\\t\\t<span class=\"source\"><span class=\"source_inner\">태권도(도쿄올림픽)</span></span>\\n\\t\\t\\t\\t\\t\\t\\t</div>\\n\\t\\t\\t\\t\\t\\t</div>\\n\\t\\t\\t\\t\\t</div>\\n\\t\\t\\t\\t</a>\\n\\t\\t\\t\\n\\t\\t</div>\\n\\t</div>\\n</div>\\n<div class=\"group_theme\" data-block-id=\"5da680b2d296603fab539f0c\" data-block-code=\"PC-THEME-SPORTS-NEWS9-4\" data-block-type=\"MATERIALS\" data-template-code=\"3X3\"\\n\\n\\t data-page=\"3\"\\n\\t style=\"display:none\">\\n\\n\\t<div class=\"media_view_wrap type_column\">\\n\\t\\t<div class=\"media_view\">\\n\\t\\t\\t\\n\\t\\t\\t\\t<a href=\"https://sports.news.naver.com/video.nhn?id&#x3D;827928\" class=\"media_area\" data-da-position=\"true\" data-gdid=\"PC-THEME-SPORTS-NEWS9-4[materials][0]\" data-clk=\"tcc_spo.list5cont1\" target=\"_blank\">\\n\\t\\t\\t\\t\\t<div class=\"media_thumb\">\\n\\t\\t\\t\\t\\t\\t<img  data-src=\"https://s.pstatic.net/dthumb.phinf/?src&#x3D;%22https%3A%2F%2Fsports-phinf.pstatic.net%2F%2F20210726_275%2F1627281700096Ak0Le_JPEG%2FyqK1627279713985-1280-0.jpg%22&amp;type&#x3D;nf464_260\" alt=\"‘환상적인 안뒤축 후리기’ 준결승으로 향하는 안창림 [-73kg 8강] [SBS]\" width=\"232\" height=\"130\">\\n\\n\\t\\t\\t\\t\\t\\t\\n\\t\\t\\t\\t\\t\\t\\t<span class=\"thumb_dim\"></span>\\n\\t\\t\\t\\t\\t\\t\\t<span class=\"thumb_bd\"></span>\\n\\t\\t\\t\\t\\t\\t\\t<i class=\"pm_ico_play\"><span class=\"blind\">재생</span></i>\\n\\t\\t\\t\\t\\t\\t\\t<span class=\"theme_runtime\"><span class=\"runtime_bg\">재생시간</span><em class=\"time\">01:54</em></span>\\n\\t\\t\\t\\t\\t\\t\\n\\t\\t\\t\\t\\t</div>\\n\\t\\t\\t\\t\\t<div class=\"media_info\">\\n\\t\\t\\t\\t\\t\\t<div class=\"info_box\">\\n\\t\\t\\t\\t\\t\\t\\t\\n\\t\\t\\t\\t\\t\\t\\t\\t<em class=\"theme_category\">주요장면</em>\\n\\t\\t\\t\\t\\t\\t\\t\\n\\t\\t\\t\\t\\t\\t\\t<strong class=\"title \">‘환상적인 안뒤축 후리기’ 준결승으로 향하는 안창림 [-73kg 8강] [SBS]</strong>\\n\\t\\t\\t\\t\\t\\t\\t<div class=\"source_wrap\">\\n\\t\\t\\t\\t\\t\\t\\t\\t<span class=\"date\">어제</span>\\n\\t\\t\\t\\t\\t\\t\\t\\t<span class=\"source\"><span class=\"source_inner\">유도 (도쿄올림픽)</span></span>\\n\\t\\t\\t\\t\\t\\t\\t</div>\\n\\t\\t\\t\\t\\t\\t</div>\\n\\t\\t\\t\\t\\t</div>\\n\\t\\t\\t\\t</a>\\n\\t\\t\\t\\n\\t\\t\\t\\t<a href=\"https://sports.news.naver.com/video.nhn?id&#x3D;828031\" class=\"media_area\" data-da-position=\"true\" data-gdid=\"PC-THEME-SPORTS-NEWS9-4[materials][1]\" data-clk=\"tcc_spo.list5cont2\" target=\"_blank\">\\n\\t\\t\\t\\t\\t<div class=\"media_thumb\">\\n\\t\\t\\t\\t\\t\\t<img  data-src=\"https://s.pstatic.net/dthumb.phinf/?src&#x3D;%22https%3A%2F%2Fsports-phinf.pstatic.net%2F%2F20210726_300%2F16272915988324XhO8_JPEG%2Fclip_20210726171104_23.jpg%22&amp;type&#x3D;nf464_260\" alt=\"올텐으로 2세트 가져오는 대한민국 대표팀 [MBC]\" width=\"232\" height=\"130\">\\n\\n\\t\\t\\t\\t\\t\\t\\n\\t\\t\\t\\t\\t\\t\\t<span class=\"thumb_dim\"></span>\\n\\t\\t\\t\\t\\t\\t\\t<span class=\"thumb_bd\"></span>\\n\\t\\t\\t\\t\\t\\t\\t<i class=\"pm_ico_play\"><span class=\"blind\">재생</span></i>\\n\\t\\t\\t\\t\\t\\t\\t<span class=\"theme_runtime\"><span class=\"runtime_bg\">재생시간</span><em class=\"time\">01:35</em></span>\\n\\t\\t\\t\\t\\t\\t\\n\\t\\t\\t\\t\\t</div>\\n\\t\\t\\t\\t\\t<div class=\"media_info\">\\n\\t\\t\\t\\t\\t\\t<div class=\"info_box\">\\n\\t\\t\\t\\t\\t\\t\\t\\n\\t\\t\\t\\t\\t\\t\\t\\t<em class=\"theme_category\">주요장면</em>\\n\\t\\t\\t\\t\\t\\t\\t\\n\\t\\t\\t\\t\\t\\t\\t<strong class=\"title \">올텐으로 2세트 가져오는 대한민국 대표팀 [MBC]</strong>\\n\\t\\t\\t\\t\\t\\t\\t<div class=\"source_wrap\">\\n\\t\\t\\t\\t\\t\\t\\t\\t<span class=\"date\">어제</span>\\n\\t\\t\\t\\t\\t\\t\\t\\t<span class=\"source\"><span class=\"source_inner\">양궁 (도쿄올림픽)</span></span>\\n\\t\\t\\t\\t\\t\\t\\t</div>\\n\\t\\t\\t\\t\\t\\t</div>\\n\\t\\t\\t\\t\\t</div>\\n\\t\\t\\t\\t</a>\\n\\t\\t\\t\\n\\t\\t\\t\\t<a href=\"https://sports.news.naver.com/video.nhn?id&#x3D;828045\" class=\"media_area\" data-da-position=\"true\" data-gdid=\"PC-THEME-SPORTS-NEWS9-4[materials][2]\" data-clk=\"tcc_spo.list5cont3\" target=\"_blank\">\\n\\t\\t\\t\\t\\t<div class=\"media_thumb\">\\n\\t\\t\\t\\t\\t\\t<img  data-src=\"https://s.pstatic.net/dthumb.phinf/?src&#x3D;%22https%3A%2F%2Fsports-phinf.pstatic.net%2F%2F20210726_266%2F1627288605972HXxxX_JPEG%2F60fe6f4ab284815c38ae0396_edit_1_1627287719735.jpg%22&amp;type&#x3D;nf464_260\" alt=\"엄청난 렐리! 안 좋은 분위기를 꺾고 얻은 값진 점수!! [KBS]\" width=\"232\" height=\"130\">\\n\\n\\t\\t\\t\\t\\t\\t\\n\\t\\t\\t\\t\\t\\t\\t<span class=\"thumb_dim\"></span>\\n\\t\\t\\t\\t\\t\\t\\t<span class=\"thumb_bd\"></span>\\n\\t\\t\\t\\t\\t\\t\\t<i class=\"pm_ico_play\"><span class=\"blind\">재생</span></i>\\n\\t\\t\\t\\t\\t\\t\\t<span class=\"theme_runtime\"><span class=\"runtime_bg\">재생시간</span><em class=\"time\">01:00</em></span>\\n\\t\\t\\t\\t\\t\\t\\n\\t\\t\\t\\t\\t</div>\\n\\t\\t\\t\\t\\t<div class=\"media_info\">\\n\\t\\t\\t\\t\\t\\t<div class=\"info_box\">\\n\\t\\t\\t\\t\\t\\t\\t\\n\\t\\t\\t\\t\\t\\t\\t\\t<em class=\"theme_category\">주요장면</em>\\n\\t\\t\\t\\t\\t\\t\\t\\n\\t\\t\\t\\t\\t\\t\\t<strong class=\"title \">엄청난 렐리! 안 좋은 분위기를 꺾고 얻은 값진 점수!! [KBS]</strong>\\n\\t\\t\\t\\t\\t\\t\\t<div class=\"source_wrap\">\\n\\t\\t\\t\\t\\t\\t\\t\\t<span class=\"date\">어제</span>\\n\\t\\t\\t\\t\\t\\t\\t\\t<span class=\"source\"><span class=\"source_inner\">탁구(도쿄올림픽)</span></span>\\n\\t\\t\\t\\t\\t\\t\\t</div>\\n\\t\\t\\t\\t\\t\\t</div>\\n\\t\\t\\t\\t\\t</div>\\n\\t\\t\\t\\t</a>\\n\\t\\t\\t\\n\\t\\t\\t\\t<a href=\"https://sports.news.naver.com/video.nhn?id&#x3D;827969\" class=\"media_area\" data-da-position=\"true\" data-gdid=\"PC-THEME-SPORTS-NEWS9-4[materials][3]\" data-clk=\"tcc_spo.list5cont4\" target=\"_blank\">\\n\\t\\t\\t\\t\\t<div class=\"media_thumb\">\\n\\t\\t\\t\\t\\t\\t<img  data-src=\"https://s.pstatic.net/dthumb.phinf/?src&#x3D;%22https%3A%2F%2Fsports-phinf.pstatic.net%2F%2F20210726_117%2F1627283204789zlLBj_JPEG%2FDzB1627282395946-1280-0.jpg%22&amp;type&#x3D;nf464_260\" alt=\"조금 더 가까웠던 10점! 어렵게 한일전 승리하는 대한민국 [단체 준결] [SBS]\" width=\"232\" height=\"130\">\\n\\n\\t\\t\\t\\t\\t\\t\\n\\t\\t\\t\\t\\t\\t\\t<span class=\"thumb_dim\"></span>\\n\\t\\t\\t\\t\\t\\t\\t<span class=\"thumb_bd\"></span>\\n\\t\\t\\t\\t\\t\\t\\t<i class=\"pm_ico_play\"><span class=\"blind\">재생</span></i>\\n\\t\\t\\t\\t\\t\\t\\t<span class=\"theme_runtime\"><span class=\"runtime_bg\">재생시간</span><em class=\"time\">02:15</em></span>\\n\\t\\t\\t\\t\\t\\t\\n\\t\\t\\t\\t\\t</div>\\n\\t\\t\\t\\t\\t<div class=\"media_info\">\\n\\t\\t\\t\\t\\t\\t<div class=\"info_box\">\\n\\t\\t\\t\\t\\t\\t\\t\\n\\t\\t\\t\\t\\t\\t\\t\\t<em class=\"theme_category\">주요장면</em>\\n\\t\\t\\t\\t\\t\\t\\t\\n\\t\\t\\t\\t\\t\\t\\t<strong class=\"title \">조금 더 가까웠던 10점! 어렵게 한일전 승리하는 대한민국 [단체 준결] [SBS]</strong>\\n\\t\\t\\t\\t\\t\\t\\t<div class=\"source_wrap\">\\n\\t\\t\\t\\t\\t\\t\\t\\t<span class=\"date\">어제</span>\\n\\t\\t\\t\\t\\t\\t\\t\\t<span class=\"source\"><span class=\"source_inner\">양궁 (도쿄올림픽)</span></span>\\n\\t\\t\\t\\t\\t\\t\\t</div>\\n\\t\\t\\t\\t\\t\\t</div>\\n\\t\\t\\t\\t\\t</div>\\n\\t\\t\\t\\t</a>\\n\\t\\t\\t\\n\\t\\t\\t\\t<a href=\"https://sports.news.naver.com/video.nhn?id&#x3D;827793\" class=\"media_area\" data-da-position=\"true\" data-gdid=\"PC-THEME-SPORTS-NEWS9-4[materials][4]\" data-clk=\"tcc_spo.list5cont5\" target=\"_blank\">\\n\\t\\t\\t\\t\\t<div class=\"media_thumb\">\\n\\t\\t\\t\\t\\t\\t<img  data-src=\"https://s.pstatic.net/dthumb.phinf/?src&#x3D;%22https%3A%2F%2Fsports-phinf.pstatic.net%2F%2F20210726_278%2F1627267609712AuWCv_JPEG%2F88H1627264769090-1280-0.jpg%22&amp;type&#x3D;nf464_260\" alt=\"‘메달을 위한 페이스 조절’ 전체 6위로 결승 진출하는 황선우 [자유형 200m 준결] [SBS]\" width=\"232\" height=\"130\">\\n\\n\\t\\t\\t\\t\\t\\t\\n\\t\\t\\t\\t\\t\\t\\t<span class=\"thumb_dim\"></span>\\n\\t\\t\\t\\t\\t\\t\\t<span class=\"thumb_bd\"></span>\\n\\t\\t\\t\\t\\t\\t\\t<i class=\"pm_ico_play\"><span class=\"blind\">재생</span></i>\\n\\t\\t\\t\\t\\t\\t\\t<span class=\"theme_runtime\"><span class=\"runtime_bg\">재생시간</span><em class=\"time\">03:55</em></span>\\n\\t\\t\\t\\t\\t\\t\\n\\t\\t\\t\\t\\t</div>\\n\\t\\t\\t\\t\\t<div class=\"media_info\">\\n\\t\\t\\t\\t\\t\\t<div class=\"info_box\">\\n\\t\\t\\t\\t\\t\\t\\t\\n\\t\\t\\t\\t\\t\\t\\t\\t<em class=\"theme_category\">주요장면</em>\\n\\t\\t\\t\\t\\t\\t\\t\\n\\t\\t\\t\\t\\t\\t\\t<strong class=\"title \">‘메달을 위한 페이스 조절’ 전체 6위로 결승 진출하는 황선우 [자유형 200m 준결] [SBS]</strong>\\n\\t\\t\\t\\t\\t\\t\\t<div class=\"source_wrap\">\\n\\t\\t\\t\\t\\t\\t\\t\\t<span class=\"date\">어제</span>\\n\\t\\t\\t\\t\\t\\t\\t\\t<span class=\"source\"><span class=\"source_inner\">수영 (도쿄올림픽)</span></span>\\n\\t\\t\\t\\t\\t\\t\\t</div>\\n\\t\\t\\t\\t\\t\\t</div>\\n\\t\\t\\t\\t\\t</div>\\n\\t\\t\\t\\t</a>\\n\\t\\t\\t\\n\\t\\t\\t\\t<a href=\"https://sports.news.naver.com/video.nhn?id&#x3D;827883\" class=\"media_area\" data-da-position=\"true\" data-gdid=\"PC-THEME-SPORTS-NEWS9-4[materials][5]\" data-clk=\"tcc_spo.list5cont6\" target=\"_blank\">\\n\\t\\t\\t\\t\\t<div class=\"media_thumb\">\\n\\t\\t\\t\\t\\t\\t<img  data-src=\"https://s.pstatic.net/dthumb.phinf/?src&#x3D;%22https%3A%2F%2Fsports-phinf.pstatic.net%2F%2F20210726_199%2F1627276904742P2mCJ_JPEG%2FCSP1627276290107-1280-0.jpg%22&amp;type&#x3D;nf464_260\" alt=\"‘말이 안되는 정확도’ 59점을 쏘는 대한민국 [단체 8강] [SBS]\" width=\"232\" height=\"130\">\\n\\n\\t\\t\\t\\t\\t\\t\\n\\t\\t\\t\\t\\t\\t\\t<span class=\"thumb_dim\"></span>\\n\\t\\t\\t\\t\\t\\t\\t<span class=\"thumb_bd\"></span>\\n\\t\\t\\t\\t\\t\\t\\t<i class=\"pm_ico_play\"><span class=\"blind\">재생</span></i>\\n\\t\\t\\t\\t\\t\\t\\t<span class=\"theme_runtime\"><span class=\"runtime_bg\">재생시간</span><em class=\"time\">02:09</em></span>\\n\\t\\t\\t\\t\\t\\t\\n\\t\\t\\t\\t\\t</div>\\n\\t\\t\\t\\t\\t<div class=\"media_info\">\\n\\t\\t\\t\\t\\t\\t<div class=\"info_box\">\\n\\t\\t\\t\\t\\t\\t\\t\\n\\t\\t\\t\\t\\t\\t\\t\\t<em class=\"theme_category\">주요장면</em>\\n\\t\\t\\t\\t\\t\\t\\t\\n\\t\\t\\t\\t\\t\\t\\t<strong class=\"title \">‘말이 안되는 정확도’ 59점을 쏘는 대한민국 [단체 8강] [SBS]</strong>\\n\\t\\t\\t\\t\\t\\t\\t<div class=\"source_wrap\">\\n\\t\\t\\t\\t\\t\\t\\t\\t<span class=\"date\">어제</span>\\n\\t\\t\\t\\t\\t\\t\\t\\t<span class=\"source\"><span class=\"source_inner\">양궁 (도쿄올림픽)</span></span>\\n\\t\\t\\t\\t\\t\\t\\t</div>\\n\\t\\t\\t\\t\\t\\t</div>\\n\\t\\t\\t\\t\\t</div>\\n\\t\\t\\t\\t</a>\\n\\t\\t\\t\\n\\t\\t\\t\\t<a href=\"https://sports.news.naver.com/video.nhn?id&#x3D;828071\" class=\"media_area\" data-da-position=\"true\" data-gdid=\"PC-THEME-SPORTS-NEWS9-4[materials][6]\" data-clk=\"tcc_spo.list5cont7\" target=\"_blank\">\\n\\t\\t\\t\\t\\t<div class=\"media_thumb\">\\n\\t\\t\\t\\t\\t\\t<img  data-src=\"https://s.pstatic.net/dthumb.phinf/?src&#x3D;%22https%3A%2F%2Fsports-phinf.pstatic.net%2F%2F20210726_275%2F1627292559951tF8dn_JPEG%2Fclip_20210726181435_34.jpg%22&amp;type&#x3D;nf464_260\" alt=\"양궁 남자 단체 올림픽 2연패 하이라이트 [MBC]\" width=\"232\" height=\"130\">\\n\\n\\t\\t\\t\\t\\t\\t\\n\\t\\t\\t\\t\\t\\t\\t<span class=\"thumb_dim\"></span>\\n\\t\\t\\t\\t\\t\\t\\t<span class=\"thumb_bd\"></span>\\n\\t\\t\\t\\t\\t\\t\\t<i class=\"pm_ico_play\"><span class=\"blind\">재생</span></i>\\n\\t\\t\\t\\t\\t\\t\\t<span class=\"theme_runtime\"><span class=\"runtime_bg\">재생시간</span><em class=\"time\">15:06</em></span>\\n\\t\\t\\t\\t\\t\\t\\n\\t\\t\\t\\t\\t</div>\\n\\t\\t\\t\\t\\t<div class=\"media_info\">\\n\\t\\t\\t\\t\\t\\t<div class=\"info_box\">\\n\\t\\t\\t\\t\\t\\t\\t\\n\\t\\t\\t\\t\\t\\t\\t\\t<em class=\"theme_category\">하이라이트</em>\\n\\t\\t\\t\\t\\t\\t\\t\\n\\t\\t\\t\\t\\t\\t\\t<strong class=\"title \">양궁 남자 단체 올림픽 2연패 하이라이트 [MBC]</strong>\\n\\t\\t\\t\\t\\t\\t\\t<div class=\"source_wrap\">\\n\\t\\t\\t\\t\\t\\t\\t\\t<span class=\"date\">어제</span>\\n\\t\\t\\t\\t\\t\\t\\t\\t<span class=\"source\"><span class=\"source_inner\">양궁 (도쿄올림픽)</span></span>\\n\\t\\t\\t\\t\\t\\t\\t</div>\\n\\t\\t\\t\\t\\t\\t</div>\\n\\t\\t\\t\\t\\t</div>\\n\\t\\t\\t\\t</a>\\n\\t\\t\\t\\n\\t\\t\\t\\t<a href=\"https://sports.news.naver.com/video.nhn?id&#x3D;828113\" class=\"media_area\" data-da-position=\"true\" data-gdid=\"PC-THEME-SPORTS-NEWS9-4[materials][7]\" data-clk=\"tcc_spo.list5cont8\" target=\"_blank\">\\n\\t\\t\\t\\t\\t<div class=\"media_thumb\">\\n\\t\\t\\t\\t\\t\\t<img  data-src=\"https://s.pstatic.net/dthumb.phinf/?src&#x3D;%22https%3A%2F%2Fsports-phinf.pstatic.net%2F%2F20210726_214%2F1627298510246H4ibg_JPEG%2F60fe9573b284815c38ae0a03_edit_1_1627297360990.jpg%22&amp;type&#x3D;nf464_260\" alt=\"‘떨리는 순간’ 2분 11초 54의 기록으로 준결승 진출을 확정 짓는 김서영! [KBS]\" width=\"232\" height=\"130\">\\n\\n\\t\\t\\t\\t\\t\\t\\n\\t\\t\\t\\t\\t\\t\\t<span class=\"thumb_dim\"></span>\\n\\t\\t\\t\\t\\t\\t\\t<span class=\"thumb_bd\"></span>\\n\\t\\t\\t\\t\\t\\t\\t<i class=\"pm_ico_play\"><span class=\"blind\">재생</span></i>\\n\\t\\t\\t\\t\\t\\t\\t<span class=\"theme_runtime\"><span class=\"runtime_bg\">재생시간</span><em class=\"time\">04:19</em></span>\\n\\t\\t\\t\\t\\t\\t\\n\\t\\t\\t\\t\\t</div>\\n\\t\\t\\t\\t\\t<div class=\"media_info\">\\n\\t\\t\\t\\t\\t\\t<div class=\"info_box\">\\n\\t\\t\\t\\t\\t\\t\\t\\n\\t\\t\\t\\t\\t\\t\\t\\t<em class=\"theme_category\">주요장면</em>\\n\\t\\t\\t\\t\\t\\t\\t\\n\\t\\t\\t\\t\\t\\t\\t<strong class=\"title \">‘떨리는 순간’ 2분 11초 54의 기록으로 준결승 진출을 확정 짓는 김서영! [KBS]</strong>\\n\\t\\t\\t\\t\\t\\t\\t<div class=\"source_wrap\">\\n\\t\\t\\t\\t\\t\\t\\t\\t<span class=\"date\">어제</span>\\n\\t\\t\\t\\t\\t\\t\\t\\t<span class=\"source\"><span class=\"source_inner\">수영 (도쿄올림픽)</span></span>\\n\\t\\t\\t\\t\\t\\t\\t</div>\\n\\t\\t\\t\\t\\t\\t</div>\\n\\t\\t\\t\\t\\t</div>\\n\\t\\t\\t\\t</a>\\n\\t\\t\\t\\n\\t\\t\\t\\t<a href=\"https://sports.news.naver.com/video.nhn?id&#x3D;827893\" class=\"media_area\" data-da-position=\"true\" data-gdid=\"PC-THEME-SPORTS-NEWS9-4[materials][8]\" data-clk=\"tcc_spo.list5cont9\" target=\"_blank\">\\n\\t\\t\\t\\t\\t<div class=\"media_thumb\">\\n\\t\\t\\t\\t\\t\\t<img  data-src=\"https://s.pstatic.net/dthumb.phinf/?src&#x3D;%22https%3A%2F%2Fsports-phinf.pstatic.net%2F%2F20210726_231%2F1627278695517sXdXD_JPEG%2FD9E1627277691205-1280-0.jpg%22&amp;type&#x3D;nf464_260\" alt=\"‘준결승 진출’ 김우진-김제덕-오진혁 8강 하이라이트 [SBS]\" width=\"232\" height=\"130\">\\n\\n\\t\\t\\t\\t\\t\\t\\n\\t\\t\\t\\t\\t\\t\\t<span class=\"thumb_dim\"></span>\\n\\t\\t\\t\\t\\t\\t\\t<span class=\"thumb_bd\"></span>\\n\\t\\t\\t\\t\\t\\t\\t<i class=\"pm_ico_play\"><span class=\"blind\">재생</span></i>\\n\\t\\t\\t\\t\\t\\t\\t<span class=\"theme_runtime\"><span class=\"runtime_bg\">재생시간</span><em class=\"time\">05:51</em></span>\\n\\t\\t\\t\\t\\t\\t\\n\\t\\t\\t\\t\\t</div>\\n\\t\\t\\t\\t\\t<div class=\"media_info\">\\n\\t\\t\\t\\t\\t\\t<div class=\"info_box\">\\n\\t\\t\\t\\t\\t\\t\\t\\n\\t\\t\\t\\t\\t\\t\\t\\t<em class=\"theme_category\">하이라이트</em>\\n\\t\\t\\t\\t\\t\\t\\t\\n\\t\\t\\t\\t\\t\\t\\t<strong class=\"title \">‘준결승 진출’ 김우진-김제덕-오진혁 8강 하이라이트 [SBS]</strong>\\n\\t\\t\\t\\t\\t\\t\\t<div class=\"source_wrap\">\\n\\t\\t\\t\\t\\t\\t\\t\\t<span class=\"date\">어제</span>\\n\\t\\t\\t\\t\\t\\t\\t\\t<span class=\"source\"><span class=\"source_inner\">양궁 (도쿄올림픽)</span></span>\\n\\t\\t\\t\\t\\t\\t\\t</div>\\n\\t\\t\\t\\t\\t\\t</div>\\n\\t\\t\\t\\t\\t</div>\\n\\t\\t\\t\\t</a>\\n\\t\\t\\t\\n\\t\\t</div>\\n\\t</div>\\n</div>\\n<div class=\"group_theme\" data-block-id=\"5da680b2d296603fab539f17\" data-block-code=\"PC-THEME-SPORTS-NEWS9-5\" data-block-type=\"MATERIALS\" data-template-code=\"3X3\"\\n\\n\\t data-page=\"3\"\\n\\t style=\"display:none\">\\n\\n\\t<div class=\"media_view_wrap type_column\">\\n\\t\\t<div class=\"media_view\">\\n\\t\\t\\t\\n\\t\\t\\t\\t<a href=\"https://sports.news.naver.com/video.nhn?id&#x3D;827996\" class=\"media_area\" data-da-position=\"true\" data-gdid=\"PC-THEME-SPORTS-NEWS9-5[materials][0]\" data-clk=\"tcc_spo.list6cont1\" target=\"_blank\">\\n\\t\\t\\t\\t\\t<div class=\"media_thumb\">\\n\\t\\t\\t\\t\\t\\t<img  data-src=\"https://s.pstatic.net/dthumb.phinf/?src&#x3D;%22https%3A%2F%2Fsports-phinf.pstatic.net%2F%2F20210726_231%2F1627285606617EseQv_JPEG%2FfSh1627284291452-1280-0.jpg%22&amp;type&#x3D;nf464_260\" alt=\"‘결승 진출’ 김우진-김제덕-오진혁 준결승 하이라이트 [SBS]\" width=\"232\" height=\"130\">\\n\\n\\t\\t\\t\\t\\t\\t\\n\\t\\t\\t\\t\\t\\t\\t<span class=\"thumb_dim\"></span>\\n\\t\\t\\t\\t\\t\\t\\t<span class=\"thumb_bd\"></span>\\n\\t\\t\\t\\t\\t\\t\\t<i class=\"pm_ico_play\"><span class=\"blind\">재생</span></i>\\n\\t\\t\\t\\t\\t\\t\\t<span class=\"theme_runtime\"><span class=\"runtime_bg\">재생시간</span><em class=\"time\">09:07</em></span>\\n\\t\\t\\t\\t\\t\\t\\n\\t\\t\\t\\t\\t</div>\\n\\t\\t\\t\\t\\t<div class=\"media_info\">\\n\\t\\t\\t\\t\\t\\t<div class=\"info_box\">\\n\\t\\t\\t\\t\\t\\t\\t\\n\\t\\t\\t\\t\\t\\t\\t\\t<em class=\"theme_category\">하이라이트</em>\\n\\t\\t\\t\\t\\t\\t\\t\\n\\t\\t\\t\\t\\t\\t\\t<strong class=\"title \">‘결승 진출’ 김우진-김제덕-오진혁 준결승 하이라이트 [SBS]</strong>\\n\\t\\t\\t\\t\\t\\t\\t<div class=\"source_wrap\">\\n\\t\\t\\t\\t\\t\\t\\t\\t<span class=\"date\">어제</span>\\n\\t\\t\\t\\t\\t\\t\\t\\t<span class=\"source\"><span class=\"source_inner\">양궁 (도쿄올림픽)</span></span>\\n\\t\\t\\t\\t\\t\\t\\t</div>\\n\\t\\t\\t\\t\\t\\t</div>\\n\\t\\t\\t\\t\\t</div>\\n\\t\\t\\t\\t</a>\\n\\t\\t\\t\\n\\t\\t\\t\\t<a href=\"https://sports.news.naver.com/video.nhn?id&#x3D;827842\" class=\"media_area\" data-da-position=\"true\" data-gdid=\"PC-THEME-SPORTS-NEWS9-5[materials][1]\" data-clk=\"tcc_spo.list6cont2\" target=\"_blank\">\\n\\t\\t\\t\\t\\t<div class=\"media_thumb\">\\n\\t\\t\\t\\t\\t\\t<img  data-src=\"https://s.pstatic.net/dthumb.phinf/?src&#x3D;%22https%3A%2F%2Fsports-phinf.pstatic.net%2F%2F20210726_53%2F1627272698281suhpB_JPEG%2FujW1627271765193-1280-0.jpg%22&amp;type&#x3D;nf464_260\" alt=\"&#x27;리우 금메달리스트를 매칩니다&#x27; 16강 진출하는 안창림 [-73kg 32강] [SBS]\" width=\"232\" height=\"130\">\\n\\n\\t\\t\\t\\t\\t\\t\\n\\t\\t\\t\\t\\t\\t\\t<span class=\"thumb_dim\"></span>\\n\\t\\t\\t\\t\\t\\t\\t<span class=\"thumb_bd\"></span>\\n\\t\\t\\t\\t\\t\\t\\t<i class=\"pm_ico_play\"><span class=\"blind\">재생</span></i>\\n\\t\\t\\t\\t\\t\\t\\t<span class=\"theme_runtime\"><span class=\"runtime_bg\">재생시간</span><em class=\"time\">01:52</em></span>\\n\\t\\t\\t\\t\\t\\t\\n\\t\\t\\t\\t\\t</div>\\n\\t\\t\\t\\t\\t<div class=\"media_info\">\\n\\t\\t\\t\\t\\t\\t<div class=\"info_box\">\\n\\t\\t\\t\\t\\t\\t\\t\\n\\t\\t\\t\\t\\t\\t\\t\\t<em class=\"theme_category\">주요장면</em>\\n\\t\\t\\t\\t\\t\\t\\t\\n\\t\\t\\t\\t\\t\\t\\t<strong class=\"title \">\\'리우 금메달리스트를 매칩니다\\' 16강 진출하는 안창림 [-73kg 32강] [SBS]</strong>\\n\\t\\t\\t\\t\\t\\t\\t<div class=\"source_wrap\">\\n\\t\\t\\t\\t\\t\\t\\t\\t<span class=\"date\">어제</span>\\n\\t\\t\\t\\t\\t\\t\\t\\t<span class=\"source\"><span class=\"source_inner\">유도 (도쿄올림픽)</span></span>\\n\\t\\t\\t\\t\\t\\t\\t</div>\\n\\t\\t\\t\\t\\t\\t</div>\\n\\t\\t\\t\\t\\t</div>\\n\\t\\t\\t\\t</a>\\n\\t\\t\\t\\n\\t\\t\\t\\t<a href=\"https://sports.news.naver.com/video.nhn?id&#x3D;827931\" class=\"media_area\" data-da-position=\"true\" data-gdid=\"PC-THEME-SPORTS-NEWS9-5[materials][2]\" data-clk=\"tcc_spo.list6cont3\" target=\"_blank\">\\n\\t\\t\\t\\t\\t<div class=\"media_thumb\">\\n\\t\\t\\t\\t\\t\\t<img  data-src=\"https://s.pstatic.net/dthumb.phinf/?src&#x3D;%22https%3A%2F%2Fsports-phinf.pstatic.net%2F%2F20210726_74%2F162728806700795wxg_JPEG%2F60fe523c2f29ea6d6ba6444d_upload_1627287618143.jpeg%22&amp;type&#x3D;nf464_260\" alt=\"다이빙 첫 생방송 중계현장!! 우하람, 김영남의 완벽한 다이빙 [KBS]\" width=\"232\" height=\"130\">\\n\\n\\t\\t\\t\\t\\t\\t\\n\\t\\t\\t\\t\\t\\t\\t<span class=\"thumb_dim\"></span>\\n\\t\\t\\t\\t\\t\\t\\t<span class=\"thumb_bd\"></span>\\n\\t\\t\\t\\t\\t\\t\\t<i class=\"pm_ico_play\"><span class=\"blind\">재생</span></i>\\n\\t\\t\\t\\t\\t\\t\\t<span class=\"theme_runtime\"><span class=\"runtime_bg\">재생시간</span><em class=\"time\">01:05</em></span>\\n\\t\\t\\t\\t\\t\\t\\n\\t\\t\\t\\t\\t</div>\\n\\t\\t\\t\\t\\t<div class=\"media_info\">\\n\\t\\t\\t\\t\\t\\t<div class=\"info_box\">\\n\\t\\t\\t\\t\\t\\t\\t\\n\\t\\t\\t\\t\\t\\t\\t\\t<em class=\"theme_category\">주요장면</em>\\n\\t\\t\\t\\t\\t\\t\\t\\n\\t\\t\\t\\t\\t\\t\\t<strong class=\"title \">다이빙 첫 생방송 중계현장!! 우하람, 김영남의 완벽한 다이빙 [KBS]</strong>\\n\\t\\t\\t\\t\\t\\t\\t<div class=\"source_wrap\">\\n\\t\\t\\t\\t\\t\\t\\t\\t<span class=\"date\">어제</span>\\n\\t\\t\\t\\t\\t\\t\\t\\t<span class=\"source\"><span class=\"source_inner\">수영 (도쿄올림픽)</span></span>\\n\\t\\t\\t\\t\\t\\t\\t</div>\\n\\t\\t\\t\\t\\t\\t</div>\\n\\t\\t\\t\\t\\t</div>\\n\\t\\t\\t\\t</a>\\n\\t\\t\\t\\n\\t\\t\\t\\t<a href=\"https://sports.news.naver.com/video.nhn?id&#x3D;828044\" class=\"media_area\" data-da-position=\"true\" data-gdid=\"PC-THEME-SPORTS-NEWS9-5[materials][3]\" data-clk=\"tcc_spo.list6cont4\" target=\"_blank\">\\n\\t\\t\\t\\t\\t<div class=\"media_thumb\">\\n\\t\\t\\t\\t\\t\\t<img  data-src=\"https://s.pstatic.net/dthumb.phinf/?src&#x3D;%22https%3A%2F%2Fsports-phinf.pstatic.net%2F%2F20210726_35%2F1627288601590U2Chz_JPEG%2Fclip_20210726172117_25.jpg%22&amp;type&#x3D;nf464_260\" alt=\"양궁 남자 단체 2연패 달성의 순간! [MBC]\" width=\"232\" height=\"130\">\\n\\n\\t\\t\\t\\t\\t\\t\\n\\t\\t\\t\\t\\t\\t\\t<span class=\"thumb_dim\"></span>\\n\\t\\t\\t\\t\\t\\t\\t<span class=\"thumb_bd\"></span>\\n\\t\\t\\t\\t\\t\\t\\t<i class=\"pm_ico_play\"><span class=\"blind\">재생</span></i>\\n\\t\\t\\t\\t\\t\\t\\t<span class=\"theme_runtime\"><span class=\"runtime_bg\">재생시간</span><em class=\"time\">02:57</em></span>\\n\\t\\t\\t\\t\\t\\t\\n\\t\\t\\t\\t\\t</div>\\n\\t\\t\\t\\t\\t<div class=\"media_info\">\\n\\t\\t\\t\\t\\t\\t<div class=\"info_box\">\\n\\t\\t\\t\\t\\t\\t\\t\\n\\t\\t\\t\\t\\t\\t\\t\\t<em class=\"theme_category\">주요장면</em>\\n\\t\\t\\t\\t\\t\\t\\t\\n\\t\\t\\t\\t\\t\\t\\t<strong class=\"title \">양궁 남자 단체 2연패 달성의 순간! [MBC]</strong>\\n\\t\\t\\t\\t\\t\\t\\t<div class=\"source_wrap\">\\n\\t\\t\\t\\t\\t\\t\\t\\t<span class=\"date\">어제</span>\\n\\t\\t\\t\\t\\t\\t\\t\\t<span class=\"source\"><span class=\"source_inner\">양궁 (도쿄올림픽)</span></span>\\n\\t\\t\\t\\t\\t\\t\\t</div>\\n\\t\\t\\t\\t\\t\\t</div>\\n\\t\\t\\t\\t\\t</div>\\n\\t\\t\\t\\t</a>\\n\\t\\t\\t\\n\\t\\t\\t\\t<a href=\"https://sports.news.naver.com/video.nhn?id&#x3D;827960\" class=\"media_area\" data-da-position=\"true\" data-gdid=\"PC-THEME-SPORTS-NEWS9-5[materials][4]\" data-clk=\"tcc_spo.list6cont5\" target=\"_blank\">\\n\\t\\t\\t\\t\\t<div class=\"media_thumb\">\\n\\t\\t\\t\\t\\t\\t<img  data-src=\"https://s.pstatic.net/dthumb.phinf/?src&#x3D;%22https%3A%2F%2Fsports-phinf.pstatic.net%2F%2F20210726_279%2F1627282661499wWmSh_JPEG%2F97B1627282133085-1280-0.jpg%22&amp;type&#x3D;nf464_260\" alt=\"만만치 않은 일본, 슛오프로 향하는 경기 [단체 준결] [SBS]\" width=\"232\" height=\"130\">\\n\\n\\t\\t\\t\\t\\t\\t\\n\\t\\t\\t\\t\\t\\t\\t<span class=\"thumb_dim\"></span>\\n\\t\\t\\t\\t\\t\\t\\t<span class=\"thumb_bd\"></span>\\n\\t\\t\\t\\t\\t\\t\\t<i class=\"pm_ico_play\"><span class=\"blind\">재생</span></i>\\n\\t\\t\\t\\t\\t\\t\\t<span class=\"theme_runtime\"><span class=\"runtime_bg\">재생시간</span><em class=\"time\">01:56</em></span>\\n\\t\\t\\t\\t\\t\\t\\n\\t\\t\\t\\t\\t</div>\\n\\t\\t\\t\\t\\t<div class=\"media_info\">\\n\\t\\t\\t\\t\\t\\t<div class=\"info_box\">\\n\\t\\t\\t\\t\\t\\t\\t\\n\\t\\t\\t\\t\\t\\t\\t\\t<em class=\"theme_category\">주요장면</em>\\n\\t\\t\\t\\t\\t\\t\\t\\n\\t\\t\\t\\t\\t\\t\\t<strong class=\"title \">만만치 않은 일본, 슛오프로 향하는 경기 [단체 준결] [SBS]</strong>\\n\\t\\t\\t\\t\\t\\t\\t<div class=\"source_wrap\">\\n\\t\\t\\t\\t\\t\\t\\t\\t<span class=\"date\">어제</span>\\n\\t\\t\\t\\t\\t\\t\\t\\t<span class=\"source\"><span class=\"source_inner\">양궁 (도쿄올림픽)</span></span>\\n\\t\\t\\t\\t\\t\\t\\t</div>\\n\\t\\t\\t\\t\\t\\t</div>\\n\\t\\t\\t\\t\\t</div>\\n\\t\\t\\t\\t</a>\\n\\t\\t\\t\\n\\t\\t\\t\\t<a href=\"https://sports.news.naver.com/video.nhn?id&#x3D;828021\" class=\"media_area\" data-da-position=\"true\" data-gdid=\"PC-THEME-SPORTS-NEWS9-5[materials][5]\" data-clk=\"tcc_spo.list6cont6\" target=\"_blank\">\\n\\t\\t\\t\\t\\t<div class=\"media_thumb\">\\n\\t\\t\\t\\t\\t\\t<img  data-src=\"https://s.pstatic.net/dthumb.phinf/?src&#x3D;%22https%3A%2F%2Fsports-phinf.pstatic.net%2F%2F20210726_81%2F1627288903196d0qDU_JPEG%2FvL91627288285892-1280-0.jpg%22&amp;type&#x3D;nf464_260\" alt=\"‘ALL 10’ 60점 만점! 승기를 잡는 김우진-김제덕-오진혁 [단체 결승] [SBS]\" width=\"232\" height=\"130\">\\n\\n\\t\\t\\t\\t\\t\\t\\n\\t\\t\\t\\t\\t\\t\\t<span class=\"thumb_dim\"></span>\\n\\t\\t\\t\\t\\t\\t\\t<span class=\"thumb_bd\"></span>\\n\\t\\t\\t\\t\\t\\t\\t<i class=\"pm_ico_play\"><span class=\"blind\">재생</span></i>\\n\\t\\t\\t\\t\\t\\t\\t<span class=\"theme_runtime\"><span class=\"runtime_bg\">재생시간</span><em class=\"time\">04:19</em></span>\\n\\t\\t\\t\\t\\t\\t\\n\\t\\t\\t\\t\\t</div>\\n\\t\\t\\t\\t\\t<div class=\"media_info\">\\n\\t\\t\\t\\t\\t\\t<div class=\"info_box\">\\n\\t\\t\\t\\t\\t\\t\\t\\n\\t\\t\\t\\t\\t\\t\\t\\t<em class=\"theme_category\">주요장면</em>\\n\\t\\t\\t\\t\\t\\t\\t\\n\\t\\t\\t\\t\\t\\t\\t<strong class=\"title \">‘ALL 10’ 60점 만점! 승기를 잡는 김우진-김제덕-오진혁 [단체 결승] [SBS]</strong>\\n\\t\\t\\t\\t\\t\\t\\t<div class=\"source_wrap\">\\n\\t\\t\\t\\t\\t\\t\\t\\t<span class=\"date\">어제</span>\\n\\t\\t\\t\\t\\t\\t\\t\\t<span class=\"source\"><span class=\"source_inner\">양궁 (도쿄올림픽)</span></span>\\n\\t\\t\\t\\t\\t\\t\\t</div>\\n\\t\\t\\t\\t\\t\\t</div>\\n\\t\\t\\t\\t\\t</div>\\n\\t\\t\\t\\t</a>\\n\\t\\t\\t\\n\\t\\t\\t\\t<a href=\"https://sports.news.naver.com/video.nhn?id&#x3D;827889\" class=\"media_area\" data-da-position=\"true\" data-gdid=\"PC-THEME-SPORTS-NEWS9-5[materials][6]\" data-clk=\"tcc_spo.list6cont7\" target=\"_blank\">\\n\\t\\t\\t\\t\\t<div class=\"media_thumb\">\\n\\t\\t\\t\\t\\t\\t<img  data-src=\"https://s.pstatic.net/dthumb.phinf/?src&#x3D;%22https%3A%2F%2Fsports-phinf.pstatic.net%2F%2F20210726_202%2F1627279598154l9tHN_JPEG%2FnC81627279002138-1280-0.jpg%22&amp;type&#x3D;nf464_260\" alt=\"‘번개같은 기술’ 더티플레이 이겨낸 안창림 8강 진출 [-73kg 16강] [SBS]\" width=\"232\" height=\"130\">\\n\\n\\t\\t\\t\\t\\t\\t\\n\\t\\t\\t\\t\\t\\t\\t<span class=\"thumb_dim\"></span>\\n\\t\\t\\t\\t\\t\\t\\t<span class=\"thumb_bd\"></span>\\n\\t\\t\\t\\t\\t\\t\\t<i class=\"pm_ico_play\"><span class=\"blind\">재생</span></i>\\n\\t\\t\\t\\t\\t\\t\\t<span class=\"theme_runtime\"><span class=\"runtime_bg\">재생시간</span><em class=\"time\">02:32</em></span>\\n\\t\\t\\t\\t\\t\\t\\n\\t\\t\\t\\t\\t</div>\\n\\t\\t\\t\\t\\t<div class=\"media_info\">\\n\\t\\t\\t\\t\\t\\t<div class=\"info_box\">\\n\\t\\t\\t\\t\\t\\t\\t\\n\\t\\t\\t\\t\\t\\t\\t\\t<em class=\"theme_category\">주요장면</em>\\n\\t\\t\\t\\t\\t\\t\\t\\n\\t\\t\\t\\t\\t\\t\\t<strong class=\"title \">‘번개같은 기술’ 더티플레이 이겨낸 안창림 8강 진출 [-73kg 16강] [SBS]</strong>\\n\\t\\t\\t\\t\\t\\t\\t<div class=\"source_wrap\">\\n\\t\\t\\t\\t\\t\\t\\t\\t<span class=\"date\">어제</span>\\n\\t\\t\\t\\t\\t\\t\\t\\t<span class=\"source\"><span class=\"source_inner\">유도 (도쿄올림픽)</span></span>\\n\\t\\t\\t\\t\\t\\t\\t</div>\\n\\t\\t\\t\\t\\t\\t</div>\\n\\t\\t\\t\\t\\t</div>\\n\\t\\t\\t\\t</a>\\n\\t\\t\\t\\n\\t\\t\\t\\t<a href=\"https://sports.news.naver.com/video.nhn?id&#x3D;828040\" class=\"media_area\" data-da-position=\"true\" data-gdid=\"PC-THEME-SPORTS-NEWS9-5[materials][7]\" data-clk=\"tcc_spo.list6cont8\" target=\"_blank\">\\n\\t\\t\\t\\t\\t<div class=\"media_thumb\">\\n\\t\\t\\t\\t\\t\\t<img  data-src=\"https://s.pstatic.net/dthumb.phinf/?src&#x3D;%22https%3A%2F%2Fsports-phinf.pstatic.net%2F%2F20210726_10%2F1627288904242Asu4x_JPEG%2F4AM1627287205727-1280-0.jpg%22&amp;type&#x3D;nf464_260\" alt=\"‘남자 단체전 2연패’ 김우진-김제덕-오진혁 결승 하이라이트 [단체 결승] [SBS]\" width=\"232\" height=\"130\">\\n\\n\\t\\t\\t\\t\\t\\t\\n\\t\\t\\t\\t\\t\\t\\t<span class=\"thumb_dim\"></span>\\n\\t\\t\\t\\t\\t\\t\\t<span class=\"thumb_bd\"></span>\\n\\t\\t\\t\\t\\t\\t\\t<i class=\"pm_ico_play\"><span class=\"blind\">재생</span></i>\\n\\t\\t\\t\\t\\t\\t\\t<span class=\"theme_runtime\"><span class=\"runtime_bg\">재생시간</span><em class=\"time\">03:47</em></span>\\n\\t\\t\\t\\t\\t\\t\\n\\t\\t\\t\\t\\t</div>\\n\\t\\t\\t\\t\\t<div class=\"media_info\">\\n\\t\\t\\t\\t\\t\\t<div class=\"info_box\">\\n\\t\\t\\t\\t\\t\\t\\t\\n\\t\\t\\t\\t\\t\\t\\t\\t<em class=\"theme_category\">하이라이트</em>\\n\\t\\t\\t\\t\\t\\t\\t\\n\\t\\t\\t\\t\\t\\t\\t<strong class=\"title \">‘남자 단체전 2연패’ 김우진-김제덕-오진혁 결승 하이라이트 [단체 결승] [SBS]</strong>\\n\\t\\t\\t\\t\\t\\t\\t<div class=\"source_wrap\">\\n\\t\\t\\t\\t\\t\\t\\t\\t<span class=\"date\">어제</span>\\n\\t\\t\\t\\t\\t\\t\\t\\t<span class=\"source\"><span class=\"source_inner\">양궁 (도쿄올림픽)</span></span>\\n\\t\\t\\t\\t\\t\\t\\t</div>\\n\\t\\t\\t\\t\\t\\t</div>\\n\\t\\t\\t\\t\\t</div>\\n\\t\\t\\t\\t</a>\\n\\t\\t\\t\\n\\t\\t\\t\\t<a href=\"https://sports.news.naver.com/video.nhn?id&#x3D;827976\" class=\"media_area\" data-da-position=\"true\" data-gdid=\"PC-THEME-SPORTS-NEWS9-5[materials][8]\" data-clk=\"tcc_spo.list6cont9\" target=\"_blank\">\\n\\t\\t\\t\\t\\t<div class=\"media_thumb\">\\n\\t\\t\\t\\t\\t\\t<img  data-src=\"https://s.pstatic.net/dthumb.phinf/?src&#x3D;%22https%3A%2F%2Fsports-phinf.pstatic.net%2F%2F20210726_99%2F1627283561119z0at4_JPEG%2Fclip_20210726160536_11.jpg%22&amp;type&#x3D;nf464_260\" alt=\"&#x27;준결승 한일전&#x27; 막내가 또 일냈다! 슛오프 승부 끝 결승진출 [MBC]\" width=\"232\" height=\"130\">\\n\\n\\t\\t\\t\\t\\t\\t\\n\\t\\t\\t\\t\\t\\t\\t<span class=\"thumb_dim\"></span>\\n\\t\\t\\t\\t\\t\\t\\t<span class=\"thumb_bd\"></span>\\n\\t\\t\\t\\t\\t\\t\\t<i class=\"pm_ico_play\"><span class=\"blind\">재생</span></i>\\n\\t\\t\\t\\t\\t\\t\\t<span class=\"theme_runtime\"><span class=\"runtime_bg\">재생시간</span><em class=\"time\">01:42</em></span>\\n\\t\\t\\t\\t\\t\\t\\n\\t\\t\\t\\t\\t</div>\\n\\t\\t\\t\\t\\t<div class=\"media_info\">\\n\\t\\t\\t\\t\\t\\t<div class=\"info_box\">\\n\\t\\t\\t\\t\\t\\t\\t\\n\\t\\t\\t\\t\\t\\t\\t\\t<em class=\"theme_category\">주요장면</em>\\n\\t\\t\\t\\t\\t\\t\\t\\n\\t\\t\\t\\t\\t\\t\\t<strong class=\"title \">\\'준결승 한일전\\' 막내가 또 일냈다! 슛오프 승부 끝 결승진출 [MBC]</strong>\\n\\t\\t\\t\\t\\t\\t\\t<div class=\"source_wrap\">\\n\\t\\t\\t\\t\\t\\t\\t\\t<span class=\"date\">어제</span>\\n\\t\\t\\t\\t\\t\\t\\t\\t<span class=\"source\"><span class=\"source_inner\">양궁 (도쿄올림픽)</span></span>\\n\\t\\t\\t\\t\\t\\t\\t</div>\\n\\t\\t\\t\\t\\t\\t</div>\\n\\t\\t\\t\\t\\t</div>\\n\\t\\t\\t\\t</a>\\n\\t\\t\\t\\n\\t\\t</div>\\n\\t</div>\\n</div>\\n\\n\\n\\n\\n\\t<div class=\"btn_more_wrap\">\\n\\t\\t<button type=\"button\" class=\"btn_more\" data-clk-custom=\"tcc_spo.more\" data-next-page=\"2\"><i class=\"ico_more\"></i>새로운 글 더보기</button>\\n\\t</div>\\n\\n\\n\\t</div>\\n</div>\\n </div> </div> <div id=\"NM_INT_RIGHT\" class=\"column_right\"> <div class=\"column_fix_wrap\"> <div id=\"da_brand\"></div> \\n\\n\\n\\n\\n<div id=\"account\" class=\"sc_login\">\\n<h2 class=\"blind\">Sign in</h2>\\n<p class=\"login_msg\">Connect with people</p>\\n<a href=\"https://nid.naver.com/nidlogin.login?mode=form&url=https%3A%2F%2Fwww.naver.com\" class=\"link_login\" data-clk=\"log_off.login\"><i class=\"ico_naver\"><span class=\"blind\">NAVER</span></i>Sign in</a>\\n<div class=\"sub_area\">\\n<div class=\"look_box\">\\n<a href=\"https://nid.naver.com/user/help.nhn?todo=idinquiry\" class=\"link_look\" data-clk=\"log_off.searchid\">Forgot Username</a>\\n<a href=\"https://nid.naver.com/nidreminder.form\" class=\"link_look\" data-clk=\"log_off.searchpass\">Password</a>\\n</div>\\n<a href=\"https://nid.naver.com/nidregister.form?url=https%3A%2F%2Fwww.naver.com\" class=\"link_join\" data-clk=\"log_off.registration\">Sign up</a>\\n</div>\\n</div>\\n\\n\\n\\n <div id=\"timesquare\" class=\"sc_timesquare\"> <h2 class=\"blind\">타임스퀘어</h2> <div class=\"card_wrap\">\\n<div class=\"card_nav\">\\n<a href=\"#\" role=\"button\" class=\"btn_nav btn_prev\" data-clk=\"squ.pre\"><span class=\"blind\">이전</span></a>\\n<a href=\"#\" role=\"button\" class=\"btn_nav btn_next\" data-clk=\"squ.next\"><span class=\"blind\">다음</span></a>\\n</div>\\n<div id=\"NM_TS_ROLLING_WRAP\" style=\"height: 100%;\">\\n<div>\\n<a href=\"https://news.naver.com/main/home.nhn\" class=\"card_news\" data-clk=\"squ.line2\"><i class=\"news_badge type_flash\">신문1면</i><span class=\"news\">언론사 헤드라인 보기</span></a>\\n</div>\\n<div>\\n<a href=\"https://search.naver.com/search.naver?sm=top_hty&amp;fbm=0&amp;ie=utf8&amp;query=%EC%BD%94%EB%A1%9C%EB%82%9819\" class=\"card_news\" data-clk=\"squ.line3\"><i class=\"news_badge\">이슈</i><span class=\"news\">코로나바이러스감염증-19 현황</span></a>\\n</div>\\n<div>\\n<a href=\"https://finance.naver.com/sise/sise_index.nhn?code=KOSPI\" class=\"card_stock \" data-clk=\"squ.kospi\">\\n<strong class=\"stock_title\">증시</strong>\\n<div class=\"stock_box\">\\n<em class=\"name\">코스피</em>\\n<strong class=\"current\">3,229.85</strong>\\n<span class=\"rate rate_down\">2.68 -0.08%</span>\\n</div>\\n</a>\\n</div>\\n<div>\\n<a href=\"https://finance.naver.com/sise/sise_index.nhn?code=KOSDAQ\" class=\"card_stock \" data-clk=\"squ.kosdaq\">\\n<strong class=\"stock_title\">증시</strong>\\n<div class=\"stock_box\">\\n<em class=\"name\">코스닥</em>\\n<strong class=\"current\">1,044.92</strong>\\n<span class=\"rate rate_down\">1.63 -0.16%</span>\\n</div>\\n</a>\\n</div>\\n<div>\\n<a href=\"https://finance.naver.com/marketindex/exchangeDetail.nhn?marketindexCd=FX_USDKRW\" class=\"card_stock type_exchange\" data-clk=\"squ.usd\">\\n<strong class=\"stock_title\">환율</strong>\\n<div class=\"stock_box\">\\n<em class=\"name\">USD</em>\\n<strong class=\"current\">1,154.60</strong>\\n<span class=\"rate rate_up\">0.60 +0.05%</span>\\n</div>\\n</a>\\n</div>\\n</div>\\n</div> <!-- EMPTY --> </div>  <div id=\"veta_branding\"> <iframe id=\"da_iframe_rolling\" name=\"da_iframe_rolling\" data-iframe-src=\"https://siape.veta.naver.com/fxshow?su=SU10601&amp;nrefreshx=0\" data-veta-preview=\"main_rolling\" title=\"광고\" width=\"350\" height=\"200\" marginheight=\"0\" marginwidth=\"0\" scrolling=\"no\" frameborder=\"0\"></iframe> <span class=\"veta_bd_t\"></span> <span class=\"veta_bd_b\"></span> <span class=\"veta_bd_l\"></span> <span class=\"veta_bd_r\"></span> </div>   <div id=\"shopcast\" class=\"sc_shopcast\"> <iframe id=\"shopcast_iframe\" data-iframe-src=\"https://castbox.shopping.naver.com/shoppingboxnew/main.nhn\" title=\"쇼핑캐스트\" width=\"350\" height=\"1539\" marginheight=\"0\" marginwidth=\"0\" scrolling=\"no\" frameborder=\"0\"></iframe> </div> </div> </div> <a id=\"NM_scroll_top_btn\" href=\"#wrap\" class=\"content_top\"><span class=\"blind\">TOP</span></a> <button id=\"NM_darkmode_btn\" type=\"button\" role=\"button\" class=\"btn_theme\" aria-pressed=\"false\"  > <span class=\"blind\">라이트 모드로 보기</span> </button> </div> <div id=\"footer\" role=\"contentinfo\"> <div class=\"footer_inner\"> <div class=\"banner_area\"> <div class=\"da_box_wrap\">    <div id=\"da_public_left\"> <iframe id=\"da_iframe_bottom_left\" data-iframe-src=\"https://siape.veta.naver.com/fxshow?su=SU10641&amp;nrefreshx=0\" title=\"광고\" width=\"350\" height=\"86\" scrolling=\"no\" frameborder=\"0\"></iframe> </div> <div id=\"da_public_right\"> <iframe id=\"da_iframe_bottom_right\" data-iframe-src=\"https://siape.veta.naver.com/fxshow?su=SU10642&amp;nrefreshx=0\" title=\"광고\" width=\"350\" height=\"86\" scrolling=\"no\" frameborder=\"0\"></iframe> </div> <div id=\"veta_time2\"> <iframe id=\"da_iframe_below\" name=\"da_iframe_below\" data-iframe-src=\"https://siape.veta.naver.com/fxshow?su=SU10640&amp;nrefreshx=0\" data-veta-preview=\"main_below\" width=\"350\" height=\"86\" scrolling=\"no\" frameborder=\"0\" title=\"광고\"> </iframe> </div> </div> </div> <div class=\"notice_area\" data-clk-prefix=\"ntc\"> <div class=\"notice_box\"> <h3 class=\"title\"><a href=\"https://www.naver.com/NOTICE\">공지사항</a> </h3> <!-- EMPTY --> </div> <a href=\"more.html\" class=\"link_all\" data-clk=\"svcmap\">서비스 전체보기</a> </div> <div class=\"aside_area\"> <div class=\"partner_box_wrap\"> <div class=\"partner_box\" data-clk-prefix=\"crt\"> <h3 class=\"title\">Creators</h3> <a href=\"https://www.navercorp.com/service/creators\" class=\"link_partner\" data-clk=\"creator\">크리에이터</a> <a href=\"https://www.navercorp.com/service/business\" class=\"link_partner\" data-clk=\"smbusiness\">스몰비즈니스</a> </div> <div class=\"partner_box\" data-clk-prefix=\"crt\"> <h3 class=\"title\">Partners</h3> <a href=\"https://campaign.naver.com/smefullcare/online/\" class=\"link_partner\" data-clk=\"sme\">SME 풀케어 시스템</a> <a href=\"https://business.naver.com/service.html\" class=\"link_partner\" data-clk=\"service\">비즈니스 · 광고</a> <a href=\"https://sell.storefarm.naver.com/#/home/about\" class=\"link_partner\" data-clk=\"store\">스토어 개설</a> <a href=\"https://smartplace.naver.com\" class=\"link_partner\" data-clk=\"place\">지역업체 등록</a> <a href=\"https://expert.naver.com/expert/introduction?tab=guide#join\" class=\"link_partner\" data-clk=\"expert\">엑스퍼트 등록</a> </div> <div class=\"partner_box\" data-clk-prefix=\"crt\"> <h3 class=\"title\">Developers</h3> <a href=\"https://developers.naver.com\" class=\"link_partner\" data-clk=\"center\">네이버 개발자 센터</a> <a href=\"https://developers.naver.com/docs/common/openapiguide/#/apilist.md\" class=\"link_partner\" data-clk=\"openapi\">오픈 API</a> <a href=\"https://naver.github.io\" class=\"link_partner\" data-clk=\"opensource\">오픈소스</a> <a href=\"https://d2.naver.com\" class=\"link_partner\" data-clk=\"d2\">네이버 D2</a> <a href=\"http://d2startup.com\" class=\"link_partner\" data-clk=\"naverD2SF\">네이버 D2SF</a> <a href=\"https://www.naverlabs.com\" class=\"link_partner\" data-clk=\"labs\">네이버 랩스</a> </div> </div> <div class=\"service_box_wrap\"> <div class=\"service_box\" data-clk-prefix=\"wbd\"> <a href=\"http://whale.naver.com/\" class=\"service_logo\" data-clk=\"bt\"> <img src=\"data:image/png;base64,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\" alt=\"웨일\" width=\"48\" height=\"48\"> </a> <div class=\"service_info\"> <strong class=\"title\">웨일 브라우저</strong> <a href=\"http://whale.naver.com/\" class=\"dsc\" data-clk=\"bt\">다운받기</a> </div> </div> <div class=\"service_box\" data-clk-prefix=\"prj\"> <a href=\"https://search.naver.com/search.naver?where=nexearch&sm=top_hty&fbm=1&ie=utf8&query=%ED%94%84%EB%A1%9C%EC%A0%9D%ED%8A%B8%EA%BD%83\" class=\"service_logo\" data-clk=\"link\"> <img src=\"data:image/png;base64,iVBORw0KGgoAAAANSUhEUgAAAF4AAABkCAMAAAA47XeXAAAAgVBMVEUAAADN5PdGm99Gm99Gm99Gm99Gm95Gm99Gm99Gm99Gm99Gm99Gm99Gm99Gm99Gm99Gm99Gm99Gm99Gm99Gm99Gm99Gm99Gmt9Gm99Gm99Gm99Gm95Gm99Gm99Gm95Gm99Hm99Gm99Gm9/////3+/5cp+LO5PfR5/fO5fdcp+P7/f/zv5GhAAAAInRSTlMA/v7vH9u5qJNgGwb6l8a9uqF9WFUyLxYMCtbVmLCwe4OCj8gzEgAAA0NJREFUaN7NmmFz4iAQhkkwMTHGWrWtWvWuq8mF+/8/8Ey2nb0OhSwQZnw+MHQ7pbjAy2s2gsuiLPJMLpcyy4tyISZltnmHbxw3MzEVr/MUNNL5q5iCt2ccXCN9fhPB7CQYkTsRRlWDlboSAexzGCHfC28OKxhldfDOzBMwePLNTw0sauHFFphshQcLCUwkaQRfXYBPSkrEUBdv3jezcXXhw1ciUhc+fCUidQlH7qzqEk5d2dQlnHxvU5dwVgdXdSGclaiGyamt6hLO1qIu4ZASzcFE092SBprk1jagulvXAAw/qb5N7m176xQYmOPoLymYaK/X65/PNhlagE6LGUhfRM8FjNzuf/73//bHmInzoJEpjMyeWpp9RzGz/PT6+QvMNO2Q+67PPeYZY5h7jDVg5OM+/BGikd13JfDAj/Ad1WLMyEyUwKPT00ypN1GKAljQJtFiFgqRe86eYhbWIvPPPR5d+9pKiIgUwKNJdHXBvW9jyRye1EWLWYfnJcd141Byspizz7gbUyWDuqiW0v15D9g3ZgF86JwyKUgUHJaATUmS5rsEdkkTZLjZS8Alw+skFr8Nl6H6uosShaKOp3Zo+/jgFTDe+wcSfv0yFGfQaLX7tDO0reXOPRuMCG4Q11Y3IiYblWgzS7R+h31qdRtlGB7zikeUckz+AB3a8FuMqD7Cd2nhUHLOEIkLubQIkEuLxIdwEwUy3HyXxsbgPMJcGuGox+TSIugxuTQ+KHIaAS5N92eIIuMT5tJoPfHy5q9yKoXLelLuKRri0mjMQdhwTPw6Sv8pzKXhFyhNilEwkSCXRrnAnaPnJdyl0UrqXircpeHVglnv+62K4NJo3lFcGmWd79KO7OQoXAE8XNO6tIQGxj7fpfHTwk8RubQLWEGvgTNGKzj01fixunCMCCYcvSSlaFwUyKVx86J3bczpUR3zimq1LqdosAUbJF54ar+uk5Gju436mPTk8ZAXFdO93HRYTesUVgf3B+y0XdxLfdVputmfKp/iBtNjyl3c0kzUwtJIWewIPvAL9LOyWLsV9WAps3VRzh6hJBm3oOqsRKfHLGYzS/GP+iLBuBKdqkd+iWPkFZTHf4Em4us/uhI5qss/6zK5u8+AXpwAAAAASUVORK5CYII=\" alt=\"꽃\" width=\"47\" height=\"50\"> </a> <div class=\"service_info\"> <strong class=\"title\">프로젝트 꽃</strong> <a href=\"https://search.naver.com/search.naver?where=nexearch&sm=top_hty&fbm=1&ie=utf8&query=%ED%94%84%EB%A1%9C%EC%A0%9D%ED%8A%B8%EA%BD%83\" class=\"dsc\" data-clk=\"link\">바로가기</a> </div> </div> </div> </div> <div class=\"corp_area\" data-clk-prefix=\"plc\"> <h3 class=\"blind\">네이버 정책 및 약관</h3> <ul class=\"list_corp\"> <li class=\"corp_item\"><a href=\"https://www.navercorp.com\" data-clk=\"intronhn\">회사소개</a></li> <li class=\"corp_item\"><a href=\"https://recruit.navercorp.com/naver/recruitMain\" data-clk=\"recruit\">인재채용</a></li> <li class=\"corp_item\"><a href=\"https://www.navercorp.com/naver/proposalGuide\" data-clk=\"contact\">제휴제안</a></li> <li class=\"corp_item\"><a href=\"/policy/service.html\" data-clk=\"service\">이용약관</a></li> <li class=\"corp_item\"><a href=\"/policy/privacy.html\" data-clk=\"privacy\"><strong>개인정보처리방침</strong></a></li> <li class=\"corp_item\"><a href=\"/policy/youthpolicy.html\" data-clk=\"youth\">청소년보호정책</a></li> <li class=\"corp_item\"><a href=\"/policy/spamcheck.html\" data-clk=\"policy\">네이버 정책</a></li> <li class=\"corp_item\"><a href=\"https://help.naver.com/\" data-clk=\"helpcenter\">고객센터</a></li> </ul> <address class=\"addr\"><a href=\"https://www.navercorp.com\" target=\"_blank\" data-clk=\"nhn\">ⓒ NAVER Corp.</a></address> </div> </div> </div> </div> <div id=\"adscript\" style=\"display:none\"></div> </body> </html>\\n'"
      ]
     },
     "execution_count": 7,
     "metadata": {},
     "output_type": "execute_result"
    }
   ],
   "source": [
    "naver.text"
   ]
  },
  {
   "cell_type": "code",
   "execution_count": 8,
   "id": "4deeff0e",
   "metadata": {},
   "outputs": [],
   "source": [
    "from bs4 import BeautifulSoup"
   ]
  },
  {
   "cell_type": "code",
   "execution_count": 9,
   "id": "0d2ae85c",
   "metadata": {},
   "outputs": [],
   "source": [
    "bs = BeautifulSoup(naver.text, \"html.parser\")"
   ]
  },
  {
   "cell_type": "code",
   "execution_count": 10,
   "id": "3a07feca",
   "metadata": {},
   "outputs": [
    {
     "data": {
      "text/plain": [
       "\n",
       "<!DOCTYPE html>\n",
       " <html data-dark=\"false\" lang=\"ko\"> <head> <meta charset=\"utf-8\"/> <title>NAVER</title> <meta content=\"IE=edge\" http-equiv=\"X-UA-Compatible\"/> <meta content=\"width=1190\" name=\"viewport\"/> <meta content=\"NAVER\" name=\"apple-mobile-web-app-title\"> <meta content=\"index,nofollow\" name=\"robots\"> <meta content=\"네이버 메인에서 다양한 정보와 유용한 컨텐츠를 만나 보세요\" name=\"description\"> <meta content=\"네이버\" property=\"og:title\"/> <meta content=\"https://www.naver.com/\" property=\"og:url\"/> <meta content=\"https://s.pstatic.net/static/www/mobile/edit/2016/0705/mobile_212852414260.png\" property=\"og:image\"/> <meta content=\"네이버 메인에서 다양한 정보와 유용한 컨텐츠를 만나 보세요\" property=\"og:description\"> <meta content=\"summary\" name=\"twitter:card\"/> <meta content=\"\" name=\"twitter:title\"/> <meta content=\"https://www.naver.com/\" name=\"twitter:url\"/> <meta content=\"https://s.pstatic.net/static/www/mobile/edit/2016/0705/mobile_212852414260.png\" name=\"twitter:image\"/> <meta content=\"네이버 메인에서 다양한 정보와 유용한 컨텐츠를 만나 보세요\" name=\"twitter:description\"> <link href=\"https://pm.pstatic.net/dist/css/nmain.20210715.css\" rel=\"stylesheet\"/> <link href=\"https://ssl.pstatic.net/sstatic/search/pc/css/sp_autocomplete_210318.css\" rel=\"stylesheet\"/> <link href=\"/favicon.ico?1\" rel=\"shortcut icon\" type=\"image/x-icon\"> <link href=\"https://s.pstatic.net/static/www/u/2014/0328/mma_204243574.png\" rel=\"apple-touch-icon\" sizes=\"114x114\"> <link href=\"https://s.pstatic.net/static/www/u/2014/0328/mma_20432863.png\" rel=\"apple-touch-icon\"/> <script>document.domain=\"naver.com\",window.nmain=window.nmain||{},window.nmain.supportFlicking=!1;var nsc=\"navertop.v4\",ua=navigator.userAgent;window.nmain.isIE=navigator.appName&&navigator.appName.indexOf(\"Explorer\")>0&&ua.toLocaleLowerCase().indexOf(\"msie 10.0\")<0,document.getElementsByTagName(\"html\")[0].setAttribute(\"data-useragent\",ua),window.nmain.isIE&&(Object.create=function(n){function a(){}return a.prototype=n,new a})</script> <script>var darkmode= false;window.naver_corp_da=window.naver_corp_da||{main:{}},window.naver_corp_da.main=window.naver_corp_da.main||{},window.naver_corp_da.main.darkmode=darkmode,window.gladsdk=window.gladsdk||{cmd:[]},window.gladsdk.cmd.push((function(){window.gladsdk.setHostMeta(\"theme\",darkmode?\"dark\":\"light\")}))</script> <script> window.nmain.gv = {  isLogin: false,\n",
       "useId: null,   daInfo: {\"ANIMAL\":{\"menu\":\"ANIMAL\",\"childMenu\":\"\",\"adType\":\"singleDom\",\"multiDomAdUrl\":\"\",\"multiDomUnit\":\"\",\"infoList\":[{\"adposId\":\"1000161\",\"singleDomAdUrl\":\"https://siape.veta.naver.com/fxshow\",\"param\":{\"da_dom_id\":\"p_main_animal_1\",\"tb\":\"ANIMAL_1\",\"unit\":\"SU10567\",\"calp\":\"-\"},\"type\":{\"position\":\"abs\",\"positionIndex\":4,\"subject\":\"contents\"},\"dom\":null},{\"adposId\":\"1000162\",\"singleDomAdUrl\":\"https://siape.veta.naver.com/fxshow\",\"param\":{\"da_dom_id\":\"p_main_animal_2\",\"tb\":\"ANIMAL_1\",\"unit\":\"SU10568\",\"calp\":\"-\"},\"type\":{\"position\":\"abs\",\"positionIndex\":8,\"subject\":\"contents\"},\"dom\":null}]},\"BEAUTY\":{\"menu\":\"BEAUTY\",\"childMenu\":\"\",\"adType\":\"singleDom\",\"multiDomAdUrl\":\"\",\"multiDomUnit\":\"\",\"infoList\":[{\"adposId\":\"1000163\",\"singleDomAdUrl\":\"https://siape.veta.naver.com/fxshow\",\"param\":{\"da_dom_id\":\"p_main_beauty_1\",\"tb\":\"BEAUTY_1\",\"unit\":\"SU10595\",\"calp\":\"-\"},\"type\":{\"position\":\"abs\",\"positionIndex\":4,\"subject\":\"contents\"},\"dom\":null},{\"adposId\":\"1000164\",\"singleDomAdUrl\":\"https://siape.veta.naver.com/fxshow\",\"param\":{\"da_dom_id\":\"p_main_beauty_2\",\"tb\":\"BEAUTY_1\",\"unit\":\"SU10596\",\"calp\":\"-\"},\"type\":{\"position\":\"abs\",\"positionIndex\":8,\"subject\":\"contents\"},\"dom\":null}]},\"BUSINESS\":{\"menu\":\"BUSINESS\",\"childMenu\":\"\",\"adType\":\"singleDom\",\"multiDomAdUrl\":\"\",\"multiDomUnit\":\"\",\"infoList\":[{\"adposId\":\"1000165\",\"singleDomAdUrl\":\"https://siape.veta.naver.com/fxshow\",\"param\":{\"da_dom_id\":\"p_main_business_1\",\"tb\":\"BUSINESS_1\",\"unit\":\"SU10577\",\"calp\":\"-\"},\"type\":{\"position\":\"abs\",\"positionIndex\":4,\"subject\":\"contents\"},\"dom\":null},{\"adposId\":\"1000166\",\"singleDomAdUrl\":\"https://siape.veta.naver.com/fxshow\",\"param\":{\"da_dom_id\":\"p_main_business_2\",\"tb\":\"BUSINESS_1\",\"unit\":\"SU10578\",\"calp\":\"-\"},\"type\":{\"position\":\"abs\",\"positionIndex\":8,\"subject\":\"contents\"},\"dom\":null}]},\"CARGAME\":{\"menu\":\"CARGAME\",\"childMenu\":\"\",\"adType\":\"singleDom\",\"multiDomAdUrl\":\"\",\"multiDomUnit\":\"\",\"infoList\":[{\"adposId\":\"1000167\",\"singleDomAdUrl\":\"https://siape.veta.naver.com/fxshow\",\"param\":{\"da_dom_id\":\"p_main_cargame_1\",\"tb\":\"CARGAME_1\",\"unit\":\"SU10587\",\"calp\":\"-\"},\"type\":{\"position\":\"abs\",\"positionIndex\":4,\"subject\":\"contents\"},\"dom\":null},{\"adposId\":\"1000168\",\"singleDomAdUrl\":\"https://siape.veta.naver.com/fxshow\",\"param\":{\"da_dom_id\":\"p_main_cargame_2\",\"tb\":\"CARGAME_1\",\"unit\":\"SU10588\",\"calp\":\"-\"},\"type\":{\"position\":\"abs\",\"positionIndex\":8,\"subject\":\"contents\"},\"dom\":null}]},\"CHINA\":{\"menu\":\"CHINA\",\"childMenu\":\"\",\"adType\":\"singleDom\",\"multiDomAdUrl\":\"\",\"multiDomUnit\":\"\",\"infoList\":[{\"adposId\":\"1000169\",\"singleDomAdUrl\":\"https://siape.veta.naver.com/fxshow\",\"param\":{\"da_dom_id\":\"p_main_china_1\",\"tb\":\"CHINA_1\",\"unit\":\"SU10591\",\"calp\":\"-\"},\"type\":{\"position\":\"abs\",\"positionIndex\":4,\"subject\":\"contents\"},\"dom\":null},{\"adposId\":\"1000170\",\"singleDomAdUrl\":\"https://siape.veta.naver.com/fxshow\",\"param\":{\"da_dom_id\":\"p_main_china_2\",\"tb\":\"CHINA_1\",\"unit\":\"SU10592\",\"calp\":\"-\"},\"type\":{\"position\":\"abs\",\"positionIndex\":8,\"subject\":\"contents\"},\"dom\":null}]},\"DESIGN\":{\"menu\":\"DESIGN\",\"childMenu\":\"\",\"adType\":\"singleDom\",\"multiDomAdUrl\":\"\",\"multiDomUnit\":\"\",\"infoList\":[{\"adposId\":\"1000171\",\"singleDomAdUrl\":\"https://siape.veta.naver.com/fxshow\",\"param\":{\"da_dom_id\":\"p_main_design_1\",\"tb\":\"DESIGN_1\",\"unit\":\"SU10569\",\"calp\":\"-\"},\"type\":{\"position\":\"abs\",\"positionIndex\":4,\"subject\":\"contents\"},\"dom\":null},{\"adposId\":\"1000172\",\"singleDomAdUrl\":\"https://siape.veta.naver.com/fxshow\",\"param\":{\"da_dom_id\":\"p_main_design_2\",\"tb\":\"DESIGN_1\",\"unit\":\"SU10570\",\"calp\":\"-\"},\"type\":{\"position\":\"abs\",\"positionIndex\":8,\"subject\":\"contents\"},\"dom\":null}]},\"FARM\":{\"menu\":\"FARM\",\"childMenu\":\"\",\"adType\":\"singleDom\",\"multiDomAdUrl\":\"\",\"multiDomUnit\":\"\",\"infoList\":[{\"adposId\":\"1000173\",\"singleDomAdUrl\":\"https://siape.veta.naver.com/fxshow\",\"param\":{\"da_dom_id\":\"p_main_farm_1\",\"tb\":\"FARM_1\",\"unit\":\"SU10561\",\"calp\":\"-\"},\"type\":{\"position\":\"abs\",\"positionIndex\":4,\"subject\":\"contents\"},\"dom\":null},{\"adposId\":\"1000174\",\"singleDomAdUrl\":\"https://siape.veta.naver.com/fxshow\",\"param\":{\"da_dom_id\":\"p_main_farm_2\",\"tb\":\"FARM_1\",\"unit\":\"SU10562\",\"calp\":\"-\"},\"type\":{\"position\":\"abs\",\"positionIndex\":8,\"subject\":\"contents\"},\"dom\":null}]},\"FINANCE\":{\"menu\":\"FINANCE\",\"childMenu\":\"\",\"adType\":\"singleDom\",\"multiDomAdUrl\":\"\",\"multiDomUnit\":\"\",\"infoList\":[{\"adposId\":\"1000175\",\"singleDomAdUrl\":\"https://siape.veta.naver.com/fxshow\",\"param\":{\"da_dom_id\":\"p_main_finance_1\",\"tb\":\"FINANCE_1\",\"unit\":\"SU10563\",\"calp\":\"-\"},\"type\":{\"position\":\"abs\",\"positionIndex\":4,\"subject\":\"contents\"},\"dom\":null},{\"adposId\":\"1000176\",\"singleDomAdUrl\":\"https://siape.veta.naver.com/fxshow\",\"param\":{\"da_dom_id\":\"p_main_finance_2\",\"tb\":\"FINANCE_1\",\"unit\":\"SU10564\",\"calp\":\"-\"},\"type\":{\"position\":\"abs\",\"positionIndex\":8,\"subject\":\"contents\"},\"dom\":null}]},\"ITTECH\":{\"menu\":\"ITTECH\",\"childMenu\":\"\",\"adType\":\"singleDom\",\"multiDomAdUrl\":\"\",\"multiDomUnit\":\"\",\"infoList\":[{\"adposId\":\"1000177\",\"singleDomAdUrl\":\"https://siape.veta.naver.com/fxshow\",\"param\":{\"da_dom_id\":\"p_main_ittech_1\",\"tb\":\"ITTECH_1\",\"unit\":\"SU10593\",\"calp\":\"-\"},\"type\":{\"position\":\"abs\",\"positionIndex\":4,\"subject\":\"contents\"},\"dom\":null},{\"adposId\":\"1000178\",\"singleDomAdUrl\":\"https://siape.veta.naver.com/fxshow\",\"param\":{\"da_dom_id\":\"p_main_ittech_2\",\"tb\":\"ITTECH_1\",\"unit\":\"SU10594\",\"calp\":\"-\"},\"type\":{\"position\":\"abs\",\"positionIndex\":8,\"subject\":\"contents\"},\"dom\":null}]},\"JOB\":{\"menu\":\"JOB\",\"childMenu\":\"\",\"adType\":\"singleDom\",\"multiDomAdUrl\":\"\",\"multiDomUnit\":\"\",\"infoList\":[{\"adposId\":\"1000179\",\"singleDomAdUrl\":\"https://siape.veta.naver.com/fxshow\",\"param\":{\"da_dom_id\":\"p_main_job_1\",\"tb\":\"JOB_1\",\"unit\":\"SU10589\",\"calp\":\"-\"},\"type\":{\"position\":\"abs\",\"positionIndex\":4,\"subject\":\"contents\"},\"dom\":null},{\"adposId\":\"1000180\",\"singleDomAdUrl\":\"https://siape.veta.naver.com/fxshow\",\"param\":{\"da_dom_id\":\"p_main_job_2\",\"tb\":\"JOB_1\",\"unit\":\"SU10590\",\"calp\":\"-\"},\"type\":{\"position\":\"abs\",\"positionIndex\":8,\"subject\":\"contents\"},\"dom\":null}]},\"LAW\":{\"menu\":\"LAW\",\"childMenu\":\"\",\"adType\":\"singleDom\",\"multiDomAdUrl\":\"\",\"multiDomUnit\":\"\",\"infoList\":[{\"adposId\":\"1000181\",\"singleDomAdUrl\":\"https://siape.veta.naver.com/fxshow\",\"param\":{\"da_dom_id\":\"p_main_law_1\",\"tb\":\"LAW_1\",\"unit\":\"SU10573\",\"calp\":\"-\"},\"type\":{\"position\":\"abs\",\"positionIndex\":4,\"subject\":\"contents\"},\"dom\":null},{\"adposId\":\"1000182\",\"singleDomAdUrl\":\"https://siape.veta.naver.com/fxshow\",\"param\":{\"da_dom_id\":\"p_main_law_2\",\"tb\":\"LAW_1\",\"unit\":\"SU10574\",\"calp\":\"-\"},\"type\":{\"position\":\"abs\",\"positionIndex\":8,\"subject\":\"contents\"},\"dom\":null}]},\"LIVING\":{\"menu\":\"LIVING\",\"childMenu\":\"\",\"adType\":\"singleDom\",\"multiDomAdUrl\":\"\",\"multiDomUnit\":\"\",\"infoList\":[{\"adposId\":\"1000183\",\"singleDomAdUrl\":\"https://siape.veta.naver.com/fxshow\",\"param\":{\"da_dom_id\":\"p_main_living_1\",\"tb\":\"LIVING_1\",\"unit\":\"SU10597\",\"calp\":\"-\"},\"type\":{\"position\":\"abs\",\"positionIndex\":4,\"subject\":\"contents\"},\"dom\":null},{\"adposId\":\"1000184\",\"singleDomAdUrl\":\"https://siape.veta.naver.com/fxshow\",\"param\":{\"da_dom_id\":\"p_main_living_2\",\"tb\":\"LIVING_1\",\"unit\":\"SU10606\",\"calp\":\"-\"},\"type\":{\"position\":\"abs\",\"positionIndex\":8,\"subject\":\"contents\"},\"dom\":null}]},\"LIVINGHOME\":{\"menu\":\"LIVINGHOME\",\"childMenu\":\"\",\"adType\":\"singleDom\",\"multiDomAdUrl\":\"\",\"multiDomUnit\":\"\",\"infoList\":[{\"adposId\":\"1000185\",\"singleDomAdUrl\":\"https://siape.veta.naver.com/fxshow\",\"param\":{\"da_dom_id\":\"p_main_livinghome_1\",\"tb\":\"LIVINGHOME_1\",\"unit\":\"SU10571\",\"calp\":\"-\"},\"type\":{\"position\":\"abs\",\"positionIndex\":4,\"subject\":\"contents\"},\"dom\":null},{\"adposId\":\"1000186\",\"singleDomAdUrl\":\"https://siape.veta.naver.com/fxshow\",\"param\":{\"da_dom_id\":\"p_main_livinghome_2\",\"tb\":\"LIVINGHOME_1\",\"unit\":\"SU10572\",\"calp\":\"-\"},\"type\":{\"position\":\"abs\",\"positionIndex\":8,\"subject\":\"contents\"},\"dom\":null}]},\"MOMKIDS\":{\"menu\":\"MOMKIDS\",\"childMenu\":\"\",\"adType\":\"singleDom\",\"multiDomAdUrl\":\"\",\"multiDomUnit\":\"\",\"infoList\":[{\"adposId\":\"1000187\",\"singleDomAdUrl\":\"https://siape.veta.naver.com/fxshow\",\"param\":{\"da_dom_id\":\"p_main_momkids_1\",\"tb\":\"MOMKIDS_1\",\"unit\":\"SU10575\",\"calp\":\"-\"},\"type\":{\"position\":\"abs\",\"positionIndex\":4,\"subject\":\"contents\"},\"dom\":null},{\"adposId\":\"1000188\",\"singleDomAdUrl\":\"https://siape.veta.naver.com/fxshow\",\"param\":{\"da_dom_id\":\"p_main_momkids_2\",\"tb\":\"MOMKIDS_1\",\"unit\":\"SU10576\",\"calp\":\"-\"},\"type\":{\"position\":\"abs\",\"positionIndex\":8,\"subject\":\"contents\"},\"dom\":null}]},\"MOVIE\":{\"menu\":\"MOVIE\",\"childMenu\":\"\",\"adType\":\"singleDom\",\"multiDomAdUrl\":\"\",\"multiDomUnit\":\"\",\"infoList\":[{\"adposId\":\"1000189\",\"singleDomAdUrl\":\"https://siape.veta.naver.com/fxshow\",\"param\":{\"da_dom_id\":\"p_main_movie_1\",\"tb\":\"MOVIE_1\",\"unit\":\"SU10585\",\"calp\":\"-\"},\"type\":{\"position\":\"abs\",\"positionIndex\":4,\"subject\":\"contents\"},\"dom\":null},{\"adposId\":\"1000190\",\"singleDomAdUrl\":\"https://siape.veta.naver.com/fxshow\",\"param\":{\"da_dom_id\":\"p_main_movie_2\",\"tb\":\"MOVIE_1\",\"unit\":\"SU10586\",\"calp\":\"-\"},\"type\":{\"position\":\"abs\",\"positionIndex\":8,\"subject\":\"contents\"},\"dom\":null}]},\"SCHOOL\":{\"menu\":\"SCHOOL\",\"childMenu\":\"\",\"adType\":\"singleDom\",\"multiDomAdUrl\":\"\",\"multiDomUnit\":\"\",\"infoList\":[{\"adposId\":\"1000191\",\"singleDomAdUrl\":\"https://siape.veta.naver.com/fxshow\",\"param\":{\"da_dom_id\":\"p_main_school_1\",\"tb\":\"SCHOOL_1\",\"unit\":\"SU10579\",\"calp\":\"-\"},\"type\":{\"position\":\"abs\",\"positionIndex\":4,\"subject\":\"contents\"},\"dom\":null},{\"adposId\":\"1000192\",\"singleDomAdUrl\":\"https://siape.veta.naver.com/fxshow\",\"param\":{\"da_dom_id\":\"p_main_school_2\",\"tb\":\"SCHOOL_1\",\"unit\":\"SU10580\",\"calp\":\"-\"},\"type\":{\"position\":\"abs\",\"positionIndex\":8,\"subject\":\"contents\"},\"dom\":null}]},\"SHOW\":{\"menu\":\"SHOW\",\"childMenu\":\"\",\"adType\":\"singleDom\",\"multiDomAdUrl\":\"\",\"multiDomUnit\":\"\",\"infoList\":[{\"adposId\":\"1000193\",\"singleDomAdUrl\":\"https://siape.veta.naver.com/fxshow\",\"param\":{\"da_dom_id\":\"p_main_show_1\",\"tb\":\"SHOW_1\",\"unit\":\"SU10565\",\"calp\":\"-\"},\"type\":{\"position\":\"abs\",\"positionIndex\":4,\"subject\":\"contents\"},\"dom\":null},{\"adposId\":\"1000194\",\"singleDomAdUrl\":\"https://siape.veta.naver.com/fxshow\",\"param\":{\"da_dom_id\":\"p_main_show_2\",\"tb\":\"SHOW_1\",\"unit\":\"SU10566\",\"calp\":\"-\"},\"type\":{\"position\":\"abs\",\"positionIndex\":8,\"subject\":\"contents\"},\"dom\":null}]},\"TRAVEL\":{\"menu\":\"TRAVEL\",\"childMenu\":\"\",\"adType\":\"singleDom\",\"multiDomAdUrl\":\"\",\"multiDomUnit\":\"\",\"infoList\":[{\"adposId\":\"1000195\",\"singleDomAdUrl\":\"https://siape.veta.naver.com/fxshow\",\"param\":{\"da_dom_id\":\"p_main_travel_1\",\"tb\":\"TRAVEL_1\",\"unit\":\"SU10581\",\"calp\":\"-\"},\"type\":{\"position\":\"abs\",\"positionIndex\":4,\"subject\":\"contents\"},\"dom\":null},{\"adposId\":\"1000196\",\"singleDomAdUrl\":\"https://siape.veta.naver.com/fxshow\",\"param\":{\"da_dom_id\":\"p_main_travel_2\",\"tb\":\"TRAVEL_1\",\"unit\":\"SU10582\",\"calp\":\"-\"},\"type\":{\"position\":\"abs\",\"positionIndex\":8,\"subject\":\"contents\"},\"dom\":null}]},\"WEDDING\":{\"menu\":\"WEDDING\",\"childMenu\":\"\",\"adType\":\"singleDom\",\"multiDomAdUrl\":\"\",\"multiDomUnit\":\"\",\"infoList\":[{\"adposId\":\"1000197\",\"singleDomAdUrl\":\"https://siape.veta.naver.com/fxshow\",\"param\":{\"da_dom_id\":\"p_main_wedding_1\",\"tb\":\"WEDDING_1\",\"unit\":\"SU10583\",\"calp\":\"-\"},\"type\":{\"position\":\"abs\",\"positionIndex\":4,\"subject\":\"contents\"},\"dom\":null},{\"adposId\":\"1000198\",\"singleDomAdUrl\":\"https://siape.veta.naver.com/fxshow\",\"param\":{\"da_dom_id\":\"p_main_wedding_2\",\"tb\":\"WEDDING_1\",\"unit\":\"SU10584\",\"calp\":\"-\"},\"type\":{\"position\":\"abs\",\"positionIndex\":8,\"subject\":\"contents\"},\"dom\":null}]}},\n",
       "svt: 20210728092829,\n",
       "}; </script> <script> window.nmain.newsstand = {\n",
       "rcode: '06230110',\n",
       "newsCastSubsInfo: '',\n",
       "newsStandSubsInfo: ''\n",
       "};\n",
       "window.etc = {  };\n",
       "window.svr = \"<!--aweb105-->\"; </script> <script defer=\"defer\" src=\"https://ssl.pstatic.net/tveta/libs/assets/js/pc/main/min/pc.veta.core.min.js\"></script> <script async=\"\" src=\"https://ssl.pstatic.net/tveta/libs/glad/prod/gfp-core.js\"></script> <script crossorigin=\"anonymous\" defer=\"defer\" src=\"https://pm.pstatic.net/dist/js/external.1b08ce51.js?o=www\" type=\"text/javascript\"></script> <script crossorigin=\"anonymous\" defer=\"defer\" src=\"https://pm.pstatic.net/dist/js/preload.59a14d58.js?o=www\" type=\"text/javascript\"></script> <script async=\"\" crossorigin=\"anonymous\" src=\"https://pm.pstatic.net/dist/js/polyfill_async.942eb7d6.js?o=www\" type=\"text/javascript\"></script> <script crossorigin=\"anonymous\" defer=\"defer\" src=\"https://pm.pstatic.net/dist/js/vendors~search.30b5d61b.js?o=www\" type=\"text/javascript\"></script> <script crossorigin=\"anonymous\" defer=\"defer\" src=\"https://pm.pstatic.net/dist/js/search.6d032745.js?o=www\" type=\"text/javascript\"></script> <script crossorigin=\"anonymous\" defer=\"defer\" src=\"https://pm.pstatic.net/dist/js/vendors~more~nmain~sidebar_notice.031bbbfd.js?o=www\" type=\"text/javascript\"></script> <script crossorigin=\"anonymous\" defer=\"defer\" src=\"https://pm.pstatic.net/dist/js/more~nmain~sidebar_notice.3987c2c7.js?o=www\" type=\"text/javascript\"></script> <script crossorigin=\"anonymous\" defer=\"defer\" src=\"https://pm.pstatic.net/dist/js/nmain.3358478e.js?o=www\" type=\"text/javascript\"></script> <style>:root{color-scheme:light}#_nx_kbd .setkorhelp a{display:none}</style> </link></link></meta></meta></meta></meta></meta></head> <body> <div id=\"u_skip\"> <a href=\"#newsstand\"><span>뉴스스탠드 바로가기</span></a> <a href=\"#themecast\"><span>주제별캐스트 바로가기</span></a> <a href=\"#timesquare\"><span>타임스퀘어 바로가기</span></a> <a href=\"#shopcast\"><span>쇼핑캐스트 바로가기</span></a> <a href=\"#account\"><span>로그인 바로가기</span></a> </div> <div id=\"wrap\"> <style type=\"text/css\">._1syGnXOL{padding-right:18px;font-size:14px;line-height:0;letter-spacing:-.25px;color:#000}._1syGnXOL span,._1syGnXOL strong{line-height:49px}._1syGnXOL:before{display:inline-block;content:\"\";vertical-align:top;background-image:url(https://static-whale.pstatic.net/main/sprite-20210713@2x.png);background-repeat:no-repeat;background-size:116px 112px;width:18px;height:18px;margin:16px 8px 0 0;background-position:-98px 0}[data-useragent*=\"MSIE 8\"] ._1syGnXOL:before{background-image:url(https://static-whale.pstatic.net/main/sprite-20210713.png)}._1syGnXOL._3dsvmZg2:before{background-position:-47px -85px}._1syGnXOL._1NBFx1WK:before{width:20px;height:20px;margin:15px 8px 0 0;background-position:-21px -89px}._1syGnXOL._2mcQEKCd:before{width:22px;height:22px;margin:14px 7px 0 0;background-position:-47px -63px}._1syGnXOL._36slsKuJ:before{width:21px;height:49px;margin:0 14px 0 0;background-position:0 -63px}._1syGnXOL._18YOHi7v{color:#fff}._1syGnXOL._1FSPZiH6{color:#333}._1syGnXOL._3di88A4c{padding-right:12px;font-size:17px}._1syGnXOL._3di88A4c:before{content:none}._1syGnXOL ._19K4X1CD{text-decoration:underline}._2aeXMlrb{display:inline-block;position:relative;font-size:12px;height:49px;width:78px;text-decoration:none;color:#fff;font-weight:700;letter-spacing:-.5px;vertical-align:top}._2aeXMlrb span{text-align:center;margin:9px 0;height:31px;display:block;line-height:31px;border-radius:15px}._2aeXMlrb span:before{display:inline-block;content:\"\";vertical-align:top;background-image:url(https://static-whale.pstatic.net/main/sprite-20210713@2x.png);background-repeat:no-repeat;background-size:116px 112px}[data-useragent*=\"MSIE 8\"] ._2aeXMlrb span:before{background-image:url(https://static-whale.pstatic.net/main/sprite-20210713.png)}._2aeXMlrb.BMgpjddw{font-size:11px;width:94px}._2aeXMlrb.BMgpjddw span:before{margin:9px 3px 0 0;width:17px;height:13px;background-position:-89px -63px}._3h-N8T9V{position:absolute;top:0;left:0;right:0;bottom:0;background:rgba(0,0,0,0)}._1KncATpM{display:inline-block;content:\"\";vertical-align:top;background-image:url(https://static-whale.pstatic.net/main/sprite-20210713@2x.png);background-repeat:no-repeat;background-size:116px 112px;margin-top:14px;float:left;width:98px;height:21px;background-position:0 -21px}[data-useragent*=\"MSIE 8\"] ._1KncATpM{background-image:url(https://static-whale.pstatic.net/main/sprite-20210713.png)}._1KncATpM._2v3uxv2x{background-position:0 0}._1KncATpM._1yl_Ow6o{background-position:0 -42px}._20PYt6lT{font-size:11px;height:49px;cursor:pointer;position:absolute;top:0;right:0;color:#666;opacity:.7}._20PYt6lT:after{width:15px;height:15px;margin-left:4px;background-position:-98px -33px;display:inline-block;content:\"\";vertical-align:top;background-image:url(https://static-whale.pstatic.net/main/sprite-20210713@2x.png);background-repeat:no-repeat;background-size:116px 112px}[data-useragent*=\"MSIE 8\"] ._20PYt6lT:after{background-image:url(https://static-whale.pstatic.net/main/sprite-20210713.png)}._20PYt6lT._39oMCV2N:after{background-position:-98px -18px}._20PYt6lT._3wm5EzmJ{color:#fff}._20PYt6lT._3wm5EzmJ:after{background-position:-65px -85px}._1hiMWemA{height:49px}._1hiMWemA .tY_u8r23{position:relative;width:1130px;margin:0 auto}._1hiMWemA .tY_u8r23 a{text-decoration:none}._1hiMWemA._23U_6TM_{position:relative}._1hiMWemA._23U_6TM_:after{position:absolute;z-index:1;content:\"\";display:block;width:100%;height:1px;bottom:0;background-color:rgba(0,0,0,.050980392156862744)}</style>\n",
       "<div class=\"_1hiMWemA\" data-clk-prefix=\"top\" id=\"NM_TOP_BANNER\" style=\"background-color: #6f5de5\">\n",
       "<div class=\"tY_u8r23\">\n",
       "<a class=\"_3h-N8T9V\" data-clk=\"dropbanner1b\" href=\"https://whale.naver.com/banner/details/darkmode?=main&amp;wpid=RydDy7\"></a>\n",
       "<i class=\"_1KncATpM _1yl_Ow6o\"><span class=\"blind\">NAVER whale</span></i>\n",
       "<img alt=\"\" height=\"49\" src=\"https://static-whale.pstatic.net/main/img_darkmode_v3@2x.png\" style=\"padding-left: 92px\" width=\"215.5\"/>\n",
       "<span class=\"_1syGnXOL _18YOHi7v _3di88A4c\" data-clk=\"dropbanner1b\" style=\"padding-right: 20px; font-size: 18px; padding-left: 78px\">\n",
       "<span>이제 </span><strong>다크 모드로 눈 건강은 ON! 피로는 OFF!</strong></span>\n",
       "<a class=\"_2aeXMlrb BMgpjddw\" data-clk=\"dropdownload1b\" href=\"https://installer-whale.pstatic.net/downloads/banner/RydDy7/WhaleSetup.exe\" id=\"NM_whale_download_btn\"><span style=\"background-color: #44388e\">다운로드</span></a>\n",
       "<button class=\"_20PYt6lT _3wm5EzmJ\" data-clk=\"dropclose1b\" data-ui-cookie-exp-days=\"3\" data-ui-cookie-key=\"NM_TOP_PROMOTION\" data-ui-cookie-value=\"1\" data-ui-hide-target=\"#NM_TOP_BANNER\" style=\"display: none\" type=\"button\">3일 동안 보지 않기\n",
       "</button>\n",
       "</div>\n",
       "</div> <div id=\"header\" role=\"banner\">\n",
       "<div class=\"special_bg\">\n",
       "<div class=\"group_flex\">\n",
       "<div class=\"logo_area\">\n",
       "<h1 class=\"logo_default\">\n",
       "<a class=\"logo_naver\" data-clk=\"top.logo\" href=\"/\"><span class=\"blind\">네이버</span></a>\n",
       "</h1>\n",
       "</div>\n",
       "<div class=\"service_area\">\n",
       "<a class=\"link_set\" data-clk=\"top.mkhome\" href=\"https://help.naver.com/support/welcomePage/guide.help\" id=\"NM_set_home_btn\">네이버를 시작페이지로</a>\n",
       "<i class=\"sa_bar\"></i>\n",
       "<a class=\"link_jrnaver\" data-clk=\"top.jrnaver\" href=\"https://jr.naver.com\"><i class=\"ico_jrnaver\"></i><span class=\"blind\">쥬니어네이버</span></a>\n",
       "<a class=\"link_happybin\" data-clk=\"top.happybean\" href=\"https://happybean.naver.com\"><i class=\"ico_happybin\"></i><span class=\"blind\">해피빈</span></a>\n",
       "</div>\n",
       "<div class=\"search_area\" data-clk-prefix=\"sch\" id=\"search\">\n",
       "<form action=\"https://search.naver.com/search.naver\" id=\"sform\" method=\"get\" name=\"sform\" role=\"search\">\n",
       "<fieldset>\n",
       "<legend class=\"blind\">검색</legend>\n",
       "<select class=\"blind\" id=\"where\" name=\"where\" title=\"검색 범위 선택\">\n",
       "<option selected=\"selected\" value=\"nexearch\">통합검색</option><option value=\"post\">블로그</option><option value=\"cafeblog\">카페</option><option value=\"cafe\">- 카페명</option><option value=\"article\">- 카페글</option><option value=\"kin\">지식iN</option><option value=\"news\">뉴스</option><option value=\"web\">사이트</option><option value=\"category\">- 카테고리</option><option value=\"site\">- 사이트</option><option value=\"movie\">영화</option><option value=\"webkr\">웹문서</option><option value=\"dic\">사전</option><option value=\"100\">- 백과사전</option><option value=\"endic\">- 영어사전</option><option value=\"eedic\">- 영영사전</option><option value=\"krdic\">- 국어사전</option><option value=\"jpdic\">- 일본어사전</option><option value=\"hanja\">- 한자사전</option><option value=\"terms\">- 용어사전</option><option value=\"book\">책</option><option value=\"music\">음악</option><option value=\"doc\">전문자료</option><option value=\"shop\">쇼핑</option><option value=\"local\">지역</option><option value=\"video\">동영상</option><option value=\"image\">이미지</option><option value=\"mypc\">내PC</option><optgroup label=\"스마트 파인더\"><option value=\"movie\">영화</option><option value=\"auto\">자동차</option><option value=\"game\">게임</option><option value=\"health\">건강</option><option value=\"people\">인물</option></optgroup><optgroup label=\"네이버 랩\"><option>긍정부정검색</option></optgroup>\n",
       "</select>\n",
       "<input id=\"sm\" name=\"sm\" type=\"hidden\" value=\"top_hty\"/>\n",
       "<input id=\"fbm\" name=\"fbm\" type=\"hidden\" value=\"0\"/>\n",
       "<input disabled=\"disabled\" id=\"acr\" name=\"acr\" type=\"hidden\" value=\"\"/>\n",
       "<input disabled=\"disabled\" id=\"acq\" name=\"acq\" type=\"hidden\" value=\"\"/>\n",
       "<input disabled=\"disabled\" id=\"qdt\" name=\"qdt\" type=\"hidden\" value=\"\"/>\n",
       "<input id=\"ie\" name=\"ie\" type=\"hidden\" value=\"utf8\"/>\n",
       "<input disabled=\"disabled\" id=\"acir\" name=\"acir\" type=\"hidden\" value=\"\"/>\n",
       "<input disabled=\"disabled\" id=\"os\" name=\"os\" type=\"hidden\" value=\"\"/>\n",
       "<input disabled=\"disabled\" id=\"bid\" name=\"bid\" type=\"hidden\" value=\"\"/>\n",
       "<input disabled=\"disabled\" id=\"pkid\" name=\"pkid\" type=\"hidden\" value=\"\"/>\n",
       "<input disabled=\"disabled\" id=\"eid\" name=\"eid\" type=\"hidden\" value=\"\"/>\n",
       "<input disabled=\"disabled\" id=\"mra\" name=\"mra\" type=\"hidden\" value=\"\"/>\n",
       "<div class=\"green_window\" style=\"\">\n",
       "<!-- [AU] data-atcmp-element 에 해당하는 attribute를 추가해주세요. -->\n",
       "<input accesskey=\"s\" autocomplete=\"off\" class=\"input_text\" data-atcmp-element=\"\" id=\"query\" maxlength=\"255\" name=\"query\" onclick=\"document.getElementById('fbm').value=1;\" placeholder=\"검색어를 입력해 주세요.\" style=\"ime-mode:active;\" tabindex=\"1\" title=\"검색어 입력\" type=\"text\" value=\"\"/>\n",
       "</div>\n",
       "<button class=\"btn_submit\" id=\"search_btn\" onclick=\"window.nclick(this,'sch.action','','',event);\" style=\"\" tabindex=\"3\" title=\"검색\" type=\"submit\">\n",
       "<span class=\"blind\">검색</span>\n",
       "<span class=\"ico_search_submit\"></span>\n",
       "</button>\n",
       "</fieldset>\n",
       "</form>\n",
       "<!-- 한글입력기 -->\n",
       "<a class=\"btn_keyboard\" href=\"#\" id=\"ke_kbd_btn\" onclick=\"return false;\" role=\"button\"><span class=\"blind\">한글 입력기</span><span class=\"ico_keyboard\"></span></a>\n",
       "<div id=\"_nx_kbd\" style=\"display:none;\"></div>\n",
       "<div class=\"autocomplete\">\n",
       "<!-- 자동완성 열린 경우 fold 클래스 추가, 딤드인 경우 dim 추가 -->\n",
       "<a aria-pressed=\"false\" class=\"btn_arw _btn_arw fold\" data-atcmp-element=\"\" href=\"#\" id=\"nautocomplete\" role=\"button\" tabindex=\"2\"><span class=\"blind\">자동완성 레이어</span><span class=\"ico_arr\"></span></a>\n",
       "</div>\n",
       "<!-- 자동완성레이어 -->\n",
       "<div class=\"reatcmp\" id=\"autoFrame\" style=\"display: none;\">\n",
       "<!-- [AU] data-atcmp-element attribute를 추가해주세요. -->\n",
       "<div class=\"ly_atcmp\" data-atcmp-element=\"\">\n",
       "<div class=\"api_atcmp_wrap\">\n",
       "<!-- 최근검색어 -->\n",
       "<!-- [AU] _recent_layer 클래스를 추가해주세요. -->\n",
       "<div class=\"atcmp_fixer _recent_layer\" style=\"display:none;\">\n",
       "<!-- [AU] _recent_header 클래스를 추가해주세요. -->\n",
       "<div class=\"atcmp_header _recent_header\">\n",
       "<strong class=\"tit\">최근검색어</strong>\n",
       "<div class=\"option\">\n",
       "<!-- [AU] _delAll 클래스를 추가해주세요. -->\n",
       "<a aria-pressed=\"false\" class=\"item _delAll\" href=\"#\" role=\"button\">전체삭제</a>\n",
       "</div>\n",
       "</div>\n",
       "<div class=\"atcmp_container\">\n",
       "<!-- [AU] _recent 클래스를 추가해주세요. -->\n",
       "<ul class=\"kwd_lst _recent\">\n",
       "<!-- 최근검색어 템플릿 -->\n",
       "<!-- [AU] _item 클래스를 추가해주세요. -->\n",
       "<!-- [AU] data-template-type=\"history\" data-keyword=\"@in_txt@\" attribute를 추가해주세요. -->\n",
       "<li class=\"item _item\" data-keyword=\"@in_txt@\" data-rank=\"@rank@\" data-template-type=\"history\">\n",
       "<a class=\"kwd\" href=\"#\">\n",
       "<span class=\"fix\"><span class=\"common_ico_kwd\"><i class=\"imsc ico_search\"></i></span><span>@txt@</span></span>\n",
       "</a>\n",
       "<span class=\"etc\">\n",
       "<em class=\"date\">@date@.</em>\n",
       "<!-- [AU] _del 클래스를 추가해주세요. -->\n",
       "<a aria-pressed=\"false\" class=\"bt_item _del\" href=\"#\" role=\"button\"><i class=\"imsc ico_del\">삭제</i></a>\n",
       "</span>\n",
       "</li>\n",
       "</ul>\n",
       "<!-- [D] 검색어 저장 꺼진 경우 atcmp_fixer에 type_off 추가 -->\n",
       "<!-- [AU] _offMsg 클래스를 추가해주세요. -->\n",
       "<div class=\"kwd_info kwd_off _offMsg\" style=\"display: none;\">검색어 저장 기능이 꺼져 있습니다.<br/><span class=\"kwd_dsc\">설정이 초기화 된다면 <a class=\"kwd_help\" data-clk=\"sly.help\" href=\"https://help.naver.com/support/alias/search/word/word_29.naver\" target=\"_blank\">도움말</a>을 확인해주세요.</span></div>\n",
       "<!-- [D] 검색어 내역 없는 경우 atcmp_fixer에 type_off 추가 -->\n",
       "<!-- [AU] _recentNone 클래스를 추가해주세요. -->\n",
       "<div class=\"kwd_info kwd_none _recentNone\" style=\"display: none;\">최근 검색어 내역이 없습니다.<br/><span class=\"kwd_dsc\">설정이 초기화 된다면 <a class=\"kwd_help\" data-clk=\"sly.help\" href=\"https://help.naver.com/support/alias/search/word/word_29.naver\" target=\"_blank\">도움말</a>을 확인해주세요.</span></div>\n",
       "</div>\n",
       "<div class=\"atcmp_footer\">\n",
       "<span class=\"side_opt_area\">\n",
       "<span class=\"opt_item\"><a data-clk=\"sly.help\" href=\"https://help.naver.com/support/service/main.help?serviceNo=605&amp;categoryNo=1991\" target=\"_blank\">도움말</a></span>\n",
       "</span>\n",
       "<span class=\"rside_opt_area\">\n",
       "<span class=\"opt_item\">\n",
       "<!-- [AU] _keywordOnOff 클래스를 추가해주세요. -->\n",
       "<a class=\"close _keywordOnOff\" href=\"#\">자동저장 끄기</a>\n",
       "</span>\n",
       "</span>\n",
       "</div>\n",
       "</div>\n",
       "<!-- 자동완성 -->\n",
       "<!-- [AU] _atcmp_layer 클래스를 추가해주세요. -->\n",
       "<div class=\"atcmp_fixer _atcmp_layer\" style=\"display:none;\">\n",
       "<!-- [AU] _words 클래스를 추가해주세요. -->\n",
       "<div class=\"atcmp_container _words\">\n",
       "<!-- 정답형 템플릿 : 로또당첨번호 -->\n",
       "<!-- [AU] _answer 클래스를 추가해주세요. -->\n",
       "<!-- [AU] data-template-type=\"answer_3\" data-code=\"@code@\" data-keyword=\"@1@\" attribute를 추가해주세요. -->\n",
       "<div class=\"atcmp_correct type_lotto _answer\" data-code=\"@code@\" data-keyword=\"@1@\" data-template-type=\"answer_3\">\n",
       "<a class=\"link_item\" href=\"#\">\n",
       "<span class=\"common_ico_kwd\"><i class=\"imsc ico_search\"></i></span>\n",
       "<div class=\"dsc_area\">\n",
       "<span class=\"tit\">@5@회차 당첨번호</span>\n",
       "<span class=\"dsc\">\n",
       "<span class=\"item\">추첨 @13@.</span><span class=\"item\">지급기한 1년</span>\n",
       "</span>\n",
       "</div>\n",
       "<span class=\"etc_area\">\n",
       "<span class=\"etc lotto\">\n",
       "<em class=\"n@6@\">@6@</em><em class=\"n@7@\">@7@</em><em class=\"n@8@\">@8@</em><em class=\"n@9@\">@9@</em><em class=\"n@10@\">@10@</em><em class=\"n@11@\">@11@</em><em class=\"imsc_bf bonus n@12@\">@12@</em>\n",
       "</span>\n",
       "</span>\n",
       "</a>\n",
       "</div>\n",
       "<!-- 정답형 템플릿 : 환율 -->\n",
       "<!-- [AU] _answer 클래스를 추가해주세요. -->\n",
       "<!-- [AU] data-template-type=\"answer_9\" data-code=\"@code@\" data-keyword=\"@1@\" attribute를 추가해주세요. -->\n",
       "<div class=\"atcmp_correct type_exchange _answer\" data-code=\"@code@\" data-keyword=\"@1@\" data-template-type=\"answer_9\">\n",
       "<!-- [D] 상승 up, 하락 down 추가 -->\n",
       "<a class=\"link_item @11@\" href=\"#\">\n",
       "<!-- [D] 국가별 class 가나다순\n",
       "ZAR 남아프리카 공화국\n",
       "NPR 네팔\n",
       "NOK 노르웨이\n",
       "NZD 뉴질랜드\n",
       "TWD 대만\n",
       "DKK 덴마크\n",
       "RUB 러시아\n",
       "MOP 마카오\n",
       "MYR 말레이시아\n",
       "MXN 멕시코\n",
       "MNT 몽골\n",
       "USD 미국\n",
       "BHD 바레인\n",
       "BDT 방글라데시\n",
       "VND 베트남\n",
       "BRL 브라질\n",
       "SAR 사우디아라비아\n",
       "SEK 스웨덴\n",
       "CHF 스위스\n",
       "SGD 싱가포르\n",
       "AED 아랍에미리트\n",
       "GBP 영국\n",
       "EUR 유럽연합\n",
       "ILS 이스라엘\n",
       "EGP 이집트\n",
       "INR 인도\n",
       "IDR 인도네시아\n",
       "JPY 일본\n",
       "CNY 중국\n",
       "CZK 체코\n",
       "CLP 칠레\n",
       "KZT 카자흐스탄\n",
       "QAR 카타르\n",
       "CAD 캐나다\n",
       "KWD 쿠웨이트\n",
       "THB 태국\n",
       "TRY 터키\n",
       "PKR 파키스탄\n",
       "PLN 폴란드\n",
       "PHP 필리핀\n",
       "HUF 헝가리\n",
       "AUD 호주\n",
       "HKD 홍콩\n",
       "-->\n",
       "<span class=\"common_ico_kwd\"><i class=\"imsc ico @12@\">@14@</i></span>\n",
       "<div class=\"dsc_area\">\n",
       "<span class=\"tit\">@txt@<span class=\"sub\">@currency@</span></span>\n",
       "<span class=\"dsc\">\n",
       "<span class=\"item\"><i class=\"imsc ico_arr\"></i>@8@(@9@%)</span>\n",
       "</span>\n",
       "</div>\n",
       "<span class=\"etc_area\">\n",
       "<span class=\"etc\"><em class=\"num\">@6@</em>원</span>\n",
       "</span>\n",
       "</a>\n",
       "</div>\n",
       "<!-- 정답형 템플릿 : 날씨(국내11, 해외12) -->\n",
       "<!-- [AU] _answer 클래스를 추가해주세요. -->\n",
       "<!-- [AU] data-template-type=\"answer_11\" data-code=\"@code@\" data-keyword=\"@1@\" attribute를 추가해주세요. -->\n",
       "<div class=\"atcmp_correct type_weather _answer\" data-code=\"@code@\" data-keyword=\"@1@\" data-template-type=\"answer_11\">\n",
       "<!-- [D] 상승 up, 하락 down 추가 -->\n",
       "<a class=\"link_item @12@\" href=\"#\">\n",
       "<span class=\"common_ico_kwd\"><i class=\"imsc ico_search\"></i></span>\n",
       "<div class=\"dsc_area\">\n",
       "<span class=\"tit\">@txt@</span>\n",
       "<span class=\"dsc\">\n",
       "<span class=\"item\">@7@, @message@</span>\n",
       "</span>\n",
       "</div>\n",
       "<span class=\"etc_area\">\n",
       "<span class=\"etc\">\n",
       "<!-- [D] 날씨별 class\n",
       "ico1 맑음(낮)\n",
       "ico2 맑음(밤)\n",
       "ico3 구름조금(낮)\n",
       "ico4 구름조금(밤)\n",
       "ico5 구름많음(낮)\n",
       "ico6 구름많음(밤)\n",
       "ico7 흐림\n",
       "ico8 약한비\n",
       "ico9 비\n",
       "ico10 강한비\n",
       "ico11 약한눈\n",
       "ico12 눈\n",
       "ico13 강한눈\n",
       "ico14 진눈깨비\n",
       "ico15 소나기\n",
       "ico16 안개\n",
       "ico17 소낙눈\n",
       "ico18 번개뇌우\n",
       "ico19 우박\n",
       "ico20 황사\n",
       "ico21 비또는눈\n",
       "ico22 가끔비\n",
       "ico23 가끔눈\n",
       "ico24 가끔비또는눈\n",
       "ico25 흐린후갬\n",
       "ico26 뇌우후갬\n",
       "ico27 비후갬\n",
       "ico28 눈후갬\n",
       "ico29 흐려져비\n",
       "ico30 흐려져눈\n",
       "-->\n",
       "<span class=\"ico_weather\"><i class=\"imsc ico ico@iconNo@\">@7@</i></span>\n",
       "<em class=\"degree\">@8@<sup class=\"celsius\">°</sup></em>\n",
       "</span>\n",
       "</span>\n",
       "</a>\n",
       "</div>\n",
       "<!-- 정답형 템플릿 : 사이트 바로가기 -->\n",
       "<!-- [AU] _answer 클래스를 추가해주세요. -->\n",
       "<!-- [AU] data-template-type=\"answer_17\" data-code=\"@code@\" data-keyword=\"@1@\" attribute를 추가해주세요. -->\n",
       "<div class=\"atcmp_correct type_site _answer\" data-code=\"@code@\" data-keyword=\"@1@\" data-template-type=\"answer_17\">\n",
       "<a class=\"link_item\" href=\"@5@\" target=\"_blank\">\n",
       "<span class=\"common_ico_kwd\"><i class=\"imsc ico_url\"></i></span>\n",
       "<div class=\"dsc_area\">\n",
       "<span class=\"tit\">@txt@</span>\n",
       "<span class=\"dsc\">\n",
       "<span class=\"item\">@5@</span>\n",
       "</span>\n",
       "</div>\n",
       "<span class=\"etc_area\">\n",
       "<span class=\"etc\">바로가기</span>\n",
       "</span>\n",
       "</a>\n",
       "</div>\n",
       "<!-- [AU] _kwd_list 클래스를 추가해주세요. -->\n",
       "<ul class=\"kwd_lst _kwd_list\">\n",
       "<!-- [AU] 자동완성 검색어 템플릿 -->\n",
       "<!-- [AU] _item 클래스를 추가해주세요. -->\n",
       "<!-- [AU] data-rank=\"@rank@\" data-template-type=\"suggestion\" data-keyword=\"@in_txt@\" attribute를 추가해주세요. -->\n",
       "<li class=\"item _item\" data-keyword=\"@in_txt@\" data-rank=\"@rank@\" data-template-type=\"suggestion\">\n",
       "<a class=\"kwd\" href=\"#\">\n",
       "<span class=\"fix\"><span class=\"common_ico_kwd\"><i class=\"imsc ico_search\"></i></span>@txt@</span>\n",
       "</a>\n",
       "<span class=\"etc\">\n",
       "<a aria-pressed=\"false\" class=\"bt_item _add\" href=\"#\" role=\"button\"><i class=\"imsc ico_insert\">추가</i></a>\n",
       "</span>\n",
       "</li>\n",
       "<!-- [AU] 최근검색어 템플릿 -->\n",
       "<!-- [AU] _item 클래스를 추가해주세요. -->\n",
       "<!-- [AU] data-rank=\"@rank@\" data-template-type=\"history\" data-keyword=\"@in_txt@\" attribute를 추가해주세요. -->\n",
       "<li class=\"item has_correct _item\" data-keyword=\"@in_txt@\" data-rank=\"@rank@\" data-template-type=\"history\">\n",
       "<a class=\"kwd\" href=\"#\">\n",
       "<span class=\"fix\"><span class=\"common_ico_kwd\"><i class=\"imsc ico_search\"></i></span>@txt@</span>\n",
       "</a>\n",
       "<span class=\"etc\">\n",
       "<!-- 최근검색어 있으면 날짜 표시 -->\n",
       "<em class=\"date\">@date@.</em>\n",
       "<a aria-pressed=\"false\" class=\"bt_item _add\" href=\"#\" role=\"button\"><i class=\"imsc ico_insert\">추가</i></a>\n",
       "</span>\n",
       "</li>\n",
       "</ul>\n",
       "<!-- [AU] 문맥검색 템플릿 -->\n",
       "<!-- [AU] _item 클래스를 추가해주세요. -->\n",
       "<!-- [AU] data-rank=\"@rank@\" data-template-type=\"intend\" data-keyword=\"@transQuery@\" attribute를 추가해주세요. -->\n",
       "<li class=\"item has_correct _item\" data-intend-rank=\"@intendRank@\" data-keyword=\"@transQuery@\" data-rank=\"@rank@\" data-template-type=\"intend\">\n",
       "<a class=\"kwd\" href=\"#\">\n",
       "<span class=\"fix\"><span class=\"common_ico_kwd\"><i class=\"imsc ico_search\"></i></span>@query@ <span class=\"context\">@intend@</span></span>\n",
       "</a>\n",
       "<span class=\"etc\">\n",
       "<a aria-pressed=\"false\" class=\"bt_item _add\" href=\"#\" role=\"button\"><i class=\"imsc ico_insert\">추가</i></a>\n",
       "</span>\n",
       "</li>\n",
       "<!-- [D] 선거안내문구 -->\n",
       "<!-- [AU] _alert 클래스를 추가해주세요. -->\n",
       "<div class=\"atcmp_alert _alert\">\n",
       "<div class=\"dsc_election\">\n",
       "<p class=\"dsc\">\n",
       "<i class=\"imsc ico_election\"></i><span class=\"_alert_passage\"></span>\n",
       "</p>\n",
       "<span class=\"dsc_inner\">\n",
       "<!-- [AU] _alert_passage2 클래스를 추가해주세요. -->\n",
       "<span class=\"_alert_passage2\"></span>\n",
       "<!-- [AU] _alert_link 클래스를 추가해주세요. -->\n",
       "<a class=\"link _alert_link\" href=\"#\" target=\"_blank\">자세히보기</a>\n",
       "</span>\n",
       "</div>\n",
       "</div>\n",
       "<!-- [AU] _plus 클래스를 추가해주세요. -->\n",
       "<div class=\"atcmp_plus _plus\">\n",
       "<div class=\"dsc_plus\">\n",
       "<a class=\"link_dsc\" data-clk=\"sug.cxhelp\" href=\"https://help.naver.com/support/contents/contents.nhn?serviceNo=606&amp;categoryNo=16658\" target=\"_blank\">관심사를 반영한 컨텍스트 자동완성<i class=\"imsc ico_help\">도움말</i></a>\n",
       "</div>\n",
       "<div class=\"switch\">\n",
       "<!-- [D] 선택시 aria-pressed=\"ture/false\" -->\n",
       "<!-- [AU] _plus_btn 클래스를 추가해주세요. -->\n",
       "<a aria-pressed=\"false\" class=\"bt_switch active _plus_btn\" href=\"#\" role=\"button\"><i class=\"imsc ico_option\">컨텍스트 자동완성</i></a>\n",
       "</div>\n",
       "<!-- [AU] _plus_layer 클래스를 추가해주세요. -->\n",
       "<div class=\"layer_plus _plus_layer\">\n",
       "<strong class=\"tit\">컨텍스트 자동완성</strong>\n",
       "<!-- [AU] _plus_layer_isloggedin 클래스를 추가해주세요. -->\n",
       "<!-- [AU] style=\"display:none\" 추가해주세요. -->\n",
       "<div class=\"_plus_layer_isloggedin\" style=\"display:none\">\n",
       "<p class=\"dsc\">ON/OFF 설정은<br/>해당기기(브라우저)에 저장됩니다.</p>\n",
       "<div class=\"btn_area\">\n",
       "<a class=\"btn btn_view\" data-clk=\"sug.cxlink\" href=\"https://help.naver.com/support/contents/contents.help?serviceNo=606&amp;categoryNo=16659\" target=\"_blank\">자세히</a>\n",
       "</div>\n",
       "</div>\n",
       "<!-- [AU] _plus_layer_isnotloggedin 클래스를 추가해주세요. -->\n",
       "<!-- [AU] style=\"display:none\" 추가해주세요. -->\n",
       "<div class=\"_plus_layer_isnotloggedin\" style=\"display:none\">\n",
       "<p class=\"dsc\"><em class=\"txt\">동일한 시간대/연령/남녀별</em> 사용자 그룹의<br/>관심사에 맞춰 자동완성을 제공합니다.</p>\n",
       "<div class=\"btn_area\">\n",
       "<a class=\"btn btn_login\" data-clk=\"sug.cxlogin\" href=\"https://nid.naver.com/nidlogin.login\">로그인</a>\n",
       "<a class=\"btn btn_view\" data-clk=\"sug.cxlink\" href=\"https://help.naver.com/support/alias/search/word/word_16.naver\" target=\"_blank\">자세히</a>\n",
       "</div>\n",
       "</div>\n",
       "<!-- [AU] _plus_layer_close 클래스를 추가해주세요. -->\n",
       "<a class=\"btn_close _plus_layer_close\" href=\"#\" role=\"button\"><i class=\"imsc ico_close\">컨텍스트 자동완성 레이어 닫기</i></a>\n",
       "</div>\n",
       "</div>\n",
       "</div>\n",
       "<div class=\"atcmp_footer\">\n",
       "<span class=\"side_opt_area\">\n",
       "<span class=\"opt_item\"><a data-clk=\"sug.help\" href=\"https://help.naver.com/support/service/main.help?serviceNo=605&amp;categoryNo=1987\" target=\"_blank\">도움말</a></span>\n",
       "<span class=\"opt_item\"><a class=\"report\" data-clk=\"sug.report\" href=\"https://help.naver.com/support/contents/contents.help?serviceNo=605&amp;categoryNo=18215\" target=\"_blank\">신고</a></span>\n",
       "</span>\n",
       "<span class=\"rside_opt_area\">\n",
       "<span class=\"opt_item\">\n",
       "<!-- [AU] _suggestOnOff 클래스를 추가해주세요. -->\n",
       "<a class=\"close _suggestOnOff\" href=\"#\">자동완성 끄기</a>\n",
       "</span>\n",
       "</span>\n",
       "</div>\n",
       "</div>\n",
       "</div>\n",
       "</div>\n",
       "</div>\n",
       "</div>\n",
       "</div>\n",
       "</div>\n",
       "<!--EMPTY-->\n",
       "<div id=\"gnb\">\n",
       "<div class=\"gnb_inner\" id=\"NM_FAVORITE\">\n",
       "<div class=\"group_nav\">\n",
       "<ul class=\"list_nav type_fix\">\n",
       "<li class=\"nav_item\">\n",
       "<a class=\"nav\" data-clk=\"svc.mail\" href=\"https://mail.naver.com/\"><i class=\"ico_mail\"></i>메일</a>\n",
       "</li>\n",
       "<li class=\"nav_item\"><a class=\"nav\" data-clk=\"svc.cafe\" href=\"https://section.cafe.naver.com/\">카페</a></li>\n",
       "<li class=\"nav_item\"><a class=\"nav\" data-clk=\"svc.blog\" href=\"https://section.blog.naver.com/\">블로그</a></li>\n",
       "<li class=\"nav_item\"><a class=\"nav\" data-clk=\"svc.kin\" href=\"https://kin.naver.com/\">지식iN</a></li>\n",
       "<li class=\"nav_item\"><a class=\"nav shop\" data-clk=\"svc.shopping\" href=\"https://shopping.naver.com/\"><span class=\"blind\">쇼핑</span></a></li>\n",
       "<li class=\"nav_item\"><a class=\"nav shoplive\" data-clk=\"svc.shoppinglive\" href=\"https://shoppinglive.naver.com/home\"><span class=\"blind\">쇼핑LIVE</span></a></li>\n",
       "<li class=\"nav_item\"><a class=\"nav\" data-clk=\"svc.pay\" href=\"https://order.pay.naver.com/home\">Pay</a></li>\n",
       "<li class=\"nav_item\">\n",
       "<a class=\"nav\" data-clk=\"svc.tvcast\" href=\"https://tv.naver.com/\"><i class=\"ico_tv\"></i>TV</a>\n",
       "</li>\n",
       "</ul>\n",
       "<ul class=\"list_nav NM_FAVORITE_LIST\">\n",
       "<li class=\"nav_item\"><a class=\"nav\" data-clk=\"svc.dic\" href=\"https://dict.naver.com/\">사전</a></li>\n",
       "<li class=\"nav_item\"><a class=\"nav\" data-clk=\"svc.news\" href=\"https://news.naver.com/\">뉴스</a></li>\n",
       "<li class=\"nav_item\"><a class=\"nav\" data-clk=\"svc.stock\" href=\"https://finance.naver.com/\">증권</a></li>\n",
       "<li class=\"nav_item\"><a class=\"nav\" data-clk=\"svc.land\" href=\"https://land.naver.com/\">부동산</a></li>\n",
       "<li class=\"nav_item\"><a class=\"nav\" data-clk=\"svc.map\" href=\"https://map.naver.com/\">지도</a></li>\n",
       "<li class=\"nav_item\"><a class=\"nav\" data-clk=\"svc.vibe\" href=\"https://vibe.naver.com/\">VIBE</a></li>\n",
       "<li class=\"nav_item\"><a class=\"nav\" data-clk=\"svc.book\" href=\"https://book.naver.com/\">책</a></li>\n",
       "<li class=\"nav_item\"><a class=\"nav\" data-clk=\"svc.webtoon\" href=\"https://comic.naver.com/\">웹툰</a></li>\n",
       "</ul>\n",
       "<ul class=\"list_nav type_empty\" style=\"display: none;\"></ul>\n",
       "<a class=\"btn_more\" data-clk=\"svc.more\" href=\"#\" role=\"button\">더보기</a>\n",
       "<div class=\"ly_btn_area\">\n",
       "<a class=\"btn NM_FAVORITE_ALL\" data-clk=\"map.svcmore\" href=\"more.html\">서비스 전체보기</a>\n",
       "<a class=\"btn btn_set\" data-clk=\"map.edit\" href=\"#\" role=\"button\">메뉴설정</a>\n",
       "<a class=\"btn btn_reset\" data-clk=\"edt.reset\" href=\"#\" role=\"button\">초기화</a>\n",
       "<a class=\"btn btn_save\" data-clk=\"edt.save\" href=\"#\" role=\"button\">저장</a>\n",
       "</div>\n",
       "</div>\n",
       "<div class=\"group_weather\" id=\"NM_WEATHER\">\n",
       "<div>\n",
       "<a class=\"weather_area ico_w01\" data-clk=\"squ.weat\" href=\"https://weather.naver.com/today/06230110\">\n",
       "<div class=\"current_box\">\n",
       "<strong aria-label=\"현재기온\" class=\"current\">28.0°</strong><strong class=\"state\">맑음</strong>\n",
       "</div>\n",
       "<div class=\"degree_box\">\n",
       "<span aria-label=\"최저기온\" class=\"min\">23.0°</span><span aria-label=\"최고기온\" class=\"max\">33.0°</span>\n",
       "</div>\n",
       "<span class=\"location\">대현동</span>\n",
       "</a>\n",
       "</div>\n",
       "<div>\n",
       "<a class=\"air_area\" data-clk=\"squ.dust\" href=\"https://weather.naver.com/today/06230110\">\n",
       "<ul class=\"list_air\">\n",
       "<li class=\"air_item\">미세<strong class=\"state state_good\">좋음</strong></li>\n",
       "<li class=\"air_item\">초미세<strong class=\"state state_good\">좋음</strong></li>\n",
       "</ul>\n",
       "<span class=\"location\">대현동</span>\n",
       "</a>\n",
       "</div>\n",
       "</div>\n",
       "</div>\n",
       "<div class=\"ly_service\">\n",
       "<div class=\"group_service NM_FAVORITE_ALL_LY\"></div>\n",
       "<div class=\"group_service NM_FAVORITE_EDIT_LY\" style=\"display: none;\"></div>\n",
       "</div>\n",
       "</div>\n",
       "</div>\n",
       "<div id=\"container\" role=\"main\"> <div style=\"position:relative;width:1130px;margin:0 auto;z-index:11\"> <div id=\"da_top\"></div> <div id=\"da_expwide\"></div> </div> <div class=\"column_left\" id=\"NM_INT_LEFT\"> <div id=\"veta_top\"> <iframe data-iframe-src=\"https://siape.veta.naver.com/fxshow?su=SU10599&amp;nrefreshx=0\" data-veta-preview=\"main_time\" frameborder=\"0\" height=\"135\" id=\"da_iframe_time\" marginheight=\"0\" marginwidth=\"0\" name=\"da_iframe_time\" scrolling=\"no\" title=\"광고\" width=\"750\"> </iframe> <span class=\"veta_bd_t\"></span> <span class=\"veta_bd_b\"></span> <span class=\"veta_bd_l\"></span> <span class=\"veta_bd_r\"></span> </div> <div class=\"sc_newscast\" id=\"newsstand\"> <h2 class=\"blind\">뉴스스탠드</h2> <div class=\"group_issue\" data-clk-prefix=\"ncy\" id=\"NM_NEWSSTAND_HEADER\"> <div class=\"issue_area\"> <a class=\"link_media\" data-clk=\"newsflash\" href=\"http://news.naver.com/main/list.nhn?mode=LPOD&amp;mid=sec&amp;sid1=001&amp;sid2=140&amp;oid=001&amp;isYeonhapFlash=Y\">연합뉴스</a> <div class=\"list_issue\" id=\"yna_rolling\"> <div><a class=\"issue\" data-clk=\"quickarticle\" href=\"http://news.naver.com/main/list.nhn?mode=LPOD&amp;mid=sec&amp;sid1=001&amp;sid2=140&amp;oid=001&amp;isYeonhapFlash=Y&amp;aid=0012557711\">모더나 백신, 다음주 공급 재개</a></div>\n",
       "<div><a class=\"issue\" data-clk=\"quickarticle\" href=\"http://news.naver.com/main/list.nhn?mode=LPOD&amp;mid=sec&amp;sid1=001&amp;sid2=140&amp;oid=001&amp;isYeonhapFlash=Y&amp;aid=0012557754\">김총리, 현대차 임단협 타결에 \"갈등보다 상생 택해줘 감사\"</a></div>\n",
       "<div><a class=\"issue\" data-clk=\"quickarticle\" href=\"http://news.naver.com/main/list.nhn?mode=LPOD&amp;mid=sec&amp;sid1=001&amp;sid2=140&amp;oid=001&amp;isYeonhapFlash=Y&amp;aid=0012557509\">[올림픽] 탁구 '희망' 정영식·전지희, 세계 1-2위 벽 넘을까</a></div>\n",
       "<div><a class=\"issue\" data-clk=\"quickarticle\" href=\"http://news.naver.com/main/list.nhn?mode=LPOD&amp;mid=sec&amp;sid1=001&amp;sid2=140&amp;oid=001&amp;isYeonhapFlash=Y&amp;aid=0012557621\">남북대화 신호탄 '통신선 복원'…북미 비핵화 대화로 이어질까</a></div>\n",
       "<div><a class=\"issue\" data-clk=\"quickarticle\" href=\"http://news.naver.com/main/list.nhn?mode=LPOD&amp;mid=sec&amp;sid1=001&amp;sid2=140&amp;oid=001&amp;isYeonhapFlash=Y&amp;aid=0012557661\">김정은, 노병대회 연설…작년과 달리 '핵억제력' 언급 없어</a></div>\n",
       "<div><a class=\"issue\" data-clk=\"quickarticle\" href=\"http://news.naver.com/main/list.nhn?mode=LPOD&amp;mid=sec&amp;sid1=001&amp;sid2=140&amp;oid=001&amp;isYeonhapFlash=Y&amp;aid=0012557605\">댕댕이·길냥이 띄우는 대권주자들…1천500만 '펫심' 쟁탈전</a></div>\n",
       "<div><a class=\"issue\" data-clk=\"quickarticle\" href=\"http://news.naver.com/main/list.nhn?mode=LPOD&amp;mid=sec&amp;sid1=001&amp;sid2=140&amp;oid=001&amp;isYeonhapFlash=Y&amp;aid=0012557505\">원희룡 \"첫 내집마련은 반값에…'국가찬스' 제공해야\"</a></div>\n",
       "<div><a class=\"issue\" data-clk=\"quickarticle\" href=\"http://news.naver.com/main/list.nhn?mode=LPOD&amp;mid=sec&amp;sid1=001&amp;sid2=140&amp;oid=001&amp;isYeonhapFlash=Y&amp;aid=0012557510\">행복하고 우아한 노년?...죽는 날까지 개미처럼 일해야</a></div>\n",
       "<div><a class=\"issue\" data-clk=\"quickarticle\" href=\"http://news.naver.com/main/list.nhn?mode=LPOD&amp;mid=sec&amp;sid1=001&amp;sid2=140&amp;oid=001&amp;isYeonhapFlash=Y&amp;aid=0012557759\">'빨대로 소변 먹이고 촬영'…8살 딸 학대·살해 엄마 항소</a></div>\n",
       "<div><a class=\"issue\" data-clk=\"quickarticle\" href=\"http://news.naver.com/main/list.nhn?mode=LPOD&amp;mid=sec&amp;sid1=001&amp;sid2=140&amp;oid=001&amp;isYeonhapFlash=Y&amp;aid=0012557607\">[팩트체크] '진술 번복' 조민 동창, 위증죄 처벌될까</a></div> </div> </div> <div class=\"direct_area\"> <a class=\"link_olympic\" data-clk=\"tokyo\" href=\"http://m.sports.naver.com/tokyo2020/index\"><span class=\"blind\">TOKYO 2020</span></a>\n",
       "<a class=\"link_news\" data-clk=\"newshome\" href=\"http://news.naver.com/\">네이버뉴스</a>\n",
       "<a class=\"link_direct\" data-clk=\"entertainment\" href=\"http://entertain.naver.com/home\">연예</a>\n",
       "<a class=\"link_direct\" data-clk=\"sports\" href=\"http://sports.news.naver.com/\">스포츠</a> </div> </div> <div class=\"group_title\" data-clk-prefix=\"nsd\" id=\"NM_NEWSSTAND_TITLE\"> <a class=\"link_newsstand\" data-clk=\"title\" href=\"http://newsstand.naver.com/\" target=\"_blank\">뉴스스탠드</a> <div class=\"sort_area\" id=\"NM_NEWSSTAND_data_buttons\"> <a class=\"btn_sort\" data-clk=\"my\" data-type=\"my\" href=\"#\" role=\"button\">구독한 언론사</a> <a class=\"btn_sort sort_on\" data-clk=\"all\" data-type=\"all\" href=\"#\" role=\"button\">전체언론사</a> </div> <div class=\"set_area\" id=\"NM_NEWSSTAND_view_buttons\"> <a class=\"btn_set\" data-clk=\"articleview\" data-type=\"list\" href=\"#\" role=\"button\"> <i class=\"ico_list\"><span class=\"blind\">리스트형</span></i></a> <a class=\"btn_set set_on\" data-clk=\"pressview\" data-type=\"thumb\" href=\"#\" role=\"button\"> <i class=\"ico_tile\"><span class=\"blind\">썸네일형</span></i></a> <a class=\"btn_set\" data-clk=\"set\" href=\"http://newsstand.naver.com/config.html\" target=\"_blank\"> <i class=\"ico_set\"><span class=\"blind\">설정</span></i></a> </div> </div> <div id=\"NM_NEWSSTAND_VIEW_CONTAINER\" style=\"position:relative\"> <div class=\"group_news\" data-clk-prefix=\"nsd_all\" id=\"NM_NEWSSTAND_DEFAULT_LIST\" style=\"display:none\"> <a class=\"pm_btn_prev_l _NM_NEWSSTAND_LIST_prev_btn\" data-clk-custom=\"prev\" href=\"#\" role=\"button\"><i class=\"ico_btn\"><span class=\"blind\">이전</span></i></a> <a class=\"pm_btn_next_l _NM_NEWSSTAND_LIST_next_btn\" data-clk-custom=\"next\" href=\"#\" role=\"button\"><i class=\"ico_btn\"><span class=\"blind\">다음</span></i></a> <div class=\"list_view\"> <div class=\"option_area\"> <div class=\"list_option_wrap\"> <ul class=\"list_option\"> <li class=\"option_item\" data-cateid=\"ct2\"><a class=\"option\" data-clk=\"daei\" href=\"#\">종합/경제</a></li> <li class=\"option_item\" data-cateid=\"ct3\"><a class=\"option\" data-clk=\"dtvcom\" href=\"#\">방송/통신</a></li> <li class=\"option_item\" data-cateid=\"ct4\"><a class=\"option\" data-clk=\"dit\" href=\"#\">IT</a></li> <li class=\"option_item\" data-cateid=\"ct5\"><a class=\"option\" data-clk=\"deng\" href=\"#\">영자지</a></li> <li class=\"option_item\" data-cateid=\"ct6\"><a class=\"option\" data-clk=\"dsporent\" href=\"#\">스포츠/연예</a></li> <li class=\"option_item\" data-cateid=\"ct7\"><a class=\"option\" data-clk=\"dmagtec\" href=\"#\">매거진/전문지</a></li> <li class=\"option_item\" data-cateid=\"ct8\"><a class=\"option\" data-clk=\"dloc\" href=\"#\">지역</a></li> </ul> </div> </div> <div class=\"_NM_NEWSSTAND_ARTICLE_CONTAINER\" data-clk-sub=\"*a\"></div> </div> <div class=\"ly_popup NM_NEWSSTAND_POPUP NM_NEWSSTAND_invalid\" data-clk-sub=\"*a\" style=\"display:none\"> <a class=\"btn_close NM_NEWSSTAND_POPUP_CLOSE\" href=\"#\" role=\"button\"><i class=\"ico_close\"></i><span class=\"blind\">닫기</span></a> <p class=\"popup_msg\">해당 언론사 사정으로 접근이 일시 제한됩니다.</p> <div class=\"popup_btn\"> <a class=\"btn_confirm NM_NEWSSTAND_POPUP_CLOSE\" href=\"#\" role=\"button\">확인</a> </div> </div> <div class=\"ly_popup NM_NEWSSTAND_POPUP NM_NEWSSTAND_undescribe_confirm\" data-clk-sub=\"*a\" style=\"display:none\"> <a class=\"btn_close NM_NEWSSTAND_POPUP_CLOSE\" data-clk=\"usclose\" href=\"#\" role=\"button\"><i class=\"ico_close\"></i><span class=\"blind\">닫기</span></a> <p class=\"popup_msg\"><strong class=\"NM_NEWSSTAND_POPUP_PNAME\"></strong>을(를)<br/>구독해지 하시겠습니까?</p> <div class=\"popup_btn\"> <a class=\"btn_confirm NM_NEWSSTAND_POPUP_CONFIRM\" data-clk=\"usdone\" href=\"#\" role=\"button\">확인</a> <a class=\"btn_confirm NM_NEWSSTAND_POPUP_CLOSE\" data-clk=\"uscancel\" href=\"#\" role=\"button\">취소</a> </div> </div> <div class=\"ly_toast NM_NEWSSTAND_TOAST\" style=\"display:none\"> <p class=\"toast_msg\">구독한 언론사에 추가되었습니다.</p> </div> </div> <div class=\"group_news\" data-clk-prefix=\"nsd_all\" id=\"NM_NEWSSTAND_DEFAULT_THUMB\" style=\"display:block\"> <a class=\"pm_btn_prev_l _NM_UI_PAGE_PREV\" data-clk-custom=\"prev\" href=\"#\" role=\"button\"><i class=\"ico_btn\"><span class=\"blind\">이전</span></i></a> <a class=\"pm_btn_next_l _NM_UI_PAGE_NEXT\" data-clk-custom=\"next\" href=\"#\" role=\"button\"><i class=\"ico_btn\"><span class=\"blind\">다음</span></i></a> <div class=\"_NM_UI_PAGE_CONTAINER\" data-clk-sub=\"*p\" style=\"height:100%;overflow:hidden\"> <div style=\"width: 750px; float: left;\">\n",
       "<div class=\"tile_view\">\n",
       "<div class=\"frame_area\">\n",
       "<i class=\"line to_right1\"></i>\n",
       "<i class=\"line to_right2\"></i>\n",
       "<i class=\"line to_right3\"></i>\n",
       "<i class=\"line to_bottom1\"></i>\n",
       "<i class=\"line to_bottom2\"></i>\n",
       "<i class=\"line to_bottom3\"></i>\n",
       "<i class=\"line to_bottom4\"></i>\n",
       "<i class=\"line to_bottom5\"></i>\n",
       "</div>\n",
       "<div class=\"thumb_area\">\n",
       "<div class=\"thumb_box _NM_NEWSSTAND_THUMB _NM_NEWSSTAND_THUMB_press_valid\" data-pid=\"327\">\n",
       "<a class=\"thumb\" href=\"#\">\n",
       "<img alt=\"뉴데일리\" class=\"news_logo\" height=\"20\" src=\"https://s.pstatic.net/static/newsstand/2020/logo/light/0604/327.png\"/>\n",
       "<span class=\"thumb_dim\"></span></a>\n",
       "<div class=\"popup_wrap\">\n",
       "<a class=\"btn_popup _NM_NEWSSTAND_THUMB_subscribe_press\" data-clk=\"sub\" data-pid=\"327\" href=\"#\" role=\"button\">구독</a>\n",
       "<a class=\"btn_popup _NM_NEWSSTAND_THUMB_unsubscribe_press\" data-clk=\"unsub\" data-pid=\"327\" href=\"#\" role=\"button\">해지</a>\n",
       "<a class=\"btn_popup\" data-clk=\"logo\" data-pid=\"327\" href=\"http://newsstand.naver.com/?list=&amp;pcode=327\" target=\"_blank\">기사보기</a>\n",
       "</div>\n",
       "</div>\n",
       "<div class=\"thumb_box _NM_NEWSSTAND_THUMB _NM_NEWSSTAND_THUMB_press_valid\" data-pid=\"038\">\n",
       "<a class=\"thumb\" href=\"#\">\n",
       "<img alt=\"한국일보\" class=\"news_logo\" height=\"20\" src=\"https://s.pstatic.net/static/newsstand/2020/logo/light/0604/038.png\"/>\n",
       "<span class=\"thumb_dim\"></span></a>\n",
       "<div class=\"popup_wrap\">\n",
       "<a class=\"btn_popup _NM_NEWSSTAND_THUMB_subscribe_press\" data-clk=\"sub\" data-pid=\"038\" href=\"#\" role=\"button\">구독</a>\n",
       "<a class=\"btn_popup _NM_NEWSSTAND_THUMB_unsubscribe_press\" data-clk=\"unsub\" data-pid=\"038\" href=\"#\" role=\"button\">해지</a>\n",
       "<a class=\"btn_popup\" data-clk=\"logo\" data-pid=\"038\" href=\"http://newsstand.naver.com/?list=&amp;pcode=038\" target=\"_blank\">기사보기</a>\n",
       "</div>\n",
       "</div>\n",
       "<div class=\"thumb_box _NM_NEWSSTAND_THUMB _NM_NEWSSTAND_THUMB_press_valid\" data-pid=\"241\">\n",
       "<a class=\"thumb\" href=\"#\">\n",
       "<img alt=\"일간스포츠\" class=\"news_logo\" height=\"20\" src=\"https://s.pstatic.net/static/newsstand/2020/logo/light/0604/241.png\"/>\n",
       "<span class=\"thumb_dim\"></span></a>\n",
       "<div class=\"popup_wrap\">\n",
       "<a class=\"btn_popup _NM_NEWSSTAND_THUMB_subscribe_press\" data-clk=\"sub\" data-pid=\"241\" href=\"#\" role=\"button\">구독</a>\n",
       "<a class=\"btn_popup _NM_NEWSSTAND_THUMB_unsubscribe_press\" data-clk=\"unsub\" data-pid=\"241\" href=\"#\" role=\"button\">해지</a>\n",
       "<a class=\"btn_popup\" data-clk=\"logo\" data-pid=\"241\" href=\"http://newsstand.naver.com/?list=&amp;pcode=241\" target=\"_blank\">기사보기</a>\n",
       "</div>\n",
       "</div>\n",
       "<div class=\"thumb_box _NM_NEWSSTAND_THUMB _NM_NEWSSTAND_THUMB_press_valid\" data-pid=\"047\">\n",
       "<a class=\"thumb\" href=\"#\">\n",
       "<img alt=\"오마이뉴스\" class=\"news_logo\" height=\"20\" src=\"https://s.pstatic.net/static/newsstand/2020/logo/light/0604/047.png\"/>\n",
       "<span class=\"thumb_dim\"></span></a>\n",
       "<div class=\"popup_wrap\">\n",
       "<a class=\"btn_popup _NM_NEWSSTAND_THUMB_subscribe_press\" data-clk=\"sub\" data-pid=\"047\" href=\"#\" role=\"button\">구독</a>\n",
       "<a class=\"btn_popup _NM_NEWSSTAND_THUMB_unsubscribe_press\" data-clk=\"unsub\" data-pid=\"047\" href=\"#\" role=\"button\">해지</a>\n",
       "<a class=\"btn_popup\" data-clk=\"logo\" data-pid=\"047\" href=\"http://newsstand.naver.com/?list=&amp;pcode=047\" target=\"_blank\">기사보기</a>\n",
       "</div>\n",
       "</div>\n",
       "<div class=\"thumb_box _NM_NEWSSTAND_THUMB _NM_NEWSSTAND_THUMB_press_valid\" data-pid=\"904\">\n",
       "<a class=\"thumb\" href=\"#\">\n",
       "<img alt=\"JTBC\" class=\"news_logo\" height=\"20\" src=\"https://s.pstatic.net/static/newsstand/2020/logo/light/0604/904.png\"/>\n",
       "<span class=\"thumb_dim\"></span></a>\n",
       "<div class=\"popup_wrap\">\n",
       "<a class=\"btn_popup _NM_NEWSSTAND_THUMB_subscribe_press\" data-clk=\"sub\" data-pid=\"904\" href=\"#\" role=\"button\">구독</a>\n",
       "<a class=\"btn_popup _NM_NEWSSTAND_THUMB_unsubscribe_press\" data-clk=\"unsub\" data-pid=\"904\" href=\"#\" role=\"button\">해지</a>\n",
       "<a class=\"btn_popup\" data-clk=\"logo\" data-pid=\"904\" href=\"http://newsstand.naver.com/?list=&amp;pcode=904\" target=\"_blank\">기사보기</a>\n",
       "</div>\n",
       "</div>\n",
       "<div class=\"thumb_box _NM_NEWSSTAND_THUMB _NM_NEWSSTAND_THUMB_press_valid\" data-pid=\"021\">\n",
       "<a class=\"thumb\" href=\"#\">\n",
       "<img alt=\"문화일보\" class=\"news_logo\" height=\"20\" src=\"https://s.pstatic.net/static/newsstand/2020/logo/light/0604/021.png\"/>\n",
       "<span class=\"thumb_dim\"></span></a>\n",
       "<div class=\"popup_wrap\">\n",
       "<a class=\"btn_popup _NM_NEWSSTAND_THUMB_subscribe_press\" data-clk=\"sub\" data-pid=\"021\" href=\"#\" role=\"button\">구독</a>\n",
       "<a class=\"btn_popup _NM_NEWSSTAND_THUMB_unsubscribe_press\" data-clk=\"unsub\" data-pid=\"021\" href=\"#\" role=\"button\">해지</a>\n",
       "<a class=\"btn_popup\" data-clk=\"logo\" data-pid=\"021\" href=\"http://newsstand.naver.com/?list=&amp;pcode=021\" target=\"_blank\">기사보기</a>\n",
       "</div>\n",
       "</div>\n",
       "<div class=\"thumb_box _NM_NEWSSTAND_THUMB _NM_NEWSSTAND_THUMB_press_valid\" data-pid=\"011\">\n",
       "<a class=\"thumb\" href=\"#\">\n",
       "<img alt=\"서울경제\" class=\"news_logo\" height=\"20\" src=\"https://s.pstatic.net/static/newsstand/2020/logo/light/0604/011.png\"/>\n",
       "<span class=\"thumb_dim\"></span></a>\n",
       "<div class=\"popup_wrap\">\n",
       "<a class=\"btn_popup _NM_NEWSSTAND_THUMB_subscribe_press\" data-clk=\"sub\" data-pid=\"011\" href=\"#\" role=\"button\">구독</a>\n",
       "<a class=\"btn_popup _NM_NEWSSTAND_THUMB_unsubscribe_press\" data-clk=\"unsub\" data-pid=\"011\" href=\"#\" role=\"button\">해지</a>\n",
       "<a class=\"btn_popup\" data-clk=\"logo\" data-pid=\"011\" href=\"http://newsstand.naver.com/?list=&amp;pcode=011\" target=\"_blank\">기사보기</a>\n",
       "</div>\n",
       "</div>\n",
       "<div class=\"thumb_box _NM_NEWSSTAND_THUMB _NM_NEWSSTAND_THUMB_press_valid\" data-pid=\"022\">\n",
       "<a class=\"thumb\" href=\"#\">\n",
       "<img alt=\"세계일보\" class=\"news_logo\" height=\"20\" src=\"https://s.pstatic.net/static/newsstand/2020/logo/light/0604/022.png\"/>\n",
       "<span class=\"thumb_dim\"></span></a>\n",
       "<div class=\"popup_wrap\">\n",
       "<a class=\"btn_popup _NM_NEWSSTAND_THUMB_subscribe_press\" data-clk=\"sub\" data-pid=\"022\" href=\"#\" role=\"button\">구독</a>\n",
       "<a class=\"btn_popup _NM_NEWSSTAND_THUMB_unsubscribe_press\" data-clk=\"unsub\" data-pid=\"022\" href=\"#\" role=\"button\">해지</a>\n",
       "<a class=\"btn_popup\" data-clk=\"logo\" data-pid=\"022\" href=\"http://newsstand.naver.com/?list=&amp;pcode=022\" target=\"_blank\">기사보기</a>\n",
       "</div>\n",
       "</div>\n",
       "<div class=\"thumb_box _NM_NEWSSTAND_THUMB _NM_NEWSSTAND_THUMB_press_valid\" data-pid=\"044\">\n",
       "<a class=\"thumb\" href=\"#\">\n",
       "<img alt=\"코리아헤럴드\" class=\"news_logo\" height=\"20\" src=\"https://s.pstatic.net/static/newsstand/2020/logo/light/0604/044.png\"/>\n",
       "<span class=\"thumb_dim\"></span></a>\n",
       "<div class=\"popup_wrap\">\n",
       "<a class=\"btn_popup _NM_NEWSSTAND_THUMB_subscribe_press\" data-clk=\"sub\" data-pid=\"044\" href=\"#\" role=\"button\">구독</a>\n",
       "<a class=\"btn_popup _NM_NEWSSTAND_THUMB_unsubscribe_press\" data-clk=\"unsub\" data-pid=\"044\" href=\"#\" role=\"button\">해지</a>\n",
       "<a class=\"btn_popup\" data-clk=\"logo\" data-pid=\"044\" href=\"http://newsstand.naver.com/?list=&amp;pcode=044\" target=\"_blank\">기사보기</a>\n",
       "</div>\n",
       "</div>\n",
       "<div class=\"thumb_box _NM_NEWSSTAND_THUMB _NM_NEWSSTAND_THUMB_press_valid\" data-pid=\"005\">\n",
       "<a class=\"thumb\" href=\"#\">\n",
       "<img alt=\"국민일보\" class=\"news_logo\" height=\"20\" src=\"https://s.pstatic.net/static/newsstand/2020/logo/light/0604/005.png\"/>\n",
       "<span class=\"thumb_dim\"></span></a>\n",
       "<div class=\"popup_wrap\">\n",
       "<a class=\"btn_popup _NM_NEWSSTAND_THUMB_subscribe_press\" data-clk=\"sub\" data-pid=\"005\" href=\"#\" role=\"button\">구독</a>\n",
       "<a class=\"btn_popup _NM_NEWSSTAND_THUMB_unsubscribe_press\" data-clk=\"unsub\" data-pid=\"005\" href=\"#\" role=\"button\">해지</a>\n",
       "<a class=\"btn_popup\" data-clk=\"logo\" data-pid=\"005\" href=\"http://newsstand.naver.com/?list=&amp;pcode=005\" target=\"_blank\">기사보기</a>\n",
       "</div>\n",
       "</div>\n",
       "<div class=\"thumb_box _NM_NEWSSTAND_THUMB _NM_NEWSSTAND_THUMB_press_valid\" data-pid=\"092\">\n",
       "<a class=\"thumb\" href=\"#\">\n",
       "<img alt=\"지디넷코리아\" class=\"news_logo\" height=\"20\" src=\"https://s.pstatic.net/static/newsstand/2020/logo/light/0604/092.png\"/>\n",
       "<span class=\"thumb_dim\"></span></a>\n",
       "<div class=\"popup_wrap\">\n",
       "<a class=\"btn_popup _NM_NEWSSTAND_THUMB_subscribe_press\" data-clk=\"sub\" data-pid=\"092\" href=\"#\" role=\"button\">구독</a>\n",
       "<a class=\"btn_popup _NM_NEWSSTAND_THUMB_unsubscribe_press\" data-clk=\"unsub\" data-pid=\"092\" href=\"#\" role=\"button\">해지</a>\n",
       "<a class=\"btn_popup\" data-clk=\"logo\" data-pid=\"092\" href=\"http://newsstand.naver.com/?list=&amp;pcode=092\" target=\"_blank\">기사보기</a>\n",
       "</div>\n",
       "</div>\n",
       "<div class=\"thumb_box _NM_NEWSSTAND_THUMB _NM_NEWSSTAND_THUMB_press_valid\" data-pid=\"139\">\n",
       "<a class=\"thumb\" href=\"#\">\n",
       "<img alt=\"스포탈코리아\" class=\"news_logo\" height=\"20\" src=\"https://s.pstatic.net/static/newsstand/2020/logo/light/0604/139.png\"/>\n",
       "<span class=\"thumb_dim\"></span></a>\n",
       "<div class=\"popup_wrap\">\n",
       "<a class=\"btn_popup _NM_NEWSSTAND_THUMB_subscribe_press\" data-clk=\"sub\" data-pid=\"139\" href=\"#\" role=\"button\">구독</a>\n",
       "<a class=\"btn_popup _NM_NEWSSTAND_THUMB_unsubscribe_press\" data-clk=\"unsub\" data-pid=\"139\" href=\"#\" role=\"button\">해지</a>\n",
       "<a class=\"btn_popup\" data-clk=\"logo\" data-pid=\"139\" href=\"http://newsstand.naver.com/?list=&amp;pcode=139\" target=\"_blank\">기사보기</a>\n",
       "</div>\n",
       "</div>\n",
       "<div class=\"thumb_box _NM_NEWSSTAND_THUMB _NM_NEWSSTAND_THUMB_press_valid\" data-pid=\"014\">\n",
       "<a class=\"thumb\" href=\"#\">\n",
       "<img alt=\"파이낸셜뉴스\" class=\"news_logo\" height=\"20\" src=\"https://s.pstatic.net/static/newsstand/2020/logo/light/0604/014.png\"/>\n",
       "<span class=\"thumb_dim\"></span></a>\n",
       "<div class=\"popup_wrap\">\n",
       "<a class=\"btn_popup _NM_NEWSSTAND_THUMB_subscribe_press\" data-clk=\"sub\" data-pid=\"014\" href=\"#\" role=\"button\">구독</a>\n",
       "<a class=\"btn_popup _NM_NEWSSTAND_THUMB_unsubscribe_press\" data-clk=\"unsub\" data-pid=\"014\" href=\"#\" role=\"button\">해지</a>\n",
       "<a class=\"btn_popup\" data-clk=\"logo\" data-pid=\"014\" href=\"http://newsstand.naver.com/?list=&amp;pcode=014\" target=\"_blank\">기사보기</a>\n",
       "</div>\n",
       "</div>\n",
       "<div class=\"thumb_box _NM_NEWSSTAND_THUMB _NM_NEWSSTAND_THUMB_press_valid\" data-pid=\"368\">\n",
       "<a class=\"thumb\" href=\"#\">\n",
       "<img alt=\"데일리안\" class=\"news_logo\" height=\"20\" src=\"https://s.pstatic.net/static/newsstand/2020/logo/light/0604/368.png\"/>\n",
       "<span class=\"thumb_dim\"></span></a>\n",
       "<div class=\"popup_wrap\">\n",
       "<a class=\"btn_popup _NM_NEWSSTAND_THUMB_subscribe_press\" data-clk=\"sub\" data-pid=\"368\" href=\"#\" role=\"button\">구독</a>\n",
       "<a class=\"btn_popup _NM_NEWSSTAND_THUMB_unsubscribe_press\" data-clk=\"unsub\" data-pid=\"368\" href=\"#\" role=\"button\">해지</a>\n",
       "<a class=\"btn_popup\" data-clk=\"logo\" data-pid=\"368\" href=\"http://newsstand.naver.com/?list=&amp;pcode=368\" target=\"_blank\">기사보기</a>\n",
       "</div>\n",
       "</div>\n",
       "<div class=\"thumb_box _NM_NEWSSTAND_THUMB _NM_NEWSSTAND_THUMB_press_valid\" data-pid=\"326\">\n",
       "<a class=\"thumb\" href=\"#\">\n",
       "<img alt=\"KBS World\" class=\"news_logo\" height=\"20\" src=\"https://s.pstatic.net/static/newsstand/2020/logo/light/0604/326.png\"/>\n",
       "<span class=\"thumb_dim\"></span></a>\n",
       "<div class=\"popup_wrap\">\n",
       "<a class=\"btn_popup _NM_NEWSSTAND_THUMB_subscribe_press\" data-clk=\"sub\" data-pid=\"326\" href=\"#\" role=\"button\">구독</a>\n",
       "<a class=\"btn_popup _NM_NEWSSTAND_THUMB_unsubscribe_press\" data-clk=\"unsub\" data-pid=\"326\" href=\"#\" role=\"button\">해지</a>\n",
       "<a class=\"btn_popup\" data-clk=\"logo\" data-pid=\"326\" href=\"http://newsstand.naver.com/?list=&amp;pcode=326\" target=\"_blank\">기사보기</a>\n",
       "</div>\n",
       "</div>\n",
       "<div class=\"thumb_box _NM_NEWSSTAND_THUMB _NM_NEWSSTAND_THUMB_press_valid\" data-pid=\"337\">\n",
       "<a class=\"thumb\" href=\"#\">\n",
       "<img alt=\"경북일보\" class=\"news_logo\" height=\"20\" src=\"https://s.pstatic.net/static/newsstand/2020/logo/light/0604/337.png\"/>\n",
       "<span class=\"thumb_dim\"></span></a>\n",
       "<div class=\"popup_wrap\">\n",
       "<a class=\"btn_popup _NM_NEWSSTAND_THUMB_subscribe_press\" data-clk=\"sub\" data-pid=\"337\" href=\"#\" role=\"button\">구독</a>\n",
       "<a class=\"btn_popup _NM_NEWSSTAND_THUMB_unsubscribe_press\" data-clk=\"unsub\" data-pid=\"337\" href=\"#\" role=\"button\">해지</a>\n",
       "<a class=\"btn_popup\" data-clk=\"logo\" data-pid=\"337\" href=\"http://newsstand.naver.com/?list=&amp;pcode=337\" target=\"_blank\">기사보기</a>\n",
       "</div>\n",
       "</div>\n",
       "<div class=\"thumb_box _NM_NEWSSTAND_THUMB _NM_NEWSSTAND_THUMB_press_valid\" data-pid=\"978\">\n",
       "<a class=\"thumb\" href=\"#\">\n",
       "<img alt=\"경북도민일보\" class=\"news_logo\" height=\"20\" src=\"https://s.pstatic.net/static/newsstand/2020/logo/light/0604/978.png\"/>\n",
       "<span class=\"thumb_dim\"></span></a>\n",
       "<div class=\"popup_wrap\">\n",
       "<a class=\"btn_popup _NM_NEWSSTAND_THUMB_subscribe_press\" data-clk=\"sub\" data-pid=\"978\" href=\"#\" role=\"button\">구독</a>\n",
       "<a class=\"btn_popup _NM_NEWSSTAND_THUMB_unsubscribe_press\" data-clk=\"unsub\" data-pid=\"978\" href=\"#\" role=\"button\">해지</a>\n",
       "<a class=\"btn_popup\" data-clk=\"logo\" data-pid=\"978\" href=\"http://newsstand.naver.com/?list=&amp;pcode=978\" target=\"_blank\">기사보기</a>\n",
       "</div>\n",
       "</div>\n",
       "<div class=\"thumb_box _NM_NEWSSTAND_THUMB _NM_NEWSSTAND_THUMB_press_valid\" data-pid=\"936\">\n",
       "<a class=\"thumb\" href=\"#\">\n",
       "<img alt=\"대구일보\" class=\"news_logo\" height=\"20\" src=\"https://s.pstatic.net/static/newsstand/2020/logo/light/0604/936.png\"/>\n",
       "<span class=\"thumb_dim\"></span></a>\n",
       "<div class=\"popup_wrap\">\n",
       "<a class=\"btn_popup _NM_NEWSSTAND_THUMB_subscribe_press\" data-clk=\"sub\" data-pid=\"936\" href=\"#\" role=\"button\">구독</a>\n",
       "<a class=\"btn_popup _NM_NEWSSTAND_THUMB_unsubscribe_press\" data-clk=\"unsub\" data-pid=\"936\" href=\"#\" role=\"button\">해지</a>\n",
       "<a class=\"btn_popup\" data-clk=\"logo\" data-pid=\"936\" href=\"http://newsstand.naver.com/?list=&amp;pcode=936\" target=\"_blank\">기사보기</a>\n",
       "</div>\n",
       "</div>\n",
       "<div class=\"thumb_box _NM_NEWSSTAND_THUMB _NM_NEWSSTAND_THUMB_press_valid\" data-pid=\"969\">\n",
       "<a class=\"thumb\" href=\"#\">\n",
       "<img alt=\"매일노동뉴스\" class=\"news_logo\" height=\"20\" src=\"https://s.pstatic.net/static/newsstand/2020/logo/light/0604/969.png\"/>\n",
       "<span class=\"thumb_dim\"></span></a>\n",
       "<div class=\"popup_wrap\">\n",
       "<a class=\"btn_popup _NM_NEWSSTAND_THUMB_subscribe_press\" data-clk=\"sub\" data-pid=\"969\" href=\"#\" role=\"button\">구독</a>\n",
       "<a class=\"btn_popup _NM_NEWSSTAND_THUMB_unsubscribe_press\" data-clk=\"unsub\" data-pid=\"969\" href=\"#\" role=\"button\">해지</a>\n",
       "<a class=\"btn_popup\" data-clk=\"logo\" data-pid=\"969\" href=\"http://newsstand.naver.com/?list=&amp;pcode=969\" target=\"_blank\">기사보기</a>\n",
       "</div>\n",
       "</div>\n",
       "<div class=\"thumb_box _NM_NEWSSTAND_THUMB _NM_NEWSSTAND_THUMB_press_valid\" data-pid=\"967\">\n",
       "<a class=\"thumb\" href=\"#\">\n",
       "<img alt=\"코리아쉬핑가제트\" class=\"news_logo\" height=\"20\" src=\"https://s.pstatic.net/static/newsstand/2020/logo/light/0604/967.png\"/>\n",
       "<span class=\"thumb_dim\"></span></a>\n",
       "<div class=\"popup_wrap\">\n",
       "<a class=\"btn_popup _NM_NEWSSTAND_THUMB_subscribe_press\" data-clk=\"sub\" data-pid=\"967\" href=\"#\" role=\"button\">구독</a>\n",
       "<a class=\"btn_popup _NM_NEWSSTAND_THUMB_unsubscribe_press\" data-clk=\"unsub\" data-pid=\"967\" href=\"#\" role=\"button\">해지</a>\n",
       "<a class=\"btn_popup\" data-clk=\"logo\" data-pid=\"967\" href=\"http://newsstand.naver.com/?list=&amp;pcode=967\" target=\"_blank\">기사보기</a>\n",
       "</div>\n",
       "</div>\n",
       "<div class=\"thumb_box _NM_NEWSSTAND_THUMB _NM_NEWSSTAND_THUMB_press_valid\" data-pid=\"811\">\n",
       "<a class=\"thumb\" href=\"#\">\n",
       "<img alt=\"한국농어촌방송\" class=\"news_logo\" height=\"20\" src=\"https://s.pstatic.net/static/newsstand/2020/logo/light/0604/811.png\"/>\n",
       "<span class=\"thumb_dim\"></span></a>\n",
       "<div class=\"popup_wrap\">\n",
       "<a class=\"btn_popup _NM_NEWSSTAND_THUMB_subscribe_press\" data-clk=\"sub\" data-pid=\"811\" href=\"#\" role=\"button\">구독</a>\n",
       "<a class=\"btn_popup _NM_NEWSSTAND_THUMB_unsubscribe_press\" data-clk=\"unsub\" data-pid=\"811\" href=\"#\" role=\"button\">해지</a>\n",
       "<a class=\"btn_popup\" data-clk=\"logo\" data-pid=\"811\" href=\"http://newsstand.naver.com/?list=&amp;pcode=811\" target=\"_blank\">기사보기</a>\n",
       "</div>\n",
       "</div>\n",
       "<div class=\"thumb_box _NM_NEWSSTAND_THUMB _NM_NEWSSTAND_THUMB_press_valid\" data-pid=\"820\">\n",
       "<a class=\"thumb\" href=\"#\">\n",
       "<img alt=\"월간노동법률\" class=\"news_logo\" height=\"20\" src=\"https://s.pstatic.net/static/newsstand/2020/logo/light/0604/820.png\"/>\n",
       "<span class=\"thumb_dim\"></span></a>\n",
       "<div class=\"popup_wrap\">\n",
       "<a class=\"btn_popup _NM_NEWSSTAND_THUMB_subscribe_press\" data-clk=\"sub\" data-pid=\"820\" href=\"#\" role=\"button\">구독</a>\n",
       "<a class=\"btn_popup _NM_NEWSSTAND_THUMB_unsubscribe_press\" data-clk=\"unsub\" data-pid=\"820\" href=\"#\" role=\"button\">해지</a>\n",
       "<a class=\"btn_popup\" data-clk=\"logo\" data-pid=\"820\" href=\"http://newsstand.naver.com/?list=&amp;pcode=820\" target=\"_blank\">기사보기</a>\n",
       "</div>\n",
       "</div>\n",
       "<div class=\"thumb_box _NM_NEWSSTAND_THUMB _NM_NEWSSTAND_THUMB_press_valid\" data-pid=\"340\">\n",
       "<a class=\"thumb\" href=\"#\">\n",
       "<img alt=\"OBS\" class=\"news_logo\" height=\"20\" src=\"https://s.pstatic.net/static/newsstand/2020/logo/light/0604/340.png\"/>\n",
       "<span class=\"thumb_dim\"></span></a>\n",
       "<div class=\"popup_wrap\">\n",
       "<a class=\"btn_popup _NM_NEWSSTAND_THUMB_subscribe_press\" data-clk=\"sub\" data-pid=\"340\" href=\"#\" role=\"button\">구독</a>\n",
       "<a class=\"btn_popup _NM_NEWSSTAND_THUMB_unsubscribe_press\" data-clk=\"unsub\" data-pid=\"340\" href=\"#\" role=\"button\">해지</a>\n",
       "<a class=\"btn_popup\" data-clk=\"logo\" data-pid=\"340\" href=\"http://newsstand.naver.com/?list=&amp;pcode=340\" target=\"_blank\">기사보기</a>\n",
       "</div>\n",
       "</div>\n",
       "<div class=\"thumb_box _NM_NEWSSTAND_THUMB _NM_NEWSSTAND_THUMB_press_valid\" data-pid=\"819\">\n",
       "<a class=\"thumb\" href=\"#\">\n",
       "<img alt=\"바이라인네트워크\" class=\"news_logo\" height=\"20\" src=\"https://s.pstatic.net/static/newsstand/2020/logo/light/0604/819.png\"/>\n",
       "<span class=\"thumb_dim\"></span></a>\n",
       "<div class=\"popup_wrap\">\n",
       "<a class=\"btn_popup _NM_NEWSSTAND_THUMB_subscribe_press\" data-clk=\"sub\" data-pid=\"819\" href=\"#\" role=\"button\">구독</a>\n",
       "<a class=\"btn_popup _NM_NEWSSTAND_THUMB_unsubscribe_press\" data-clk=\"unsub\" data-pid=\"819\" href=\"#\" role=\"button\">해지</a>\n",
       "<a class=\"btn_popup\" data-clk=\"logo\" data-pid=\"819\" href=\"http://newsstand.naver.com/?list=&amp;pcode=819\" target=\"_blank\">기사보기</a>\n",
       "</div>\n",
       "</div>\n",
       "</div>\n",
       "</div>\n",
       "</div> </div> <div class=\"ly_popup NM_NEWSSTAND_POPUP NM_NEWSSTAND_invalid\" style=\"display:none\"> <a class=\"btn_close NM_NEWSSTAND_POPUP_CLOSE\" href=\"#\" role=\"button\"><i class=\"ico_close\"></i><span class=\"blind\">닫기</span></a> <p class=\"popup_msg\">해당 언론사 사정으로 접근이 일시 제한됩니다.</p> <div class=\"popup_btn\"> <a class=\"btn_confirm NM_NEWSSTAND_POPUP_CLOSE\" href=\"#\" role=\"button\">확인</a> </div> </div> <div class=\"ly_popup NM_NEWSSTAND_POPUP NM_NEWSSTAND_undescribe_confirm\" data-clk-sub=\"*a\" style=\"display:none\"> <a class=\"btn_close NM_NEWSSTAND_POPUP_CLOSE\" data-clk=\"usclose\" href=\"#\" role=\"button\"><i class=\"ico_close\"></i><span class=\"blind\">닫기</span></a> <p class=\"popup_msg\"><strong class=\"NM_NEWSSTAND_POPUP_PNAME\"></strong>을(를)<br>구독해지 하시겠습니까?</br></p> <div class=\"popup_btn\"> <a class=\"btn_confirm NM_NEWSSTAND_POPUP_CONFIRM\" data-clk=\"usdone\" href=\"#\" role=\"button\">확인</a> <a class=\"btn_confirm NM_NEWSSTAND_POPUP_CLOSE\" data-clk=\"uscancel\" href=\"#\" role=\"button\">취소</a> </div> </div> <div class=\"ly_toast NM_NEWSSTAND_TOAST\" style=\"display:none\"> <p class=\"toast_msg\">구독한 언론사에 추가되었습니다.</p> </div> </div> <div class=\"group_news\" data-clk-prefix=\"nsd_myn\" id=\"NM_NEWSSTAND_MY_LIST\" style=\"display:none\"> <a class=\"pm_btn_prev_l _NM_NEWSSTAND_LIST_prev_btn\" data-clk-custom=\"prev\" href=\"#\" role=\"button\"><i class=\"ico_btn\"></i><span class=\"blind\">이전</span></a> <a class=\"pm_btn_next_l _NM_NEWSSTAND_LIST_next_btn\" data-clk-custom=\"next\" href=\"#\" role=\"button\"><i class=\"ico_btn\"></i><span class=\"blind\">다음</span><span class=\"blind\">다음</span></a> <div class=\"list_view\"> <div class=\"option_area\"> <div class=\"list_option_wrap\"> <ul class=\"list_option _NM_NEWSSTAND_MY_presslist\"> <!-- nvpaperlist:empty --> </ul> </div> </div> <div class=\"_NM_NEWSSTAND_ARTICLE_CONTAINER\" data-clk-sub=\"*a\"> </div> </div> <div class=\"ly_popup NM_NEWSSTAND_POPUP NM_NEWSSTAND_invalid\" style=\"display:none\"> <a class=\"btn_close NM_NEWSSTAND_POPUP_CLOSE\" href=\"#\" role=\"button\"><i class=\"ico_close\"></i><span class=\"blind\">닫기</span></a> <p class=\"popup_msg\">해당 언론사 사정으로 접근이 일시 제한됩니다.</p> <div class=\"popup_btn\"> <a class=\"btn_confirm NM_NEWSSTAND_POPUP_CLOSE\" href=\"#\" role=\"button\">확인</a> </div> </div> <div class=\"ly_popup NM_NEWSSTAND_POPUP NM_NEWSSTAND_undescribe_confirm\" data-clk-sub=\"*a\" style=\"display:none\"> <a class=\"btn_close NM_NEWSSTAND_POPUP_CLOSE\" data-clk=\"usclose\" href=\"#\" role=\"button\"><i class=\"ico_close\"></i><span class=\"blind\">닫기</span></a> <p class=\"popup_msg\"><strong class=\"NM_NEWSSTAND_POPUP_PNAME\"></strong>을(를)<br/>구독해지 하시겠습니까?</p> <div class=\"popup_btn\"> <a class=\"btn_confirm NM_NEWSSTAND_POPUP_CONFIRM\" data-clk=\"usdone\" href=\"#\" role=\"button\">확인</a> <a class=\"btn_confirm NM_NEWSSTAND_POPUP_CLOSE\" data-clk=\"uscancel\" href=\"#\" role=\"button\">취소</a> </div> </div> </div> <div class=\"group_news\" data-clk-prefix=\"nsd_myn\" id=\"NM_NEWSSTAND_MY_THUMB\" style=\"display:none\"> <a class=\"pm_btn_prev_l _NM_UI_PAGE_PREV\" data-clk-custom=\"prev\" href=\"#\" role=\"button\"><i class=\"ico_btn\"><span class=\"blind\">이전</span></i></a> <a class=\"pm_btn_next_l _NM_UI_PAGE_NEXT\" data-clk-custom=\"next\" href=\"#\" role=\"button\"><i class=\"ico_btn\"><span class=\"blind\">다음</span></i></a> <div class=\"_NM_UI_PAGE_CONTAINER\" data-clk-sub=\"*p\"></div> <div class=\"ly_popup NM_NEWSSTAND_POPUP NM_NEWSSTAND_invalid\" style=\"display:none\"> <a class=\"btn_close NM_NEWSSTAND_POPUP_CLOSE\" href=\"#\" role=\"button\"><i class=\"ico_close\"></i><span class=\"blind\">닫기</span></a> <p class=\"popup_msg\">해당 언론사 사정으로 접근이 일시 제한됩니다.</p> <div class=\"popup_btn\"> <a class=\"btn_confirm NM_NEWSSTAND_POPUP_CLOSE\" href=\"#\" role=\"button\">확인</a> </div> </div> <div class=\"ly_popup NM_NEWSSTAND_POPUP NM_NEWSSTAND_undescribe_confirm\" data-clk-sub=\"*a\" style=\"display:none\"> <a class=\"btn_close NM_NEWSSTAND_POPUP_CLOSE\" data-clk=\"usclose\" href=\"#\" role=\"button\"><i class=\"ico_close\"></i><span class=\"blind\">닫기</span></a> <p class=\"popup_msg\"><strong class=\"NM_NEWSSTAND_POPUP_PNAME\"></strong>을(를)<br/>구독해지 하시겠습니까?</p> <div class=\"popup_btn\"> <a class=\"btn_confirm NM_NEWSSTAND_POPUP_CONFIRM\" data-clk=\"usdone\" href=\"#\" role=\"button\">확인</a> <a class=\"btn_confirm NM_NEWSSTAND_POPUP_CLOSE\" data-clk=\"uscancel\" href=\"#\" role=\"button\">취소</a> </div> </div> </div> <div class=\"group_news\" id=\"NM_NEWSSTAND_MY_EMPTY\" style=\"display:none\"> <div class=\"error_view\"> <div class=\"error_area\"> <strong class=\"error_msg\">구독한 언론사가 없습니다.</strong> <p class=\"dsc_msg\">언론사 구독 설정에서 관심있는 언론사를 구독하시면<br/>언론사가 직접 편집한 뉴스들을 네이버 홈에서 바로 보실 수 있습니다.</p> <a class=\"link_redirect\" href=\"http://newsstand.naver.com/config.html\" target=\"_blank\">언론사 구독 설정하기</a> </div> </div> </div> </div> </div> <!-- EMPTY --> <div id=\"NM_THEMECAST_CONTENTS_CONTAINER\"> <div class=\"sc_themecast id_sports\" data-fixed=\"SPORTS\" id=\"themecast\">\n",
       "<h2 class=\"blind\">주제별 캐스트</h2>\n",
       "<div class=\"theme_head\">\n",
       "<div class=\"group_title\">\n",
       "<div class=\"title_area\">\n",
       "<strong class=\"title\">오늘 읽을만한 글</strong><span class=\"dsc\">주제별로 분류된 다양한 글 모음</span>\n",
       "</div>\n",
       "<div class=\"info_area\">\n",
       "<span class=\"info\"><strong class=\"new\">1,822</strong> 개의 글</span>\n",
       "<a class=\"btn_set\" data-clk=\"tca.like\" href=\"#\" id=\"NM_THEME_EDIT_SET\" role=\"button\">관심주제 설정</a>\n",
       "</div>\n",
       "</div>\n",
       "<div class=\"theme_fix_wrap\">\n",
       "<div class=\"group_category\" data-demo-key=\"default\" id=\"NM_THEME_CATE_GROUPS\">\n",
       "<div class=\"main_category\">\n",
       "<a class=\"pm_btn_prev NM_THEME_PREV\" data-clk=\"tct.prev\" href=\"#\" role=\"button\" style=\"display: none;\">\n",
       "<i class=\"ico_btn\"><span class=\"blind\">이전</span></i>\n",
       "</a>\n",
       "<a class=\"pm_btn_next NM_THEME_NEXT\" data-clk=\"tct.next\" href=\"#\" role=\"button\" style=\"display: none;\">\n",
       "<i class=\"ico_btn\"><span class=\"blind\">다음</span></i>\n",
       "</a>\n",
       "<div class=\"_NM_UI_PAGE_CONTAINER\" id=\"NM_THEME_CATE_FLICK\" style=\"height: 49px; overflow: hidden;\">\n",
       "<div style=\"width: 750px;\">\n",
       "<ul class=\"list_category\" role=\"tablist\">\n",
       "<li class=\"category_item\" role=\"presentation\">\n",
       "<a aria-selected=\"false\" class=\"_NM_THEME_CATE tab id_enter\" data-clk=\"tct.tvc\" data-panel-code=\"ENTER\" href=\"#\" role=\"tab\">엔터</a>\n",
       "</li>\n",
       "<li class=\"category_item\" role=\"presentation\">\n",
       "<a aria-selected=\"true\" class=\"_NM_THEME_CATE tab id_sports\" data-clk=\"tct.spo\" data-panel-code=\"SPORTS\" href=\"#\" role=\"tab\">스포츠</a>\n",
       "</li>\n",
       "<li class=\"category_item\" role=\"presentation\">\n",
       "<a aria-selected=\"false\" class=\"_NM_THEME_CATE tab id_cargame\" data-clk=\"tct.aut\" data-panel-code=\"CARGAME\" href=\"#\" role=\"tab\">자동차</a>\n",
       "</li>\n",
       "<li class=\"category_item\" role=\"presentation\">\n",
       "<a aria-selected=\"false\" class=\"_NM_THEME_CATE tab id_bboom\" data-clk=\"tct.web\" data-panel-code=\"BBOOM\" href=\"#\" role=\"tab\">웹툰</a>\n",
       "</li>\n",
       "<li class=\"category_item\" role=\"presentation\">\n",
       "<a aria-selected=\"false\" class=\"_NM_THEME_CATE tab id_finance\" data-clk=\"tct.fin\" data-panel-code=\"FINANCE\" href=\"#\" role=\"tab\">경제M</a>\n",
       "</li>\n",
       "<li class=\"category_item\" role=\"presentation\">\n",
       "<a aria-selected=\"false\" class=\"_NM_THEME_CATE tab id_living\" data-clk=\"tct.fod\" data-panel-code=\"LIVING\" href=\"#\" role=\"tab\">레시피</a>\n",
       "</li>\n",
       "<li class=\"category_item\" role=\"presentation\">\n",
       "<a aria-selected=\"false\" class=\"_NM_THEME_CATE tab id_gameapp\" data-clk=\"tct.gam\" data-panel-code=\"GAMEAPP\" href=\"#\" role=\"tab\">게임</a>\n",
       "</li>\n",
       "<li class=\"category_item\" role=\"presentation\">\n",
       "<a aria-selected=\"false\" class=\"_NM_THEME_CATE tab id_movie\" data-clk=\"tct.mov\" data-panel-code=\"MOVIE\" href=\"#\" role=\"tab\">영화</a>\n",
       "</li>\n",
       "</ul>\n",
       "</div>\n",
       "<div style=\"width: 750px;\">\n",
       "<ul class=\"list_category\" role=\"tablist\">\n",
       "<li class=\"category_item\" role=\"presentation\">\n",
       "<a aria-selected=\"false\" class=\"_NM_THEME_CATE tab id_job\" data-clk=\"tct.job\" data-panel-code=\"JOB\" href=\"#\" role=\"tab\">JOB&amp;</a>\n",
       "</li>\n",
       "<li class=\"category_item\" role=\"presentation\">\n",
       "<a aria-selected=\"false\" class=\"_NM_THEME_CATE tab id_ittech\" data-clk=\"tct.tec\" data-panel-code=\"ITTECH\" href=\"#\" role=\"tab\">테크</a>\n",
       "</li>\n",
       "<li class=\"category_item\" role=\"presentation\">\n",
       "<a aria-selected=\"false\" class=\"_NM_THEME_CATE tab id_travel\" data-clk=\"tct.tra\" data-panel-code=\"TRAVEL\" href=\"#\" role=\"tab\">여행+</a>\n",
       "</li>\n",
       "<li class=\"category_item\" role=\"presentation\">\n",
       "<a aria-selected=\"false\" class=\"_NM_THEME_CATE tab id_science\" data-clk=\"tct.sci\" data-panel-code=\"SCIENCE\" href=\"#\" role=\"tab\">과학</a>\n",
       "</li>\n",
       "<li class=\"category_item\" role=\"presentation\">\n",
       "<a aria-selected=\"false\" class=\"_NM_THEME_CATE tab id_livinghome\" data-clk=\"tct.lif\" data-panel-code=\"LIVINGHOME\" href=\"#\" role=\"tab\">리빙</a>\n",
       "</li>\n",
       "<li class=\"category_item\" role=\"presentation\">\n",
       "<a aria-selected=\"false\" class=\"_NM_THEME_CATE tab id_health\" data-clk=\"tct.hea\" data-panel-code=\"HEALTH\" href=\"#\" role=\"tab\">건강</a>\n",
       "</li>\n",
       "<li class=\"category_item\" role=\"presentation\">\n",
       "<a aria-selected=\"false\" class=\"_NM_THEME_CATE tab id_business\" data-clk=\"tct.bsn\" data-panel-code=\"BUSINESS\" href=\"#\" role=\"tab\">비즈니스</a>\n",
       "</li>\n",
       "<li class=\"category_item\" role=\"presentation\">\n",
       "<a aria-selected=\"false\" class=\"_NM_THEME_CATE tab id_wedding\" data-clk=\"tct.wed\" data-panel-code=\"WEDDING\" href=\"#\" role=\"tab\">연애·결혼</a>\n",
       "</li>\n",
       "</ul>\n",
       "</div>\n",
       "<div style=\"width: 750px;\">\n",
       "<ul class=\"list_category\" role=\"tablist\">\n",
       "<li class=\"category_item\" role=\"presentation\">\n",
       "<a aria-selected=\"false\" class=\"_NM_THEME_CATE tab id_culture\" data-clk=\"tct.bok\" data-panel-code=\"CULTURE\" href=\"#\" role=\"tab\">책방</a>\n",
       "</li>\n",
       "<li class=\"category_item\" role=\"presentation\">\n",
       "<a aria-selected=\"false\" class=\"_NM_THEME_CATE tab id_momkids\" data-clk=\"tct.mom\" data-panel-code=\"MOMKIDS\" href=\"#\" role=\"tab\">부모i</a>\n",
       "</li>\n",
       "<li class=\"category_item\" role=\"presentation\">\n",
       "<a aria-selected=\"false\" class=\"_NM_THEME_CATE tab id_law\" data-clk=\"tct.law\" data-panel-code=\"LAW\" href=\"#\" role=\"tab\">법률</a>\n",
       "</li>\n",
       "<li class=\"category_item\" role=\"presentation\">\n",
       "<a aria-selected=\"false\" class=\"_NM_THEME_CATE tab id_beauty\" data-clk=\"tct.bty\" data-panel-code=\"BEAUTY\" href=\"#\" role=\"tab\">패션뷰티</a>\n",
       "</li>\n",
       "<li class=\"category_item\" role=\"presentation\">\n",
       "<a aria-selected=\"false\" class=\"_NM_THEME_CATE tab id_animal\" data-clk=\"tct.ani\" data-panel-code=\"ANIMAL\" href=\"#\" role=\"tab\">동물공감</a>\n",
       "</li>\n",
       "<li class=\"category_item\" role=\"presentation\">\n",
       "<a aria-selected=\"false\" class=\"_NM_THEME_CATE tab id_design\" data-clk=\"tct.des\" data-panel-code=\"DESIGN\" href=\"#\" role=\"tab\">디자인</a>\n",
       "</li>\n",
       "<li class=\"category_item\" role=\"presentation\">\n",
       "<a aria-selected=\"false\" class=\"_NM_THEME_CATE tab id_china\" data-clk=\"tct.chn\" data-panel-code=\"CHINA\" href=\"#\" role=\"tab\">중국</a>\n",
       "</li>\n",
       "<li class=\"category_item\" role=\"presentation\">\n",
       "<a aria-selected=\"false\" class=\"_NM_THEME_CATE tab id_farm\" data-clk=\"tct.far\" data-panel-code=\"FARM\" href=\"#\" role=\"tab\">FARM</a>\n",
       "</li>\n",
       "</ul>\n",
       "</div>\n",
       "<div style=\"width: 750px;\">\n",
       "<ul class=\"list_category\" role=\"tablist\">\n",
       "<li class=\"category_item\" role=\"presentation\">\n",
       "<a aria-selected=\"false\" class=\"_NM_THEME_CATE tab id_show\" data-clk=\"tct.sow\" data-panel-code=\"SHOW\" href=\"#\" role=\"tab\">공연전시</a>\n",
       "</li>\n",
       "<li class=\"category_item\" role=\"presentation\">\n",
       "<a aria-selected=\"false\" class=\"_NM_THEME_CATE tab id_with\" data-clk=\"tct.pub\" data-panel-code=\"WITH\" href=\"#\" role=\"tab\">함께N</a>\n",
       "</li>\n",
       "<li class=\"category_item\" role=\"presentation\">\n",
       "<a aria-selected=\"false\" class=\"_NM_THEME_CATE tab id_school\" data-clk=\"tct.scl\" data-panel-code=\"SCHOOL\" href=\"#\" role=\"tab\">스쿨잼</a>\n",
       "</li>\n",
       "</ul>\n",
       "</div>\n",
       "</div>\n",
       "</div>\n",
       "</div>\n",
       "</div>\n",
       "</div>\n",
       "<div class=\"theme_cont\" data-panel-code=\"SPORTS\">\n",
       "<div class=\"banner_olympic_wrap\" data-block-code=\"PC-SPORTS-OLYMPIC-TITLE\" data-block-id=\"60e6cd01a10d3006857f90b7\" data-block-type=\"PC-SPORTS-OLYMPIC-TITLE-BLOCK\" data-template-code=\"PC-SPORTS-OLYMPIC-TITLE\">\n",
       "<a class=\"banner_olympic\" href=\"https://m.sports.naver.com/tokyo2020/index\">\n",
       "<div class=\"title_area\">\n",
       "<h2 class=\"title\"><span class=\"blind\">TOKYO 2020</span></h2>\n",
       "<div class=\"info_box\">\n",
       "<span class=\"info\"><i class=\"ico_game\"><span class=\"blind\">대회</span></i><span class=\"date\">6</span><i class=\"ico_date_text\"><span class=\"blind\">일차</span></i></span>\n",
       "<span class=\"info\"><i class=\"ico_current\"><span class=\"blind\">현재</span></i><span class=\"rank\">6</span><i class=\"ico_rank_text\"><span class=\"blind\">위</span></i></span>\n",
       "</div>\n",
       "</div>\n",
       "<div class=\"medal_area\">\n",
       "<span class=\"medal type_gold\"><span class=\"blind\">금메달</span><span class=\"medal_count\">3</span></span>\n",
       "<span class=\"medal type_silver\"><span class=\"blind\">은메달</span><span class=\"medal_count\">2</span></span>\n",
       "<span class=\"medal type_bronze\"><span class=\"blind\">동메달</span><span class=\"medal_count\">5</span></span>\n",
       "</div>\n",
       "</a>\n",
       "</div>\n",
       "<div class=\"group_topstory\" data-block-code=\"PC-SPORTS-IMAGE3-TEXT4\" data-block-id=\"60f53681a10d300685c6f54d\" data-block-type=\"PC-SPORTS-IMAGE3-TEXT4\" data-template-code=\"PC-SPORTS-IMAGE3-TEXT4\">\n",
       "<div class=\"topstory_inner\">\n",
       "<div class=\"topstory_view\">\n",
       "<a class=\"topstory_thumb\" href=\"https://m.sports.naver.com/video.nhn?id=828882\" target=\"_blank\"><img alt=\"'이제 몸 풀렸다' 여자배구, 케냐 꺾고 첫 승 달성!\" height=\"180\" src=\"https://s.pstatic.net/dthumb.phinf/?src=%22https%3A%2F%2Fsports-phinf.pstatic.net%2F%2F20210728_143%2F1627404696637cayv5_JPEG%2FQft1627403210179-1280-0.jpg%22&amp;type=nf728_360&amp;service=navermain\" width=\"364\"/><span class=\"thumb_dim\"></span><span class=\"thumb_bd\"></span>\n",
       "<i class=\"pm_ico_play\"><span class=\"blind\">재생</span></i>\n",
       "<span class=\"theme_runtime\"><span class=\"runtime_bg\">재생시간</span><em class=\"time\">08:36</em></span>\n",
       "</a>\n",
       "<a class=\"topstory_info\" href=\"https://m.sports.naver.com/video.nhn?id=828882\" target=\"_blank\">\n",
       "<strong class=\"title\">'이제 몸 풀렸다' 여자배구, 케냐 꺾고 첫 승 달성!</strong>\n",
       "<p class=\"desc\"></p>\n",
       "<div class=\"source_area\">\n",
       "<span class=\"source\"><span class=\"source_inner\">2020도쿄올림픽</span></span>\n",
       "</div>\n",
       "</a>\n",
       "</div>\n",
       "</div>\n",
       "<div class=\"topstory_inner\">\n",
       "<div class=\"list_theme_wrap type_topstory\">\n",
       "<ul class=\"list_theme\">\n",
       "<li class=\"theme_item\">\n",
       "<a class=\"theme_thumb\" href=\"https://m.sports.naver.com/news.nhn?oid=079&amp;aid=0003534281\" target=\"_blank\"><img alt=\"[축구] 김학범호, 온두라스와 3차전…5년 전 패배 설욕한다\" height=\"98\" src=\"https://s.pstatic.net/dthumb.phinf/?src=%22https%3A%2F%2Fimgnews.pstatic.net%2Fimage%2F079%2F2021%2F07%2F28%2F0003534281_001_20210728060214650.jpg%22&amp;type=nf196_196&amp;service=navermain\" width=\"98\"/><span class=\"thumb_bd\"></span>\n",
       "</a>\n",
       "<a class=\"theme_info\" href=\"https://m.sports.naver.com/news.nhn?oid=079&amp;aid=0003534281\" target=\"_blank\">\n",
       "<strong class=\"title\">[축구] 김학범호, 온두라스와 3차전…5년 전 패배 설욕한다</strong>\n",
       "<div class=\"source_box\">\n",
       "<span class=\"source\"><span class=\"source_inner\">2020도쿄올림픽</span></span>\n",
       "</div>\n",
       "</a>\n",
       "</li>\n",
       "<li class=\"theme_item\">\n",
       "<a class=\"theme_thumb\" href=\"https://m.sports.naver.com/news.nhn?oid=477&amp;aid=0000311482\" target=\"_blank\"><img alt=\"[펜싱] '男 펜싱' 어벤져스 뜬다…사브르 단체전, 오늘 金 찌른다\" height=\"98\" src=\"https://s.pstatic.net/dthumb.phinf/?src=%22https%3A%2F%2Fimgnews.pstatic.net%2Fimage%2F477%2F2021%2F07%2F28%2F0000311482_001_20210728060020765.jpg%22&amp;type=nf196_196&amp;service=navermain\" width=\"98\"/><span class=\"thumb_bd\"></span>\n",
       "</a>\n",
       "<a class=\"theme_info\" href=\"https://m.sports.naver.com/news.nhn?oid=477&amp;aid=0000311482\" target=\"_blank\">\n",
       "<strong class=\"title\">[펜싱] '男 펜싱' 어벤져스 뜬다…사브르 단체전, 오늘 金 찌른다</strong>\n",
       "<div class=\"source_box\">\n",
       "<span class=\"source\"><span class=\"source_inner\">2020도쿄올림픽</span></span>\n",
       "</div>\n",
       "</a>\n",
       "</li>\n",
       "<li class=\"theme_item\">\n",
       "<a class=\"theme_thumb\" href=\"https://m.sports.naver.com/news.nhn?oid=076&amp;aid=0003759676\" target=\"_blank\"><img alt=\"[수영] 또 성장한 '수영괴물' 황선우, 자유형 100m에서 첫 金 정조준\" height=\"98\" src=\"https://s.pstatic.net/dthumb.phinf/?src=%22https%3A%2F%2Fimgnews.pstatic.net%2Fimage%2F076%2F2021%2F07%2F28%2F2021072801002159900138291_20210728053708581.jpg%22&amp;type=nf196_196&amp;service=navermain\" width=\"98\"/><span class=\"thumb_bd\"></span>\n",
       "</a>\n",
       "<a class=\"theme_info\" href=\"https://m.sports.naver.com/news.nhn?oid=076&amp;aid=0003759676\" target=\"_blank\">\n",
       "<strong class=\"title\">[수영] 또 성장한 '수영괴물' 황선우, 자유형 100m에서 첫 金 정조준</strong>\n",
       "<div class=\"source_box\">\n",
       "<span class=\"source\"><span class=\"source_inner\">2020도쿄올림픽</span></span>\n",
       "</div>\n",
       "</a>\n",
       "</li>\n",
       "</ul>\n",
       "</div>\n",
       "</div>\n",
       "</div>\n",
       "<div class=\"theme_link\" data-block-code=\"PC-THEME-SPORTS-SHORTCUT\" data-block-id=\"5d9a0792d296603fab1e97e9\" data-block-type=\"MATERIALS\" data-template-code=\"THEME-SHORTCUT\">\n",
       "<a class=\"link_sports\" data-clk=\"tcc_spo.short1\" href=\"https://sports.news.naver.com/index.nhn\" target=\"_blank\">스포츠 홈</a>\n",
       "<ul class=\"list_service\">\n",
       "<li class=\"service_item\" data-gdid=\"PC-THEME-SPORTS-SHORTCUT[materials][1]\">\n",
       "<a class=\"service\" data-clk=\"tcc_spo.short3\" href=\"https://sports.news.naver.com/kbaseball/index.nhn\" target=\"_blank\">야구</a>\n",
       "</li>\n",
       "<li class=\"service_item\" data-gdid=\"PC-THEME-SPORTS-SHORTCUT[materials][2]\">\n",
       "<a class=\"service\" data-clk=\"tcc_spo.short4\" href=\"https://sports.news.naver.com/wbaseball/index.nhn\" target=\"_blank\">해외야구</a>\n",
       "</li>\n",
       "<li class=\"service_item\" data-gdid=\"PC-THEME-SPORTS-SHORTCUT[materials][3]\">\n",
       "<a class=\"service\" data-clk=\"tcc_spo.short5\" href=\"https://sports.news.naver.com/kfootball/index.nhn\" target=\"_blank\">축구</a>\n",
       "</li>\n",
       "<li class=\"service_item\" data-gdid=\"PC-THEME-SPORTS-SHORTCUT[materials][4]\">\n",
       "<a class=\"service\" data-clk=\"tcc_spo.short6\" href=\"https://sports.news.naver.com/wfootball/index.nhn\" target=\"_blank\">해외축구</a>\n",
       "</li>\n",
       "<li class=\"service_item\" data-gdid=\"PC-THEME-SPORTS-SHORTCUT[materials][5]\">\n",
       "<a class=\"service\" data-clk=\"tcc_spo.short7\" href=\"https://sports.news.naver.com/basketball/index.nhn\" target=\"_blank\">농구</a>\n",
       "</li>\n",
       "<li class=\"service_item\" data-gdid=\"PC-THEME-SPORTS-SHORTCUT[materials][6]\">\n",
       "<a class=\"service\" data-clk=\"tcc_spo.short8\" href=\"https://sports.news.naver.com/volleyball/index.nhn\" target=\"_blank\">배구</a>\n",
       "</li>\n",
       "<li class=\"service_item\" data-gdid=\"PC-THEME-SPORTS-SHORTCUT[materials][7]\">\n",
       "<a class=\"service\" data-clk=\"tcc_spo.short9\" href=\"https://sports.news.naver.com/golf/index.nhn\" target=\"_blank\">골프</a>\n",
       "</li>\n",
       "<li class=\"service_item\" data-gdid=\"PC-THEME-SPORTS-SHORTCUT[materials][8]\">\n",
       "<a class=\"service\" data-clk=\"tcc_spo.short10\" href=\"https://sports.news.naver.com/general/index.nhn\" target=\"_blank\">일반</a>\n",
       "</li>\n",
       "<li class=\"service_item\" data-gdid=\"PC-THEME-SPORTS-SHORTCUT[materials][9]\">\n",
       "<a class=\"service\" data-clk=\"tcc_spo.short11\" href=\"https://game.naver.com/esports\" target=\"_blank\">e스포츠</a>\n",
       "</li>\n",
       "</ul>\n",
       "</div>\n",
       "<div class=\"group_theme\" data-block-code=\"PC-THEME-SPORTS-NEWS9-0\" data-block-id=\"5da680b2d296603fab539f0d\" data-block-type=\"MATERIALS\" data-page=\"1\" data-template-code=\"3X3\">\n",
       "<div class=\"media_view_wrap type_column\">\n",
       "<div class=\"media_view\">\n",
       "<a class=\"media_area\" data-clk=\"tcc_spo.list1cont1\" data-da-position=\"true\" data-gdid=\"PC-THEME-SPORTS-NEWS9-0[materials][0]\" href=\"https://sports.news.naver.com/video.nhn?id=828890\" target=\"_blank\">\n",
       "<div class=\"media_thumb\">\n",
       "<img alt=\"프로 스포츠 구단이 팬들을 화나게하면 벌어지는 일\" data-src=\"https://s.pstatic.net/dthumb.phinf/?src=%22https%3A%2F%2Fsports-phinf.pstatic.net%2Fadmin%2Fcrop%2F1627426696581.png%22&amp;type=nf464_260\" height=\"130\" src=\"https://s.pstatic.net/dthumb.phinf/?src=%22https%3A%2F%2Fsports-phinf.pstatic.net%2Fadmin%2Fcrop%2F1627426696581.png%22&amp;type=nf464_260\" width=\"232\"/>\n",
       "<span class=\"thumb_dim\"></span>\n",
       "<span class=\"thumb_bd\"></span>\n",
       "<i class=\"pm_ico_play\"><span class=\"blind\">재생</span></i>\n",
       "<span class=\"theme_runtime\"><span class=\"runtime_bg\">재생시간</span><em class=\"time\">03:11</em></span>\n",
       "</div>\n",
       "<div class=\"media_info\">\n",
       "<div class=\"info_box\">\n",
       "<em class=\"theme_category\">핫클립</em>\n",
       "<strong class=\"title\">프로 스포츠 구단이 팬들을 화나게하면 벌어지는 일</strong>\n",
       "<div class=\"source_wrap\">\n",
       "<span class=\"date\">2시간 전</span>\n",
       "<span class=\"source\"><span class=\"source_inner\">GOAL TV</span></span>\n",
       "</div>\n",
       "</div>\n",
       "</div>\n",
       "</a>\n",
       "<a class=\"media_area\" data-clk=\"tcc_spo.list1cont2\" data-da-position=\"true\" data-gdid=\"PC-THEME-SPORTS-NEWS9-0[materials][1]\" href=\"https://sports.news.naver.com/video.nhn?id=828889\" target=\"_blank\">\n",
       "<div class=\"media_thumb\">\n",
       "<img alt=\"선발승+결승타 또 만화야구…'100마일 강속구' 오타니 시즌 5승 달성 [스포츠타임]\" data-src=\"https://s.pstatic.net/dthumb.phinf/?src=%22https%3A%2F%2Fsports-phinf.pstatic.net%2Fadmin%2Fcrop%2F1627424789089.png%22&amp;type=nf464_260\" height=\"130\" src=\"https://s.pstatic.net/dthumb.phinf/?src=%22https%3A%2F%2Fsports-phinf.pstatic.net%2Fadmin%2Fcrop%2F1627424789089.png%22&amp;type=nf464_260\" width=\"232\"/>\n",
       "<span class=\"thumb_dim\"></span>\n",
       "<span class=\"thumb_bd\"></span>\n",
       "<i class=\"pm_ico_play\"><span class=\"blind\">재생</span></i>\n",
       "<span class=\"theme_runtime\"><span class=\"runtime_bg\">재생시간</span><em class=\"time\">01:47</em></span>\n",
       "</div>\n",
       "<div class=\"media_info\">\n",
       "<div class=\"info_box\">\n",
       "<em class=\"theme_category\">리뷰</em>\n",
       "<strong class=\"title\">선발승+결승타 또 만화야구…'100마일 강속구' 오타니 시즌 5승 달성 [스포츠타임]</strong>\n",
       "<div class=\"source_wrap\">\n",
       "<span class=\"date\">2시간 전</span>\n",
       "<span class=\"source\"><span class=\"source_inner\">SPORTSTIME (스포츠타임)</span></span>\n",
       "</div>\n",
       "</div>\n",
       "</div>\n",
       "</a>\n",
       "<a class=\"media_area\" data-clk=\"tcc_spo.list1cont3\" data-da-position=\"true\" data-gdid=\"PC-THEME-SPORTS-NEWS9-0[materials][2]\" href=\"https://sports.news.naver.com/video.nhn?id=828687\" target=\"_blank\">\n",
       "<div class=\"media_thumb\">\n",
       "<img alt=\"LG세이커스 VS 한양대 연습경기 스케치\" data-src=\"https://s.pstatic.net/dthumb.phinf/?src=%22https%3A%2F%2Fphinf.pstatic.net%2Ftvcast%2F20210727_289%2FjJfbX_1627378334924VU0bB_PNG%2F1627378300454.png%22&amp;type=nf464_260\" height=\"130\" src=\"https://s.pstatic.net/dthumb.phinf/?src=%22https%3A%2F%2Fphinf.pstatic.net%2Ftvcast%2F20210727_289%2FjJfbX_1627378334924VU0bB_PNG%2F1627378300454.png%22&amp;type=nf464_260\" width=\"232\"/>\n",
       "<span class=\"thumb_dim\"></span>\n",
       "<span class=\"thumb_bd\"></span>\n",
       "<i class=\"pm_ico_play\"><span class=\"blind\">재생</span></i>\n",
       "<span class=\"theme_runtime\"><span class=\"runtime_bg\">재생시간</span><em class=\"time\">03:30</em></span>\n",
       "</div>\n",
       "<div class=\"media_info\">\n",
       "<div class=\"info_box\">\n",
       "<em class=\"theme_category\">구단특집</em>\n",
       "<strong class=\"title\">LG세이커스 VS 한양대 연습경기 스케치</strong>\n",
       "<div class=\"source_wrap\">\n",
       "<span class=\"date\">14시간 전</span>\n",
       "<span class=\"source\"><span class=\"source_inner\">LG세이커스_TV</span></span>\n",
       "</div>\n",
       "</div>\n",
       "</div>\n",
       "</a>\n",
       "<a class=\"media_area\" data-clk=\"tcc_spo.list1cont4\" data-da-position=\"true\" data-gdid=\"PC-THEME-SPORTS-NEWS9-0[materials][3]\" href=\"https://sports.news.naver.com/video.nhn?id=828782\" target=\"_blank\">\n",
       "<div class=\"media_thumb\">\n",
       "<img alt=\"(대한민국vs온두라스 프리뷰) 반전 필요한 선수들 [달수네라이브]\" data-src=\"https://s.pstatic.net/dthumb.phinf/?src=%22https%3A%2F%2Fphinf.pstatic.net%2Ftvcast%2F20210727_159%2F4MQM8_16273852809742XwmK_JPEG%2F1627385221803.jpg%22&amp;type=nf464_260\" height=\"130\" src=\"https://s.pstatic.net/dthumb.phinf/?src=%22https%3A%2F%2Fphinf.pstatic.net%2Ftvcast%2F20210727_159%2F4MQM8_16273852809742XwmK_JPEG%2F1627385221803.jpg%22&amp;type=nf464_260\" width=\"232\"/>\n",
       "<span class=\"thumb_dim\"></span>\n",
       "<span class=\"thumb_bd\"></span>\n",
       "<i class=\"pm_ico_play\"><span class=\"blind\">재생</span></i>\n",
       "<span class=\"theme_runtime\"><span class=\"runtime_bg\">재생시간</span><em class=\"time\">11:35</em></span>\n",
       "</div>\n",
       "<div class=\"media_info\">\n",
       "<div class=\"info_box\">\n",
       "<em class=\"theme_category\">핫클립</em>\n",
       "<strong class=\"title\">(대한민국vs온두라스 프리뷰) 반전 필요한 선수들 [달수네라이브]</strong>\n",
       "<div class=\"source_wrap\">\n",
       "<span class=\"date\">12시간 전</span>\n",
       "<span class=\"source\"><span class=\"source_inner\">달수네라이브</span></span>\n",
       "</div>\n",
       "</div>\n",
       "</div>\n",
       "</a>\n",
       "<a class=\"media_area\" data-clk=\"tcc_spo.list1cont5\" data-da-position=\"true\" data-gdid=\"PC-THEME-SPORTS-NEWS9-0[materials][4]\" href=\"https://sports.news.naver.com/video.nhn?id=828784\" target=\"_blank\">\n",
       "<div class=\"media_thumb\">\n",
       "<img alt=\"서건창 선수가 팬 여러분들께 보내는 마지막 메시지\" data-src=\"https://s.pstatic.net/dthumb.phinf/?src=%22https%3A%2F%2Fphinf.pstatic.net%2Ftvcast%2F20210727_7%2F2R33R_1627386855055eYRzN_JPEG%2F1627386825772.jpg%22&amp;type=nf464_260\" height=\"130\" src=\"https://s.pstatic.net/dthumb.phinf/?src=%22https%3A%2F%2Fphinf.pstatic.net%2Ftvcast%2F20210727_7%2F2R33R_1627386855055eYRzN_JPEG%2F1627386825772.jpg%22&amp;type=nf464_260\" width=\"232\"/>\n",
       "<span class=\"thumb_dim\"></span>\n",
       "<span class=\"thumb_bd\"></span>\n",
       "<i class=\"pm_ico_play\"><span class=\"blind\">재생</span></i>\n",
       "<span class=\"theme_runtime\"><span class=\"runtime_bg\">재생시간</span><em class=\"time\">03:28</em></span>\n",
       "</div>\n",
       "<div class=\"media_info\">\n",
       "<div class=\"info_box\">\n",
       "<em class=\"theme_category\">구단특집</em>\n",
       "<strong class=\"title\">서건창 선수가 팬 여러분들께 보내는 마지막 메시지</strong>\n",
       "<div class=\"source_wrap\">\n",
       "<span class=\"date\">12시간 전</span>\n",
       "<span class=\"source\"><span class=\"source_inner\">키움히어로즈</span></span>\n",
       "</div>\n",
       "</div>\n",
       "</div>\n",
       "</a>\n",
       "<a class=\"media_area\" data-clk=\"tcc_spo.list1cont6\" data-da-position=\"true\" data-gdid=\"PC-THEME-SPORTS-NEWS9-0[materials][5]\" href=\"https://sports.news.naver.com/video.nhn?id=828781\" target=\"_blank\">\n",
       "<div class=\"media_thumb\">\n",
       "<img alt=\"토비가 토트넘 팬에게 남긴 마지막 메시지!\" data-src=\"https://s.pstatic.net/dthumb.phinf/?src=%22https%3A%2F%2Fphinf.pstatic.net%2Ftvcast%2F20210727_164%2F6VMgi_1627388374684vF7Ki_JPEG%2F700a4223-eed4-11eb-b07b-a0369ff94ec8_09.jpg%22&amp;type=nf464_260\" height=\"130\" src=\"https://s.pstatic.net/dthumb.phinf/?src=%22https%3A%2F%2Fphinf.pstatic.net%2Ftvcast%2F20210727_164%2F6VMgi_1627388374684vF7Ki_JPEG%2F700a4223-eed4-11eb-b07b-a0369ff94ec8_09.jpg%22&amp;type=nf464_260\" width=\"232\"/>\n",
       "<span class=\"thumb_dim\"></span>\n",
       "<span class=\"thumb_bd\"></span>\n",
       "<i class=\"pm_ico_play\"><span class=\"blind\">재생</span></i>\n",
       "<span class=\"theme_runtime\"><span class=\"runtime_bg\">재생시간</span><em class=\"time\">00:31</em></span>\n",
       "</div>\n",
       "<div class=\"media_info\">\n",
       "<div class=\"info_box\">\n",
       "<em class=\"theme_category\">구단특집</em>\n",
       "<strong class=\"title\">토비가 토트넘 팬에게 남긴 마지막 메시지!</strong>\n",
       "<div class=\"source_wrap\">\n",
       "<span class=\"date\">12시간 전</span>\n",
       "<span class=\"source\"><span class=\"source_inner\">SPURS TV</span></span>\n",
       "</div>\n",
       "</div>\n",
       "</div>\n",
       "</a>\n",
       "<a class=\"media_area\" data-clk=\"tcc_spo.list1cont7\" data-da-position=\"true\" data-gdid=\"PC-THEME-SPORTS-NEWS9-0[materials][6]\" href=\"https://sports.news.naver.com/video.nhn?id=828883\" target=\"_blank\">\n",
       "<div class=\"media_thumb\">\n",
       "<img alt=\"저스틴 로즈, 거리 감각 높이는 시계추 이론\" data-src=\"https://s.pstatic.net/dthumb.phinf/?src=%22https%3A%2F%2Fphinf.pstatic.net%2Ftvcast%2F20210728_246%2FHb1uw_1627406435032GRqJH_JPEG%2F1627406291470.jpg%22&amp;type=nf464_260\" height=\"130\" src=\"https://s.pstatic.net/dthumb.phinf/?src=%22https%3A%2F%2Fphinf.pstatic.net%2Ftvcast%2F20210728_246%2FHb1uw_1627406435032GRqJH_JPEG%2F1627406291470.jpg%22&amp;type=nf464_260\" width=\"232\"/>\n",
       "<span class=\"thumb_dim\"></span>\n",
       "<span class=\"thumb_bd\"></span>\n",
       "<i class=\"pm_ico_play\"><span class=\"blind\">재생</span></i>\n",
       "<span class=\"theme_runtime\"><span class=\"runtime_bg\">재생시간</span><em class=\"time\">05:27</em></span>\n",
       "</div>\n",
       "<div class=\"media_info\">\n",
       "<div class=\"info_box\">\n",
       "<em class=\"theme_category\">특집영상</em>\n",
       "<strong class=\"title\">저스틴 로즈, 거리 감각 높이는 시계추 이론</strong>\n",
       "<div class=\"source_wrap\">\n",
       "<span class=\"date\">7시간 전</span>\n",
       "<span class=\"source\"><span class=\"source_inner\">GOLFTV X PGA TOUR</span></span>\n",
       "</div>\n",
       "</div>\n",
       "</div>\n",
       "</a>\n",
       "<a class=\"media_area\" data-clk=\"tcc_spo.list1cont8\" data-da-position=\"true\" data-gdid=\"PC-THEME-SPORTS-NEWS9-0[materials][7]\" href=\"https://sports.news.naver.com/video.nhn?id=828551\" target=\"_blank\">\n",
       "<div class=\"media_thumb\">\n",
       "<img alt=\"박효준 전격 트레이드 피츠버그행! 더 가까워진 메이저리그 [스포츠타임]\" data-src=\"https://s.pstatic.net/dthumb.phinf/?src=%22https%3A%2F%2Fsports-phinf.pstatic.net%2Fadmin%2Fcrop%2F1627372317527.png%22&amp;type=nf464_260\" height=\"130\" src=\"https://s.pstatic.net/dthumb.phinf/?src=%22https%3A%2F%2Fsports-phinf.pstatic.net%2Fadmin%2Fcrop%2F1627372317527.png%22&amp;type=nf464_260\" width=\"232\"/>\n",
       "<span class=\"thumb_dim\"></span>\n",
       "<span class=\"thumb_bd\"></span>\n",
       "<i class=\"pm_ico_play\"><span class=\"blind\">재생</span></i>\n",
       "<span class=\"theme_runtime\"><span class=\"runtime_bg\">재생시간</span><em class=\"time\">02:11</em></span>\n",
       "</div>\n",
       "<div class=\"media_info\">\n",
       "<div class=\"info_box\">\n",
       "<em class=\"theme_category\">핫클립</em>\n",
       "<strong class=\"title\">박효준 전격 트레이드 피츠버그행! 더 가까워진 메이저리그 [스포츠타임]</strong>\n",
       "<div class=\"source_wrap\">\n",
       "<span class=\"date\">16시간 전</span>\n",
       "<span class=\"source\"><span class=\"source_inner\">SPORTSTIME (스포츠타임)</span></span>\n",
       "</div>\n",
       "</div>\n",
       "</div>\n",
       "</a>\n",
       "<a class=\"media_area\" data-clk=\"tcc_spo.list1cont9\" data-da-position=\"true\" data-gdid=\"PC-THEME-SPORTS-NEWS9-0[materials][8]\" href=\"https://sports.news.naver.com/video.nhn?id=828390\" target=\"_blank\">\n",
       "<div class=\"media_thumb\">\n",
       "<img alt=\"[김다나 레슨] 드라이버샷 중심축을 유지하며 백스윙하기\" data-src=\"https://s.pstatic.net/dthumb.phinf/?src=%22https%3A%2F%2Fsports-phinf.pstatic.net%2Fadmin%2Fcrop%2F1627363409811.jpg%22&amp;type=nf464_260\" height=\"130\" src=\"https://s.pstatic.net/dthumb.phinf/?src=%22https%3A%2F%2Fsports-phinf.pstatic.net%2Fadmin%2Fcrop%2F1627363409811.jpg%22&amp;type=nf464_260\" width=\"232\"/>\n",
       "<span class=\"thumb_dim\"></span>\n",
       "<span class=\"thumb_bd\"></span>\n",
       "<i class=\"pm_ico_play\"><span class=\"blind\">재생</span></i>\n",
       "<span class=\"theme_runtime\"><span class=\"runtime_bg\">재생시간</span><em class=\"time\">10:25</em></span>\n",
       "</div>\n",
       "<div class=\"media_info\">\n",
       "<div class=\"info_box\">\n",
       "<em class=\"theme_category\">레슨</em>\n",
       "<strong class=\"title\">[김다나 레슨] 드라이버샷 중심축을 유지하며 백스윙하기</strong>\n",
       "<div class=\"source_wrap\">\n",
       "<span class=\"date\">21시간 전</span>\n",
       "<span class=\"source\"><span class=\"source_inner\">골프레슨 with SBS골프</span></span>\n",
       "</div>\n",
       "</div>\n",
       "</div>\n",
       "</a>\n",
       "</div>\n",
       "</div>\n",
       "</div>\n",
       "<div class=\"group_theme\" data-block-code=\"PC-THEME-SPORTS-NEWS9-1\" data-block-id=\"5da680b2d296603fab539ee0\" data-block-type=\"MATERIALS\" data-page=\"1\" data-template-code=\"3X3\">\n",
       "<div class=\"media_view_wrap type_column\">\n",
       "<div class=\"media_view\">\n",
       "<a class=\"media_area\" data-clk=\"tcc_spo.list2cont1\" data-da-position=\"true\" data-gdid=\"PC-THEME-SPORTS-NEWS9-1[materials][0]\" href=\"https://m.shopping.naver.com/plan/details/515044\" target=\"_blank\">\n",
       "<div class=\"media_thumb\">\n",
       "<img alt=\"[기획전] 보이스캐디 X 스타워즈 콜라보 단독 혜택!\" data-src=\"https://s.pstatic.net/dthumb.phinf/?src=%22https%3A%2F%2Fsports-phinf.pstatic.net%2F20210726_270%2F1627234651273QkeLS_JPEG%2F%25BD%25BA%25C5%25B8%25BF%25F6%25C1%25EE.jpg%22&amp;type=nf464_260\" height=\"130\" src=\"https://s.pstatic.net/dthumb.phinf/?src=%22https%3A%2F%2Fsports-phinf.pstatic.net%2F20210726_270%2F1627234651273QkeLS_JPEG%2F%25BD%25BA%25C5%25B8%25BF%25F6%25C1%25EE.jpg%22&amp;type=nf464_260\" width=\"232\"/>\n",
       "<span class=\"thumb_bd\"></span>\n",
       "</div>\n",
       "<div class=\"media_info\">\n",
       "<div class=\"info_box\">\n",
       "<em class=\"theme_category\">네이버스포츠</em>\n",
       "<strong class=\"title\">[기획전] 보이스캐디 X 스타워즈 콜라보 단독 혜택!</strong>\n",
       "<div class=\"source_wrap\">\n",
       "<span class=\"date\">6일 전</span>\n",
       "<span class=\"source\"><span class=\"source_inner\">네이버스포츠</span></span>\n",
       "</div>\n",
       "</div>\n",
       "</div>\n",
       "</a>\n",
       "<a class=\"media_area\" data-clk=\"tcc_spo.list2cont2\" data-da-position=\"true\" data-gdid=\"PC-THEME-SPORTS-NEWS9-1[materials][1]\" href=\"https://sports.news.naver.com/video.nhn?id=828817\" target=\"_blank\">\n",
       "<div class=\"media_thumb\">\n",
       "<img alt=\"토트넘 떠나는 라멜라에게 영상편지(엽기적인 그녀 ver.)\" data-src=\"https://s.pstatic.net/dthumb.phinf/?src=%22https%3A%2F%2Fphinf.pstatic.net%2Ftvcast%2F20210727_96%2FtApCp_1627391810292w9eqg_JPEG%2F1627391765577.jpg%22&amp;type=nf464_260\" height=\"130\" src=\"https://s.pstatic.net/dthumb.phinf/?src=%22https%3A%2F%2Fphinf.pstatic.net%2Ftvcast%2F20210727_96%2FtApCp_1627391810292w9eqg_JPEG%2F1627391765577.jpg%22&amp;type=nf464_260\" width=\"232\"/>\n",
       "<span class=\"thumb_dim\"></span>\n",
       "<span class=\"thumb_bd\"></span>\n",
       "<i class=\"pm_ico_play\"><span class=\"blind\">재생</span></i>\n",
       "<span class=\"theme_runtime\"><span class=\"runtime_bg\">재생시간</span><em class=\"time\">03:26</em></span>\n",
       "</div>\n",
       "<div class=\"media_info\">\n",
       "<div class=\"info_box\">\n",
       "<em class=\"theme_category\">핫클립</em>\n",
       "<strong class=\"title\">토트넘 떠나는 라멜라에게 영상편지(엽기적인 그녀 ver.)</strong>\n",
       "<div class=\"source_wrap\">\n",
       "<span class=\"date\">11시간 전</span>\n",
       "<span class=\"source\"><span class=\"source_inner\">김진짜 Real KIM</span></span>\n",
       "</div>\n",
       "</div>\n",
       "</div>\n",
       "</a>\n",
       "<a class=\"media_area\" data-clk=\"tcc_spo.list2cont3\" data-da-position=\"true\" data-gdid=\"PC-THEME-SPORTS-NEWS9-1[materials][2]\" href=\"https://sports.news.naver.com/video.nhn?id=828826\" target=\"_blank\">\n",
       "<div class=\"media_thumb\">\n",
       "<img alt=\"이다빈의 첫 올림픽 메달! 여자 +67kg급 은메달 시상식 [KBS] [시상식]\" data-src=\"https://s.pstatic.net/dthumb.phinf/?src=%22https%3A%2F%2Fsports-phinf.pstatic.net%2F%2F20210727_4%2F1627394265873p8Q9A_JPEG%2F610009e42f29ea6d6ba6b889_edit_1_1627392674012.jpg%22&amp;type=nf464_260\" height=\"130\" src=\"https://s.pstatic.net/dthumb.phinf/?src=%22https%3A%2F%2Fsports-phinf.pstatic.net%2F%2F20210727_4%2F1627394265873p8Q9A_JPEG%2F610009e42f29ea6d6ba6b889_edit_1_1627392674012.jpg%22&amp;type=nf464_260\" width=\"232\"/>\n",
       "<span class=\"thumb_dim\"></span>\n",
       "<span class=\"thumb_bd\"></span>\n",
       "<i class=\"pm_ico_play\"><span class=\"blind\">재생</span></i>\n",
       "<span class=\"theme_runtime\"><span class=\"runtime_bg\">재생시간</span><em class=\"time\">02:55</em></span>\n",
       "</div>\n",
       "<div class=\"media_info\">\n",
       "<div class=\"info_box\">\n",
       "<em class=\"theme_category\">시상식</em>\n",
       "<strong class=\"title\">이다빈의 첫 올림픽 메달! 여자 +67kg급 은메달 시상식 [KBS] [시상식]</strong>\n",
       "<div class=\"source_wrap\">\n",
       "<span class=\"date\">10시간 전</span>\n",
       "<span class=\"source\"><span class=\"source_inner\">태권도(도쿄올림픽)</span></span>\n",
       "</div>\n",
       "</div>\n",
       "</div>\n",
       "</a>\n",
       "<a class=\"media_area\" data-clk=\"tcc_spo.list2cont4\" data-da-position=\"true\" data-gdid=\"PC-THEME-SPORTS-NEWS9-1[materials][3]\" href=\"https://sports.news.naver.com/video.nhn?id=828887\" target=\"_blank\">\n",
       "<div class=\"media_thumb\">\n",
       "<img alt=\"이 언니들 진짜 겁나 멋있음. 그래 이게 팀이지!! | 2020 도쿄올림픽 [KBS]\" data-src=\"https://s.pstatic.net/dthumb.phinf/?src=%22https%3A%2F%2Fsports-phinf.pstatic.net%2F%2F20210728_296%2F1627409200778zlsYq_JPEG%2FicB1rNC3h2fw.jpg%22&amp;type=nf464_260\" height=\"130\" src=\"https://s.pstatic.net/dthumb.phinf/?src=%22https%3A%2F%2Fsports-phinf.pstatic.net%2F%2F20210728_296%2F1627409200778zlsYq_JPEG%2FicB1rNC3h2fw.jpg%22&amp;type=nf464_260\" width=\"232\"/>\n",
       "<span class=\"thumb_dim\"></span>\n",
       "<span class=\"thumb_bd\"></span>\n",
       "<i class=\"pm_ico_play\"><span class=\"blind\">재생</span></i>\n",
       "<span class=\"theme_runtime\"><span class=\"runtime_bg\">재생시간</span><em class=\"time\">03:37</em></span>\n",
       "</div>\n",
       "<div class=\"media_info\">\n",
       "<div class=\"info_box\">\n",
       "<em class=\"theme_category\">핫클립</em>\n",
       "<strong class=\"title\">이 언니들 진짜 겁나 멋있음. 그래 이게 팀이지!! | 2020 도쿄올림픽 [KBS]</strong>\n",
       "<div class=\"source_wrap\">\n",
       "<span class=\"date\">6시간 전</span>\n",
       "<span class=\"source\"><span class=\"source_inner\">펜싱(도쿄올림픽)</span></span>\n",
       "</div>\n",
       "</div>\n",
       "</div>\n",
       "</a>\n",
       "<a class=\"media_area\" data-clk=\"tcc_spo.list2cont5\" data-da-position=\"true\" data-gdid=\"PC-THEME-SPORTS-NEWS9-1[materials][4]\" href=\"https://sports.news.naver.com/video.nhn?id=828876\" target=\"_blank\">\n",
       "<div class=\"media_thumb\">\n",
       "<img alt=\"②그립 어떻게 하는지 확실히 알려드립니다[골프과외-1인칭 시점 골프레슨]\" data-src=\"https://s.pstatic.net/dthumb.phinf/?src=%22https%3A%2F%2Fphinf.pstatic.net%2Ftvcast%2F20210728_171%2FKdbUB_1627399826382KJFMS_PNG%2F1627399813035.png%22&amp;type=nf464_260\" height=\"130\" src=\"https://s.pstatic.net/dthumb.phinf/?src=%22https%3A%2F%2Fphinf.pstatic.net%2Ftvcast%2F20210728_171%2FKdbUB_1627399826382KJFMS_PNG%2F1627399813035.png%22&amp;type=nf464_260\" width=\"232\"/>\n",
       "<span class=\"thumb_dim\"></span>\n",
       "<span class=\"thumb_bd\"></span>\n",
       "<i class=\"pm_ico_play\"><span class=\"blind\">재생</span></i>\n",
       "<span class=\"theme_runtime\"><span class=\"runtime_bg\">재생시간</span><em class=\"time\">03:22</em></span>\n",
       "</div>\n",
       "<div class=\"media_info\">\n",
       "<div class=\"info_box\">\n",
       "<em class=\"theme_category\">레슨</em>\n",
       "<strong class=\"title\">②그립 어떻게 하는지 확실히 알려드립니다[골프과외-1인칭 시점 골프레슨]</strong>\n",
       "<div class=\"source_wrap\">\n",
       "<span class=\"date\">8시간 전</span>\n",
       "<span class=\"source\"><span class=\"source_inner\">ETgolf</span></span>\n",
       "</div>\n",
       "</div>\n",
       "</div>\n",
       "</a>\n",
       "<a class=\"media_area\" data-clk=\"tcc_spo.list2cont6\" data-da-position=\"true\" data-gdid=\"PC-THEME-SPORTS-NEWS9-1[materials][5]\" href=\"https://sports.news.naver.com/video.nhn?id=828825\" target=\"_blank\">\n",
       "<div class=\"media_thumb\">\n",
       "<img alt=\"‘값진 은메달’ 이다빈 은메달 시상식 [＋67kg 결승] [SBS]\" data-src=\"https://s.pstatic.net/dthumb.phinf/?src=%22https%3A%2F%2Fsports-phinf.pstatic.net%2F%2F20210727_180%2F16273939572438SLbC_JPEG%2F6lU1627392895228-1280-0.jpg%22&amp;type=nf464_260\" height=\"130\" src=\"https://s.pstatic.net/dthumb.phinf/?src=%22https%3A%2F%2Fsports-phinf.pstatic.net%2F%2F20210727_180%2F16273939572438SLbC_JPEG%2F6lU1627392895228-1280-0.jpg%22&amp;type=nf464_260\" width=\"232\"/>\n",
       "<span class=\"thumb_dim\"></span>\n",
       "<span class=\"thumb_bd\"></span>\n",
       "<i class=\"pm_ico_play\"><span class=\"blind\">재생</span></i>\n",
       "<span class=\"theme_runtime\"><span class=\"runtime_bg\">재생시간</span><em class=\"time\">04:51</em></span>\n",
       "</div>\n",
       "<div class=\"media_info\">\n",
       "<div class=\"info_box\">\n",
       "<em class=\"theme_category\">시상식</em>\n",
       "<strong class=\"title\">‘값진 은메달’ 이다빈 은메달 시상식 [＋67kg 결승] [SBS]</strong>\n",
       "<div class=\"source_wrap\">\n",
       "<span class=\"date\">10시간 전</span>\n",
       "<span class=\"source\"><span class=\"source_inner\">태권도 (도쿄올림픽)</span></span>\n",
       "</div>\n",
       "</div>\n",
       "</div>\n",
       "</a>\n",
       "<a class=\"media_area\" data-clk=\"tcc_spo.list2cont7\" data-da-position=\"true\" data-gdid=\"PC-THEME-SPORTS-NEWS9-1[materials][6]\" href=\"https://sports.news.naver.com/video.nhn?id=828884\" target=\"_blank\">\n",
       "<div class=\"media_thumb\">\n",
       "<img alt=\"'메이저 사냥꾼' 브룩스 켑카 드라이버샷\" data-src=\"https://s.pstatic.net/dthumb.phinf/?src=%22https%3A%2F%2Fphinf.pstatic.net%2Ftvcast%2F20210728_256%2FJOVJI_1627407339527lkOnb_JPEG%2F1627407192000.jpg%22&amp;type=nf464_260\" height=\"130\" src=\"https://s.pstatic.net/dthumb.phinf/?src=%22https%3A%2F%2Fphinf.pstatic.net%2Ftvcast%2F20210728_256%2FJOVJI_1627407339527lkOnb_JPEG%2F1627407192000.jpg%22&amp;type=nf464_260\" width=\"232\"/>\n",
       "<span class=\"thumb_dim\"></span>\n",
       "<span class=\"thumb_bd\"></span>\n",
       "<i class=\"pm_ico_play\"><span class=\"blind\">재생</span></i>\n",
       "<span class=\"theme_runtime\"><span class=\"runtime_bg\">재생시간</span><em class=\"time\">01:08</em></span>\n",
       "</div>\n",
       "<div class=\"media_info\">\n",
       "<div class=\"info_box\">\n",
       "<em class=\"theme_category\">특집영상</em>\n",
       "<strong class=\"title\">'메이저 사냥꾼' 브룩스 켑카 드라이버샷</strong>\n",
       "<div class=\"source_wrap\">\n",
       "<span class=\"date\">6시간 전</span>\n",
       "<span class=\"source\"><span class=\"source_inner\">GOLFTV X PGA TOUR</span></span>\n",
       "</div>\n",
       "</div>\n",
       "</div>\n",
       "</a>\n",
       "<a class=\"media_area\" data-clk=\"tcc_spo.list2cont8\" data-da-position=\"true\" data-gdid=\"PC-THEME-SPORTS-NEWS9-1[materials][7]\" href=\"https://sports.news.naver.com/video.nhn?id=828888\" target=\"_blank\">\n",
       "<div class=\"media_thumb\">\n",
       "<img alt=\"손흥민의 눈물은 잊어라… 김학범호, 온두라스전 '승리-복수' 다 잡는다! [스포츠타임]\" data-src=\"https://s.pstatic.net/dthumb.phinf/?src=%22https%3A%2F%2Fsports-phinf.pstatic.net%2F20210728_95%2F1627423384256DprKQ_JPEG%2F%25BF%25C2%25B5%25CE%25B6%25F3%25BD%25BA%25C0%25FC_%25C6%25F7%25C5%25D0_%25BD%25E6%25B3%25D7%25C0%25CF.jpg%22&amp;type=nf464_260\" height=\"130\" src=\"https://s.pstatic.net/dthumb.phinf/?src=%22https%3A%2F%2Fsports-phinf.pstatic.net%2F20210728_95%2F1627423384256DprKQ_JPEG%2F%25BF%25C2%25B5%25CE%25B6%25F3%25BD%25BA%25C0%25FC_%25C6%25F7%25C5%25D0_%25BD%25E6%25B3%25D7%25C0%25CF.jpg%22&amp;type=nf464_260\" width=\"232\"/>\n",
       "<span class=\"thumb_dim\"></span>\n",
       "<span class=\"thumb_bd\"></span>\n",
       "<i class=\"pm_ico_play\"><span class=\"blind\">재생</span></i>\n",
       "<span class=\"theme_runtime\"><span class=\"runtime_bg\">재생시간</span><em class=\"time\">02:20</em></span>\n",
       "</div>\n",
       "<div class=\"media_info\">\n",
       "<div class=\"info_box\">\n",
       "<em class=\"theme_category\">핫클립</em>\n",
       "<strong class=\"title\">손흥민의 눈물은 잊어라… 김학범호, 온두라스전 '승리-복수' 다 잡는다! [스포츠타임]</strong>\n",
       "<div class=\"source_wrap\">\n",
       "<span class=\"date\">2시간 전</span>\n",
       "<span class=\"source\"><span class=\"source_inner\">SPORTSTIME (스포츠타임)</span></span>\n",
       "</div>\n",
       "</div>\n",
       "</div>\n",
       "</a>\n",
       "<a class=\"media_area\" data-clk=\"tcc_spo.list2cont9\" data-da-position=\"true\" data-gdid=\"PC-THEME-SPORTS-NEWS9-1[materials][8]\" href=\"https://sports.news.naver.com/video.nhn?id=828828\" target=\"_blank\">\n",
       "<div class=\"media_thumb\">\n",
       "<img alt=\"인간승리! 인교돈, 남자 +80kg급 동메달 시상식 [KBS] [시상식]\" data-src=\"https://s.pstatic.net/dthumb.phinf/?src=%22https%3A%2F%2Fsports-phinf.pstatic.net%2F%2F20210727_2%2F162739451065072hF4_JPEG%2F61000c7eb284815c38ae6a04_edit_3_1627393364198.jpg%22&amp;type=nf464_260\" height=\"130\" src=\"https://s.pstatic.net/dthumb.phinf/?src=%22https%3A%2F%2Fsports-phinf.pstatic.net%2F%2F20210727_2%2F162739451065072hF4_JPEG%2F61000c7eb284815c38ae6a04_edit_3_1627393364198.jpg%22&amp;type=nf464_260\" width=\"232\"/>\n",
       "<span class=\"thumb_dim\"></span>\n",
       "<span class=\"thumb_bd\"></span>\n",
       "<i class=\"pm_ico_play\"><span class=\"blind\">재생</span></i>\n",
       "<span class=\"theme_runtime\"><span class=\"runtime_bg\">재생시간</span><em class=\"time\">02:15</em></span>\n",
       "</div>\n",
       "<div class=\"media_info\">\n",
       "<div class=\"info_box\">\n",
       "<em class=\"theme_category\">시상식</em>\n",
       "<strong class=\"title\">인간승리! 인교돈, 남자 +80kg급 동메달 시상식 [KBS] [시상식]</strong>\n",
       "<div class=\"source_wrap\">\n",
       "<span class=\"date\">10시간 전</span>\n",
       "<span class=\"source\"><span class=\"source_inner\">태권도(도쿄올림픽)</span></span>\n",
       "</div>\n",
       "</div>\n",
       "</div>\n",
       "</a>\n",
       "</div>\n",
       "</div>\n",
       "</div>\n",
       "<div class=\"group_theme\" data-block-code=\"PC-THEME-SPORTS-NEWS9-2\" data-block-id=\"5da680b2d296603fab539ee1\" data-block-type=\"MATERIALS\" data-page=\"2\" data-template-code=\"3X3\" style=\"display:none\">\n",
       "<div class=\"media_view_wrap type_column\">\n",
       "<div class=\"media_view\">\n",
       "<a class=\"media_area\" data-clk=\"tcc_spo.list3cont1\" data-da-position=\"true\" data-gdid=\"PC-THEME-SPORTS-NEWS9-2[materials][0]\" href=\"https://sports.news.naver.com/video.nhn?id=828547\" target=\"_blank\">\n",
       "<div class=\"media_thumb\">\n",
       "<img alt=\"이보다 더 극적일 수 없다! 이다빈 결승 진출! [MBC]\" data-src=\"https://s.pstatic.net/dthumb.phinf/?src=%22https%3A%2F%2Fsports-phinf.pstatic.net%2F%2F20210727_30%2F1627371698013UfKYP_JPEG%2Fclip_20210727162645_4.jpg%22&amp;type=nf464_260\" height=\"130\" width=\"232\"/>\n",
       "<span class=\"thumb_dim\"></span>\n",
       "<span class=\"thumb_bd\"></span>\n",
       "<i class=\"pm_ico_play\"><span class=\"blind\">재생</span></i>\n",
       "<span class=\"theme_runtime\"><span class=\"runtime_bg\">재생시간</span><em class=\"time\">01:25</em></span>\n",
       "</div>\n",
       "<div class=\"media_info\">\n",
       "<div class=\"info_box\">\n",
       "<em class=\"theme_category\">주요장면</em>\n",
       "<strong class=\"title\">이보다 더 극적일 수 없다! 이다빈 결승 진출! [MBC]</strong>\n",
       "<div class=\"source_wrap\">\n",
       "<span class=\"date\">16시간 전</span>\n",
       "<span class=\"source\"><span class=\"source_inner\">태권도 (도쿄올림픽)</span></span>\n",
       "</div>\n",
       "</div>\n",
       "</div>\n",
       "</a>\n",
       "<a class=\"media_area\" data-clk=\"tcc_spo.list3cont2\" data-da-position=\"true\" data-gdid=\"PC-THEME-SPORTS-NEWS9-2[materials][1]\" href=\"https://sports.news.naver.com/video.nhn?id=828528\" target=\"_blank\">\n",
       "<div class=\"media_thumb\">\n",
       "<img alt=\"김제덕 아쉬운 개인전 16강 진출 실패 [MBC]\" data-src=\"https://s.pstatic.net/dthumb.phinf/?src=%22https%3A%2F%2Fsports-phinf.pstatic.net%2F%2F20210727_34%2F1627390302655KmwUo_JPEG%2Fclip_20210727161038_1.jpg%22&amp;type=nf464_260\" height=\"130\" width=\"232\"/>\n",
       "<span class=\"thumb_dim\"></span>\n",
       "<span class=\"thumb_bd\"></span>\n",
       "<i class=\"pm_ico_play\"><span class=\"blind\">재생</span></i>\n",
       "<span class=\"theme_runtime\"><span class=\"runtime_bg\">재생시간</span><em class=\"time\">01:16</em></span>\n",
       "</div>\n",
       "<div class=\"media_info\">\n",
       "<div class=\"info_box\">\n",
       "<em class=\"theme_category\">주요장면</em>\n",
       "<strong class=\"title\">김제덕 아쉬운 개인전 16강 진출 실패 [MBC]</strong>\n",
       "<div class=\"source_wrap\">\n",
       "<span class=\"date\">17시간 전</span>\n",
       "<span class=\"source\"><span class=\"source_inner\">양궁 (도쿄올림픽)</span></span>\n",
       "</div>\n",
       "</div>\n",
       "</div>\n",
       "</a>\n",
       "<a class=\"media_area\" data-clk=\"tcc_spo.list3cont3\" data-da-position=\"true\" data-gdid=\"PC-THEME-SPORTS-NEWS9-2[materials][2]\" href=\"https://sports.news.naver.com/video.nhn?id=828681\" target=\"_blank\">\n",
       "<div class=\"media_thumb\">\n",
       "<img alt=\"‘47.97’ 한국신기록! 역사를 써내려가는 황선우 [100m 자유형 예선] [SBS]\" data-src=\"https://s.pstatic.net/dthumb.phinf/?src=%22https%3A%2F%2Fsports-phinf.pstatic.net%2F%2F20210727_148%2F1627386702746M5JgR_JPEG%2Fjif1627381343409-1280-0.jpg%22&amp;type=nf464_260\" height=\"130\" width=\"232\"/>\n",
       "<span class=\"thumb_dim\"></span>\n",
       "<span class=\"thumb_bd\"></span>\n",
       "<i class=\"pm_ico_play\"><span class=\"blind\">재생</span></i>\n",
       "<span class=\"theme_runtime\"><span class=\"runtime_bg\">재생시간</span><em class=\"time\">02:30</em></span>\n",
       "</div>\n",
       "<div class=\"media_info\">\n",
       "<div class=\"info_box\">\n",
       "<em class=\"theme_category\">주요장면</em>\n",
       "<strong class=\"title\">‘47.97’ 한국신기록! 역사를 써내려가는 황선우 [100m 자유형 예선] [SBS]</strong>\n",
       "<div class=\"source_wrap\">\n",
       "<span class=\"date\">13시간 전</span>\n",
       "<span class=\"source\"><span class=\"source_inner\">수영 (도쿄올림픽)</span></span>\n",
       "</div>\n",
       "</div>\n",
       "</div>\n",
       "</a>\n",
       "<a class=\"media_area\" data-clk=\"tcc_spo.list3cont4\" data-da-position=\"true\" data-gdid=\"PC-THEME-SPORTS-NEWS9-2[materials][3]\" href=\"https://sports.news.naver.com/video.nhn?id=828267\" target=\"_blank\">\n",
       "<div class=\"media_thumb\">\n",
       "<img alt=\"최선을 다한 황선우! 아쉬웠던 마지막 50M [자유형 200M 결승] [MBC]\" data-src=\"https://s.pstatic.net/dthumb.phinf/?src=%22https%3A%2F%2Fsports-phinf.pstatic.net%2F%2F20210727_26%2F1627396896944lkgeB_JPEG%2Fclip_20210727105330_1.jpg%22&amp;type=nf464_260\" height=\"130\" width=\"232\"/>\n",
       "<span class=\"thumb_dim\"></span>\n",
       "<span class=\"thumb_bd\"></span>\n",
       "<i class=\"pm_ico_play\"><span class=\"blind\">재생</span></i>\n",
       "<span class=\"theme_runtime\"><span class=\"runtime_bg\">재생시간</span><em class=\"time\">02:30</em></span>\n",
       "</div>\n",
       "<div class=\"media_info\">\n",
       "<div class=\"info_box\">\n",
       "<em class=\"theme_category\">주요장면</em>\n",
       "<strong class=\"title\">최선을 다한 황선우! 아쉬웠던 마지막 50M [자유형 200M 결승] [MBC]</strong>\n",
       "<div class=\"source_wrap\">\n",
       "<span class=\"date\">22시간 전</span>\n",
       "<span class=\"source\"><span class=\"source_inner\">수영 (도쿄올림픽)</span></span>\n",
       "</div>\n",
       "</div>\n",
       "</div>\n",
       "</a>\n",
       "<a class=\"media_area\" data-clk=\"tcc_spo.list3cont5\" data-da-position=\"true\" data-gdid=\"PC-THEME-SPORTS-NEWS9-2[materials][4]\" href=\"https://sports.news.naver.com/video.nhn?id=828357\" target=\"_blank\">\n",
       "<div class=\"media_thumb\">\n",
       "<img alt=\"첫 올림픽, 최선을 다한 황선우 경기 후 인터뷰 [자유형 200M 결승] [MBC]\" data-src=\"https://s.pstatic.net/dthumb.phinf/?src=%22https%3A%2F%2Fsports-phinf.pstatic.net%2F%2F20210727_107%2F16273966093304Hhto_JPEG%2Fclip_20210727131359_11.jpg%22&amp;type=nf464_260\" height=\"130\" width=\"232\"/>\n",
       "<span class=\"thumb_dim\"></span>\n",
       "<span class=\"thumb_bd\"></span>\n",
       "<i class=\"pm_ico_play\"><span class=\"blind\">재생</span></i>\n",
       "<span class=\"theme_runtime\"><span class=\"runtime_bg\">재생시간</span><em class=\"time\">01:30</em></span>\n",
       "</div>\n",
       "<div class=\"media_info\">\n",
       "<div class=\"info_box\">\n",
       "<em class=\"theme_category\">인터뷰</em>\n",
       "<strong class=\"title\">첫 올림픽, 최선을 다한 황선우 경기 후 인터뷰 [자유형 200M 결승] [MBC]</strong>\n",
       "<div class=\"source_wrap\">\n",
       "<span class=\"date\">20시간 전</span>\n",
       "<span class=\"source\"><span class=\"source_inner\">수영 (도쿄올림픽)</span></span>\n",
       "</div>\n",
       "</div>\n",
       "</div>\n",
       "</a>\n",
       "<a class=\"media_area\" data-clk=\"tcc_spo.list3cont6\" data-da-position=\"true\" data-gdid=\"PC-THEME-SPORTS-NEWS9-2[materials][5]\" href=\"https://sports.news.naver.com/video.nhn?id=828549\" target=\"_blank\">\n",
       "<div class=\"media_thumb\">\n",
       "<img alt=\"‘이게 바로 탁구입니다’ 4:10에서 12:10을 만들어내는 정영식!! [KBS]\" data-src=\"https://s.pstatic.net/dthumb.phinf/?src=%22https%3A%2F%2Fsports-phinf.pstatic.net%2F%2F20210727_159%2F1627371704409nWd87_JPEG%2F60ffb382b284815c38ae4b1b_edit_1_1627370707183.jpg%22&amp;type=nf464_260\" height=\"130\" width=\"232\"/>\n",
       "<span class=\"thumb_dim\"></span>\n",
       "<span class=\"thumb_bd\"></span>\n",
       "<i class=\"pm_ico_play\"><span class=\"blind\">재생</span></i>\n",
       "<span class=\"theme_runtime\"><span class=\"runtime_bg\">재생시간</span><em class=\"time\">02:04</em></span>\n",
       "</div>\n",
       "<div class=\"media_info\">\n",
       "<div class=\"info_box\">\n",
       "<em class=\"theme_category\">주요장면</em>\n",
       "<strong class=\"title\">‘이게 바로 탁구입니다’ 4:10에서 12:10을 만들어내는 정영식!! [KBS]</strong>\n",
       "<div class=\"source_wrap\">\n",
       "<span class=\"date\">16시간 전</span>\n",
       "<span class=\"source\"><span class=\"source_inner\">탁구(도쿄올림픽)</span></span>\n",
       "</div>\n",
       "</div>\n",
       "</div>\n",
       "</a>\n",
       "<a class=\"media_area\" data-clk=\"tcc_spo.list3cont7\" data-da-position=\"true\" data-gdid=\"PC-THEME-SPORTS-NEWS9-2[materials][6]\" href=\"https://sports.news.naver.com/video.nhn?id=828506\" target=\"_blank\">\n",
       "<div class=\"media_thumb\">\n",
       "<img alt=\"'뜨거운 눈물' 김서영 경기 후 인터뷰 [개인혼영 200M] [MBC]\" data-src=\"https://s.pstatic.net/dthumb.phinf/?src=%22https%3A%2F%2Fsports-phinf.pstatic.net%2F%2F20210727_253%2F1627395100827SxSe1_JPEG%2Fclip_20210727154923_0.jpg%22&amp;type=nf464_260\" height=\"130\" width=\"232\"/>\n",
       "<span class=\"thumb_dim\"></span>\n",
       "<span class=\"thumb_bd\"></span>\n",
       "<i class=\"pm_ico_play\"><span class=\"blind\">재생</span></i>\n",
       "<span class=\"theme_runtime\"><span class=\"runtime_bg\">재생시간</span><em class=\"time\">02:05</em></span>\n",
       "</div>\n",
       "<div class=\"media_info\">\n",
       "<div class=\"info_box\">\n",
       "<em class=\"theme_category\">인터뷰</em>\n",
       "<strong class=\"title\">'뜨거운 눈물' 김서영 경기 후 인터뷰 [개인혼영 200M] [MBC]</strong>\n",
       "<div class=\"source_wrap\">\n",
       "<span class=\"date\">17시간 전</span>\n",
       "<span class=\"source\"><span class=\"source_inner\">수영 (도쿄올림픽)</span></span>\n",
       "</div>\n",
       "</div>\n",
       "</div>\n",
       "</a>\n",
       "<a class=\"media_area\" data-clk=\"tcc_spo.list3cont8\" data-da-position=\"true\" data-gdid=\"PC-THEME-SPORTS-NEWS9-2[materials][7]\" href=\"https://sports.news.naver.com/video.nhn?id=828407\" target=\"_blank\">\n",
       "<div class=\"media_thumb\">\n",
       "<img alt=\"마지막 까지 치열했던 경기, 정영식 16강 진출! [단식 3라운드] [MBC]\" data-src=\"https://s.pstatic.net/dthumb.phinf/?src=%22https%3A%2F%2Fsports-phinf.pstatic.net%2F%2F20210728_139%2F16274008034313PtSv_JPEG%2Fclip_20210727135046_3.jpg%22&amp;type=nf464_260\" height=\"130\" width=\"232\"/>\n",
       "<span class=\"thumb_dim\"></span>\n",
       "<span class=\"thumb_bd\"></span>\n",
       "<i class=\"pm_ico_play\"><span class=\"blind\">재생</span></i>\n",
       "<span class=\"theme_runtime\"><span class=\"runtime_bg\">재생시간</span><em class=\"time\">02:33</em></span>\n",
       "</div>\n",
       "<div class=\"media_info\">\n",
       "<div class=\"info_box\">\n",
       "<em class=\"theme_category\">주요장면</em>\n",
       "<strong class=\"title\">마지막 까지 치열했던 경기, 정영식 16강 진출! [단식 3라운드] [MBC]</strong>\n",
       "<div class=\"source_wrap\">\n",
       "<span class=\"date\">19시간 전</span>\n",
       "<span class=\"source\"><span class=\"source_inner\">탁구 (도쿄올림픽)</span></span>\n",
       "</div>\n",
       "</div>\n",
       "</div>\n",
       "</a>\n",
       "<a class=\"media_area\" data-clk=\"tcc_spo.list3cont9\" data-da-position=\"true\" data-gdid=\"PC-THEME-SPORTS-NEWS9-2[materials][8]\" href=\"https://sports.news.naver.com/video.nhn?id=828386\" target=\"_blank\">\n",
       "<div class=\"media_thumb\">\n",
       "<img alt=\"'시원한 업어치기' 이성호 16강 진출 [-81kg 32강] [MBC]\" data-src=\"https://s.pstatic.net/dthumb.phinf/?src=%22https%3A%2F%2Fsports-phinf.pstatic.net%2F%2F20210727_243%2F1627396608460tBwqc_JPEG%2Fclip_20210727130756_0.jpg%22&amp;type=nf464_260\" height=\"130\" width=\"232\"/>\n",
       "<span class=\"thumb_dim\"></span>\n",
       "<span class=\"thumb_bd\"></span>\n",
       "<i class=\"pm_ico_play\"><span class=\"blind\">재생</span></i>\n",
       "<span class=\"theme_runtime\"><span class=\"runtime_bg\">재생시간</span><em class=\"time\">01:16</em></span>\n",
       "</div>\n",
       "<div class=\"media_info\">\n",
       "<div class=\"info_box\">\n",
       "<em class=\"theme_category\">주요장면</em>\n",
       "<strong class=\"title\">'시원한 업어치기' 이성호 16강 진출 [-81kg 32강] [MBC]</strong>\n",
       "<div class=\"source_wrap\">\n",
       "<span class=\"date\">20시간 전</span>\n",
       "<span class=\"source\"><span class=\"source_inner\">유도 (도쿄올림픽)</span></span>\n",
       "</div>\n",
       "</div>\n",
       "</div>\n",
       "</a>\n",
       "</div>\n",
       "</div>\n",
       "</div>\n",
       "<div class=\"group_theme\" data-block-code=\"PC-THEME-SPORTS-NEWS9-3\" data-block-id=\"5da680b2d296603fab539efd\" data-block-type=\"MATERIALS\" data-page=\"2\" data-template-code=\"3X3\" style=\"display:none\">\n",
       "<div class=\"media_view_wrap type_column\">\n",
       "<div class=\"media_view\">\n",
       "<a class=\"media_area\" data-clk=\"tcc_spo.list4cont1\" data-da-position=\"true\" data-gdid=\"PC-THEME-SPORTS-NEWS9-3[materials][0]\" href=\"https://sports.news.naver.com/video.nhn?id=828469\" target=\"_blank\">\n",
       "<div class=\"media_thumb\">\n",
       "<img alt=\"승기를 굳히는 최인정! 여자 에페 단체 은메달 확보! [MBC]\" data-src=\"https://s.pstatic.net/dthumb.phinf/?src=%22https%3A%2F%2Fsports-phinf.pstatic.net%2F%2F20210727_128%2F1627366369153gSGmD_JPEG%2Fclip_20210727150418_0.jpg%22&amp;type=nf464_260\" height=\"130\" width=\"232\"/>\n",
       "<span class=\"thumb_dim\"></span>\n",
       "<span class=\"thumb_bd\"></span>\n",
       "<i class=\"pm_ico_play\"><span class=\"blind\">재생</span></i>\n",
       "<span class=\"theme_runtime\"><span class=\"runtime_bg\">재생시간</span><em class=\"time\">01:48</em></span>\n",
       "</div>\n",
       "<div class=\"media_info\">\n",
       "<div class=\"info_box\">\n",
       "<em class=\"theme_category\">주요장면</em>\n",
       "<strong class=\"title\">승기를 굳히는 최인정! 여자 에페 단체 은메달 확보! [MBC]</strong>\n",
       "<div class=\"source_wrap\">\n",
       "<span class=\"date\">18시간 전</span>\n",
       "<span class=\"source\"><span class=\"source_inner\">펜싱 (도쿄올림픽)</span></span>\n",
       "</div>\n",
       "</div>\n",
       "</div>\n",
       "</a>\n",
       "<a class=\"media_area\" data-clk=\"tcc_spo.list4cont2\" data-da-position=\"true\" data-gdid=\"PC-THEME-SPORTS-NEWS9-3[materials][1]\" href=\"https://sports.news.naver.com/video.nhn?id=828493\" target=\"_blank\">\n",
       "<div class=\"media_thumb\">\n",
       "<img alt=\"펜싱 여자 에페 단체 준결승 [송세라 득점모음] [MBC]\" data-src=\"https://s.pstatic.net/dthumb.phinf/?src=%22https%3A%2F%2Fsports-phinf.pstatic.net%2F%2F20210727_279%2F1627387309098xl6XP_JPEG%2Fclip_20210727154029_4.jpg%22&amp;type=nf464_260\" height=\"130\" width=\"232\"/>\n",
       "<span class=\"thumb_dim\"></span>\n",
       "<span class=\"thumb_bd\"></span>\n",
       "<i class=\"pm_ico_play\"><span class=\"blind\">재생</span></i>\n",
       "<span class=\"theme_runtime\"><span class=\"runtime_bg\">재생시간</span><em class=\"time\">02:11</em></span>\n",
       "</div>\n",
       "<div class=\"media_info\">\n",
       "<div class=\"info_box\">\n",
       "<em class=\"theme_category\">주요장면</em>\n",
       "<strong class=\"title\">펜싱 여자 에페 단체 준결승 [송세라 득점모음] [MBC]</strong>\n",
       "<div class=\"source_wrap\">\n",
       "<span class=\"date\">17시간 전</span>\n",
       "<span class=\"source\"><span class=\"source_inner\">펜싱 (도쿄올림픽)</span></span>\n",
       "</div>\n",
       "</div>\n",
       "</div>\n",
       "</a>\n",
       "<a class=\"media_area\" data-clk=\"tcc_spo.list4cont3\" data-da-position=\"true\" data-gdid=\"PC-THEME-SPORTS-NEWS9-3[materials][2]\" href=\"https://sports.news.naver.com/video.nhn?id=828473\" target=\"_blank\">\n",
       "<div class=\"media_thumb\">\n",
       "<img alt=\"김제덕 6:0 완승! 남자 개인전 32강 진출! [MBC]\" data-src=\"https://s.pstatic.net/dthumb.phinf/?src=%22https%3A%2F%2Fsports-phinf.pstatic.net%2F%2F20210727_51%2F1627367198283iizrl_JPEG%2Fclip_20210727151551_1.jpg%22&amp;type=nf464_260\" height=\"130\" width=\"232\"/>\n",
       "<span class=\"thumb_dim\"></span>\n",
       "<span class=\"thumb_bd\"></span>\n",
       "<i class=\"pm_ico_play\"><span class=\"blind\">재생</span></i>\n",
       "<span class=\"theme_runtime\"><span class=\"runtime_bg\">재생시간</span><em class=\"time\">01:11</em></span>\n",
       "</div>\n",
       "<div class=\"media_info\">\n",
       "<div class=\"info_box\">\n",
       "<em class=\"theme_category\">주요장면</em>\n",
       "<strong class=\"title\">김제덕 6:0 완승! 남자 개인전 32강 진출! [MBC]</strong>\n",
       "<div class=\"source_wrap\">\n",
       "<span class=\"date\">18시간 전</span>\n",
       "<span class=\"source\"><span class=\"source_inner\">양궁 (도쿄올림픽)</span></span>\n",
       "</div>\n",
       "</div>\n",
       "</div>\n",
       "</a>\n",
       "<a class=\"media_area\" data-clk=\"tcc_spo.list4cont4\" data-da-position=\"true\" data-gdid=\"PC-THEME-SPORTS-NEWS9-3[materials][3]\" href=\"https://sports.news.naver.com/video.nhn?id=828557\" target=\"_blank\">\n",
       "<div class=\"media_thumb\">\n",
       "<img alt=\"이다빈 결승 진출! 득점 모음 [MBC]\" data-src=\"https://s.pstatic.net/dthumb.phinf/?src=%22https%3A%2F%2Fsports-phinf.pstatic.net%2F%2F20210727_43%2F1627390303727YTSWm_JPEG%2Fclip_20210727163537_5.jpg%22&amp;type=nf464_260\" height=\"130\" width=\"232\"/>\n",
       "<span class=\"thumb_dim\"></span>\n",
       "<span class=\"thumb_bd\"></span>\n",
       "<i class=\"pm_ico_play\"><span class=\"blind\">재생</span></i>\n",
       "<span class=\"theme_runtime\"><span class=\"runtime_bg\">재생시간</span><em class=\"time\">01:37</em></span>\n",
       "</div>\n",
       "<div class=\"media_info\">\n",
       "<div class=\"info_box\">\n",
       "<em class=\"theme_category\">주요장면</em>\n",
       "<strong class=\"title\">이다빈 결승 진출! 득점 모음 [MBC]</strong>\n",
       "<div class=\"source_wrap\">\n",
       "<span class=\"date\">16시간 전</span>\n",
       "<span class=\"source\"><span class=\"source_inner\">태권도 (도쿄올림픽)</span></span>\n",
       "</div>\n",
       "</div>\n",
       "</div>\n",
       "</a>\n",
       "<a class=\"media_area\" data-clk=\"tcc_spo.list4cont5\" data-da-position=\"true\" data-gdid=\"PC-THEME-SPORTS-NEWS9-3[materials][4]\" href=\"https://sports.news.naver.com/video.nhn?id=828535\" target=\"_blank\">\n",
       "<div class=\"media_thumb\">\n",
       "<img alt=\"‘제대로 맞힌 머리’ 적절한 순간에 VAR 인정받는 이다빈 [＋67kg 준결] [SBS]\" data-src=\"https://s.pstatic.net/dthumb.phinf/?src=%22https%3A%2F%2Fsports-phinf.pstatic.net%2F%2F20210727_276%2F1627370866281YRcBn_JPEG%2Fs4d1627370212153-1280-0.jpg%22&amp;type=nf464_260\" height=\"130\" width=\"232\"/>\n",
       "<span class=\"thumb_dim\"></span>\n",
       "<span class=\"thumb_bd\"></span>\n",
       "<i class=\"pm_ico_play\"><span class=\"blind\">재생</span></i>\n",
       "<span class=\"theme_runtime\"><span class=\"runtime_bg\">재생시간</span><em class=\"time\">01:50</em></span>\n",
       "</div>\n",
       "<div class=\"media_info\">\n",
       "<div class=\"info_box\">\n",
       "<em class=\"theme_category\">주요장면</em>\n",
       "<strong class=\"title\">‘제대로 맞힌 머리’ 적절한 순간에 VAR 인정받는 이다빈 [＋67kg 준결] [SBS]</strong>\n",
       "<div class=\"source_wrap\">\n",
       "<span class=\"date\">17시간 전</span>\n",
       "<span class=\"source\"><span class=\"source_inner\">태권도 (도쿄올림픽)</span></span>\n",
       "</div>\n",
       "</div>\n",
       "</div>\n",
       "</a>\n",
       "<a class=\"media_area\" data-clk=\"tcc_spo.list4cont6\" data-da-position=\"true\" data-gdid=\"PC-THEME-SPORTS-NEWS9-3[materials][5]\" href=\"https://sports.news.naver.com/video.nhn?id=828451\" target=\"_blank\">\n",
       "<div class=\"media_thumb\">\n",
       "<img alt=\"＂ 음~ 집중! ＂ 탁구 신동 신유빈 경기 후 인터뷰 [단식 3라운드] [MBC]\" data-src=\"https://s.pstatic.net/dthumb.phinf/?src=%22https%3A%2F%2Fsports-phinf.pstatic.net%2F%2F20210728_92%2F1627400800606foJT2_JPEG%2Fclip_20210727144307_2.jpg%22&amp;type=nf464_260\" height=\"130\" width=\"232\"/>\n",
       "<span class=\"thumb_dim\"></span>\n",
       "<span class=\"thumb_bd\"></span>\n",
       "<i class=\"pm_ico_play\"><span class=\"blind\">재생</span></i>\n",
       "<span class=\"theme_runtime\"><span class=\"runtime_bg\">재생시간</span><em class=\"time\">01:31</em></span>\n",
       "</div>\n",
       "<div class=\"media_info\">\n",
       "<div class=\"info_box\">\n",
       "<em class=\"theme_category\">주요장면</em>\n",
       "<strong class=\"title\">＂ 음~ 집중! ＂ 탁구 신동 신유빈 경기 후 인터뷰 [단식 3라운드] [MBC]</strong>\n",
       "<div class=\"source_wrap\">\n",
       "<span class=\"date\">18시간 전</span>\n",
       "<span class=\"source\"><span class=\"source_inner\">탁구 (도쿄올림픽)</span></span>\n",
       "</div>\n",
       "</div>\n",
       "</div>\n",
       "</a>\n",
       "<a class=\"media_area\" data-clk=\"tcc_spo.list4cont7\" data-da-position=\"true\" data-gdid=\"PC-THEME-SPORTS-NEWS9-3[materials][6]\" href=\"https://sports.news.naver.com/video.nhn?id=828198\" target=\"_blank\">\n",
       "<div class=\"media_thumb\">\n",
       "<img alt=\"'5년 전의 복수' 축구 대표팀 온두라스전 프리뷰 [박선영의 8에이트]\" data-src=\"https://s.pstatic.net/dthumb.phinf/?src=%22https%3A%2F%2Fsports-phinf.pstatic.net%2F20210726_292%2F1627307973032lXVXi_JPEG%2F4.jpg%22&amp;type=nf464_260\" height=\"130\" width=\"232\"/>\n",
       "<span class=\"thumb_dim\"></span>\n",
       "<span class=\"thumb_bd\"></span>\n",
       "<i class=\"pm_ico_play\"><span class=\"blind\">재생</span></i>\n",
       "<span class=\"theme_runtime\"><span class=\"runtime_bg\">재생시간</span><em class=\"time\">14:33</em></span>\n",
       "</div>\n",
       "<div class=\"media_info\">\n",
       "<div class=\"info_box\">\n",
       "<em class=\"theme_category\">특집영상</em>\n",
       "<strong class=\"title\">'5년 전의 복수' 축구 대표팀 온두라스전 프리뷰 [박선영의 8에이트]</strong>\n",
       "<div class=\"source_wrap\">\n",
       "<span class=\"date\">어제</span>\n",
       "<span class=\"source\"><span class=\"source_inner\">네이버스포츠</span></span>\n",
       "</div>\n",
       "</div>\n",
       "</div>\n",
       "</a>\n",
       "<a class=\"media_area\" data-clk=\"tcc_spo.list4cont8\" data-da-position=\"true\" data-gdid=\"PC-THEME-SPORTS-NEWS9-3[materials][7]\" href=\"https://sports.news.naver.com/video.nhn?id=828601\" target=\"_blank\">\n",
       "<div class=\"media_thumb\">\n",
       "<img alt=\"1초 남기고 역전! 이다빈 준결승 하이라이트 [＋67kg 준결] [SBS]\" data-src=\"https://s.pstatic.net/dthumb.phinf/?src=%22https%3A%2F%2Fsports-phinf.pstatic.net%2F%2F20210727_290%2F1627375303082KfLui_JPEG%2F9dH1627372944611-1280-0.jpg%22&amp;type=nf464_260\" height=\"130\" width=\"232\"/>\n",
       "<span class=\"thumb_dim\"></span>\n",
       "<span class=\"thumb_bd\"></span>\n",
       "<i class=\"pm_ico_play\"><span class=\"blind\">재생</span></i>\n",
       "<span class=\"theme_runtime\"><span class=\"runtime_bg\">재생시간</span><em class=\"time\">09:20</em></span>\n",
       "</div>\n",
       "<div class=\"media_info\">\n",
       "<div class=\"info_box\">\n",
       "<em class=\"theme_category\">하이라이트</em>\n",
       "<strong class=\"title\">1초 남기고 역전! 이다빈 준결승 하이라이트 [＋67kg 준결] [SBS]</strong>\n",
       "<div class=\"source_wrap\">\n",
       "<span class=\"date\">15시간 전</span>\n",
       "<span class=\"source\"><span class=\"source_inner\">태권도 (도쿄올림픽)</span></span>\n",
       "</div>\n",
       "</div>\n",
       "</div>\n",
       "</a>\n",
       "<a class=\"media_area\" data-clk=\"tcc_spo.list4cont9\" data-da-position=\"true\" data-gdid=\"PC-THEME-SPORTS-NEWS9-3[materials][8]\" href=\"https://sports.news.naver.com/video.nhn?id=828392\" target=\"_blank\">\n",
       "<div class=\"media_thumb\">\n",
       "<img alt=\"포기하지 않은 인교돈! 역전으로 *8강 진출 확정* [KBS]\" data-src=\"https://s.pstatic.net/dthumb.phinf/?src=%22https%3A%2F%2Fsports-phinf.pstatic.net%2F%2F20210727_140%2F1627360076727ufujw_JPEG%2F60ff864e2f29ea6d6ba686ca_edit_1_1627359250887.jpg%22&amp;type=nf464_260\" height=\"130\" width=\"232\"/>\n",
       "<span class=\"thumb_dim\"></span>\n",
       "<span class=\"thumb_bd\"></span>\n",
       "<i class=\"pm_ico_play\"><span class=\"blind\">재생</span></i>\n",
       "<span class=\"theme_runtime\"><span class=\"runtime_bg\">재생시간</span><em class=\"time\">01:06</em></span>\n",
       "</div>\n",
       "<div class=\"media_info\">\n",
       "<div class=\"info_box\">\n",
       "<em class=\"theme_category\">주요장면</em>\n",
       "<strong class=\"title\">포기하지 않은 인교돈! 역전으로 *8강 진출 확정* [KBS]</strong>\n",
       "<div class=\"source_wrap\">\n",
       "<span class=\"date\">20시간 전</span>\n",
       "<span class=\"source\"><span class=\"source_inner\">태권도(도쿄올림픽)</span></span>\n",
       "</div>\n",
       "</div>\n",
       "</div>\n",
       "</a>\n",
       "</div>\n",
       "</div>\n",
       "</div>\n",
       "<div class=\"group_theme\" data-block-code=\"PC-THEME-SPORTS-NEWS9-4\" data-block-id=\"5da680b2d296603fab539f0c\" data-block-type=\"MATERIALS\" data-page=\"3\" data-template-code=\"3X3\" style=\"display:none\">\n",
       "<div class=\"media_view_wrap type_column\">\n",
       "<div class=\"media_view\">\n",
       "<a class=\"media_area\" data-clk=\"tcc_spo.list5cont1\" data-da-position=\"true\" data-gdid=\"PC-THEME-SPORTS-NEWS9-4[materials][0]\" href=\"https://sports.news.naver.com/video.nhn?id=827928\" target=\"_blank\">\n",
       "<div class=\"media_thumb\">\n",
       "<img alt=\"‘환상적인 안뒤축 후리기’ 준결승으로 향하는 안창림 [-73kg 8강] [SBS]\" data-src=\"https://s.pstatic.net/dthumb.phinf/?src=%22https%3A%2F%2Fsports-phinf.pstatic.net%2F%2F20210726_275%2F1627281700096Ak0Le_JPEG%2FyqK1627279713985-1280-0.jpg%22&amp;type=nf464_260\" height=\"130\" width=\"232\"/>\n",
       "<span class=\"thumb_dim\"></span>\n",
       "<span class=\"thumb_bd\"></span>\n",
       "<i class=\"pm_ico_play\"><span class=\"blind\">재생</span></i>\n",
       "<span class=\"theme_runtime\"><span class=\"runtime_bg\">재생시간</span><em class=\"time\">01:54</em></span>\n",
       "</div>\n",
       "<div class=\"media_info\">\n",
       "<div class=\"info_box\">\n",
       "<em class=\"theme_category\">주요장면</em>\n",
       "<strong class=\"title\">‘환상적인 안뒤축 후리기’ 준결승으로 향하는 안창림 [-73kg 8강] [SBS]</strong>\n",
       "<div class=\"source_wrap\">\n",
       "<span class=\"date\">어제</span>\n",
       "<span class=\"source\"><span class=\"source_inner\">유도 (도쿄올림픽)</span></span>\n",
       "</div>\n",
       "</div>\n",
       "</div>\n",
       "</a>\n",
       "<a class=\"media_area\" data-clk=\"tcc_spo.list5cont2\" data-da-position=\"true\" data-gdid=\"PC-THEME-SPORTS-NEWS9-4[materials][1]\" href=\"https://sports.news.naver.com/video.nhn?id=828031\" target=\"_blank\">\n",
       "<div class=\"media_thumb\">\n",
       "<img alt=\"올텐으로 2세트 가져오는 대한민국 대표팀 [MBC]\" data-src=\"https://s.pstatic.net/dthumb.phinf/?src=%22https%3A%2F%2Fsports-phinf.pstatic.net%2F%2F20210726_300%2F16272915988324XhO8_JPEG%2Fclip_20210726171104_23.jpg%22&amp;type=nf464_260\" height=\"130\" width=\"232\"/>\n",
       "<span class=\"thumb_dim\"></span>\n",
       "<span class=\"thumb_bd\"></span>\n",
       "<i class=\"pm_ico_play\"><span class=\"blind\">재생</span></i>\n",
       "<span class=\"theme_runtime\"><span class=\"runtime_bg\">재생시간</span><em class=\"time\">01:35</em></span>\n",
       "</div>\n",
       "<div class=\"media_info\">\n",
       "<div class=\"info_box\">\n",
       "<em class=\"theme_category\">주요장면</em>\n",
       "<strong class=\"title\">올텐으로 2세트 가져오는 대한민국 대표팀 [MBC]</strong>\n",
       "<div class=\"source_wrap\">\n",
       "<span class=\"date\">어제</span>\n",
       "<span class=\"source\"><span class=\"source_inner\">양궁 (도쿄올림픽)</span></span>\n",
       "</div>\n",
       "</div>\n",
       "</div>\n",
       "</a>\n",
       "<a class=\"media_area\" data-clk=\"tcc_spo.list5cont3\" data-da-position=\"true\" data-gdid=\"PC-THEME-SPORTS-NEWS9-4[materials][2]\" href=\"https://sports.news.naver.com/video.nhn?id=828045\" target=\"_blank\">\n",
       "<div class=\"media_thumb\">\n",
       "<img alt=\"엄청난 렐리! 안 좋은 분위기를 꺾고 얻은 값진 점수!! [KBS]\" data-src=\"https://s.pstatic.net/dthumb.phinf/?src=%22https%3A%2F%2Fsports-phinf.pstatic.net%2F%2F20210726_266%2F1627288605972HXxxX_JPEG%2F60fe6f4ab284815c38ae0396_edit_1_1627287719735.jpg%22&amp;type=nf464_260\" height=\"130\" width=\"232\"/>\n",
       "<span class=\"thumb_dim\"></span>\n",
       "<span class=\"thumb_bd\"></span>\n",
       "<i class=\"pm_ico_play\"><span class=\"blind\">재생</span></i>\n",
       "<span class=\"theme_runtime\"><span class=\"runtime_bg\">재생시간</span><em class=\"time\">01:00</em></span>\n",
       "</div>\n",
       "<div class=\"media_info\">\n",
       "<div class=\"info_box\">\n",
       "<em class=\"theme_category\">주요장면</em>\n",
       "<strong class=\"title\">엄청난 렐리! 안 좋은 분위기를 꺾고 얻은 값진 점수!! [KBS]</strong>\n",
       "<div class=\"source_wrap\">\n",
       "<span class=\"date\">어제</span>\n",
       "<span class=\"source\"><span class=\"source_inner\">탁구(도쿄올림픽)</span></span>\n",
       "</div>\n",
       "</div>\n",
       "</div>\n",
       "</a>\n",
       "<a class=\"media_area\" data-clk=\"tcc_spo.list5cont4\" data-da-position=\"true\" data-gdid=\"PC-THEME-SPORTS-NEWS9-4[materials][3]\" href=\"https://sports.news.naver.com/video.nhn?id=827969\" target=\"_blank\">\n",
       "<div class=\"media_thumb\">\n",
       "<img alt=\"조금 더 가까웠던 10점! 어렵게 한일전 승리하는 대한민국 [단체 준결] [SBS]\" data-src=\"https://s.pstatic.net/dthumb.phinf/?src=%22https%3A%2F%2Fsports-phinf.pstatic.net%2F%2F20210726_117%2F1627283204789zlLBj_JPEG%2FDzB1627282395946-1280-0.jpg%22&amp;type=nf464_260\" height=\"130\" width=\"232\"/>\n",
       "<span class=\"thumb_dim\"></span>\n",
       "<span class=\"thumb_bd\"></span>\n",
       "<i class=\"pm_ico_play\"><span class=\"blind\">재생</span></i>\n",
       "<span class=\"theme_runtime\"><span class=\"runtime_bg\">재생시간</span><em class=\"time\">02:15</em></span>\n",
       "</div>\n",
       "<div class=\"media_info\">\n",
       "<div class=\"info_box\">\n",
       "<em class=\"theme_category\">주요장면</em>\n",
       "<strong class=\"title\">조금 더 가까웠던 10점! 어렵게 한일전 승리하는 대한민국 [단체 준결] [SBS]</strong>\n",
       "<div class=\"source_wrap\">\n",
       "<span class=\"date\">어제</span>\n",
       "<span class=\"source\"><span class=\"source_inner\">양궁 (도쿄올림픽)</span></span>\n",
       "</div>\n",
       "</div>\n",
       "</div>\n",
       "</a>\n",
       "<a class=\"media_area\" data-clk=\"tcc_spo.list5cont5\" data-da-position=\"true\" data-gdid=\"PC-THEME-SPORTS-NEWS9-4[materials][4]\" href=\"https://sports.news.naver.com/video.nhn?id=827793\" target=\"_blank\">\n",
       "<div class=\"media_thumb\">\n",
       "<img alt=\"‘메달을 위한 페이스 조절’ 전체 6위로 결승 진출하는 황선우 [자유형 200m 준결] [SBS]\" data-src=\"https://s.pstatic.net/dthumb.phinf/?src=%22https%3A%2F%2Fsports-phinf.pstatic.net%2F%2F20210726_278%2F1627267609712AuWCv_JPEG%2F88H1627264769090-1280-0.jpg%22&amp;type=nf464_260\" height=\"130\" width=\"232\"/>\n",
       "<span class=\"thumb_dim\"></span>\n",
       "<span class=\"thumb_bd\"></span>\n",
       "<i class=\"pm_ico_play\"><span class=\"blind\">재생</span></i>\n",
       "<span class=\"theme_runtime\"><span class=\"runtime_bg\">재생시간</span><em class=\"time\">03:55</em></span>\n",
       "</div>\n",
       "<div class=\"media_info\">\n",
       "<div class=\"info_box\">\n",
       "<em class=\"theme_category\">주요장면</em>\n",
       "<strong class=\"title\">‘메달을 위한 페이스 조절’ 전체 6위로 결승 진출하는 황선우 [자유형 200m 준결] [SBS]</strong>\n",
       "<div class=\"source_wrap\">\n",
       "<span class=\"date\">어제</span>\n",
       "<span class=\"source\"><span class=\"source_inner\">수영 (도쿄올림픽)</span></span>\n",
       "</div>\n",
       "</div>\n",
       "</div>\n",
       "</a>\n",
       "<a class=\"media_area\" data-clk=\"tcc_spo.list5cont6\" data-da-position=\"true\" data-gdid=\"PC-THEME-SPORTS-NEWS9-4[materials][5]\" href=\"https://sports.news.naver.com/video.nhn?id=827883\" target=\"_blank\">\n",
       "<div class=\"media_thumb\">\n",
       "<img alt=\"‘말이 안되는 정확도’ 59점을 쏘는 대한민국 [단체 8강] [SBS]\" data-src=\"https://s.pstatic.net/dthumb.phinf/?src=%22https%3A%2F%2Fsports-phinf.pstatic.net%2F%2F20210726_199%2F1627276904742P2mCJ_JPEG%2FCSP1627276290107-1280-0.jpg%22&amp;type=nf464_260\" height=\"130\" width=\"232\"/>\n",
       "<span class=\"thumb_dim\"></span>\n",
       "<span class=\"thumb_bd\"></span>\n",
       "<i class=\"pm_ico_play\"><span class=\"blind\">재생</span></i>\n",
       "<span class=\"theme_runtime\"><span class=\"runtime_bg\">재생시간</span><em class=\"time\">02:09</em></span>\n",
       "</div>\n",
       "<div class=\"media_info\">\n",
       "<div class=\"info_box\">\n",
       "<em class=\"theme_category\">주요장면</em>\n",
       "<strong class=\"title\">‘말이 안되는 정확도’ 59점을 쏘는 대한민국 [단체 8강] [SBS]</strong>\n",
       "<div class=\"source_wrap\">\n",
       "<span class=\"date\">어제</span>\n",
       "<span class=\"source\"><span class=\"source_inner\">양궁 (도쿄올림픽)</span></span>\n",
       "</div>\n",
       "</div>\n",
       "</div>\n",
       "</a>\n",
       "<a class=\"media_area\" data-clk=\"tcc_spo.list5cont7\" data-da-position=\"true\" data-gdid=\"PC-THEME-SPORTS-NEWS9-4[materials][6]\" href=\"https://sports.news.naver.com/video.nhn?id=828071\" target=\"_blank\">\n",
       "<div class=\"media_thumb\">\n",
       "<img alt=\"양궁 남자 단체 올림픽 2연패 하이라이트 [MBC]\" data-src=\"https://s.pstatic.net/dthumb.phinf/?src=%22https%3A%2F%2Fsports-phinf.pstatic.net%2F%2F20210726_275%2F1627292559951tF8dn_JPEG%2Fclip_20210726181435_34.jpg%22&amp;type=nf464_260\" height=\"130\" width=\"232\"/>\n",
       "<span class=\"thumb_dim\"></span>\n",
       "<span class=\"thumb_bd\"></span>\n",
       "<i class=\"pm_ico_play\"><span class=\"blind\">재생</span></i>\n",
       "<span class=\"theme_runtime\"><span class=\"runtime_bg\">재생시간</span><em class=\"time\">15:06</em></span>\n",
       "</div>\n",
       "<div class=\"media_info\">\n",
       "<div class=\"info_box\">\n",
       "<em class=\"theme_category\">하이라이트</em>\n",
       "<strong class=\"title\">양궁 남자 단체 올림픽 2연패 하이라이트 [MBC]</strong>\n",
       "<div class=\"source_wrap\">\n",
       "<span class=\"date\">어제</span>\n",
       "<span class=\"source\"><span class=\"source_inner\">양궁 (도쿄올림픽)</span></span>\n",
       "</div>\n",
       "</div>\n",
       "</div>\n",
       "</a>\n",
       "<a class=\"media_area\" data-clk=\"tcc_spo.list5cont8\" data-da-position=\"true\" data-gdid=\"PC-THEME-SPORTS-NEWS9-4[materials][7]\" href=\"https://sports.news.naver.com/video.nhn?id=828113\" target=\"_blank\">\n",
       "<div class=\"media_thumb\">\n",
       "<img alt=\"‘떨리는 순간’ 2분 11초 54의 기록으로 준결승 진출을 확정 짓는 김서영! [KBS]\" data-src=\"https://s.pstatic.net/dthumb.phinf/?src=%22https%3A%2F%2Fsports-phinf.pstatic.net%2F%2F20210726_214%2F1627298510246H4ibg_JPEG%2F60fe9573b284815c38ae0a03_edit_1_1627297360990.jpg%22&amp;type=nf464_260\" height=\"130\" width=\"232\"/>\n",
       "<span class=\"thumb_dim\"></span>\n",
       "<span class=\"thumb_bd\"></span>\n",
       "<i class=\"pm_ico_play\"><span class=\"blind\">재생</span></i>\n",
       "<span class=\"theme_runtime\"><span class=\"runtime_bg\">재생시간</span><em class=\"time\">04:19</em></span>\n",
       "</div>\n",
       "<div class=\"media_info\">\n",
       "<div class=\"info_box\">\n",
       "<em class=\"theme_category\">주요장면</em>\n",
       "<strong class=\"title\">‘떨리는 순간’ 2분 11초 54의 기록으로 준결승 진출을 확정 짓는 김서영! [KBS]</strong>\n",
       "<div class=\"source_wrap\">\n",
       "<span class=\"date\">어제</span>\n",
       "<span class=\"source\"><span class=\"source_inner\">수영 (도쿄올림픽)</span></span>\n",
       "</div>\n",
       "</div>\n",
       "</div>\n",
       "</a>\n",
       "<a class=\"media_area\" data-clk=\"tcc_spo.list5cont9\" data-da-position=\"true\" data-gdid=\"PC-THEME-SPORTS-NEWS9-4[materials][8]\" href=\"https://sports.news.naver.com/video.nhn?id=827893\" target=\"_blank\">\n",
       "<div class=\"media_thumb\">\n",
       "<img alt=\"‘준결승 진출’ 김우진-김제덕-오진혁 8강 하이라이트 [SBS]\" data-src=\"https://s.pstatic.net/dthumb.phinf/?src=%22https%3A%2F%2Fsports-phinf.pstatic.net%2F%2F20210726_231%2F1627278695517sXdXD_JPEG%2FD9E1627277691205-1280-0.jpg%22&amp;type=nf464_260\" height=\"130\" width=\"232\"/>\n",
       "<span class=\"thumb_dim\"></span>\n",
       "<span class=\"thumb_bd\"></span>\n",
       "<i class=\"pm_ico_play\"><span class=\"blind\">재생</span></i>\n",
       "<span class=\"theme_runtime\"><span class=\"runtime_bg\">재생시간</span><em class=\"time\">05:51</em></span>\n",
       "</div>\n",
       "<div class=\"media_info\">\n",
       "<div class=\"info_box\">\n",
       "<em class=\"theme_category\">하이라이트</em>\n",
       "<strong class=\"title\">‘준결승 진출’ 김우진-김제덕-오진혁 8강 하이라이트 [SBS]</strong>\n",
       "<div class=\"source_wrap\">\n",
       "<span class=\"date\">어제</span>\n",
       "<span class=\"source\"><span class=\"source_inner\">양궁 (도쿄올림픽)</span></span>\n",
       "</div>\n",
       "</div>\n",
       "</div>\n",
       "</a>\n",
       "</div>\n",
       "</div>\n",
       "</div>\n",
       "<div class=\"group_theme\" data-block-code=\"PC-THEME-SPORTS-NEWS9-5\" data-block-id=\"5da680b2d296603fab539f17\" data-block-type=\"MATERIALS\" data-page=\"3\" data-template-code=\"3X3\" style=\"display:none\">\n",
       "<div class=\"media_view_wrap type_column\">\n",
       "<div class=\"media_view\">\n",
       "<a class=\"media_area\" data-clk=\"tcc_spo.list6cont1\" data-da-position=\"true\" data-gdid=\"PC-THEME-SPORTS-NEWS9-5[materials][0]\" href=\"https://sports.news.naver.com/video.nhn?id=827996\" target=\"_blank\">\n",
       "<div class=\"media_thumb\">\n",
       "<img alt=\"‘결승 진출’ 김우진-김제덕-오진혁 준결승 하이라이트 [SBS]\" data-src=\"https://s.pstatic.net/dthumb.phinf/?src=%22https%3A%2F%2Fsports-phinf.pstatic.net%2F%2F20210726_231%2F1627285606617EseQv_JPEG%2FfSh1627284291452-1280-0.jpg%22&amp;type=nf464_260\" height=\"130\" width=\"232\"/>\n",
       "<span class=\"thumb_dim\"></span>\n",
       "<span class=\"thumb_bd\"></span>\n",
       "<i class=\"pm_ico_play\"><span class=\"blind\">재생</span></i>\n",
       "<span class=\"theme_runtime\"><span class=\"runtime_bg\">재생시간</span><em class=\"time\">09:07</em></span>\n",
       "</div>\n",
       "<div class=\"media_info\">\n",
       "<div class=\"info_box\">\n",
       "<em class=\"theme_category\">하이라이트</em>\n",
       "<strong class=\"title\">‘결승 진출’ 김우진-김제덕-오진혁 준결승 하이라이트 [SBS]</strong>\n",
       "<div class=\"source_wrap\">\n",
       "<span class=\"date\">어제</span>\n",
       "<span class=\"source\"><span class=\"source_inner\">양궁 (도쿄올림픽)</span></span>\n",
       "</div>\n",
       "</div>\n",
       "</div>\n",
       "</a>\n",
       "<a class=\"media_area\" data-clk=\"tcc_spo.list6cont2\" data-da-position=\"true\" data-gdid=\"PC-THEME-SPORTS-NEWS9-5[materials][1]\" href=\"https://sports.news.naver.com/video.nhn?id=827842\" target=\"_blank\">\n",
       "<div class=\"media_thumb\">\n",
       "<img alt=\"'리우 금메달리스트를 매칩니다' 16강 진출하는 안창림 [-73kg 32강] [SBS]\" data-src=\"https://s.pstatic.net/dthumb.phinf/?src=%22https%3A%2F%2Fsports-phinf.pstatic.net%2F%2F20210726_53%2F1627272698281suhpB_JPEG%2FujW1627271765193-1280-0.jpg%22&amp;type=nf464_260\" height=\"130\" width=\"232\"/>\n",
       "<span class=\"thumb_dim\"></span>\n",
       "<span class=\"thumb_bd\"></span>\n",
       "<i class=\"pm_ico_play\"><span class=\"blind\">재생</span></i>\n",
       "<span class=\"theme_runtime\"><span class=\"runtime_bg\">재생시간</span><em class=\"time\">01:52</em></span>\n",
       "</div>\n",
       "<div class=\"media_info\">\n",
       "<div class=\"info_box\">\n",
       "<em class=\"theme_category\">주요장면</em>\n",
       "<strong class=\"title\">'리우 금메달리스트를 매칩니다' 16강 진출하는 안창림 [-73kg 32강] [SBS]</strong>\n",
       "<div class=\"source_wrap\">\n",
       "<span class=\"date\">어제</span>\n",
       "<span class=\"source\"><span class=\"source_inner\">유도 (도쿄올림픽)</span></span>\n",
       "</div>\n",
       "</div>\n",
       "</div>\n",
       "</a>\n",
       "<a class=\"media_area\" data-clk=\"tcc_spo.list6cont3\" data-da-position=\"true\" data-gdid=\"PC-THEME-SPORTS-NEWS9-5[materials][2]\" href=\"https://sports.news.naver.com/video.nhn?id=827931\" target=\"_blank\">\n",
       "<div class=\"media_thumb\">\n",
       "<img alt=\"다이빙 첫 생방송 중계현장!! 우하람, 김영남의 완벽한 다이빙 [KBS]\" data-src=\"https://s.pstatic.net/dthumb.phinf/?src=%22https%3A%2F%2Fsports-phinf.pstatic.net%2F%2F20210726_74%2F162728806700795wxg_JPEG%2F60fe523c2f29ea6d6ba6444d_upload_1627287618143.jpeg%22&amp;type=nf464_260\" height=\"130\" width=\"232\"/>\n",
       "<span class=\"thumb_dim\"></span>\n",
       "<span class=\"thumb_bd\"></span>\n",
       "<i class=\"pm_ico_play\"><span class=\"blind\">재생</span></i>\n",
       "<span class=\"theme_runtime\"><span class=\"runtime_bg\">재생시간</span><em class=\"time\">01:05</em></span>\n",
       "</div>\n",
       "<div class=\"media_info\">\n",
       "<div class=\"info_box\">\n",
       "<em class=\"theme_category\">주요장면</em>\n",
       "<strong class=\"title\">다이빙 첫 생방송 중계현장!! 우하람, 김영남의 완벽한 다이빙 [KBS]</strong>\n",
       "<div class=\"source_wrap\">\n",
       "<span class=\"date\">어제</span>\n",
       "<span class=\"source\"><span class=\"source_inner\">수영 (도쿄올림픽)</span></span>\n",
       "</div>\n",
       "</div>\n",
       "</div>\n",
       "</a>\n",
       "<a class=\"media_area\" data-clk=\"tcc_spo.list6cont4\" data-da-position=\"true\" data-gdid=\"PC-THEME-SPORTS-NEWS9-5[materials][3]\" href=\"https://sports.news.naver.com/video.nhn?id=828044\" target=\"_blank\">\n",
       "<div class=\"media_thumb\">\n",
       "<img alt=\"양궁 남자 단체 2연패 달성의 순간! [MBC]\" data-src=\"https://s.pstatic.net/dthumb.phinf/?src=%22https%3A%2F%2Fsports-phinf.pstatic.net%2F%2F20210726_35%2F1627288601590U2Chz_JPEG%2Fclip_20210726172117_25.jpg%22&amp;type=nf464_260\" height=\"130\" width=\"232\"/>\n",
       "<span class=\"thumb_dim\"></span>\n",
       "<span class=\"thumb_bd\"></span>\n",
       "<i class=\"pm_ico_play\"><span class=\"blind\">재생</span></i>\n",
       "<span class=\"theme_runtime\"><span class=\"runtime_bg\">재생시간</span><em class=\"time\">02:57</em></span>\n",
       "</div>\n",
       "<div class=\"media_info\">\n",
       "<div class=\"info_box\">\n",
       "<em class=\"theme_category\">주요장면</em>\n",
       "<strong class=\"title\">양궁 남자 단체 2연패 달성의 순간! [MBC]</strong>\n",
       "<div class=\"source_wrap\">\n",
       "<span class=\"date\">어제</span>\n",
       "<span class=\"source\"><span class=\"source_inner\">양궁 (도쿄올림픽)</span></span>\n",
       "</div>\n",
       "</div>\n",
       "</div>\n",
       "</a>\n",
       "<a class=\"media_area\" data-clk=\"tcc_spo.list6cont5\" data-da-position=\"true\" data-gdid=\"PC-THEME-SPORTS-NEWS9-5[materials][4]\" href=\"https://sports.news.naver.com/video.nhn?id=827960\" target=\"_blank\">\n",
       "<div class=\"media_thumb\">\n",
       "<img alt=\"만만치 않은 일본, 슛오프로 향하는 경기 [단체 준결] [SBS]\" data-src=\"https://s.pstatic.net/dthumb.phinf/?src=%22https%3A%2F%2Fsports-phinf.pstatic.net%2F%2F20210726_279%2F1627282661499wWmSh_JPEG%2F97B1627282133085-1280-0.jpg%22&amp;type=nf464_260\" height=\"130\" width=\"232\"/>\n",
       "<span class=\"thumb_dim\"></span>\n",
       "<span class=\"thumb_bd\"></span>\n",
       "<i class=\"pm_ico_play\"><span class=\"blind\">재생</span></i>\n",
       "<span class=\"theme_runtime\"><span class=\"runtime_bg\">재생시간</span><em class=\"time\">01:56</em></span>\n",
       "</div>\n",
       "<div class=\"media_info\">\n",
       "<div class=\"info_box\">\n",
       "<em class=\"theme_category\">주요장면</em>\n",
       "<strong class=\"title\">만만치 않은 일본, 슛오프로 향하는 경기 [단체 준결] [SBS]</strong>\n",
       "<div class=\"source_wrap\">\n",
       "<span class=\"date\">어제</span>\n",
       "<span class=\"source\"><span class=\"source_inner\">양궁 (도쿄올림픽)</span></span>\n",
       "</div>\n",
       "</div>\n",
       "</div>\n",
       "</a>\n",
       "<a class=\"media_area\" data-clk=\"tcc_spo.list6cont6\" data-da-position=\"true\" data-gdid=\"PC-THEME-SPORTS-NEWS9-5[materials][5]\" href=\"https://sports.news.naver.com/video.nhn?id=828021\" target=\"_blank\">\n",
       "<div class=\"media_thumb\">\n",
       "<img alt=\"‘ALL 10’ 60점 만점! 승기를 잡는 김우진-김제덕-오진혁 [단체 결승] [SBS]\" data-src=\"https://s.pstatic.net/dthumb.phinf/?src=%22https%3A%2F%2Fsports-phinf.pstatic.net%2F%2F20210726_81%2F1627288903196d0qDU_JPEG%2FvL91627288285892-1280-0.jpg%22&amp;type=nf464_260\" height=\"130\" width=\"232\"/>\n",
       "<span class=\"thumb_dim\"></span>\n",
       "<span class=\"thumb_bd\"></span>\n",
       "<i class=\"pm_ico_play\"><span class=\"blind\">재생</span></i>\n",
       "<span class=\"theme_runtime\"><span class=\"runtime_bg\">재생시간</span><em class=\"time\">04:19</em></span>\n",
       "</div>\n",
       "<div class=\"media_info\">\n",
       "<div class=\"info_box\">\n",
       "<em class=\"theme_category\">주요장면</em>\n",
       "<strong class=\"title\">‘ALL 10’ 60점 만점! 승기를 잡는 김우진-김제덕-오진혁 [단체 결승] [SBS]</strong>\n",
       "<div class=\"source_wrap\">\n",
       "<span class=\"date\">어제</span>\n",
       "<span class=\"source\"><span class=\"source_inner\">양궁 (도쿄올림픽)</span></span>\n",
       "</div>\n",
       "</div>\n",
       "</div>\n",
       "</a>\n",
       "<a class=\"media_area\" data-clk=\"tcc_spo.list6cont7\" data-da-position=\"true\" data-gdid=\"PC-THEME-SPORTS-NEWS9-5[materials][6]\" href=\"https://sports.news.naver.com/video.nhn?id=827889\" target=\"_blank\">\n",
       "<div class=\"media_thumb\">\n",
       "<img alt=\"‘번개같은 기술’ 더티플레이 이겨낸 안창림 8강 진출 [-73kg 16강] [SBS]\" data-src=\"https://s.pstatic.net/dthumb.phinf/?src=%22https%3A%2F%2Fsports-phinf.pstatic.net%2F%2F20210726_202%2F1627279598154l9tHN_JPEG%2FnC81627279002138-1280-0.jpg%22&amp;type=nf464_260\" height=\"130\" width=\"232\"/>\n",
       "<span class=\"thumb_dim\"></span>\n",
       "<span class=\"thumb_bd\"></span>\n",
       "<i class=\"pm_ico_play\"><span class=\"blind\">재생</span></i>\n",
       "<span class=\"theme_runtime\"><span class=\"runtime_bg\">재생시간</span><em class=\"time\">02:32</em></span>\n",
       "</div>\n",
       "<div class=\"media_info\">\n",
       "<div class=\"info_box\">\n",
       "<em class=\"theme_category\">주요장면</em>\n",
       "<strong class=\"title\">‘번개같은 기술’ 더티플레이 이겨낸 안창림 8강 진출 [-73kg 16강] [SBS]</strong>\n",
       "<div class=\"source_wrap\">\n",
       "<span class=\"date\">어제</span>\n",
       "<span class=\"source\"><span class=\"source_inner\">유도 (도쿄올림픽)</span></span>\n",
       "</div>\n",
       "</div>\n",
       "</div>\n",
       "</a>\n",
       "<a class=\"media_area\" data-clk=\"tcc_spo.list6cont8\" data-da-position=\"true\" data-gdid=\"PC-THEME-SPORTS-NEWS9-5[materials][7]\" href=\"https://sports.news.naver.com/video.nhn?id=828040\" target=\"_blank\">\n",
       "<div class=\"media_thumb\">\n",
       "<img alt=\"‘남자 단체전 2연패’ 김우진-김제덕-오진혁 결승 하이라이트 [단체 결승] [SBS]\" data-src=\"https://s.pstatic.net/dthumb.phinf/?src=%22https%3A%2F%2Fsports-phinf.pstatic.net%2F%2F20210726_10%2F1627288904242Asu4x_JPEG%2F4AM1627287205727-1280-0.jpg%22&amp;type=nf464_260\" height=\"130\" width=\"232\"/>\n",
       "<span class=\"thumb_dim\"></span>\n",
       "<span class=\"thumb_bd\"></span>\n",
       "<i class=\"pm_ico_play\"><span class=\"blind\">재생</span></i>\n",
       "<span class=\"theme_runtime\"><span class=\"runtime_bg\">재생시간</span><em class=\"time\">03:47</em></span>\n",
       "</div>\n",
       "<div class=\"media_info\">\n",
       "<div class=\"info_box\">\n",
       "<em class=\"theme_category\">하이라이트</em>\n",
       "<strong class=\"title\">‘남자 단체전 2연패’ 김우진-김제덕-오진혁 결승 하이라이트 [단체 결승] [SBS]</strong>\n",
       "<div class=\"source_wrap\">\n",
       "<span class=\"date\">어제</span>\n",
       "<span class=\"source\"><span class=\"source_inner\">양궁 (도쿄올림픽)</span></span>\n",
       "</div>\n",
       "</div>\n",
       "</div>\n",
       "</a>\n",
       "<a class=\"media_area\" data-clk=\"tcc_spo.list6cont9\" data-da-position=\"true\" data-gdid=\"PC-THEME-SPORTS-NEWS9-5[materials][8]\" href=\"https://sports.news.naver.com/video.nhn?id=827976\" target=\"_blank\">\n",
       "<div class=\"media_thumb\">\n",
       "<img alt=\"'준결승 한일전' 막내가 또 일냈다! 슛오프 승부 끝 결승진출 [MBC]\" data-src=\"https://s.pstatic.net/dthumb.phinf/?src=%22https%3A%2F%2Fsports-phinf.pstatic.net%2F%2F20210726_99%2F1627283561119z0at4_JPEG%2Fclip_20210726160536_11.jpg%22&amp;type=nf464_260\" height=\"130\" width=\"232\"/>\n",
       "<span class=\"thumb_dim\"></span>\n",
       "<span class=\"thumb_bd\"></span>\n",
       "<i class=\"pm_ico_play\"><span class=\"blind\">재생</span></i>\n",
       "<span class=\"theme_runtime\"><span class=\"runtime_bg\">재생시간</span><em class=\"time\">01:42</em></span>\n",
       "</div>\n",
       "<div class=\"media_info\">\n",
       "<div class=\"info_box\">\n",
       "<em class=\"theme_category\">주요장면</em>\n",
       "<strong class=\"title\">'준결승 한일전' 막내가 또 일냈다! 슛오프 승부 끝 결승진출 [MBC]</strong>\n",
       "<div class=\"source_wrap\">\n",
       "<span class=\"date\">어제</span>\n",
       "<span class=\"source\"><span class=\"source_inner\">양궁 (도쿄올림픽)</span></span>\n",
       "</div>\n",
       "</div>\n",
       "</div>\n",
       "</a>\n",
       "</div>\n",
       "</div>\n",
       "</div>\n",
       "<div class=\"btn_more_wrap\">\n",
       "<button class=\"btn_more\" data-clk-custom=\"tcc_spo.more\" data-next-page=\"2\" type=\"button\"><i class=\"ico_more\"></i>새로운 글 더보기</button>\n",
       "</div>\n",
       "</div>\n",
       "</div>\n",
       "</div> </div> <div class=\"column_right\" id=\"NM_INT_RIGHT\"> <div class=\"column_fix_wrap\"> <div id=\"da_brand\"></div>\n",
       "<div class=\"sc_login\" id=\"account\">\n",
       "<h2 class=\"blind\">Sign in</h2>\n",
       "<p class=\"login_msg\">Connect with people</p>\n",
       "<a class=\"link_login\" data-clk=\"log_off.login\" href=\"https://nid.naver.com/nidlogin.login?mode=form&amp;url=https%3A%2F%2Fwww.naver.com\"><i class=\"ico_naver\"><span class=\"blind\">NAVER</span></i>Sign in</a>\n",
       "<div class=\"sub_area\">\n",
       "<div class=\"look_box\">\n",
       "<a class=\"link_look\" data-clk=\"log_off.searchid\" href=\"https://nid.naver.com/user/help.nhn?todo=idinquiry\">Forgot Username</a>\n",
       "<a class=\"link_look\" data-clk=\"log_off.searchpass\" href=\"https://nid.naver.com/nidreminder.form\">Password</a>\n",
       "</div>\n",
       "<a class=\"link_join\" data-clk=\"log_off.registration\" href=\"https://nid.naver.com/nidregister.form?url=https%3A%2F%2Fwww.naver.com\">Sign up</a>\n",
       "</div>\n",
       "</div>\n",
       "<div class=\"sc_timesquare\" id=\"timesquare\"> <h2 class=\"blind\">타임스퀘어</h2> <div class=\"card_wrap\">\n",
       "<div class=\"card_nav\">\n",
       "<a class=\"btn_nav btn_prev\" data-clk=\"squ.pre\" href=\"#\" role=\"button\"><span class=\"blind\">이전</span></a>\n",
       "<a class=\"btn_nav btn_next\" data-clk=\"squ.next\" href=\"#\" role=\"button\"><span class=\"blind\">다음</span></a>\n",
       "</div>\n",
       "<div id=\"NM_TS_ROLLING_WRAP\" style=\"height: 100%;\">\n",
       "<div>\n",
       "<a class=\"card_news\" data-clk=\"squ.line2\" href=\"https://news.naver.com/main/home.nhn\"><i class=\"news_badge type_flash\">신문1면</i><span class=\"news\">언론사 헤드라인 보기</span></a>\n",
       "</div>\n",
       "<div>\n",
       "<a class=\"card_news\" data-clk=\"squ.line3\" href=\"https://search.naver.com/search.naver?sm=top_hty&amp;fbm=0&amp;ie=utf8&amp;query=%EC%BD%94%EB%A1%9C%EB%82%9819\"><i class=\"news_badge\">이슈</i><span class=\"news\">코로나바이러스감염증-19 현황</span></a>\n",
       "</div>\n",
       "<div>\n",
       "<a class=\"card_stock\" data-clk=\"squ.kospi\" href=\"https://finance.naver.com/sise/sise_index.nhn?code=KOSPI\">\n",
       "<strong class=\"stock_title\">증시</strong>\n",
       "<div class=\"stock_box\">\n",
       "<em class=\"name\">코스피</em>\n",
       "<strong class=\"current\">3,229.85</strong>\n",
       "<span class=\"rate rate_down\">2.68 -0.08%</span>\n",
       "</div>\n",
       "</a>\n",
       "</div>\n",
       "<div>\n",
       "<a class=\"card_stock\" data-clk=\"squ.kosdaq\" href=\"https://finance.naver.com/sise/sise_index.nhn?code=KOSDAQ\">\n",
       "<strong class=\"stock_title\">증시</strong>\n",
       "<div class=\"stock_box\">\n",
       "<em class=\"name\">코스닥</em>\n",
       "<strong class=\"current\">1,044.92</strong>\n",
       "<span class=\"rate rate_down\">1.63 -0.16%</span>\n",
       "</div>\n",
       "</a>\n",
       "</div>\n",
       "<div>\n",
       "<a class=\"card_stock type_exchange\" data-clk=\"squ.usd\" href=\"https://finance.naver.com/marketindex/exchangeDetail.nhn?marketindexCd=FX_USDKRW\">\n",
       "<strong class=\"stock_title\">환율</strong>\n",
       "<div class=\"stock_box\">\n",
       "<em class=\"name\">USD</em>\n",
       "<strong class=\"current\">1,154.60</strong>\n",
       "<span class=\"rate rate_up\">0.60 +0.05%</span>\n",
       "</div>\n",
       "</a>\n",
       "</div>\n",
       "</div>\n",
       "</div> <!-- EMPTY --> </div> <div id=\"veta_branding\"> <iframe data-iframe-src=\"https://siape.veta.naver.com/fxshow?su=SU10601&amp;nrefreshx=0\" data-veta-preview=\"main_rolling\" frameborder=\"0\" height=\"200\" id=\"da_iframe_rolling\" marginheight=\"0\" marginwidth=\"0\" name=\"da_iframe_rolling\" scrolling=\"no\" title=\"광고\" width=\"350\"></iframe> <span class=\"veta_bd_t\"></span> <span class=\"veta_bd_b\"></span> <span class=\"veta_bd_l\"></span> <span class=\"veta_bd_r\"></span> </div> <div class=\"sc_shopcast\" id=\"shopcast\"> <iframe data-iframe-src=\"https://castbox.shopping.naver.com/shoppingboxnew/main.nhn\" frameborder=\"0\" height=\"1539\" id=\"shopcast_iframe\" marginheight=\"0\" marginwidth=\"0\" scrolling=\"no\" title=\"쇼핑캐스트\" width=\"350\"></iframe> </div> </div> </div> <a class=\"content_top\" href=\"#wrap\" id=\"NM_scroll_top_btn\"><span class=\"blind\">TOP</span></a> <button aria-pressed=\"false\" class=\"btn_theme\" id=\"NM_darkmode_btn\" role=\"button\" type=\"button\"> <span class=\"blind\">라이트 모드로 보기</span> </button> </div> <div id=\"footer\" role=\"contentinfo\"> <div class=\"footer_inner\"> <div class=\"banner_area\"> <div class=\"da_box_wrap\"> <div id=\"da_public_left\"> <iframe data-iframe-src=\"https://siape.veta.naver.com/fxshow?su=SU10641&amp;nrefreshx=0\" frameborder=\"0\" height=\"86\" id=\"da_iframe_bottom_left\" scrolling=\"no\" title=\"광고\" width=\"350\"></iframe> </div> <div id=\"da_public_right\"> <iframe data-iframe-src=\"https://siape.veta.naver.com/fxshow?su=SU10642&amp;nrefreshx=0\" frameborder=\"0\" height=\"86\" id=\"da_iframe_bottom_right\" scrolling=\"no\" title=\"광고\" width=\"350\"></iframe> </div> <div id=\"veta_time2\"> <iframe data-iframe-src=\"https://siape.veta.naver.com/fxshow?su=SU10640&amp;nrefreshx=0\" data-veta-preview=\"main_below\" frameborder=\"0\" height=\"86\" id=\"da_iframe_below\" name=\"da_iframe_below\" scrolling=\"no\" title=\"광고\" width=\"350\"> </iframe> </div> </div> </div> <div class=\"notice_area\" data-clk-prefix=\"ntc\"> <div class=\"notice_box\"> <h3 class=\"title\"><a href=\"https://www.naver.com/NOTICE\">공지사항</a> </h3> <!-- EMPTY --> </div> <a class=\"link_all\" data-clk=\"svcmap\" href=\"more.html\">서비스 전체보기</a> </div> <div class=\"aside_area\"> <div class=\"partner_box_wrap\"> <div class=\"partner_box\" data-clk-prefix=\"crt\"> <h3 class=\"title\">Creators</h3> <a class=\"link_partner\" data-clk=\"creator\" href=\"https://www.navercorp.com/service/creators\">크리에이터</a> <a class=\"link_partner\" data-clk=\"smbusiness\" href=\"https://www.navercorp.com/service/business\">스몰비즈니스</a> </div> <div class=\"partner_box\" data-clk-prefix=\"crt\"> <h3 class=\"title\">Partners</h3> <a class=\"link_partner\" data-clk=\"sme\" href=\"https://campaign.naver.com/smefullcare/online/\">SME 풀케어 시스템</a> <a class=\"link_partner\" data-clk=\"service\" href=\"https://business.naver.com/service.html\">비즈니스 · 광고</a> <a class=\"link_partner\" data-clk=\"store\" href=\"https://sell.storefarm.naver.com/#/home/about\">스토어 개설</a> <a class=\"link_partner\" data-clk=\"place\" href=\"https://smartplace.naver.com\">지역업체 등록</a> <a class=\"link_partner\" data-clk=\"expert\" href=\"https://expert.naver.com/expert/introduction?tab=guide#join\">엑스퍼트 등록</a> </div> <div class=\"partner_box\" data-clk-prefix=\"crt\"> <h3 class=\"title\">Developers</h3> <a class=\"link_partner\" data-clk=\"center\" href=\"https://developers.naver.com\">네이버 개발자 센터</a> <a class=\"link_partner\" data-clk=\"openapi\" href=\"https://developers.naver.com/docs/common/openapiguide/#/apilist.md\">오픈 API</a> <a class=\"link_partner\" data-clk=\"opensource\" href=\"https://naver.github.io\">오픈소스</a> <a class=\"link_partner\" data-clk=\"d2\" href=\"https://d2.naver.com\">네이버 D2</a> <a class=\"link_partner\" data-clk=\"naverD2SF\" href=\"http://d2startup.com\">네이버 D2SF</a> <a class=\"link_partner\" data-clk=\"labs\" href=\"https://www.naverlabs.com\">네이버 랩스</a> </div> </div> <div class=\"service_box_wrap\"> <div class=\"service_box\" data-clk-prefix=\"wbd\"> <a class=\"service_logo\" data-clk=\"bt\" href=\"http://whale.naver.com/\"> <img alt=\"웨일\" height=\"48\" src=\"data:image/png;base64,iVBORw0KGgoAAAANSUhEUgAAAGAAAABgCAMAAADVRocKAAAC91BMVEUAAACE1dAbf6jE1Nq/z9e82drQ3OG7ytOzws+6x9QNs7MeLpQSx60QrLAfL50gMakTxKyzwc8fMacSr6yywc8fMKIdLYzJ1d4KrrW6ydMJrrUbr6QgMKW2xNEcr6W7ydUfL5cIr7XBztgMtbMeL50fMaQQzrI0tK4cLIQUvqsVvqofMKLL0eGzxM+4xtIZuKcJr7XCyNt0xsILsLW1w9AdLYZwvL8gMaoeLY6CzMceLYyxz9fI1d0JwLMeLY4KrbXFzeAgMqvN2OEIrLUGsrVIurMfLpAcLIIIsbVWs7MeLpXIzt0UvakgMqwfL5x4wcEJsLYfMagWt6k6qqoil6DV2+UdK4EeMoEfLpOzws4/s7YgMacXvqoC27QcK38B17TE1dobKW0bKnID0bTP3OACzrQcKngcLIMbKXAD07QeLYfi6uzY4+YfLpDN2+DK2d0cK3zU4eTS3+IFzLQeL5ccKnXk7O7G19wgMJ3R3uHa5ejL2t7c5unI2Nzg6esBxrMfMKPp7vEeLYrr8fMNr7X2+PkeLYzt8vQE2LTx9fYfLpPz9/gHyLMOsrUHr7UCybQLs7YKu7UIuLUFvLQGwbUIxbQGw7QcKnTZ5OfV4uUJv67e5+rd5+rl7e8Ju6z3+vvm7vDp8PHs8vPw9fbv9PUgMaj6/PwgMqwJs6kNw7AFubULtrUGtbUJvrQEv7QAwq8MrqYKuKsKtqn+/v4Osaf7/P0K1rMHq6UeqKQNqKQhNoIgSH0Vvqoie5MhWIdV3cAcsaYhhZoglJkdLXnJ7+ia5tU61rgp1rceoKIhb4whZYgcM3fj9vJw3sdJx7xtd6sXt6hCT5AvPpAfPYQbKIMcJ34fP3q+8uSy49ux0tWd2NKYzM+A48yE08t6xchdv8FP0b1zfbcSpKIgToEbJ3nE5OG12Nmn19WM5tGKk8ehqMZlxcJJuLwgtLcbvbYc2bUTtaknNpA1Q4bZ7uuzuNuP3M9p0cNfbLUKtq5IVqk8Sp8jZpxaZZrUCA9eAAAAXXRSTlMABAj99BcO6IpfLhj9hPLp5ryyq6ZzXDnd2cuYkHtzbFFOQj0yJv76+ebc29fXx8TCuJuVlIqHgX5gPS0kEvn49/f08O3t6+fj2tLR0MzGeGNfWvbz7sXBpYN4PB4CDkIdAAAFcUlEQVRo3q3TdVwTYRjA8eeI0SKgYnd3d3d362tgO7u7Y4rd3d2K4pwwQkAQJUSxu7vbPzwYg9vufe+eO/neP9vtPr/n7t53gFMobxXPVu719pu4t/LM2a4gBwioeGZP9/0U9TyrFEyHepUSeyW45+wB/8GmXetZskpkdlGbz+w+CyVDThdV+QyT0FSMyFtikiIZMnOggIvnOMWaFwS0LBkkQj/q/mL8UpVDvv2ui6V89XvF+qm1C2rnNx8u6ferq8zfGlcHWdUbD/8PtbPI7p7aC5R49Mn6TFWZ5Z2jzKNPolOVJPtD04HEhLxFh6YH5lsqWHQQ1dVBCjFW2qUJo+8Xq3BAUeputenci27Qo6u9FGpC+8dV6pUODAZDQkKCwdAFRNz+s2wMiYwbQkwi7oWVBCvOHUep9yQkTkfMIsIv+/HygKVigaPoYuMFX+InGEQXJIS4kjRBN/b5JZutAaHcxDhQ3gVD7AWrU0a9TpgPO5OqnMUOciWJA9O8jh+IYwwmAhE39gnMrwFpchByQXCjn/kvCOf1ROil7z4LgnWuVZiQ8UpFh/gTgYs3tlvzFj4AiVbYN7oSoaDL20VaQAou6drE9UpcCCUWruyeL+ZbM3UL8Yw+YrHD4n2ozgdY9X3n05g3UnHCC6R0Xvv9pfaj/ImFoN3zqbQcJOlJkugpofWfafnoSGIp4rIvg5N5iXn+0aIS7vUQ/zBfFtMyFyPJogajXOpHrIQvYprNJf0JiEkAJu8TQqwF7VnE5mTaQyaX5PvRwUQkbLeEpH1UhqRw9ZHrP3ElInf3SOkEABmJWWhfaVG9iciHywulzNWAjY6kuiSV9wklFOELpeWHAsINZ2T3+d1JcXHrLmkVITcRGMJ8hsDehCZ8rozSkINYCKTmn8QRQn8AuQElwYtYCj4vyieG6gjdy51y6kMZYkUXmmj58kP9CcOHL7PlaKElEdEFR5031wPjCNvd2fKgOKHqF6CP1AeI7j1k+PA/aSfDdsiDjESBgDm8SJIiaCuCsgH6a7xAkuLmBASFA67zzAMuanEDdAoUHvX06dNgncldLQYU763Ex6hLkebPz7TaCfIHtOyt0kMtCpRROyAc1R8GXvy1Q1Qc/htmYNQFtyHqXEH1N2eD9ioH3NyM4gHO/VSJ2IKTC7ixqgZ8m4bjDVBMTb/waFx/IwfgNUCFK1NwHACgvZoBN5EDMgGAzRJWZSyz/3ADkjfwGo1V7PYwnPoc8MovZ2Dll18cjRzgAUnsDy5hYE24NwwpPyRrNJNuOcOSZxtx7MCk2kG6JQzfRyM5Qooix2lmsjxH9qdqIEX5TTRrGR6OQcoEZlwRSp/5BC/GjEYdI+whVfltYgfX0sXgH0CgiKh/fB3D7ck4thoQqHbS2kFGP2YyUi6w0OyUpW1rGG73x3HgwIJ98AGhU0cZ/Rhkf2oNsNLGYsC2YwwvkAMcQaTZ6TQfjzK8QfazcSDCdTiRajXD++cjUOzsgaKG3tz/uZLhHq4/PT9QVTt3NtmB1QwxI3EDnIChzeNzvLMrGd7fmoriCEyVH/P9Qyx3cP2KAJITDq9iuD8SxREkdT/C6j+Yjup3A0nOTQ8zPJiIyds6gaQCDY8wvJk4HcHOGyS1XbqC4f50jNL2IMWmwlKGd3cmItjmknn92VcwvL2F6ZeqKX37bszbv98HwU5mdfNlncfw4FYf3kSpg887aqQ3T1lW/u2dPnLk8/nKLmMoW9nDVjZfyomTzjdl1BtWcAYA+zylpGY4ONYEOc5u2evMs5a1QoHU+9I4ZXKwpcU98tgDDufc1s0re9YGdZYta5A1u5dbvlpgReOdp6JHNgc7fpCtnUO20ply5UfG/wEFXaai/lOVTwAAAABJRU5ErkJggg==\" width=\"48\"/> </a> <div class=\"service_info\"> <strong class=\"title\">웨일 브라우저</strong> <a class=\"dsc\" data-clk=\"bt\" href=\"http://whale.naver.com/\">다운받기</a> </div> </div> <div class=\"service_box\" data-clk-prefix=\"prj\"> <a class=\"service_logo\" data-clk=\"link\" href=\"https://search.naver.com/search.naver?where=nexearch&amp;sm=top_hty&amp;fbm=1&amp;ie=utf8&amp;query=%ED%94%84%EB%A1%9C%EC%A0%9D%ED%8A%B8%EA%BD%83\"> <img alt=\"꽃\" height=\"50\" src=\"data:image/png;base64,iVBORw0KGgoAAAANSUhEUgAAAF4AAABkCAMAAAA47XeXAAAAgVBMVEUAAADN5PdGm99Gm99Gm99Gm99Gm95Gm99Gm99Gm99Gm99Gm99Gm99Gm99Gm99Gm99Gm99Gm99Gm99Gm99Gm99Gm99Gm99Gmt9Gm99Gm99Gm99Gm95Gm99Gm99Gm95Gm99Hm99Gm99Gm9/////3+/5cp+LO5PfR5/fO5fdcp+P7/f/zv5GhAAAAInRSTlMA/v7vH9u5qJNgGwb6l8a9uqF9WFUyLxYMCtbVmLCwe4OCj8gzEgAAA0NJREFUaN7NmmFz4iAQhkkwMTHGWrWtWvWuq8mF+/8/8Ey2nb0OhSwQZnw+MHQ7pbjAy2s2gsuiLPJMLpcyy4tyISZltnmHbxw3MzEVr/MUNNL5q5iCt2ccXCN9fhPB7CQYkTsRRlWDlboSAexzGCHfC28OKxhldfDOzBMwePLNTw0sauHFFphshQcLCUwkaQRfXYBPSkrEUBdv3jezcXXhw1ciUhc+fCUidQlH7qzqEk5d2dQlnHxvU5dwVgdXdSGclaiGyamt6hLO1qIu4ZASzcFE092SBprk1jagulvXAAw/qb5N7m176xQYmOPoLymYaK/X65/PNhlagE6LGUhfRM8FjNzuf/73//bHmInzoJEpjMyeWpp9RzGz/PT6+QvMNO2Q+67PPeYZY5h7jDVg5OM+/BGikd13JfDAj/Ad1WLMyEyUwKPT00ypN1GKAljQJtFiFgqRe86eYhbWIvPPPR5d+9pKiIgUwKNJdHXBvW9jyRye1EWLWYfnJcd141Byspizz7gbUyWDuqiW0v15D9g3ZgF86JwyKUgUHJaATUmS5rsEdkkTZLjZS8Alw+skFr8Nl6H6uosShaKOp3Zo+/jgFTDe+wcSfv0yFGfQaLX7tDO0reXOPRuMCG4Q11Y3IiYblWgzS7R+h31qdRtlGB7zikeUckz+AB3a8FuMqD7Cd2nhUHLOEIkLubQIkEuLxIdwEwUy3HyXxsbgPMJcGuGox+TSIugxuTQ+KHIaAS5N92eIIuMT5tJoPfHy5q9yKoXLelLuKRri0mjMQdhwTPw6Sv8pzKXhFyhNilEwkSCXRrnAnaPnJdyl0UrqXircpeHVglnv+62K4NJo3lFcGmWd79KO7OQoXAE8XNO6tIQGxj7fpfHTwk8RubQLWEGvgTNGKzj01fixunCMCCYcvSSlaFwUyKVx86J3bczpUR3zimq1LqdosAUbJF54ar+uk5Gju436mPTk8ZAXFdO93HRYTesUVgf3B+y0XdxLfdVputmfKp/iBtNjyl3c0kzUwtJIWewIPvAL9LOyWLsV9WAps3VRzh6hJBm3oOqsRKfHLGYzS/GP+iLBuBKdqkd+iWPkFZTHf4Em4us/uhI5qss/6zK5u8+AXpwAAAAASUVORK5CYII=\" width=\"47\"/> </a> <div class=\"service_info\"> <strong class=\"title\">프로젝트 꽃</strong> <a class=\"dsc\" data-clk=\"link\" href=\"https://search.naver.com/search.naver?where=nexearch&amp;sm=top_hty&amp;fbm=1&amp;ie=utf8&amp;query=%ED%94%84%EB%A1%9C%EC%A0%9D%ED%8A%B8%EA%BD%83\">바로가기</a> </div> </div> </div> </div> <div class=\"corp_area\" data-clk-prefix=\"plc\"> <h3 class=\"blind\">네이버 정책 및 약관</h3> <ul class=\"list_corp\"> <li class=\"corp_item\"><a data-clk=\"intronhn\" href=\"https://www.navercorp.com\">회사소개</a></li> <li class=\"corp_item\"><a data-clk=\"recruit\" href=\"https://recruit.navercorp.com/naver/recruitMain\">인재채용</a></li> <li class=\"corp_item\"><a data-clk=\"contact\" href=\"https://www.navercorp.com/naver/proposalGuide\">제휴제안</a></li> <li class=\"corp_item\"><a data-clk=\"service\" href=\"/policy/service.html\">이용약관</a></li> <li class=\"corp_item\"><a data-clk=\"privacy\" href=\"/policy/privacy.html\"><strong>개인정보처리방침</strong></a></li> <li class=\"corp_item\"><a data-clk=\"youth\" href=\"/policy/youthpolicy.html\">청소년보호정책</a></li> <li class=\"corp_item\"><a data-clk=\"policy\" href=\"/policy/spamcheck.html\">네이버 정책</a></li> <li class=\"corp_item\"><a data-clk=\"helpcenter\" href=\"https://help.naver.com/\">고객센터</a></li> </ul> <address class=\"addr\"><a data-clk=\"nhn\" href=\"https://www.navercorp.com\" target=\"_blank\">ⓒ NAVER Corp.</a></address> </div> </div> </div> </div> <div id=\"adscript\" style=\"display:none\"></div> </body> </html>"
      ]
     },
     "execution_count": 10,
     "metadata": {},
     "output_type": "execute_result"
    }
   ],
   "source": [
    "bs"
   ]
  },
  {
   "cell_type": "code",
   "execution_count": 11,
   "id": "ffdd7bc4",
   "metadata": {},
   "outputs": [
    {
     "data": {
      "text/plain": [
       "<a class=\"logo_naver\" data-clk=\"top.logo\" href=\"/\"><span class=\"blind\">네이버</span></a>"
      ]
     },
     "execution_count": 11,
     "metadata": {},
     "output_type": "execute_result"
    }
   ],
   "source": [
    "bs.find('a', 'logo_naver')"
   ]
  },
  {
   "cell_type": "markdown",
   "id": "06e992f7",
   "metadata": {},
   "source": [
    "### 밑처럼 하면 py파일이 생성됨"
   ]
  },
  {
   "cell_type": "code",
   "execution_count": 13,
   "id": "f0b38125",
   "metadata": {},
   "outputs": [
    {
     "name": "stdout",
     "output_type": "stream",
     "text": [
      "Writing helloworld.py\n"
     ]
    }
   ],
   "source": [
    "%%writefile helloworld.py\n",
    "print(\"Hello World\")"
   ]
  },
  {
   "cell_type": "code",
   "execution_count": 14,
   "id": "e60f401a",
   "metadata": {},
   "outputs": [
    {
     "name": "stdout",
     "output_type": "stream",
     "text": [
      " C 드라이브의 볼륨에는 이름이 없습니다.\n",
      " 볼륨 일련 번호: 3ADB-435C\n",
      "\n",
      " C:\\Users\\susu\\Desktop\\0728 디렉터리\n",
      "\n",
      "2021-07-28  오전 09:34    <DIR>          .\n",
      "2021-07-28  오전 09:34    <DIR>          ..\n",
      "2021-07-28  오전 09:13    <DIR>          .ipynb_checkpoints\n",
      "2021-07-28  오전 09:34                22 helloworld.py\n",
      "2021-07-28  오전 09:33           424,820 Untitled.ipynb\n",
      "               2개 파일             424,842 바이트\n",
      "               3개 디렉터리  146,565,959,680 바이트 남음\n"
     ]
    }
   ],
   "source": [
    "%ls"
   ]
  },
  {
   "cell_type": "code",
   "execution_count": 15,
   "id": "c744c293",
   "metadata": {},
   "outputs": [
    {
     "name": "stderr",
     "output_type": "stream",
     "text": [
      "'ls'은(는) 내부 또는 외부 명령, 실행할 수 있는 프로그램, 또는\n",
      "배치 파일이 아닙니다.\n"
     ]
    }
   ],
   "source": [
    "!ls"
   ]
  },
  {
   "cell_type": "code",
   "execution_count": 16,
   "id": "eb58d241",
   "metadata": {},
   "outputs": [
    {
     "name": "stdout",
     "output_type": "stream",
     "text": [
      "Hello World\n"
     ]
    }
   ],
   "source": [
    "!python helloworld.py"
   ]
  },
  {
   "cell_type": "markdown",
   "id": "0716efe3",
   "metadata": {},
   "source": []
  },
  {
   "cell_type": "code",
   "execution_count": 17,
   "id": "37f24412",
   "metadata": {},
   "outputs": [
    {
     "name": "stdout",
     "output_type": "stream",
     "text": [
      "Hello World\n"
     ]
    }
   ],
   "source": [
    "%run helloworld.py"
   ]
  },
  {
   "cell_type": "markdown",
   "id": "5dea0221",
   "metadata": {},
   "source": [
    "▲py파일 출력"
   ]
  },
  {
   "cell_type": "code",
   "execution_count": 18,
   "id": "50d905f6",
   "metadata": {},
   "outputs": [],
   "source": [
    "import keyword"
   ]
  },
  {
   "cell_type": "code",
   "execution_count": 19,
   "id": "bc4ac11a",
   "metadata": {},
   "outputs": [
    {
     "data": {
      "text/plain": [
       "['__all__',\n",
       " '__builtins__',\n",
       " '__cached__',\n",
       " '__doc__',\n",
       " '__file__',\n",
       " '__loader__',\n",
       " '__name__',\n",
       " '__package__',\n",
       " '__spec__',\n",
       " 'iskeyword',\n",
       " 'kwlist']"
      ]
     },
     "execution_count": 19,
     "metadata": {},
     "output_type": "execute_result"
    }
   ],
   "source": [
    "dir(keyword)"
   ]
  },
  {
   "cell_type": "code",
   "execution_count": 20,
   "id": "669f9f83",
   "metadata": {},
   "outputs": [
    {
     "data": {
      "text/plain": [
       "['False',\n",
       " 'None',\n",
       " 'True',\n",
       " 'and',\n",
       " 'as',\n",
       " 'assert',\n",
       " 'async',\n",
       " 'await',\n",
       " 'break',\n",
       " 'class',\n",
       " 'continue',\n",
       " 'def',\n",
       " 'del',\n",
       " 'elif',\n",
       " 'else',\n",
       " 'except',\n",
       " 'finally',\n",
       " 'for',\n",
       " 'from',\n",
       " 'global',\n",
       " 'if',\n",
       " 'import',\n",
       " 'in',\n",
       " 'is',\n",
       " 'lambda',\n",
       " 'nonlocal',\n",
       " 'not',\n",
       " 'or',\n",
       " 'pass',\n",
       " 'raise',\n",
       " 'return',\n",
       " 'try',\n",
       " 'while',\n",
       " 'with',\n",
       " 'yield']"
      ]
     },
     "execution_count": 20,
     "metadata": {},
     "output_type": "execute_result"
    }
   ],
   "source": [
    "keyword.kwlist"
   ]
  },
  {
   "cell_type": "code",
   "execution_count": 21,
   "id": "35b3d17a",
   "metadata": {},
   "outputs": [
    {
     "name": "stdout",
     "output_type": "stream",
     "text": [
      "['False', 'None', 'True', 'and', 'as', 'assert', 'async', 'await', 'break', 'class', 'continue', 'def', 'del', 'elif', 'else', 'except', 'finally', 'for', 'from', 'global', 'if', 'import', 'in', 'is', 'lambda', 'nonlocal', 'not', 'or', 'pass', 'raise', 'return', 'try', 'while', 'with', 'yield']\n"
     ]
    }
   ],
   "source": [
    "print(keyword.kwlist)"
   ]
  },
  {
   "cell_type": "markdown",
   "id": "3c5a9a1e",
   "metadata": {},
   "source": [
    "▲이 예약어들은 변수로 사용 불가(사용하고싶으면 \"False_어쩌구\" 이런식으로 언더바 이용"
   ]
  },
  {
   "cell_type": "code",
   "execution_count": 22,
   "id": "28fa5792",
   "metadata": {},
   "outputs": [
    {
     "data": {
      "text/plain": [
       "35"
      ]
     },
     "execution_count": 22,
     "metadata": {},
     "output_type": "execute_result"
    }
   ],
   "source": [
    "len(keyword.kwlist)"
   ]
  },
  {
   "cell_type": "code",
   "execution_count": 23,
   "id": "ca14d19c",
   "metadata": {},
   "outputs": [
    {
     "ename": "SyntaxError",
     "evalue": "invalid syntax (<ipython-input-23-3abe269c51ad>, line 1)",
     "output_type": "error",
     "traceback": [
      "\u001b[1;36m  File \u001b[1;32m\"<ipython-input-23-3abe269c51ad>\"\u001b[1;36m, line \u001b[1;32m1\u001b[0m\n\u001b[1;33m    if = 100\u001b[0m\n\u001b[1;37m       ^\u001b[0m\n\u001b[1;31mSyntaxError\u001b[0m\u001b[1;31m:\u001b[0m invalid syntax\n"
     ]
    }
   ],
   "source": [
    "if = 100"
   ]
  },
  {
   "cell_type": "markdown",
   "id": "b4b371af",
   "metadata": {},
   "source": [
    "예약어 사용하면 이렇게 에러남"
   ]
  },
  {
   "cell_type": "markdown",
   "id": "1ae8f457",
   "metadata": {},
   "source": [
    "마크다운 만들때 이거 클릭해서 파랑으로 만들고 m눌러도 된다  \n",
    "- 마크 다운에서 띄어쓰기 할때 스페이스바 두칸이나 html처럼 br쓰면 된다  \n",
    "+ 플러스\n",
    ">이거 html이랑 비슷함"
   ]
  },
  {
   "cell_type": "code",
   "execution_count": 25,
   "id": "668db918",
   "metadata": {},
   "outputs": [
    {
     "data": {
      "text/plain": [
       "int"
      ]
     },
     "execution_count": 25,
     "metadata": {},
     "output_type": "execute_result"
    }
   ],
   "source": [
    "type(100)"
   ]
  },
  {
   "cell_type": "code",
   "execution_count": 26,
   "id": "28db2b4e",
   "metadata": {},
   "outputs": [
    {
     "data": {
      "text/plain": [
       "True"
      ]
     },
     "execution_count": 26,
     "metadata": {},
     "output_type": "execute_result"
    }
   ],
   "source": [
    "isinstance(100, int)"
   ]
  },
  {
   "cell_type": "markdown",
   "id": "dd95d856",
   "metadata": {},
   "source": [
    "▲타입확인 하는 것(타입은 객체다!)\n",
    "<br>인자(100)가 파라미터..인자=파라미터\n",
    "<br>파이썬은 타입이 정해져 있지 않다"
   ]
  },
  {
   "cell_type": "code",
   "execution_count": 27,
   "id": "90b2e27b",
   "metadata": {},
   "outputs": [],
   "source": [
    "a = 100; b = 200; c = a+b"
   ]
  },
  {
   "cell_type": "code",
   "execution_count": 29,
   "id": "06a8040f",
   "metadata": {},
   "outputs": [
    {
     "data": {
      "text/plain": [
       "('100', 200, 300)"
      ]
     },
     "execution_count": 29,
     "metadata": {},
     "output_type": "execute_result"
    }
   ],
   "source": [
    "a, b, c"
   ]
  },
  {
   "cell_type": "markdown",
   "id": "c489cccf",
   "metadata": {},
   "source": [
    "▲세미콜론 사용하면 한줄에 넣기 가능 근데 추천 안 함"
   ]
  },
  {
   "cell_type": "code",
   "execution_count": 28,
   "id": "fefd347a",
   "metadata": {},
   "outputs": [],
   "source": [
    "a:int = '100'"
   ]
  },
  {
   "cell_type": "markdown",
   "id": "a1c0ab4a",
   "metadata": {},
   "source": [
    "▲이런식으로 하면 형식 힌트 주는 것"
   ]
  },
  {
   "cell_type": "markdown",
   "id": "61488879",
   "metadata": {},
   "source": [
    "## 객체(object), 인스턴스(instance)에 대하여\n",
    "객체인 클래스가 어디 변수 에 할당이 되면 \n",
    "<br>이걸 인스턴스라 부름..\n",
    "<br>할당이 되면 인스턴스. 클래스 할당 했냐 안 했냐..인스턴스화 되었나\n",
    "\n",
    "클래스 속성만 갖고 있는게 아니라 행위(함수)도 갖고 있다"
   ]
  },
  {
   "cell_type": "code",
   "execution_count": 36,
   "id": "5d5dd464",
   "metadata": {},
   "outputs": [],
   "source": [
    "class Person():\n",
    "    def __init__(self, height, weight, age, name):\n",
    "        self.height = height\n",
    "        self.weight = weight\n",
    "        self.age = age\n",
    "        self.name = name\n",
    "    \n",
    "    def say_korean(self):\n",
    "        print(\"한국어 가능\")"
   ]
  },
  {
   "cell_type": "markdown",
   "id": "860b8b39",
   "metadata": {},
   "source": [
    "▲저기 맨 윗줄에 ()에 안 넣어도 알아서<br>\n",
    "<br>class Person:\n",
    "<br>    height\n",
    "<br>    weight\n",
    "<br>    age\n",
    "<br>    name\n",
    "    이렇게 하면 안된다"
   ]
  },
  {
   "cell_type": "code",
   "execution_count": 37,
   "id": "acd4431f",
   "metadata": {},
   "outputs": [],
   "source": [
    "moon = Person(165, 70, 35, '문성혁')"
   ]
  },
  {
   "cell_type": "code",
   "execution_count": 38,
   "id": "e213c5bc",
   "metadata": {},
   "outputs": [
    {
     "data": {
      "text/plain": [
       "<__main__.Person at 0x23d72bd2b80>"
      ]
     },
     "execution_count": 38,
     "metadata": {},
     "output_type": "execute_result"
    }
   ],
   "source": [
    "moon"
   ]
  },
  {
   "cell_type": "code",
   "execution_count": 39,
   "id": "0449398c",
   "metadata": {},
   "outputs": [
    {
     "data": {
      "text/plain": [
       "'문성혁'"
      ]
     },
     "execution_count": 39,
     "metadata": {},
     "output_type": "execute_result"
    }
   ],
   "source": [
    "moon.name"
   ]
  },
  {
   "cell_type": "markdown",
   "id": "7651c776",
   "metadata": {},
   "source": [
    "## 내장 자료형\n",
    "#### builtin data type\n",
    "\n",
    "- 파이썬 내부적으로 가지는 자료형은 숫자, 문자열, 리스트, 튜플, 딕셔너리, 집합 등"
   ]
  },
  {
   "cell_type": "code",
   "execution_count": 40,
   "id": "741dd7e6",
   "metadata": {},
   "outputs": [],
   "source": [
    "a = []"
   ]
  },
  {
   "cell_type": "markdown",
   "id": "dc46893a",
   "metadata": {},
   "source": [
    "이건 리스트"
   ]
  },
  {
   "cell_type": "code",
   "execution_count": 41,
   "id": "ec423f43",
   "metadata": {},
   "outputs": [
    {
     "name": "stdout",
     "output_type": "stream",
     "text": [
      "[]\n"
     ]
    }
   ],
   "source": [
    "print(a)"
   ]
  },
  {
   "cell_type": "code",
   "execution_count": 42,
   "id": "8b0fdf86",
   "metadata": {},
   "outputs": [
    {
     "name": "stdout",
     "output_type": "stream",
     "text": [
      "['__add__', '__class__', '__contains__', '__delattr__', '__delitem__', '__dir__', '__doc__', '__eq__', '__format__', '__ge__', '__getattribute__', '__getitem__', '__gt__', '__hash__', '__iadd__', '__imul__', '__init__', '__init_subclass__', '__iter__', '__le__', '__len__', '__lt__', '__mul__', '__ne__', '__new__', '__reduce__', '__reduce_ex__', '__repr__', '__reversed__', '__rmul__', '__setattr__', '__setitem__', '__sizeof__', '__str__', '__subclasshook__', 'append', 'clear', 'copy', 'count', 'extend', 'index', 'insert', 'pop', 'remove', 'reverse', 'sort']\n"
     ]
    }
   ],
   "source": [
    "print(dir(a))"
   ]
  },
  {
   "cell_type": "code",
   "execution_count": 43,
   "id": "38b53d45",
   "metadata": {},
   "outputs": [],
   "source": [
    "a.append(1)"
   ]
  },
  {
   "cell_type": "code",
   "execution_count": 44,
   "id": "94576e2b",
   "metadata": {},
   "outputs": [
    {
     "data": {
      "text/plain": [
       "<module 'builtins' (built-in)>"
      ]
     },
     "execution_count": 44,
     "metadata": {},
     "output_type": "execute_result"
    }
   ],
   "source": [
    "__builtins__"
   ]
  },
  {
   "cell_type": "code",
   "execution_count": 45,
   "id": "45186e89",
   "metadata": {},
   "outputs": [
    {
     "data": {
      "text/plain": [
       "{'__name__': 'builtins',\n",
       " '__doc__': \"Built-in functions, exceptions, and other objects.\\n\\nNoteworthy: None is the `nil' object; Ellipsis represents `...' in slices.\",\n",
       " '__package__': '',\n",
       " '__loader__': _frozen_importlib.BuiltinImporter,\n",
       " '__spec__': ModuleSpec(name='builtins', loader=<class '_frozen_importlib.BuiltinImporter'>),\n",
       " '__build_class__': <function __build_class__>,\n",
       " '__import__': <function __import__>,\n",
       " 'abs': <function abs(x, /)>,\n",
       " 'all': <function all(iterable, /)>,\n",
       " 'any': <function any(iterable, /)>,\n",
       " 'ascii': <function ascii(obj, /)>,\n",
       " 'bin': <function bin(number, /)>,\n",
       " 'breakpoint': <function breakpoint>,\n",
       " 'callable': <function callable(obj, /)>,\n",
       " 'chr': <function chr(i, /)>,\n",
       " 'compile': <function compile(source, filename, mode, flags=0, dont_inherit=False, optimize=-1, *, _feature_version=-1)>,\n",
       " 'delattr': <function delattr(obj, name, /)>,\n",
       " 'dir': <function dir>,\n",
       " 'divmod': <function divmod(x, y, /)>,\n",
       " 'eval': <function eval(source, globals=None, locals=None, /)>,\n",
       " 'exec': <function exec(source, globals=None, locals=None, /)>,\n",
       " 'format': <function format(value, format_spec='', /)>,\n",
       " 'getattr': <function getattr>,\n",
       " 'globals': <function globals()>,\n",
       " 'hasattr': <function hasattr(obj, name, /)>,\n",
       " 'hash': <function hash(obj, /)>,\n",
       " 'hex': <function hex(number, /)>,\n",
       " 'id': <function id(obj, /)>,\n",
       " 'input': <bound method Kernel.raw_input of <ipykernel.ipkernel.IPythonKernel object at 0x0000023D71275AF0>>,\n",
       " 'isinstance': <function isinstance(obj, class_or_tuple, /)>,\n",
       " 'issubclass': <function issubclass(cls, class_or_tuple, /)>,\n",
       " 'iter': <function iter>,\n",
       " 'len': <function len(obj, /)>,\n",
       " 'locals': <function locals()>,\n",
       " 'max': <function max>,\n",
       " 'min': <function min>,\n",
       " 'next': <function next>,\n",
       " 'oct': <function oct(number, /)>,\n",
       " 'ord': <function ord(c, /)>,\n",
       " 'pow': <function pow(base, exp, mod=None)>,\n",
       " 'print': <function print>,\n",
       " 'repr': <function repr(obj, /)>,\n",
       " 'round': <function round(number, ndigits=None)>,\n",
       " 'setattr': <function setattr(obj, name, value, /)>,\n",
       " 'sorted': <function sorted(iterable, /, *, key=None, reverse=False)>,\n",
       " 'sum': <function sum(iterable, /, start=0)>,\n",
       " 'vars': <function vars>,\n",
       " 'None': None,\n",
       " 'Ellipsis': Ellipsis,\n",
       " 'NotImplemented': NotImplemented,\n",
       " 'False': False,\n",
       " 'True': True,\n",
       " 'bool': bool,\n",
       " 'memoryview': memoryview,\n",
       " 'bytearray': bytearray,\n",
       " 'bytes': bytes,\n",
       " 'classmethod': classmethod,\n",
       " 'complex': complex,\n",
       " 'dict': dict,\n",
       " 'enumerate': enumerate,\n",
       " 'filter': filter,\n",
       " 'float': float,\n",
       " 'frozenset': frozenset,\n",
       " 'property': property,\n",
       " 'int': int,\n",
       " 'list': list,\n",
       " 'map': map,\n",
       " 'object': object,\n",
       " 'range': range,\n",
       " 'reversed': reversed,\n",
       " 'set': set,\n",
       " 'slice': slice,\n",
       " 'staticmethod': staticmethod,\n",
       " 'str': str,\n",
       " 'super': super,\n",
       " 'tuple': tuple,\n",
       " 'type': type,\n",
       " 'zip': zip,\n",
       " '__debug__': True,\n",
       " 'BaseException': BaseException,\n",
       " 'Exception': Exception,\n",
       " 'TypeError': TypeError,\n",
       " 'StopAsyncIteration': StopAsyncIteration,\n",
       " 'StopIteration': StopIteration,\n",
       " 'GeneratorExit': GeneratorExit,\n",
       " 'SystemExit': SystemExit,\n",
       " 'KeyboardInterrupt': KeyboardInterrupt,\n",
       " 'ImportError': ImportError,\n",
       " 'ModuleNotFoundError': ModuleNotFoundError,\n",
       " 'OSError': OSError,\n",
       " 'EnvironmentError': OSError,\n",
       " 'IOError': OSError,\n",
       " 'WindowsError': OSError,\n",
       " 'EOFError': EOFError,\n",
       " 'RuntimeError': RuntimeError,\n",
       " 'RecursionError': RecursionError,\n",
       " 'NotImplementedError': NotImplementedError,\n",
       " 'NameError': NameError,\n",
       " 'UnboundLocalError': UnboundLocalError,\n",
       " 'AttributeError': AttributeError,\n",
       " 'SyntaxError': SyntaxError,\n",
       " 'IndentationError': IndentationError,\n",
       " 'TabError': TabError,\n",
       " 'LookupError': LookupError,\n",
       " 'IndexError': IndexError,\n",
       " 'KeyError': KeyError,\n",
       " 'ValueError': ValueError,\n",
       " 'UnicodeError': UnicodeError,\n",
       " 'UnicodeEncodeError': UnicodeEncodeError,\n",
       " 'UnicodeDecodeError': UnicodeDecodeError,\n",
       " 'UnicodeTranslateError': UnicodeTranslateError,\n",
       " 'AssertionError': AssertionError,\n",
       " 'ArithmeticError': ArithmeticError,\n",
       " 'FloatingPointError': FloatingPointError,\n",
       " 'OverflowError': OverflowError,\n",
       " 'ZeroDivisionError': ZeroDivisionError,\n",
       " 'SystemError': SystemError,\n",
       " 'ReferenceError': ReferenceError,\n",
       " 'MemoryError': MemoryError,\n",
       " 'BufferError': BufferError,\n",
       " 'Warning': Warning,\n",
       " 'UserWarning': UserWarning,\n",
       " 'DeprecationWarning': DeprecationWarning,\n",
       " 'PendingDeprecationWarning': PendingDeprecationWarning,\n",
       " 'SyntaxWarning': SyntaxWarning,\n",
       " 'RuntimeWarning': RuntimeWarning,\n",
       " 'FutureWarning': FutureWarning,\n",
       " 'ImportWarning': ImportWarning,\n",
       " 'UnicodeWarning': UnicodeWarning,\n",
       " 'BytesWarning': BytesWarning,\n",
       " 'ResourceWarning': ResourceWarning,\n",
       " 'ConnectionError': ConnectionError,\n",
       " 'BlockingIOError': BlockingIOError,\n",
       " 'BrokenPipeError': BrokenPipeError,\n",
       " 'ChildProcessError': ChildProcessError,\n",
       " 'ConnectionAbortedError': ConnectionAbortedError,\n",
       " 'ConnectionRefusedError': ConnectionRefusedError,\n",
       " 'ConnectionResetError': ConnectionResetError,\n",
       " 'FileExistsError': FileExistsError,\n",
       " 'FileNotFoundError': FileNotFoundError,\n",
       " 'IsADirectoryError': IsADirectoryError,\n",
       " 'NotADirectoryError': NotADirectoryError,\n",
       " 'InterruptedError': InterruptedError,\n",
       " 'PermissionError': PermissionError,\n",
       " 'ProcessLookupError': ProcessLookupError,\n",
       " 'TimeoutError': TimeoutError,\n",
       " 'open': <function io.open(file, mode='r', buffering=-1, encoding=None, errors=None, newline=None, closefd=True, opener=None)>,\n",
       " 'copyright': Copyright (c) 2001-2021 Python Software Foundation.\n",
       " All Rights Reserved.\n",
       " \n",
       " Copyright (c) 2000 BeOpen.com.\n",
       " All Rights Reserved.\n",
       " \n",
       " Copyright (c) 1995-2001 Corporation for National Research Initiatives.\n",
       " All Rights Reserved.\n",
       " \n",
       " Copyright (c) 1991-1995 Stichting Mathematisch Centrum, Amsterdam.\n",
       " All Rights Reserved.,\n",
       " 'credits':     Thanks to CWI, CNRI, BeOpen.com, Zope Corporation and a cast of thousands\n",
       "     for supporting Python development.  See www.python.org for more information.,\n",
       " 'license': See https://www.python.org/psf/license/,\n",
       " 'help': Type help() for interactive help, or help(object) for help about object.,\n",
       " '__IPYTHON__': True,\n",
       " 'display': <function IPython.core.display.display(*objs, include=None, exclude=None, metadata=None, transient=None, display_id=None, **kwargs)>,\n",
       " 'get_ipython': <bound method InteractiveShell.get_ipython of <ipykernel.zmqshell.ZMQInteractiveShell object at 0x0000023D71275B80>>}"
      ]
     },
     "execution_count": 45,
     "metadata": {},
     "output_type": "execute_result"
    }
   ],
   "source": [
    "__builtins__.__dict__"
   ]
  },
  {
   "cell_type": "code",
   "execution_count": 46,
   "id": "a7ec1b56",
   "metadata": {},
   "outputs": [
    {
     "data": {
      "text/plain": [
       "int"
      ]
     },
     "execution_count": 46,
     "metadata": {},
     "output_type": "execute_result"
    }
   ],
   "source": [
    "__builtins__.__dict__['int']"
   ]
  },
  {
   "cell_type": "code",
   "execution_count": 47,
   "id": "3e6a1c88",
   "metadata": {},
   "outputs": [
    {
     "data": {
      "text/plain": [
       "float"
      ]
     },
     "execution_count": 47,
     "metadata": {},
     "output_type": "execute_result"
    }
   ],
   "source": [
    "__builtins__.__dict__['float']"
   ]
  },
  {
   "cell_type": "code",
   "execution_count": 48,
   "id": "81759a70",
   "metadata": {},
   "outputs": [
    {
     "data": {
      "text/plain": [
       "tuple"
      ]
     },
     "execution_count": 48,
     "metadata": {},
     "output_type": "execute_result"
    }
   ],
   "source": [
    "__builtins__.__dict__['tuple']"
   ]
  },
  {
   "cell_type": "code",
   "execution_count": 50,
   "id": "ff398e5b",
   "metadata": {},
   "outputs": [
    {
     "data": {
      "text/plain": [
       "100"
      ]
     },
     "execution_count": 50,
     "metadata": {},
     "output_type": "execute_result"
    }
   ],
   "source": [
    "100"
   ]
  },
  {
   "cell_type": "code",
   "execution_count": 51,
   "id": "b5422b33",
   "metadata": {},
   "outputs": [
    {
     "data": {
      "text/plain": [
       "100.0"
      ]
     },
     "execution_count": 51,
     "metadata": {},
     "output_type": "execute_result"
    }
   ],
   "source": [
    "100.0"
   ]
  },
  {
   "cell_type": "markdown",
   "id": "1ecc302d",
   "metadata": {},
   "source": [
    "▲(100, 100.0)literary표기법(그 문자열그거말하는듯) 그대로 치는 거"
   ]
  },
  {
   "cell_type": "code",
   "execution_count": 52,
   "id": "0534be3c",
   "metadata": {},
   "outputs": [
    {
     "data": {
      "text/plain": [
       "complex"
      ]
     },
     "execution_count": 52,
     "metadata": {},
     "output_type": "execute_result"
    }
   ],
   "source": [
    "(100.1+1j).__class__"
   ]
  },
  {
   "cell_type": "code",
   "execution_count": 56,
   "id": "dfc7c92f",
   "metadata": {},
   "outputs": [],
   "source": [
    "import math"
   ]
  },
  {
   "cell_type": "code",
   "execution_count": 57,
   "id": "84ef61c3",
   "metadata": {},
   "outputs": [
    {
     "name": "stdout",
     "output_type": "stream",
     "text": [
      "['__doc__', '__loader__', '__name__', '__package__', '__spec__', 'acos', 'acosh', 'asin', 'asinh', 'atan', 'atan2', 'atanh', 'ceil', 'comb', 'copysign', 'cos', 'cosh', 'degrees', 'dist', 'e', 'erf', 'erfc', 'exp', 'expm1', 'fabs', 'factorial', 'floor', 'fmod', 'frexp', 'fsum', 'gamma', 'gcd', 'hypot', 'inf', 'isclose', 'isfinite', 'isinf', 'isnan', 'isqrt', 'ldexp', 'lgamma', 'log', 'log10', 'log1p', 'log2', 'modf', 'nan', 'perm', 'pi', 'pow', 'prod', 'radians', 'remainder', 'sin', 'sinh', 'sqrt', 'tan', 'tanh', 'tau', 'trunc']\n"
     ]
    }
   ],
   "source": [
    "print(dir(math))"
   ]
  },
  {
   "cell_type": "code",
   "execution_count": 58,
   "id": "fbb7c16d",
   "metadata": {},
   "outputs": [
    {
     "data": {
      "text/plain": [
       "100"
      ]
     },
     "execution_count": 58,
     "metadata": {},
     "output_type": "execute_result"
    }
   ],
   "source": [
    "math.floor(100.9)"
   ]
  },
  {
   "cell_type": "code",
   "execution_count": 59,
   "id": "73275bce",
   "metadata": {},
   "outputs": [
    {
     "data": {
      "text/plain": [
       "101"
      ]
     },
     "execution_count": 59,
     "metadata": {},
     "output_type": "execute_result"
    }
   ],
   "source": [
    "math.ceil(100.2)"
   ]
  },
  {
   "cell_type": "markdown",
   "id": "dd964173",
   "metadata": {},
   "source": [
    "임포트로 함수??불러와서 써야 써지네"
   ]
  },
  {
   "cell_type": "markdown",
   "id": "b9a504da",
   "metadata": {},
   "source": [
    "### 시퀀스 자료형\n",
    "- 문자열, 리스트, 튜플"
   ]
  },
  {
   "cell_type": "code",
   "execution_count": 60,
   "id": "5c251926",
   "metadata": {},
   "outputs": [],
   "source": [
    "import collections as cols"
   ]
  },
  {
   "cell_type": "code",
   "execution_count": 61,
   "id": "a9a7d896",
   "metadata": {},
   "outputs": [
    {
     "data": {
      "text/plain": [
       "<module 'collections' from 'C:\\\\Users\\\\susu\\\\anaconda3\\\\lib\\\\collections\\\\__init__.py'>"
      ]
     },
     "execution_count": 61,
     "metadata": {},
     "output_type": "execute_result"
    }
   ],
   "source": [
    "cols"
   ]
  },
  {
   "cell_type": "code",
   "execution_count": 62,
   "id": "dc1920c8",
   "metadata": {},
   "outputs": [
    {
     "name": "stdout",
     "output_type": "stream",
     "text": [
      "['ChainMap', 'Counter', 'OrderedDict', 'UserDict', 'UserList', 'UserString', '_Link', '_OrderedDictItemsView', '_OrderedDictKeysView', '_OrderedDictValuesView', '__all__', '__builtins__', '__cached__', '__doc__', '__file__', '__getattr__', '__loader__', '__name__', '__package__', '__path__', '__spec__', '_chain', '_collections_abc', '_count_elements', '_eq', '_heapq', '_iskeyword', '_itemgetter', '_proxy', '_recursive_repr', '_repeat', '_starmap', '_sys', '_tuplegetter', 'abc', 'defaultdict', 'deque', 'namedtuple']\n"
     ]
    }
   ],
   "source": [
    "print(dir(cols))"
   ]
  },
  {
   "cell_type": "code",
   "execution_count": 63,
   "id": "2d8e3400",
   "metadata": {},
   "outputs": [
    {
     "data": {
      "text/plain": [
       "True"
      ]
     },
     "execution_count": 63,
     "metadata": {},
     "output_type": "execute_result"
    }
   ],
   "source": [
    "issubclass(str, cols.abc.Sequence)"
   ]
  },
  {
   "cell_type": "code",
   "execution_count": 64,
   "id": "276b5171",
   "metadata": {},
   "outputs": [
    {
     "data": {
      "text/plain": [
       "True"
      ]
     },
     "execution_count": 64,
     "metadata": {},
     "output_type": "execute_result"
    }
   ],
   "source": [
    "issubclass(list, cols.abc.Sequence)"
   ]
  },
  {
   "cell_type": "code",
   "execution_count": 65,
   "id": "2edfde12",
   "metadata": {},
   "outputs": [
    {
     "data": {
      "text/plain": [
       "'문자열'"
      ]
     },
     "execution_count": 65,
     "metadata": {},
     "output_type": "execute_result"
    }
   ],
   "source": [
    "\"문자열\""
   ]
  },
  {
   "cell_type": "code",
   "execution_count": 66,
   "id": "5e1c2be7",
   "metadata": {},
   "outputs": [
    {
     "data": {
      "text/plain": [
       "'문자열'"
      ]
     },
     "execution_count": 66,
     "metadata": {},
     "output_type": "execute_result"
    }
   ],
   "source": [
    "str('문자열')"
   ]
  },
  {
   "cell_type": "code",
   "execution_count": 67,
   "id": "db3cea0c",
   "metadata": {},
   "outputs": [
    {
     "data": {
      "text/plain": [
       "97"
      ]
     },
     "execution_count": 67,
     "metadata": {},
     "output_type": "execute_result"
    }
   ],
   "source": [
    "ord('a')"
   ]
  },
  {
   "cell_type": "code",
   "execution_count": 68,
   "id": "50d94e9f",
   "metadata": {},
   "outputs": [
    {
     "name": "stdout",
     "output_type": "stream",
     "text": [
      "입력해주세요 : 123\n"
     ]
    }
   ],
   "source": [
    "a = input('입력해주세요 : ')"
   ]
  },
  {
   "cell_type": "code",
   "execution_count": 69,
   "id": "65323e34",
   "metadata": {},
   "outputs": [
    {
     "data": {
      "text/plain": [
       "'123'"
      ]
     },
     "execution_count": 69,
     "metadata": {},
     "output_type": "execute_result"
    }
   ],
   "source": [
    "a"
   ]
  },
  {
   "cell_type": "code",
   "execution_count": 79,
   "id": "8e993692",
   "metadata": {},
   "outputs": [
    {
     "name": "stdout",
     "output_type": "stream",
     "text": [
      "숫자 입력12\n",
      "두번째수 입력8\n"
     ]
    }
   ],
   "source": [
    "b = int(input('숫자 입력'))\n",
    "c = int(input('두번째수 입력'))"
   ]
  },
  {
   "cell_type": "code",
   "execution_count": 80,
   "id": "e03613ed",
   "metadata": {},
   "outputs": [
    {
     "data": {
      "text/plain": [
       "96"
      ]
     },
     "execution_count": 80,
     "metadata": {},
     "output_type": "execute_result"
    }
   ],
   "source": [
    "b * c"
   ]
  },
  {
   "cell_type": "code",
   "execution_count": 81,
   "id": "e5c4b91a",
   "metadata": {},
   "outputs": [
    {
     "name": "stdout",
     "output_type": "stream",
     "text": [
      "Help on method raw_input in module ipykernel.kernelbase:\n",
      "\n",
      "raw_input(prompt='') method of ipykernel.ipkernel.IPythonKernel instance\n",
      "    Forward raw_input to frontends\n",
      "    \n",
      "    Raises\n",
      "    ------\n",
      "    StdinNotImplentedError if active frontend doesn't support stdin.\n",
      "\n"
     ]
    }
   ],
   "source": [
    "help(input)"
   ]
  },
  {
   "cell_type": "markdown",
   "id": "2cd7bd91",
   "metadata": {},
   "source": [
    "▲ help()안에 넣으면 설명이 나온다"
   ]
  },
  {
   "cell_type": "markdown",
   "id": "590e2069",
   "metadata": {},
   "source": [
    "# 1. 순환문\n",
    "특정한 행위(것)를 여러 번 수행하는 문장.  \n",
    "for와 while"
   ]
  },
  {
   "cell_type": "markdown",
   "id": "d7e59c75",
   "metadata": {},
   "source": [
    "### for문\n",
    "- 반복되는 클래스의 객체를 가져와서 그 내부에 원소(그 안에 데이터)를 읽음.  \n",
    "//파이썬은 모든게 클래스고 객체임.."
   ]
  },
  {
   "cell_type": "code",
   "execution_count": 82,
   "id": "feb55e1e",
   "metadata": {},
   "outputs": [
    {
     "data": {
      "text/plain": [
       "range(0, 10)"
      ]
     },
     "execution_count": 82,
     "metadata": {},
     "output_type": "execute_result"
    }
   ],
   "source": [
    "range(0, 10)"
   ]
  },
  {
   "cell_type": "code",
   "execution_count": 83,
   "id": "524cf56c",
   "metadata": {},
   "outputs": [
    {
     "name": "stdout",
     "output_type": "stream",
     "text": [
      "0\n",
      "1\n",
      "2\n",
      "3\n",
      "4\n",
      "5\n",
      "6\n",
      "7\n",
      "8\n",
      "9\n"
     ]
    }
   ],
   "source": [
    "for data in range(0, 10):\n",
    "    print(data)"
   ]
  },
  {
   "cell_type": "markdown",
   "id": "b2256864",
   "metadata": {},
   "source": [
    "#### range\n",
    "- 범위 : 첫 인덱스 ~ 마지막 인덱스 - 1"
   ]
  },
  {
   "cell_type": "code",
   "execution_count": 84,
   "id": "cd39e4c3",
   "metadata": {},
   "outputs": [],
   "source": [
    "a = range(10)"
   ]
  },
  {
   "cell_type": "code",
   "execution_count": 85,
   "id": "817b784e",
   "metadata": {},
   "outputs": [
    {
     "data": {
      "text/plain": [
       "range"
      ]
     },
     "execution_count": 85,
     "metadata": {},
     "output_type": "execute_result"
    }
   ],
   "source": [
    "type(a)"
   ]
  },
  {
   "cell_type": "code",
   "execution_count": 86,
   "id": "3660afae",
   "metadata": {},
   "outputs": [
    {
     "data": {
      "text/plain": [
       "range"
      ]
     },
     "execution_count": 86,
     "metadata": {},
     "output_type": "execute_result"
    }
   ],
   "source": [
    "a.__class__"
   ]
  },
  {
   "cell_type": "code",
   "execution_count": 87,
   "id": "5f91e6ff",
   "metadata": {},
   "outputs": [
    {
     "name": "stdout",
     "output_type": "stream",
     "text": [
      "1\n",
      "2\n",
      "3\n",
      "4\n"
     ]
    }
   ],
   "source": [
    "for data in [1, 2, 3, 4]:\n",
    "    print(data)"
   ]
  },
  {
   "cell_type": "code",
   "execution_count": 90,
   "id": "159d2fc0",
   "metadata": {},
   "outputs": [
    {
     "name": "stdout",
     "output_type": "stream",
     "text": [
      "a\n",
      "b\n",
      "c\n"
     ]
    }
   ],
   "source": [
    "for data in \"abc\":\n",
    "    print(data)"
   ]
  },
  {
   "cell_type": "code",
   "execution_count": 94,
   "id": "56f70086",
   "metadata": {},
   "outputs": [
    {
     "name": "stdout",
     "output_type": "stream",
     "text": [
      "a\n",
      "1\n",
      "b\n",
      "2\n"
     ]
    }
   ],
   "source": [
    "dict_data = {'a': 1, 'b': 2}\n",
    "for data in dict_data:\n",
    "    print(data)\n",
    "    print(dict_data[data])"
   ]
  },
  {
   "cell_type": "code",
   "execution_count": 95,
   "id": "8bc5d312",
   "metadata": {},
   "outputs": [
    {
     "name": "stdout",
     "output_type": "stream",
     "text": [
      "1\n",
      "2\n"
     ]
    }
   ],
   "source": [
    "for data in dict_data.values():\n",
    "    print(data)"
   ]
  },
  {
   "cell_type": "code",
   "execution_count": 96,
   "id": "2be23ad0",
   "metadata": {},
   "outputs": [
    {
     "name": "stdout",
     "output_type": "stream",
     "text": [
      "a\n",
      "b\n"
     ]
    }
   ],
   "source": [
    "for data in dict_data.keys():\n",
    "    print(data)"
   ]
  },
  {
   "cell_type": "code",
   "execution_count": 97,
   "id": "663281cb",
   "metadata": {},
   "outputs": [
    {
     "name": "stdout",
     "output_type": "stream",
     "text": [
      "a 1\n",
      "b 2\n"
     ]
    }
   ],
   "source": [
    "for (k, v) in dict_data.items():\n",
    "    print(k, v)"
   ]
  },
  {
   "cell_type": "markdown",
   "id": "72376f1e",
   "metadata": {},
   "source": [
    "#### break"
   ]
  },
  {
   "cell_type": "code",
   "execution_count": 100,
   "id": "6c0015f5",
   "metadata": {},
   "outputs": [
    {
     "name": "stdout",
     "output_type": "stream",
     "text": [
      "loop\n"
     ]
    }
   ],
   "source": [
    "for data in range(5):\n",
    "    print(\"loop\")\n",
    "    break"
   ]
  },
  {
   "cell_type": "markdown",
   "id": "682bdd41",
   "metadata": {},
   "source": [
    "#### continue"
   ]
  },
  {
   "cell_type": "code",
   "execution_count": 104,
   "id": "5a427a6d",
   "metadata": {},
   "outputs": [
    {
     "name": "stdout",
     "output_type": "stream",
     "text": [
      "1 : loop\n",
      "3 : loop\n",
      "5 : loop\n",
      "7 : loop\n",
      "9 : loop\n"
     ]
    }
   ],
   "source": [
    "for data in range(10):\n",
    "    if data % 2 == 0:\n",
    "        continue\n",
    "    print(f'{ data } : loop')"
   ]
  },
  {
   "cell_type": "code",
   "execution_count": 124,
   "id": "09194c7a",
   "metadata": {},
   "outputs": [
    {
     "name": "stdout",
     "output_type": "stream",
     "text": [
      "9\n"
     ]
    }
   ],
   "source": [
    "for data in range(2, 10):\n",
    "    if data < 2:\n",
    "        break\n",
    "else:\n",
    "    print(data)"
   ]
  },
  {
   "cell_type": "code",
   "execution_count": 129,
   "id": "7f406e85",
   "metadata": {},
   "outputs": [
    {
     "name": "stdout",
     "output_type": "stream",
     "text": [
      "2단\n",
      "2 X 1 = 2\n",
      "2 X 2 = 4\n",
      "2 X 3 = 6\n",
      "2 X 4 = 8\n",
      "2 X 5 = 10\n",
      "2 X 6 = 12\n",
      "2 X 7 = 14\n",
      "2 X 8 = 16\n",
      "2 X 9 = 18\n",
      "\n",
      "3단\n",
      "3 X 1 = 3\n",
      "3 X 2 = 6\n",
      "3 X 3 = 9\n",
      "3 X 4 = 12\n",
      "3 X 5 = 15\n",
      "3 X 6 = 18\n",
      "3 X 7 = 21\n",
      "3 X 8 = 24\n",
      "3 X 9 = 27\n",
      "\n",
      "4단\n",
      "4 X 1 = 4\n",
      "4 X 2 = 8\n",
      "4 X 3 = 12\n",
      "4 X 4 = 16\n",
      "4 X 5 = 20\n",
      "4 X 6 = 24\n",
      "4 X 7 = 28\n",
      "4 X 8 = 32\n",
      "4 X 9 = 36\n",
      "\n",
      "5단\n",
      "5 X 1 = 5\n",
      "5 X 2 = 10\n",
      "5 X 3 = 15\n",
      "5 X 4 = 20\n",
      "5 X 5 = 25\n",
      "5 X 6 = 30\n",
      "5 X 7 = 35\n",
      "5 X 8 = 40\n",
      "5 X 9 = 45\n",
      "\n",
      "6단\n",
      "6 X 1 = 6\n",
      "6 X 2 = 12\n",
      "6 X 3 = 18\n",
      "6 X 4 = 24\n",
      "6 X 5 = 30\n",
      "6 X 6 = 36\n",
      "6 X 7 = 42\n",
      "6 X 8 = 48\n",
      "6 X 9 = 54\n",
      "\n",
      "7단\n",
      "7 X 1 = 7\n",
      "7 X 2 = 14\n",
      "7 X 3 = 21\n",
      "7 X 4 = 28\n",
      "7 X 5 = 35\n",
      "7 X 6 = 42\n",
      "7 X 7 = 49\n",
      "7 X 8 = 56\n",
      "7 X 9 = 63\n",
      "\n",
      "8단\n",
      "8 X 1 = 8\n",
      "8 X 2 = 16\n",
      "8 X 3 = 24\n",
      "8 X 4 = 32\n",
      "8 X 5 = 40\n",
      "8 X 6 = 48\n",
      "8 X 7 = 56\n",
      "8 X 8 = 64\n",
      "8 X 9 = 72\n",
      "\n",
      "9단\n",
      "9 X 1 = 9\n",
      "9 X 2 = 18\n",
      "9 X 3 = 27\n",
      "9 X 4 = 36\n",
      "9 X 5 = 45\n",
      "9 X 6 = 54\n",
      "9 X 7 = 63\n",
      "9 X 8 = 72\n",
      "9 X 9 = 81\n",
      "\n"
     ]
    }
   ],
   "source": [
    "for first in range(2, 10):\n",
    "    print(f'{first}단')\n",
    "    for second in range(1, 10):\n",
    "        print(f'{ first } X { second } = { first * second }')\n",
    "        \n",
    "    print()    "
   ]
  },
  {
   "cell_type": "markdown",
   "id": "0818396b",
   "metadata": {},
   "source": [
    "#### while문\n",
    "- 특정 조건식이 만족하는 경우에 순환을 처리"
   ]
  },
  {
   "cell_type": "code",
   "execution_count": 130,
   "id": "9204e283",
   "metadata": {},
   "outputs": [
    {
     "name": "stdout",
     "output_type": "stream",
     "text": [
      "loop\n",
      "loop\n",
      "loop\n",
      "loop\n",
      "loop\n",
      "loop\n"
     ]
    }
   ],
   "source": [
    "index = 0\n",
    "while True:\n",
    "    print(\"loop\")\n",
    "    index += 1\n",
    "    if index > 5:\n",
    "        break"
   ]
  },
  {
   "cell_type": "code",
   "execution_count": 132,
   "id": "2de96680",
   "metadata": {},
   "outputs": [
    {
     "name": "stdout",
     "output_type": "stream",
     "text": [
      "2단\n",
      "2 X 1 = 2\n",
      "2 X 2 = 4\n",
      "2 X 3 = 6\n",
      "2 X 4 = 8\n",
      "2 X 5 = 10\n",
      "2 X 6 = 12\n",
      "2 X 7 = 14\n",
      "2 X 8 = 16\n",
      "2 X 9 = 18\n",
      "3단\n",
      "3 X 2 = 6\n",
      "3 X 3 = 9\n",
      "3 X 4 = 12\n",
      "3 X 5 = 15\n",
      "3 X 6 = 18\n",
      "3 X 7 = 21\n",
      "3 X 8 = 24\n",
      "3 X 9 = 27\n",
      "4단\n",
      "4 X 2 = 8\n",
      "4 X 3 = 12\n",
      "4 X 4 = 16\n",
      "4 X 5 = 20\n",
      "4 X 6 = 24\n",
      "4 X 7 = 28\n",
      "4 X 8 = 32\n",
      "4 X 9 = 36\n",
      "5단\n",
      "5 X 2 = 10\n",
      "5 X 3 = 15\n",
      "5 X 4 = 20\n",
      "5 X 5 = 25\n",
      "5 X 6 = 30\n",
      "5 X 7 = 35\n",
      "5 X 8 = 40\n",
      "5 X 9 = 45\n",
      "6단\n",
      "6 X 2 = 12\n",
      "6 X 3 = 18\n",
      "6 X 4 = 24\n",
      "6 X 5 = 30\n",
      "6 X 6 = 36\n",
      "6 X 7 = 42\n",
      "6 X 8 = 48\n",
      "6 X 9 = 54\n",
      "7단\n",
      "7 X 2 = 14\n",
      "7 X 3 = 21\n",
      "7 X 4 = 28\n",
      "7 X 5 = 35\n",
      "7 X 6 = 42\n",
      "7 X 7 = 49\n",
      "7 X 8 = 56\n",
      "7 X 9 = 63\n",
      "8단\n",
      "8 X 2 = 16\n",
      "8 X 3 = 24\n",
      "8 X 4 = 32\n",
      "8 X 5 = 40\n",
      "8 X 6 = 48\n",
      "8 X 7 = 56\n",
      "8 X 8 = 64\n",
      "8 X 9 = 72\n",
      "9단\n",
      "9 X 2 = 18\n",
      "9 X 3 = 27\n",
      "9 X 4 = 36\n",
      "9 X 5 = 45\n",
      "9 X 6 = 54\n",
      "9 X 7 = 63\n",
      "9 X 8 = 72\n",
      "9 X 9 = 81\n"
     ]
    }
   ],
   "source": [
    "first = 2\n",
    "second = 1\n",
    "\n",
    "is_dan = False\n",
    "\n",
    "while True:\n",
    "    if is_dan is False:\n",
    "        print(f'{ first }단')\n",
    "        is_dan = True\n",
    "        \n",
    "    print(f'{ first } X { second } = { first * second }')   \n",
    "          \n",
    "    if second == 9:\n",
    "          if first == 9:\n",
    "              break\n",
    "          \n",
    "          is_dan = False\n",
    "          second = 1\n",
    "          first += 1\n",
    "          \n",
    "    second += 1"
   ]
  },
  {
   "cell_type": "markdown",
   "id": "b6558734",
   "metadata": {},
   "source": [
    "# 2. 제어문\n",
    "keyword : if, (elif) else  \n",
    "특정 조건을 판단해서 특정 기능을 처리"
   ]
  },
  {
   "cell_type": "markdown",
   "id": "887a4d90",
   "metadata": {},
   "source": [
    "### 비교 연산자\n",
    "== (equal), <, >, >=, <="
   ]
  },
  {
   "cell_type": "code",
   "execution_count": 133,
   "id": "89c0509e",
   "metadata": {},
   "outputs": [
    {
     "data": {
      "text/plain": [
       "True"
      ]
     },
     "execution_count": 133,
     "metadata": {},
     "output_type": "execute_result"
    }
   ],
   "source": [
    "100 == 100"
   ]
  },
  {
   "cell_type": "code",
   "execution_count": 134,
   "id": "31fe67c3",
   "metadata": {},
   "outputs": [
    {
     "data": {
      "text/plain": [
       "False"
      ]
     },
     "execution_count": 134,
     "metadata": {},
     "output_type": "execute_result"
    }
   ],
   "source": [
    "100 < 99"
   ]
  },
  {
   "cell_type": "markdown",
   "id": "45109f4b",
   "metadata": {},
   "source": [
    "### 논리 연산자\n",
    "\n",
    "and, or"
   ]
  },
  {
   "cell_type": "code",
   "execution_count": 135,
   "id": "ca3a333f",
   "metadata": {},
   "outputs": [
    {
     "data": {
      "text/plain": [
       "True"
      ]
     },
     "execution_count": 135,
     "metadata": {},
     "output_type": "execute_result"
    }
   ],
   "source": [
    "(100 == 100) and (100 > 99)"
   ]
  },
  {
   "cell_type": "code",
   "execution_count": 136,
   "id": "c073a2ff",
   "metadata": {},
   "outputs": [
    {
     "data": {
      "text/plain": [
       "False"
      ]
     },
     "execution_count": 136,
     "metadata": {},
     "output_type": "execute_result"
    }
   ],
   "source": [
    "(100 == 100) and (100 < 99)"
   ]
  },
  {
   "cell_type": "code",
   "execution_count": 137,
   "id": "6bfdc5a7",
   "metadata": {},
   "outputs": [
    {
     "data": {
      "text/plain": [
       "True"
      ]
     },
     "execution_count": 137,
     "metadata": {},
     "output_type": "execute_result"
    }
   ],
   "source": [
    "(100 == 100) or (100 < 99)"
   ]
  },
  {
   "cell_type": "markdown",
   "id": "939fc197",
   "metadata": {},
   "source": [
    "### 단순 조건문 if\n",
    "elseif=elif로 쓴다"
   ]
  },
  {
   "cell_type": "code",
   "execution_count": 138,
   "id": "17feb6ee",
   "metadata": {},
   "outputs": [],
   "source": [
    "import random"
   ]
  },
  {
   "cell_type": "code",
   "execution_count": 140,
   "id": "b6754e2b",
   "metadata": {},
   "outputs": [
    {
     "name": "stdout",
     "output_type": "stream",
     "text": [
      "True\n",
      "3\n"
     ]
    }
   ],
   "source": [
    "random_value = random.randint(0, 10)\n",
    "\n",
    "if random_value < 5:\n",
    "    print(\"True\")\n",
    "else:\n",
    "    print(\"False\")\n",
    "    \n",
    "print(random_value)"
   ]
  },
  {
   "cell_type": "markdown",
   "id": "91e19ee0",
   "metadata": {},
   "source": [
    "### 삼항 연산자"
   ]
  },
  {
   "cell_type": "code",
   "execution_count": 141,
   "id": "cab84138",
   "metadata": {},
   "outputs": [
    {
     "name": "stdout",
     "output_type": "stream",
     "text": [
      "5 under\n",
      "4\n"
     ]
    }
   ],
   "source": [
    "random_value = random.randint(0, 10)\n",
    "\n",
    "print(\"5 over\") if random_value > 5 else print(\"5 under\")\n",
    "print(random_value)"
   ]
  },
  {
   "cell_type": "code",
   "execution_count": 152,
   "id": "43898624",
   "metadata": {},
   "outputs": [],
   "source": [
    "import random"
   ]
  },
  {
   "cell_type": "code",
   "execution_count": 153,
   "id": "7d360d7b",
   "metadata": {},
   "outputs": [
    {
     "name": "stdout",
     "output_type": "stream",
     "text": [
      "값을 입력하세요.50\n"
     ]
    },
    {
     "ename": "TypeError",
     "evalue": "'>' not supported between instances of 'int' and 'method'",
     "output_type": "error",
     "traceback": [
      "\u001b[1;31m---------------------------------------------------------------------------\u001b[0m",
      "\u001b[1;31mTypeError\u001b[0m                                 Traceback (most recent call last)",
      "\u001b[1;32m<ipython-input-153-c9a5df51d331>\u001b[0m in \u001b[0;36m<module>\u001b[1;34m\u001b[0m\n\u001b[0;32m      1\u001b[0m \u001b[0mrandom_value\u001b[0m \u001b[1;33m=\u001b[0m \u001b[0mrandom\u001b[0m\u001b[1;33m.\u001b[0m\u001b[0mrandint\u001b[0m\u001b[1;33m(\u001b[0m\u001b[1;36m0\u001b[0m\u001b[1;33m,\u001b[0m \u001b[1;36m100\u001b[0m\u001b[1;33m)\u001b[0m\u001b[1;33m\u001b[0m\u001b[1;33m\u001b[0m\u001b[0m\n\u001b[0;32m      2\u001b[0m \u001b[0minput\u001b[0m\u001b[1;33m(\u001b[0m\u001b[1;34m\"값을 입력하세요.\"\u001b[0m\u001b[1;33m)\u001b[0m\u001b[1;33m\u001b[0m\u001b[1;33m\u001b[0m\u001b[0m\n\u001b[1;32m----> 3\u001b[1;33m \u001b[1;32mif\u001b[0m \u001b[0mrandom_value\u001b[0m \u001b[1;33m>\u001b[0m \u001b[0minput\u001b[0m\u001b[1;33m:\u001b[0m\u001b[1;33m\u001b[0m\u001b[1;33m\u001b[0m\u001b[0m\n\u001b[0m\u001b[0;32m      4\u001b[0m     \u001b[0mprint\u001b[0m\u001b[1;33m(\u001b[0m\u001b[1;34m\"더 큰 값을 입력하세요\"\u001b[0m\u001b[1;33m)\u001b[0m\u001b[1;33m\u001b[0m\u001b[1;33m\u001b[0m\u001b[0m\n\u001b[0;32m      5\u001b[0m \u001b[1;32melif\u001b[0m \u001b[0mrandom_value\u001b[0m \u001b[1;33m<\u001b[0m \u001b[0minput\u001b[0m\u001b[1;33m:\u001b[0m\u001b[1;33m\u001b[0m\u001b[1;33m\u001b[0m\u001b[0m\n",
      "\u001b[1;31mTypeError\u001b[0m: '>' not supported between instances of 'int' and 'method'"
     ]
    }
   ],
   "source": [
    "random_value = random.randint(0, 100)\n",
    "input(\"값을 입력하세요.\")\n",
    "if random_value > input:\n",
    "    print(\"더 큰 값을 입력하세요\")\n",
    "elif random_value < input:\n",
    "    print(\"더 작은 값을 입력하세요\")\n",
    "elif random_value == input:\n",
    "    print(\"정답!\")"
   ]
  },
  {
   "cell_type": "code",
   "execution_count": 161,
   "id": "5e669535",
   "metadata": {},
   "outputs": [],
   "source": [
    "import random"
   ]
  },
  {
   "cell_type": "code",
   "execution_count": 165,
   "id": "bf720958",
   "metadata": {},
   "outputs": [
    {
     "name": "stdout",
     "output_type": "stream",
     "text": [
      "정답을 입력해주세요50\n",
      "큽니다\n",
      "정답을 입력해주세요80\n",
      "큽니다\n",
      "정답을 입력해주세요20\n",
      "큽니다\n",
      "정답을 입력해주세요11\n",
      "작습니다\n",
      "정답을 입력해주세요5\n",
      "작습니다\n",
      "정답을 입력해주세요3\n",
      "작습니다\n",
      "정답을 입력해주세요1\n",
      "작습니다\n",
      "정답을 입력해주세요0\n",
      "작습니다\n",
      "정답을 입력해주세요8\n",
      "작습니다\n",
      "정답을 입력해주세요7\n",
      "작습니다\n",
      "정답을 입력해주세요15\n",
      "큽니다\n",
      "정답을 입력해주세요14\n",
      "큽니다\n",
      "정답을 입력해주세요13\n",
      "정답!\n"
     ]
    }
   ],
   "source": [
    "random_value = random.randint(0,50) \n",
    "for index in range(20):\n",
    "   \n",
    "    input_value = int(input('정답을 입력해주세요'))\n",
    "    \n",
    "    if input_value == random_value:\n",
    "        print(\"정답!\")\n",
    "        break\n",
    "    elif input_value < random_value:\n",
    "        print(\"작습니다\")\n",
    "    else:\n",
    "        print(\"큽니다\")\n",
    "else:\n",
    "    print(\"스무고개 게임 종료\")"
   ]
  },
  {
   "cell_type": "code",
   "execution_count": 158,
   "id": "ec7d4f14",
   "metadata": {},
   "outputs": [],
   "source": [
    "dict_value = {\n",
    "    '1':\"1을 눌렀습니다.\",\n",
    "    '1':\"1을 눌렀습니다.\",\n",
    "    '1':\"1을 눌렀습니다.\",\n",
    "}"
   ]
  },
  {
   "cell_type": "code",
   "execution_count": 159,
   "id": "5c3d55d7",
   "metadata": {},
   "outputs": [
    {
     "name": "stdout",
     "output_type": "stream",
     "text": [
      "있어요\n"
     ]
    }
   ],
   "source": [
    "if '1' in dict_value:\n",
    "    print(\"있어요\")"
   ]
  },
  {
   "cell_type": "markdown",
   "id": "5081f11c",
   "metadata": {},
   "source": [
    "# 3.예외문\n",
    "keyword : try except  \n",
    "모든 코드는 실행중에 에러나 예외가 발생하는 상황 존재.  \n",
    "특정 코드를 처리하게끔 해주는 것."
   ]
  },
  {
   "cell_type": "code",
   "execution_count": 166,
   "id": "431ca501",
   "metadata": {},
   "outputs": [
    {
     "name": "stdout",
     "output_type": "stream",
     "text": [
      "try\n",
      "Exception\n"
     ]
    }
   ],
   "source": [
    "try:\n",
    "    print(\"try\")\n",
    "    print('str' + 1)\n",
    "except:\n",
    "    print(\"Exception\")\n"
   ]
  },
  {
   "cell_type": "code",
   "execution_count": 167,
   "id": "fc6ebccd",
   "metadata": {},
   "outputs": [
    {
     "name": "stdout",
     "output_type": "stream",
     "text": [
      "try\n",
      "Exception\n",
      "<class 'TypeError'>\n",
      "Finally\n"
     ]
    }
   ],
   "source": [
    "import sys\n",
    "\n",
    "try:\n",
    "    print(\"try\")\n",
    "    print('str' + 1)\n",
    "except:\n",
    "    print(\"Exception\")\n",
    "    print(sys.exc_info()[0])\n",
    "finally:\n",
    "    print(\"Finally\") "
   ]
  },
  {
   "cell_type": "markdown",
   "id": "d5a051e9",
   "metadata": {},
   "source": [
    "** 문제\n",
    "세 자연수 a, b, c가 피타고라스 정리 a^2 + b^2 = c^2를 만족하면 피타고라스 수라고 부릅니다.(여기서a<b<c)  \n",
    "예를 들면 3^2+4^2 = 9 + 16 = 25 = 5^2이므로 3, 4, 5는 피타고라스 수 입니다.  \n",
    "a + b + c = 1000인 피타고라스 수 a, b, c는 한 가지 뿐입니다. 이때 a × b × c는 얼마입니까?"
   ]
  },
  {
   "cell_type": "code",
   "execution_count": null,
   "id": "8b92918e",
   "metadata": {},
   "outputs": [],
   "source": [
    "a = 1\n",
    "b = 2\n",
    "c = 3\n",
    "\n",
    "for a_value in range(1, 300):\n",
    "    for b_value in range(b, 400):\n",
    "        for c_value in range(b, 400):\n",
    "            if a_value + b_value + c_value == 1000:\n",
    "                if (a_value**2 + b_value**2) == c_value**2:\n",
    "                    print(a_value, b_value, c_value)\n",
    "                    break"
   ]
  },
  {
   "cell_type": "code",
   "execution_count": null,
   "id": "6f08e05a",
   "metadata": {},
   "outputs": [],
   "source": []
  }
 ],
 "metadata": {
  "kernelspec": {
   "display_name": "Python 3",
   "language": "python",
   "name": "python3"
  },
  "language_info": {
   "codemirror_mode": {
    "name": "ipython",
    "version": 3
   },
   "file_extension": ".py",
   "mimetype": "text/x-python",
   "name": "python",
   "nbconvert_exporter": "python",
   "pygments_lexer": "ipython3",
   "version": "3.8.8"
  }
 },
 "nbformat": 4,
 "nbformat_minor": 5
}
